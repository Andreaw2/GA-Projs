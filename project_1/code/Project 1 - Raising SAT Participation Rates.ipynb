{
 "cells": [
  {
   "cell_type": "markdown",
   "metadata": {},
   "source": [
    "<img src=\"http://imgur.com/1ZcRyrc.png\" style=\"float: left; margin: 20px; height: 55px\">\n",
    "\n",
    "# Project 1: Standardized Test Analysis"
   ]
  },
  {
   "cell_type": "markdown",
   "metadata": {},
   "source": [
    "--- \n",
    "# Part 1\n",
    "\n",
    "Part 1 requires knowledge of basic Python.\n",
    "\n",
    "---"
   ]
  },
  {
   "cell_type": "markdown",
   "metadata": {},
   "source": [
    "## Problem Statement"
   ]
  },
  {
   "cell_type": "markdown",
   "metadata": {},
   "source": [
    "\n",
    "**Problem Statement:** For this project, I will be taking a look at the SAT scores  and participation rate in the United States. As an employee of the College Board - the organization that administers the SAT - I am looking to review the participation rates as the new format for the SAT was released in March 2016. I will be analyzing the participation rates over 2017 - 2019 and seek to improve the participation rate of its exams and provide recommendations for the teams in improving participation rates."
   ]
  },
  {
   "cell_type": "markdown",
   "metadata": {},
   "source": [
    "### Contents:\n",
    "- [Background](#Background)\n",
    "- [Data Import & Cleaning](#Data-Import-and-Cleaning)\n",
    "- [Exploratory Data Analysis](#Exploratory-Data-Analysis)|\n",
    "- [Data Visualization](#Visualize-the-Data)\n",
    "- [Conclusions and Recommendations](#Conclusions-and-Recommendations)"
   ]
  },
  {
   "cell_type": "markdown",
   "metadata": {},
   "source": [
    "## Background"
   ]
  },
  {
   "cell_type": "markdown",
   "metadata": {},
   "source": [
    "The SAT and ACT are standardized tests that many colleges and universities in the United States require for their admissions process. This score is used along with other materials such as grade point average (GPA) and essay responses to determine whether or not a potential student will be accepted to the university.\n",
    "\n",
    "The SAT has two sections of the test: Evidence-Based Reading and Writing and Math ([*source*](https://www.princetonreview.com/college/sat-sections)). The ACT has 4 sections: English, Mathematics, Reading, and Science, with an additional optional writing section ([*source*](https://www.act.org/content/act/en/products-and-services/the-act/scores/understanding-your-scores.html)). They have different score ranges, which you can read more about on their websites or additional outside sources (a quick Google search will help you understand the scores for each test):\n",
    "* [SAT](https://collegereadiness.collegeboard.org/sat)\n",
    "* [ACT](https://www.act.org/content/act/en.html)\n",
    "\n",
    "Standardized tests have long been a controversial topic for students, administrators, and legislators. Since the 1940's, an increasing number of colleges have been using scores from sudents' performances on tests like the SAT and the ACT as a measure for college readiness and aptitude ([*source*](https://www.minotdailynews.com/news/local-news/2017/04/a-brief-history-of-the-sat-and-act/)). Supporters of these tests argue that these scores can be used as an objective measure to determine college admittance. Opponents of these tests claim that these tests are not accurate measures of students potential or ability and serve as an inequitable barrier to entry. Lately, more and more schools are opting to drop the SAT/ACT requirement for their Fall 2021 applications ([*read more about this here*](https://www.cnn.com/2020/04/14/us/coronavirus-colleges-sat-act-test-trnd/index.html))."
   ]
  },
  {
   "cell_type": "markdown",
   "metadata": {},
   "source": [
    "### Choose your Data\n",
    "\n",
    "**Datasets used for analysis:**\n",
    "\n",
    "* [`sat_2017.csv`](./data/sat_2017.csv): 2017 SAT Scores by State\n",
    "* [`sat_2018.csv`](./data/sat_2018.csv): 2018 SAT Scores by State\n",
    "* [`sat_2019.csv`](./data/sat_2019.csv): 2019 SAT Scores by State"
   ]
  },
  {
   "cell_type": "markdown",
   "metadata": {},
   "source": [
    "### Outside Research"
   ]
  },
  {
   "cell_type": "markdown",
   "metadata": {},
   "source": [
    "**External Research Sources:** \n",
    "\n",
    "1) States that require the SAT \n",
    "\n",
    "https://blog.prepscholar.com/which-states-require-the-sat\n",
    "\n",
    "2) Florida’s SAT scores fall, following national trend as more take the test\n",
    "\n",
    "https://www.orlandosentinel.com/news/education/os-ne-sat-scores-florida-20190924-2ycpuogc2ndkrkwzdrkrjgrg64-story.html\n",
    "\n",
    "3) SAT scores drop for 2019 class, but participation rises through testing in schools\n",
    "\n",
    "https://www.washingtonpost.com/local/education/sat-scores-drop-for-2019-class-but-participation-rises-through-testing-in-schools/2019/09/23/332fc4d0-de11-11e9-8dc8-498eabc129a0_story.html\n",
    "\n",
    "4) States That Provide A Free ACT/ SAT Test\n",
    "\n",
    "https://www.collegeraptor.com/getting-in/articles/act-sat/states-act-sat-given-free/"
   ]
  },
  {
   "cell_type": "markdown",
   "metadata": {},
   "source": [
    "### Coding Challenges\n",
    "\n",
    "1. Manually calculate mean:\n",
    "\n",
    "    Write a function that takes in values and returns the mean of the values. Create a list of numbers that you test on your function to check to make sure your function works!\n",
    "    \n",
    "    *Note*: Do not use any mean methods built-in to any Python libraries to do this! This should be done without importing any additional libraries."
   ]
  },
  {
   "cell_type": "code",
   "execution_count": 2,
   "metadata": {},
   "outputs": [
    {
     "name": "stdout",
     "output_type": "stream",
     "text": [
      "Mean of the sample is:  4.5\n"
     ]
    }
   ],
   "source": [
    "\n",
    "\n",
    "number = [1,2,3,4,5,6,7,8]\n",
    "def mean_num(number):\n",
    "    return sum(number)/len( number)\n",
    "\n",
    "print(f\"Mean of the sample is:  {(mean_num(number))}\")"
   ]
  },
  {
   "cell_type": "markdown",
   "metadata": {},
   "source": [
    "2. Manually calculate standard deviation:\n",
    "\n",
    "    The formula for standard deviation is below:\n",
    "\n",
    "    $$\\sigma = \\sqrt{\\frac{1}{n}\\sum_{i=1}^n(x_i - \\mu)^2}$$\n",
    "\n",
    "    Where $x_i$ represents each value in the dataset, $\\mu$ represents the mean of all values in the dataset and $n$ represents the number of values in the dataset.\n",
    "\n",
    "    Write a function that takes in values and returns the standard deviation of the values using the formula above. Hint: use the function you wrote above to calculate the mean! Use the list of numbers you created above to test on your function.\n",
    "    \n",
    "    *Note*: Do not use any standard deviation methods built-in to any Python libraries to do this! This should be done without importing any additional libraries."
   ]
  },
  {
   "cell_type": "code",
   "execution_count": 3,
   "metadata": {},
   "outputs": [
    {
     "name": "stdout",
     "output_type": "stream",
     "text": [
      "Variance of the sample is:  5.25\n",
      "Standard Deviation of the sample is:   2.29128784747792\n"
     ]
    }
   ],
   "source": [
    "#calculate the variance to use it for the calculation of standard deviations\n",
    "\n",
    "number = [1,2,3,4,5,6,7,8]\n",
    "def variance(number):\n",
    "    \n",
    "    mean = sum(number) / len(number)\n",
    "    deviations = [(x - mean) ** 2 for x in number]\n",
    "    variance = sum(deviations) / len(number)\n",
    "    \n",
    "    return variance\n",
    "\n",
    "def stan_dev(number):\n",
    "    var = variance(number)\n",
    "    std_dev = var**(1/2)\n",
    "    \n",
    "    return std_dev\n",
    "\n",
    "print(f\"Variance of the sample is:  {(variance(number))}\")\n",
    "print(f\"Standard Deviation of the sample is:   {(stan_dev(number))}\")\n"
   ]
  },
  {
   "cell_type": "markdown",
   "metadata": {},
   "source": [
    "3. Data cleaning function:\n",
    "    \n",
    "    Write a function that takes in a string that is a number and a percent symbol (ex. '50%', '30.5%', etc.) and converts this to a float that is the decimal approximation of the percent. For example, inputting '50%' in your function should return 0.5, '30.5%' should return 0.305, etc. Make sure to test your function to make sure it works!\n",
    "\n",
    "You will use these functions later on in the project!"
   ]
  },
  {
   "cell_type": "code",
   "execution_count": 4,
   "metadata": {},
   "outputs": [
    {
     "name": "stdout",
     "output_type": "stream",
     "text": [
      "Please input a percentage:90%\n"
     ]
    },
    {
     "data": {
      "text/plain": [
       "0.9"
      ]
     },
     "execution_count": 4,
     "metadata": {},
     "output_type": "execute_result"
    }
   ],
   "source": [
    "#takes a string that is a number and a percent symbol and converts\n",
    "#to a float that is the decimal approximation of the percent. \n",
    "\n",
    "number = input('Please input a percentage:')\n",
    "\n",
    "def percent_float(number):\n",
    "    return float(number.strip('%'))/100\n",
    "\n",
    "percent_float(number)"
   ]
  },
  {
   "cell_type": "markdown",
   "metadata": {},
   "source": [
    "--- \n",
    "# Part 2\n",
    "\n",
    "Part 2 requires knowledge of Pandas, EDA, data cleaning, and data visualization.\n",
    "\n",
    "---"
   ]
  },
  {
   "cell_type": "markdown",
   "metadata": {},
   "source": [
    "*All libraries used should be added here*"
   ]
  },
  {
   "cell_type": "code",
   "execution_count": 5,
   "metadata": {},
   "outputs": [],
   "source": [
    "import numpy as np\n",
    "import seaborn as sns\n",
    "import matplotlib.pyplot as plt\n",
    "import pandas as pd"
   ]
  },
  {
   "cell_type": "markdown",
   "metadata": {},
   "source": [
    "## Data Import and Cleaning"
   ]
  },
  {
   "cell_type": "markdown",
   "metadata": {},
   "source": [
    "### Data Import & Cleaning\n",
    "\n",
    "Import the datasets that you selected for this project and go through the following steps at a minimum. You are welcome to do further cleaning as you feel necessary:\n",
    "1. Display the data: print the first 5 rows of each dataframe to your Jupyter notebook.\n",
    "2. Check for missing values.\n",
    "3. Check for any obvious issues with the observations (keep in mind the minimum & maximum possible values for each test/subtest).\n",
    "4. Fix any errors you identified in steps 2-3.\n",
    "5. Display the data types of each feature.\n",
    "6. Fix any incorrect data types found in step 5.\n",
    "    - Fix any individual values preventing other columns from being the appropriate type.\n",
    "    - If your dataset has a column of percents (ex. '50%', '30.5%', etc.), use the function you wrote in Part 1 (coding challenges, number 3) to convert this to floats! *Hint*: use `.map()` or `.apply()`.\n",
    "7. Rename Columns.\n",
    "    - Column names should be all lowercase.\n",
    "    - Column names should not contain spaces (underscores will suffice--this allows for using the `df.column_name` method to access columns in addition to `df['column_name']`).\n",
    "    - Column names should be unique and informative.\n",
    "8. Drop unnecessary rows (if needed).\n",
    "9. Merge dataframes that can be merged.\n",
    "10. Perform any additional cleaning that you feel is necessary.\n",
    "11. Save your cleaned and merged dataframes as csv files."
   ]
  },
  {
   "cell_type": "code",
   "execution_count": 6,
   "metadata": {},
   "outputs": [],
   "source": [
    "sat_2017 = pd.read_csv('../data/sat_2017.csv')\n",
    "sat_2018 = pd.read_csv('../data/sat_2018.csv')\n",
    "sat_2019 = pd.read_csv('../data/sat_2019.csv')"
   ]
  },
  {
   "cell_type": "markdown",
   "metadata": {},
   "source": [
    "### 1. Display the data. Print first 5 rows of each dataframe"
   ]
  },
  {
   "cell_type": "code",
   "execution_count": 7,
   "metadata": {},
   "outputs": [
    {
     "data": {
      "text/html": [
       "<div>\n",
       "<style scoped>\n",
       "    .dataframe tbody tr th:only-of-type {\n",
       "        vertical-align: middle;\n",
       "    }\n",
       "\n",
       "    .dataframe tbody tr th {\n",
       "        vertical-align: top;\n",
       "    }\n",
       "\n",
       "    .dataframe thead th {\n",
       "        text-align: right;\n",
       "    }\n",
       "</style>\n",
       "<table border=\"1\" class=\"dataframe\">\n",
       "  <thead>\n",
       "    <tr style=\"text-align: right;\">\n",
       "      <th></th>\n",
       "      <th>State</th>\n",
       "      <th>Participation</th>\n",
       "      <th>Evidence-Based Reading and Writing</th>\n",
       "      <th>Math</th>\n",
       "      <th>Total</th>\n",
       "    </tr>\n",
       "  </thead>\n",
       "  <tbody>\n",
       "    <tr>\n",
       "      <th>0</th>\n",
       "      <td>Alabama</td>\n",
       "      <td>5%</td>\n",
       "      <td>593</td>\n",
       "      <td>572</td>\n",
       "      <td>1165</td>\n",
       "    </tr>\n",
       "    <tr>\n",
       "      <th>1</th>\n",
       "      <td>Alaska</td>\n",
       "      <td>38%</td>\n",
       "      <td>547</td>\n",
       "      <td>533</td>\n",
       "      <td>1080</td>\n",
       "    </tr>\n",
       "    <tr>\n",
       "      <th>2</th>\n",
       "      <td>Arizona</td>\n",
       "      <td>30%</td>\n",
       "      <td>563</td>\n",
       "      <td>553</td>\n",
       "      <td>1116</td>\n",
       "    </tr>\n",
       "    <tr>\n",
       "      <th>3</th>\n",
       "      <td>Arkansas</td>\n",
       "      <td>3%</td>\n",
       "      <td>614</td>\n",
       "      <td>594</td>\n",
       "      <td>1208</td>\n",
       "    </tr>\n",
       "    <tr>\n",
       "      <th>4</th>\n",
       "      <td>California</td>\n",
       "      <td>53%</td>\n",
       "      <td>531</td>\n",
       "      <td>524</td>\n",
       "      <td>1055</td>\n",
       "    </tr>\n",
       "  </tbody>\n",
       "</table>\n",
       "</div>"
      ],
      "text/plain": [
       "        State Participation  Evidence-Based Reading and Writing  Math  Total\n",
       "0     Alabama            5%                                 593   572   1165\n",
       "1      Alaska           38%                                 547   533   1080\n",
       "2     Arizona           30%                                 563   553   1116\n",
       "3    Arkansas            3%                                 614   594   1208\n",
       "4  California           53%                                 531   524   1055"
      ]
     },
     "execution_count": 7,
     "metadata": {},
     "output_type": "execute_result"
    }
   ],
   "source": [
    "sat_2017.head()"
   ]
  },
  {
   "cell_type": "code",
   "execution_count": 8,
   "metadata": {},
   "outputs": [
    {
     "data": {
      "text/html": [
       "<div>\n",
       "<style scoped>\n",
       "    .dataframe tbody tr th:only-of-type {\n",
       "        vertical-align: middle;\n",
       "    }\n",
       "\n",
       "    .dataframe tbody tr th {\n",
       "        vertical-align: top;\n",
       "    }\n",
       "\n",
       "    .dataframe thead th {\n",
       "        text-align: right;\n",
       "    }\n",
       "</style>\n",
       "<table border=\"1\" class=\"dataframe\">\n",
       "  <thead>\n",
       "    <tr style=\"text-align: right;\">\n",
       "      <th></th>\n",
       "      <th>State</th>\n",
       "      <th>Participation</th>\n",
       "      <th>Evidence-Based Reading and Writing</th>\n",
       "      <th>Math</th>\n",
       "      <th>Total</th>\n",
       "    </tr>\n",
       "  </thead>\n",
       "  <tbody>\n",
       "    <tr>\n",
       "      <th>0</th>\n",
       "      <td>Alabama</td>\n",
       "      <td>6%</td>\n",
       "      <td>595</td>\n",
       "      <td>571</td>\n",
       "      <td>1166</td>\n",
       "    </tr>\n",
       "    <tr>\n",
       "      <th>1</th>\n",
       "      <td>Alaska</td>\n",
       "      <td>43%</td>\n",
       "      <td>562</td>\n",
       "      <td>544</td>\n",
       "      <td>1106</td>\n",
       "    </tr>\n",
       "    <tr>\n",
       "      <th>2</th>\n",
       "      <td>Arizona</td>\n",
       "      <td>29%</td>\n",
       "      <td>577</td>\n",
       "      <td>572</td>\n",
       "      <td>1149</td>\n",
       "    </tr>\n",
       "    <tr>\n",
       "      <th>3</th>\n",
       "      <td>Arkansas</td>\n",
       "      <td>5%</td>\n",
       "      <td>592</td>\n",
       "      <td>576</td>\n",
       "      <td>1169</td>\n",
       "    </tr>\n",
       "    <tr>\n",
       "      <th>4</th>\n",
       "      <td>California</td>\n",
       "      <td>60%</td>\n",
       "      <td>540</td>\n",
       "      <td>536</td>\n",
       "      <td>1076</td>\n",
       "    </tr>\n",
       "  </tbody>\n",
       "</table>\n",
       "</div>"
      ],
      "text/plain": [
       "        State Participation  Evidence-Based Reading and Writing  Math  Total\n",
       "0     Alabama            6%                                 595   571   1166\n",
       "1      Alaska           43%                                 562   544   1106\n",
       "2     Arizona           29%                                 577   572   1149\n",
       "3    Arkansas            5%                                 592   576   1169\n",
       "4  California           60%                                 540   536   1076"
      ]
     },
     "execution_count": 8,
     "metadata": {},
     "output_type": "execute_result"
    }
   ],
   "source": [
    "sat_2018.head()"
   ]
  },
  {
   "cell_type": "code",
   "execution_count": 9,
   "metadata": {
    "scrolled": true
   },
   "outputs": [
    {
     "data": {
      "text/html": [
       "<div>\n",
       "<style scoped>\n",
       "    .dataframe tbody tr th:only-of-type {\n",
       "        vertical-align: middle;\n",
       "    }\n",
       "\n",
       "    .dataframe tbody tr th {\n",
       "        vertical-align: top;\n",
       "    }\n",
       "\n",
       "    .dataframe thead th {\n",
       "        text-align: right;\n",
       "    }\n",
       "</style>\n",
       "<table border=\"1\" class=\"dataframe\">\n",
       "  <thead>\n",
       "    <tr style=\"text-align: right;\">\n",
       "      <th></th>\n",
       "      <th>State</th>\n",
       "      <th>Participation Rate</th>\n",
       "      <th>EBRW</th>\n",
       "      <th>Math</th>\n",
       "      <th>Total</th>\n",
       "    </tr>\n",
       "  </thead>\n",
       "  <tbody>\n",
       "    <tr>\n",
       "      <th>0</th>\n",
       "      <td>Alabama</td>\n",
       "      <td>7%</td>\n",
       "      <td>583</td>\n",
       "      <td>560</td>\n",
       "      <td>1143</td>\n",
       "    </tr>\n",
       "    <tr>\n",
       "      <th>1</th>\n",
       "      <td>Alaska</td>\n",
       "      <td>41%</td>\n",
       "      <td>556</td>\n",
       "      <td>541</td>\n",
       "      <td>1097</td>\n",
       "    </tr>\n",
       "    <tr>\n",
       "      <th>2</th>\n",
       "      <td>Arizona</td>\n",
       "      <td>31%</td>\n",
       "      <td>569</td>\n",
       "      <td>565</td>\n",
       "      <td>1134</td>\n",
       "    </tr>\n",
       "    <tr>\n",
       "      <th>3</th>\n",
       "      <td>Arkansas</td>\n",
       "      <td>6%</td>\n",
       "      <td>582</td>\n",
       "      <td>559</td>\n",
       "      <td>1141</td>\n",
       "    </tr>\n",
       "    <tr>\n",
       "      <th>4</th>\n",
       "      <td>California</td>\n",
       "      <td>63%</td>\n",
       "      <td>534</td>\n",
       "      <td>531</td>\n",
       "      <td>1065</td>\n",
       "    </tr>\n",
       "  </tbody>\n",
       "</table>\n",
       "</div>"
      ],
      "text/plain": [
       "        State Participation Rate  EBRW  Math  Total\n",
       "0     Alabama                 7%   583   560   1143\n",
       "1      Alaska                41%   556   541   1097\n",
       "2     Arizona                31%   569   565   1134\n",
       "3    Arkansas                 6%   582   559   1141\n",
       "4  California                63%   534   531   1065"
      ]
     },
     "execution_count": 9,
     "metadata": {},
     "output_type": "execute_result"
    }
   ],
   "source": [
    "sat_2019.head()"
   ]
  },
  {
   "cell_type": "markdown",
   "metadata": {},
   "source": [
    "### 2. Check for missing values"
   ]
  },
  {
   "cell_type": "code",
   "execution_count": 10,
   "metadata": {},
   "outputs": [
    {
     "data": {
      "text/plain": [
       "State                                 0\n",
       "Participation                         0\n",
       "Evidence-Based Reading and Writing    0\n",
       "Math                                  0\n",
       "Total                                 0\n",
       "dtype: int64"
      ]
     },
     "execution_count": 10,
     "metadata": {},
     "output_type": "execute_result"
    }
   ],
   "source": [
    "sat_2017.isnull().sum()"
   ]
  },
  {
   "cell_type": "code",
   "execution_count": 11,
   "metadata": {},
   "outputs": [
    {
     "data": {
      "text/plain": [
       "State                                 0\n",
       "Participation                         0\n",
       "Evidence-Based Reading and Writing    0\n",
       "Math                                  0\n",
       "Total                                 0\n",
       "dtype: int64"
      ]
     },
     "execution_count": 11,
     "metadata": {},
     "output_type": "execute_result"
    }
   ],
   "source": [
    "sat_2018.isnull().sum()"
   ]
  },
  {
   "cell_type": "code",
   "execution_count": 12,
   "metadata": {},
   "outputs": [
    {
     "data": {
      "text/plain": [
       "State                 0\n",
       "Participation Rate    0\n",
       "EBRW                  0\n",
       "Math                  0\n",
       "Total                 0\n",
       "dtype: int64"
      ]
     },
     "execution_count": 12,
     "metadata": {},
     "output_type": "execute_result"
    }
   ],
   "source": [
    "sat_2019.isnull().sum()"
   ]
  },
  {
   "cell_type": "markdown",
   "metadata": {},
   "source": [
    "There are no missing values for the sat 2017-2019 data. "
   ]
  },
  {
   "cell_type": "markdown",
   "metadata": {},
   "source": [
    "### 3. Check for any obvious issues"
   ]
  },
  {
   "cell_type": "code",
   "execution_count": 13,
   "metadata": {},
   "outputs": [
    {
     "data": {
      "text/plain": [
       "(51, 5)"
      ]
     },
     "execution_count": 13,
     "metadata": {},
     "output_type": "execute_result"
    }
   ],
   "source": [
    "sat_2017.shape"
   ]
  },
  {
   "cell_type": "code",
   "execution_count": 14,
   "metadata": {},
   "outputs": [
    {
     "data": {
      "text/plain": [
       "(51, 5)"
      ]
     },
     "execution_count": 14,
     "metadata": {},
     "output_type": "execute_result"
    }
   ],
   "source": [
    "sat_2018.shape"
   ]
  },
  {
   "cell_type": "code",
   "execution_count": 15,
   "metadata": {},
   "outputs": [
    {
     "data": {
      "text/plain": [
       "(53, 5)"
      ]
     },
     "execution_count": 15,
     "metadata": {},
     "output_type": "execute_result"
    }
   ],
   "source": [
    "sat_2019.shape"
   ]
  },
  {
   "cell_type": "code",
   "execution_count": 16,
   "metadata": {},
   "outputs": [
    {
     "data": {
      "text/html": [
       "<div>\n",
       "<style scoped>\n",
       "    .dataframe tbody tr th:only-of-type {\n",
       "        vertical-align: middle;\n",
       "    }\n",
       "\n",
       "    .dataframe tbody tr th {\n",
       "        vertical-align: top;\n",
       "    }\n",
       "\n",
       "    .dataframe thead th {\n",
       "        text-align: right;\n",
       "    }\n",
       "</style>\n",
       "<table border=\"1\" class=\"dataframe\">\n",
       "  <thead>\n",
       "    <tr style=\"text-align: right;\">\n",
       "      <th></th>\n",
       "      <th>State</th>\n",
       "      <th>Participation</th>\n",
       "      <th>Evidence-Based Reading and Writing</th>\n",
       "      <th>Math</th>\n",
       "      <th>Total</th>\n",
       "    </tr>\n",
       "  </thead>\n",
       "  <tbody>\n",
       "  </tbody>\n",
       "</table>\n",
       "</div>"
      ],
      "text/plain": [
       "Empty DataFrame\n",
       "Columns: [State, Participation, Evidence-Based Reading and Writing, Math, Total]\n",
       "Index: []"
      ]
     },
     "execution_count": 16,
     "metadata": {},
     "output_type": "execute_result"
    }
   ],
   "source": [
    "sat_2017[sat_2017['State'].duplicated()]"
   ]
  },
  {
   "cell_type": "code",
   "execution_count": 17,
   "metadata": {},
   "outputs": [
    {
     "data": {
      "text/html": [
       "<div>\n",
       "<style scoped>\n",
       "    .dataframe tbody tr th:only-of-type {\n",
       "        vertical-align: middle;\n",
       "    }\n",
       "\n",
       "    .dataframe tbody tr th {\n",
       "        vertical-align: top;\n",
       "    }\n",
       "\n",
       "    .dataframe thead th {\n",
       "        text-align: right;\n",
       "    }\n",
       "</style>\n",
       "<table border=\"1\" class=\"dataframe\">\n",
       "  <thead>\n",
       "    <tr style=\"text-align: right;\">\n",
       "      <th></th>\n",
       "      <th>State</th>\n",
       "      <th>Participation</th>\n",
       "      <th>Evidence-Based Reading and Writing</th>\n",
       "      <th>Math</th>\n",
       "      <th>Total</th>\n",
       "    </tr>\n",
       "  </thead>\n",
       "  <tbody>\n",
       "  </tbody>\n",
       "</table>\n",
       "</div>"
      ],
      "text/plain": [
       "Empty DataFrame\n",
       "Columns: [State, Participation, Evidence-Based Reading and Writing, Math, Total]\n",
       "Index: []"
      ]
     },
     "execution_count": 17,
     "metadata": {},
     "output_type": "execute_result"
    }
   ],
   "source": [
    "sat_2018[sat_2018['State'].duplicated()]"
   ]
  },
  {
   "cell_type": "code",
   "execution_count": 18,
   "metadata": {},
   "outputs": [
    {
     "data": {
      "text/html": [
       "<div>\n",
       "<style scoped>\n",
       "    .dataframe tbody tr th:only-of-type {\n",
       "        vertical-align: middle;\n",
       "    }\n",
       "\n",
       "    .dataframe tbody tr th {\n",
       "        vertical-align: top;\n",
       "    }\n",
       "\n",
       "    .dataframe thead th {\n",
       "        text-align: right;\n",
       "    }\n",
       "</style>\n",
       "<table border=\"1\" class=\"dataframe\">\n",
       "  <thead>\n",
       "    <tr style=\"text-align: right;\">\n",
       "      <th></th>\n",
       "      <th>State</th>\n",
       "      <th>Participation Rate</th>\n",
       "      <th>EBRW</th>\n",
       "      <th>Math</th>\n",
       "      <th>Total</th>\n",
       "    </tr>\n",
       "  </thead>\n",
       "  <tbody>\n",
       "  </tbody>\n",
       "</table>\n",
       "</div>"
      ],
      "text/plain": [
       "Empty DataFrame\n",
       "Columns: [State, Participation Rate, EBRW, Math, Total]\n",
       "Index: []"
      ]
     },
     "execution_count": 18,
     "metadata": {},
     "output_type": "execute_result"
    }
   ],
   "source": [
    "sat_2019[sat_2019['State'].duplicated()]"
   ]
  },
  {
   "cell_type": "code",
   "execution_count": 19,
   "metadata": {},
   "outputs": [
    {
     "name": "stdout",
     "output_type": "stream",
     "text": [
      "The minumum scores for the 2017 SAT were: English: 482; Math: 52\n",
      "The minumum scores for the 2018 SAT were: English: 480; Math: 480\n",
      "The minimum scores for the 2019 SAT were: English: 483; Math: 445\n"
     ]
    }
   ],
   "source": [
    "min_ebrw_sat_2017 = sat_2017['Evidence-Based Reading and Writing'].min()\n",
    "min_math_sat_2017 = sat_2017['Math'].min()\n",
    "\n",
    "print(f'The minumum scores for the 2017 SAT were: English: {min_ebrw_sat_2017}; Math: {min_math_sat_2017}')\n",
    "\n",
    "min_ebrw_sat_2018 = sat_2018['Evidence-Based Reading and Writing'].min()\n",
    "min_math_sat_2018 = sat_2018['Math'].min()\n",
    "\n",
    "print(f'The minumum scores for the 2018 SAT were: English: {min_ebrw_sat_2018}; Math: {min_math_sat_2018}')\n",
    "\n",
    "\n",
    "min_ebrw_sat_2019 = sat_2019['EBRW'].min()\n",
    "min_math_sat_2019 = sat_2019['Math'].min()\n",
    "\n",
    "print(f'The minimum scores for the 2019 SAT were: English: {min_ebrw_sat_2019}; Math: {min_math_sat_2019}')"
   ]
  },
  {
   "cell_type": "markdown",
   "metadata": {},
   "source": [
    "The minimum score for 2017 SAT Math is 52, which is too low. More indepth look at the data is required. "
   ]
  },
  {
   "cell_type": "code",
   "execution_count": 20,
   "metadata": {},
   "outputs": [
    {
     "name": "stdout",
     "output_type": "stream",
     "text": [
      "The maximum scores for the 2017 SAT were: English: 644; Math: 651\n",
      "The maximum scores for the 2018 SAT were: English: 643; Math: 655\n",
      "The maximum scores for the 2019 SAT were: English: 636; Math: 648\n"
     ]
    }
   ],
   "source": [
    "max_ebrw_sat_2017 = sat_2017['Evidence-Based Reading and Writing'].max()\n",
    "max_math_sat_2017 = sat_2017['Math'].max()\n",
    "\n",
    "print(f'The maximum scores for the 2017 SAT were: English: {max_ebrw_sat_2017}; Math: {max_math_sat_2017}')\n",
    "\n",
    "max_ebrw_sat_2018 = sat_2018['Evidence-Based Reading and Writing'].max()\n",
    "max_math_sat_2018 = sat_2018['Math'].max()\n",
    "\n",
    "print(f'The maximum scores for the 2018 SAT were: English: {max_ebrw_sat_2018}; Math: {max_math_sat_2018}')\n",
    "\n",
    "\n",
    "max_ebrw_sat_2019 = sat_2019['EBRW'].max()\n",
    "max_math_sat_2019 = sat_2019['Math'].max()\n",
    "\n",
    "print(f'The maximum scores for the 2019 SAT were: English: {max_ebrw_sat_2019}; Math: {max_math_sat_2019}')"
   ]
  },
  {
   "cell_type": "code",
   "execution_count": 21,
   "metadata": {},
   "outputs": [
    {
     "data": {
      "text/plain": [
       "0       7%\n",
       "1      41%\n",
       "2      31%\n",
       "3       6%\n",
       "4      63%\n",
       "5     100%\n",
       "6     100%\n",
       "7     100%\n",
       "8      94%\n",
       "9     100%\n",
       "10     71%\n",
       "11     54%\n",
       "12    100%\n",
       "13    100%\n",
       "14     66%\n",
       "15      3%\n",
       "16      4%\n",
       "17      4%\n",
       "18      5%\n",
       "19     99%\n",
       "20     82%\n",
       "21     81%\n",
       "22    100%\n",
       "23      4%\n",
       "24      3%\n",
       "25      4%\n",
       "26      9%\n",
       "27      3%\n",
       "28     20%\n",
       "29     95%\n",
       "30     82%\n",
       "31     18%\n",
       "32     79%\n",
       "33     51%\n",
       "34      2%\n",
       "35     19%\n",
       "36     22%\n",
       "37     51%\n",
       "38     70%\n",
       "39       —\n",
       "40    100%\n",
       "41     68%\n",
       "42      3%\n",
       "43      7%\n",
       "44     68%\n",
       "45      4%\n",
       "46     66%\n",
       "47       —\n",
       "48     68%\n",
       "49     70%\n",
       "50     99%\n",
       "51      3%\n",
       "52      3%\n",
       "Name: Participation Rate, dtype: object"
      ]
     },
     "execution_count": 21,
     "metadata": {},
     "output_type": "execute_result"
    }
   ],
   "source": [
    "sat_2019['Participation Rate']"
   ]
  },
  {
   "cell_type": "markdown",
   "metadata": {},
   "source": [
    "There are two inputs in 2019 sat data with '-' in them. They will need to be removed and replaced with an appropriate value. "
   ]
  },
  {
   "cell_type": "markdown",
   "metadata": {},
   "source": [
    "### 4. Fix errors identified in 2. and 3. \n"
   ]
  },
  {
   "cell_type": "code",
   "execution_count": 22,
   "metadata": {},
   "outputs": [
    {
     "data": {
      "text/html": [
       "<div>\n",
       "<style scoped>\n",
       "    .dataframe tbody tr th:only-of-type {\n",
       "        vertical-align: middle;\n",
       "    }\n",
       "\n",
       "    .dataframe tbody tr th {\n",
       "        vertical-align: top;\n",
       "    }\n",
       "\n",
       "    .dataframe thead th {\n",
       "        text-align: right;\n",
       "    }\n",
       "</style>\n",
       "<table border=\"1\" class=\"dataframe\">\n",
       "  <thead>\n",
       "    <tr style=\"text-align: right;\">\n",
       "      <th></th>\n",
       "      <th>State</th>\n",
       "      <th>Participation</th>\n",
       "      <th>Evidence-Based Reading and Writing</th>\n",
       "      <th>Math</th>\n",
       "      <th>Total</th>\n",
       "    </tr>\n",
       "  </thead>\n",
       "  <tbody>\n",
       "    <tr>\n",
       "      <th>20</th>\n",
       "      <td>Maryland</td>\n",
       "      <td>69%</td>\n",
       "      <td>536</td>\n",
       "      <td>52</td>\n",
       "      <td>1060</td>\n",
       "    </tr>\n",
       "  </tbody>\n",
       "</table>\n",
       "</div>"
      ],
      "text/plain": [
       "       State Participation  Evidence-Based Reading and Writing  Math  Total\n",
       "20  Maryland           69%                                 536    52   1060"
      ]
     },
     "execution_count": 22,
     "metadata": {},
     "output_type": "execute_result"
    }
   ],
   "source": [
    "sat_2017.loc[sat_2017['Math'] == 52]"
   ]
  },
  {
   "cell_type": "code",
   "execution_count": 23,
   "metadata": {},
   "outputs": [],
   "source": [
    "#1060 - 536 = 524\n",
    "sat_2017.loc[sat_2017['Math'] == 52, 'Math'] = 524"
   ]
  },
  {
   "cell_type": "code",
   "execution_count": 24,
   "metadata": {},
   "outputs": [
    {
     "data": {
      "text/html": [
       "<div>\n",
       "<style scoped>\n",
       "    .dataframe tbody tr th:only-of-type {\n",
       "        vertical-align: middle;\n",
       "    }\n",
       "\n",
       "    .dataframe tbody tr th {\n",
       "        vertical-align: top;\n",
       "    }\n",
       "\n",
       "    .dataframe thead th {\n",
       "        text-align: right;\n",
       "    }\n",
       "</style>\n",
       "<table border=\"1\" class=\"dataframe\">\n",
       "  <thead>\n",
       "    <tr style=\"text-align: right;\">\n",
       "      <th></th>\n",
       "      <th>State</th>\n",
       "      <th>Participation Rate</th>\n",
       "      <th>EBRW</th>\n",
       "      <th>Math</th>\n",
       "      <th>Total</th>\n",
       "    </tr>\n",
       "  </thead>\n",
       "  <tbody>\n",
       "    <tr>\n",
       "      <th>39</th>\n",
       "      <td>Puerto Rico</td>\n",
       "      <td>—</td>\n",
       "      <td>483</td>\n",
       "      <td>462</td>\n",
       "      <td>944</td>\n",
       "    </tr>\n",
       "    <tr>\n",
       "      <th>47</th>\n",
       "      <td>Virgin Islands</td>\n",
       "      <td>—</td>\n",
       "      <td>490</td>\n",
       "      <td>445</td>\n",
       "      <td>935</td>\n",
       "    </tr>\n",
       "  </tbody>\n",
       "</table>\n",
       "</div>"
      ],
      "text/plain": [
       "             State Participation Rate  EBRW  Math  Total\n",
       "39     Puerto Rico                  —   483   462    944\n",
       "47  Virgin Islands                  —   490   445    935"
      ]
     },
     "execution_count": 24,
     "metadata": {},
     "output_type": "execute_result"
    }
   ],
   "source": [
    "sat_2019.loc[sat_2019['Participation Rate'] == '—' ]\n"
   ]
  },
  {
   "cell_type": "code",
   "execution_count": 25,
   "metadata": {},
   "outputs": [],
   "source": [
    "sat_2019.loc[sat_2019['Participation Rate'] == '—', 'Participation Rate' ] = '0%'"
   ]
  },
  {
   "cell_type": "markdown",
   "metadata": {},
   "source": [
    "It is noted that the participation rate for Puerto Rico and Virgin Islands were '-'. The values have been replaced with 0%. "
   ]
  },
  {
   "cell_type": "markdown",
   "metadata": {},
   "source": [
    "### 5. Display datatypes"
   ]
  },
  {
   "cell_type": "code",
   "execution_count": 26,
   "metadata": {},
   "outputs": [
    {
     "data": {
      "text/plain": [
       "State                                 object\n",
       "Participation                         object\n",
       "Evidence-Based Reading and Writing     int64\n",
       "Math                                   int64\n",
       "Total                                  int64\n",
       "dtype: object"
      ]
     },
     "execution_count": 26,
     "metadata": {},
     "output_type": "execute_result"
    }
   ],
   "source": [
    "sat_2017.dtypes"
   ]
  },
  {
   "cell_type": "code",
   "execution_count": 27,
   "metadata": {},
   "outputs": [
    {
     "data": {
      "text/plain": [
       "State                                 object\n",
       "Participation                         object\n",
       "Evidence-Based Reading and Writing     int64\n",
       "Math                                   int64\n",
       "Total                                  int64\n",
       "dtype: object"
      ]
     },
     "execution_count": 27,
     "metadata": {},
     "output_type": "execute_result"
    }
   ],
   "source": [
    "sat_2018.dtypes"
   ]
  },
  {
   "cell_type": "code",
   "execution_count": 28,
   "metadata": {},
   "outputs": [
    {
     "data": {
      "text/plain": [
       "State                 object\n",
       "Participation Rate    object\n",
       "EBRW                   int64\n",
       "Math                   int64\n",
       "Total                  int64\n",
       "dtype: object"
      ]
     },
     "execution_count": 28,
     "metadata": {},
     "output_type": "execute_result"
    }
   ],
   "source": [
    "sat_2019.dtypes"
   ]
  },
  {
   "cell_type": "markdown",
   "metadata": {},
   "source": [
    "The participation rates for the sat data for 2017, 2018 and 2019 will have to be converted from a string to a float.\n"
   ]
  },
  {
   "cell_type": "markdown",
   "metadata": {},
   "source": [
    "### 6. Fix datatypes"
   ]
  },
  {
   "cell_type": "code",
   "execution_count": 29,
   "metadata": {},
   "outputs": [],
   "source": [
    "#participation rate is an object instead of an int. Convert % "
   ]
  },
  {
   "cell_type": "code",
   "execution_count": 30,
   "metadata": {},
   "outputs": [],
   "source": [
    "sat_2017['Participation'] = sat_2017['Participation'].map(lambda x: float(x.replace('%','')) / 100)"
   ]
  },
  {
   "cell_type": "code",
   "execution_count": 31,
   "metadata": {},
   "outputs": [
    {
     "data": {
      "text/html": [
       "<div>\n",
       "<style scoped>\n",
       "    .dataframe tbody tr th:only-of-type {\n",
       "        vertical-align: middle;\n",
       "    }\n",
       "\n",
       "    .dataframe tbody tr th {\n",
       "        vertical-align: top;\n",
       "    }\n",
       "\n",
       "    .dataframe thead th {\n",
       "        text-align: right;\n",
       "    }\n",
       "</style>\n",
       "<table border=\"1\" class=\"dataframe\">\n",
       "  <thead>\n",
       "    <tr style=\"text-align: right;\">\n",
       "      <th></th>\n",
       "      <th>State</th>\n",
       "      <th>Participation</th>\n",
       "      <th>Evidence-Based Reading and Writing</th>\n",
       "      <th>Math</th>\n",
       "      <th>Total</th>\n",
       "    </tr>\n",
       "  </thead>\n",
       "  <tbody>\n",
       "    <tr>\n",
       "      <th>0</th>\n",
       "      <td>Alabama</td>\n",
       "      <td>0.05</td>\n",
       "      <td>593</td>\n",
       "      <td>572</td>\n",
       "      <td>1165</td>\n",
       "    </tr>\n",
       "    <tr>\n",
       "      <th>1</th>\n",
       "      <td>Alaska</td>\n",
       "      <td>0.38</td>\n",
       "      <td>547</td>\n",
       "      <td>533</td>\n",
       "      <td>1080</td>\n",
       "    </tr>\n",
       "    <tr>\n",
       "      <th>2</th>\n",
       "      <td>Arizona</td>\n",
       "      <td>0.30</td>\n",
       "      <td>563</td>\n",
       "      <td>553</td>\n",
       "      <td>1116</td>\n",
       "    </tr>\n",
       "    <tr>\n",
       "      <th>3</th>\n",
       "      <td>Arkansas</td>\n",
       "      <td>0.03</td>\n",
       "      <td>614</td>\n",
       "      <td>594</td>\n",
       "      <td>1208</td>\n",
       "    </tr>\n",
       "    <tr>\n",
       "      <th>4</th>\n",
       "      <td>California</td>\n",
       "      <td>0.53</td>\n",
       "      <td>531</td>\n",
       "      <td>524</td>\n",
       "      <td>1055</td>\n",
       "    </tr>\n",
       "  </tbody>\n",
       "</table>\n",
       "</div>"
      ],
      "text/plain": [
       "        State  Participation  Evidence-Based Reading and Writing  Math  Total\n",
       "0     Alabama           0.05                                 593   572   1165\n",
       "1      Alaska           0.38                                 547   533   1080\n",
       "2     Arizona           0.30                                 563   553   1116\n",
       "3    Arkansas           0.03                                 614   594   1208\n",
       "4  California           0.53                                 531   524   1055"
      ]
     },
     "execution_count": 31,
     "metadata": {},
     "output_type": "execute_result"
    }
   ],
   "source": [
    "sat_2017.head()"
   ]
  },
  {
   "cell_type": "code",
   "execution_count": 32,
   "metadata": {},
   "outputs": [],
   "source": [
    "sat_2018['Participation'] = sat_2018['Participation'].map(lambda x: float(x.replace('%','')) / 100)"
   ]
  },
  {
   "cell_type": "code",
   "execution_count": 33,
   "metadata": {},
   "outputs": [
    {
     "data": {
      "text/html": [
       "<div>\n",
       "<style scoped>\n",
       "    .dataframe tbody tr th:only-of-type {\n",
       "        vertical-align: middle;\n",
       "    }\n",
       "\n",
       "    .dataframe tbody tr th {\n",
       "        vertical-align: top;\n",
       "    }\n",
       "\n",
       "    .dataframe thead th {\n",
       "        text-align: right;\n",
       "    }\n",
       "</style>\n",
       "<table border=\"1\" class=\"dataframe\">\n",
       "  <thead>\n",
       "    <tr style=\"text-align: right;\">\n",
       "      <th></th>\n",
       "      <th>State</th>\n",
       "      <th>Participation</th>\n",
       "      <th>Evidence-Based Reading and Writing</th>\n",
       "      <th>Math</th>\n",
       "      <th>Total</th>\n",
       "    </tr>\n",
       "  </thead>\n",
       "  <tbody>\n",
       "    <tr>\n",
       "      <th>0</th>\n",
       "      <td>Alabama</td>\n",
       "      <td>0.06</td>\n",
       "      <td>595</td>\n",
       "      <td>571</td>\n",
       "      <td>1166</td>\n",
       "    </tr>\n",
       "    <tr>\n",
       "      <th>1</th>\n",
       "      <td>Alaska</td>\n",
       "      <td>0.43</td>\n",
       "      <td>562</td>\n",
       "      <td>544</td>\n",
       "      <td>1106</td>\n",
       "    </tr>\n",
       "    <tr>\n",
       "      <th>2</th>\n",
       "      <td>Arizona</td>\n",
       "      <td>0.29</td>\n",
       "      <td>577</td>\n",
       "      <td>572</td>\n",
       "      <td>1149</td>\n",
       "    </tr>\n",
       "    <tr>\n",
       "      <th>3</th>\n",
       "      <td>Arkansas</td>\n",
       "      <td>0.05</td>\n",
       "      <td>592</td>\n",
       "      <td>576</td>\n",
       "      <td>1169</td>\n",
       "    </tr>\n",
       "    <tr>\n",
       "      <th>4</th>\n",
       "      <td>California</td>\n",
       "      <td>0.60</td>\n",
       "      <td>540</td>\n",
       "      <td>536</td>\n",
       "      <td>1076</td>\n",
       "    </tr>\n",
       "  </tbody>\n",
       "</table>\n",
       "</div>"
      ],
      "text/plain": [
       "        State  Participation  Evidence-Based Reading and Writing  Math  Total\n",
       "0     Alabama           0.06                                 595   571   1166\n",
       "1      Alaska           0.43                                 562   544   1106\n",
       "2     Arizona           0.29                                 577   572   1149\n",
       "3    Arkansas           0.05                                 592   576   1169\n",
       "4  California           0.60                                 540   536   1076"
      ]
     },
     "execution_count": 33,
     "metadata": {},
     "output_type": "execute_result"
    }
   ],
   "source": [
    "sat_2018.head()"
   ]
  },
  {
   "cell_type": "code",
   "execution_count": 34,
   "metadata": {},
   "outputs": [],
   "source": [
    "sat_2019['Participation Rate'] = sat_2019['Participation Rate'].map(lambda x: float(x.replace('%','')) / 100)"
   ]
  },
  {
   "cell_type": "code",
   "execution_count": 35,
   "metadata": {},
   "outputs": [
    {
     "data": {
      "text/html": [
       "<div>\n",
       "<style scoped>\n",
       "    .dataframe tbody tr th:only-of-type {\n",
       "        vertical-align: middle;\n",
       "    }\n",
       "\n",
       "    .dataframe tbody tr th {\n",
       "        vertical-align: top;\n",
       "    }\n",
       "\n",
       "    .dataframe thead th {\n",
       "        text-align: right;\n",
       "    }\n",
       "</style>\n",
       "<table border=\"1\" class=\"dataframe\">\n",
       "  <thead>\n",
       "    <tr style=\"text-align: right;\">\n",
       "      <th></th>\n",
       "      <th>State</th>\n",
       "      <th>Participation Rate</th>\n",
       "      <th>EBRW</th>\n",
       "      <th>Math</th>\n",
       "      <th>Total</th>\n",
       "    </tr>\n",
       "  </thead>\n",
       "  <tbody>\n",
       "    <tr>\n",
       "      <th>0</th>\n",
       "      <td>Alabama</td>\n",
       "      <td>0.07</td>\n",
       "      <td>583</td>\n",
       "      <td>560</td>\n",
       "      <td>1143</td>\n",
       "    </tr>\n",
       "    <tr>\n",
       "      <th>1</th>\n",
       "      <td>Alaska</td>\n",
       "      <td>0.41</td>\n",
       "      <td>556</td>\n",
       "      <td>541</td>\n",
       "      <td>1097</td>\n",
       "    </tr>\n",
       "    <tr>\n",
       "      <th>2</th>\n",
       "      <td>Arizona</td>\n",
       "      <td>0.31</td>\n",
       "      <td>569</td>\n",
       "      <td>565</td>\n",
       "      <td>1134</td>\n",
       "    </tr>\n",
       "    <tr>\n",
       "      <th>3</th>\n",
       "      <td>Arkansas</td>\n",
       "      <td>0.06</td>\n",
       "      <td>582</td>\n",
       "      <td>559</td>\n",
       "      <td>1141</td>\n",
       "    </tr>\n",
       "    <tr>\n",
       "      <th>4</th>\n",
       "      <td>California</td>\n",
       "      <td>0.63</td>\n",
       "      <td>534</td>\n",
       "      <td>531</td>\n",
       "      <td>1065</td>\n",
       "    </tr>\n",
       "  </tbody>\n",
       "</table>\n",
       "</div>"
      ],
      "text/plain": [
       "        State  Participation Rate  EBRW  Math  Total\n",
       "0     Alabama                0.07   583   560   1143\n",
       "1      Alaska                0.41   556   541   1097\n",
       "2     Arizona                0.31   569   565   1134\n",
       "3    Arkansas                0.06   582   559   1141\n",
       "4  California                0.63   534   531   1065"
      ]
     },
     "execution_count": 35,
     "metadata": {},
     "output_type": "execute_result"
    }
   ],
   "source": [
    "sat_2019.head()"
   ]
  },
  {
   "cell_type": "markdown",
   "metadata": {},
   "source": [
    "### 7. Rename Columns"
   ]
  },
  {
   "cell_type": "code",
   "execution_count": 36,
   "metadata": {},
   "outputs": [
    {
     "data": {
      "text/plain": [
       "Index(['State', 'Participation', 'Evidence-Based Reading and Writing', 'Math',\n",
       "       'Total'],\n",
       "      dtype='object')"
      ]
     },
     "execution_count": 36,
     "metadata": {},
     "output_type": "execute_result"
    }
   ],
   "source": [
    "sat_2017.columns"
   ]
  },
  {
   "cell_type": "code",
   "execution_count": 37,
   "metadata": {},
   "outputs": [],
   "source": [
    "#rename columns for 2017 \n",
    "sat_2017.rename(columns={'State': 'State', 'Participation': '2017_Participation', \n",
    "                        'Evidence-Based Reading and Writing': '2017_EBRW', \n",
    "                         'Math': '2017_Math', 'Total': '2017_Total'}, inplace=True)"
   ]
  },
  {
   "cell_type": "code",
   "execution_count": 38,
   "metadata": {},
   "outputs": [
    {
     "data": {
      "text/html": [
       "<div>\n",
       "<style scoped>\n",
       "    .dataframe tbody tr th:only-of-type {\n",
       "        vertical-align: middle;\n",
       "    }\n",
       "\n",
       "    .dataframe tbody tr th {\n",
       "        vertical-align: top;\n",
       "    }\n",
       "\n",
       "    .dataframe thead th {\n",
       "        text-align: right;\n",
       "    }\n",
       "</style>\n",
       "<table border=\"1\" class=\"dataframe\">\n",
       "  <thead>\n",
       "    <tr style=\"text-align: right;\">\n",
       "      <th></th>\n",
       "      <th>State</th>\n",
       "      <th>2017_Participation</th>\n",
       "      <th>2017_EBRW</th>\n",
       "      <th>2017_Math</th>\n",
       "      <th>2017_Total</th>\n",
       "    </tr>\n",
       "  </thead>\n",
       "  <tbody>\n",
       "    <tr>\n",
       "      <th>0</th>\n",
       "      <td>Alabama</td>\n",
       "      <td>0.05</td>\n",
       "      <td>593</td>\n",
       "      <td>572</td>\n",
       "      <td>1165</td>\n",
       "    </tr>\n",
       "    <tr>\n",
       "      <th>1</th>\n",
       "      <td>Alaska</td>\n",
       "      <td>0.38</td>\n",
       "      <td>547</td>\n",
       "      <td>533</td>\n",
       "      <td>1080</td>\n",
       "    </tr>\n",
       "    <tr>\n",
       "      <th>2</th>\n",
       "      <td>Arizona</td>\n",
       "      <td>0.30</td>\n",
       "      <td>563</td>\n",
       "      <td>553</td>\n",
       "      <td>1116</td>\n",
       "    </tr>\n",
       "    <tr>\n",
       "      <th>3</th>\n",
       "      <td>Arkansas</td>\n",
       "      <td>0.03</td>\n",
       "      <td>614</td>\n",
       "      <td>594</td>\n",
       "      <td>1208</td>\n",
       "    </tr>\n",
       "    <tr>\n",
       "      <th>4</th>\n",
       "      <td>California</td>\n",
       "      <td>0.53</td>\n",
       "      <td>531</td>\n",
       "      <td>524</td>\n",
       "      <td>1055</td>\n",
       "    </tr>\n",
       "  </tbody>\n",
       "</table>\n",
       "</div>"
      ],
      "text/plain": [
       "        State  2017_Participation  2017_EBRW  2017_Math  2017_Total\n",
       "0     Alabama                0.05        593        572        1165\n",
       "1      Alaska                0.38        547        533        1080\n",
       "2     Arizona                0.30        563        553        1116\n",
       "3    Arkansas                0.03        614        594        1208\n",
       "4  California                0.53        531        524        1055"
      ]
     },
     "execution_count": 38,
     "metadata": {},
     "output_type": "execute_result"
    }
   ],
   "source": [
    "sat_2017.head()"
   ]
  },
  {
   "cell_type": "code",
   "execution_count": 39,
   "metadata": {},
   "outputs": [],
   "source": [
    "sat_2018.rename(columns={'State': 'State', 'Participation': '2018_Participation', \n",
    "                        'Evidence-Based Reading and Writing': '2018_EBRW', \n",
    "                         'Math': '2018_Math', 'Total': '2018_Total'}, inplace=True)"
   ]
  },
  {
   "cell_type": "code",
   "execution_count": 40,
   "metadata": {},
   "outputs": [
    {
     "data": {
      "text/html": [
       "<div>\n",
       "<style scoped>\n",
       "    .dataframe tbody tr th:only-of-type {\n",
       "        vertical-align: middle;\n",
       "    }\n",
       "\n",
       "    .dataframe tbody tr th {\n",
       "        vertical-align: top;\n",
       "    }\n",
       "\n",
       "    .dataframe thead th {\n",
       "        text-align: right;\n",
       "    }\n",
       "</style>\n",
       "<table border=\"1\" class=\"dataframe\">\n",
       "  <thead>\n",
       "    <tr style=\"text-align: right;\">\n",
       "      <th></th>\n",
       "      <th>State</th>\n",
       "      <th>2018_Participation</th>\n",
       "      <th>2018_EBRW</th>\n",
       "      <th>2018_Math</th>\n",
       "      <th>2018_Total</th>\n",
       "    </tr>\n",
       "  </thead>\n",
       "  <tbody>\n",
       "    <tr>\n",
       "      <th>0</th>\n",
       "      <td>Alabama</td>\n",
       "      <td>0.06</td>\n",
       "      <td>595</td>\n",
       "      <td>571</td>\n",
       "      <td>1166</td>\n",
       "    </tr>\n",
       "    <tr>\n",
       "      <th>1</th>\n",
       "      <td>Alaska</td>\n",
       "      <td>0.43</td>\n",
       "      <td>562</td>\n",
       "      <td>544</td>\n",
       "      <td>1106</td>\n",
       "    </tr>\n",
       "    <tr>\n",
       "      <th>2</th>\n",
       "      <td>Arizona</td>\n",
       "      <td>0.29</td>\n",
       "      <td>577</td>\n",
       "      <td>572</td>\n",
       "      <td>1149</td>\n",
       "    </tr>\n",
       "    <tr>\n",
       "      <th>3</th>\n",
       "      <td>Arkansas</td>\n",
       "      <td>0.05</td>\n",
       "      <td>592</td>\n",
       "      <td>576</td>\n",
       "      <td>1169</td>\n",
       "    </tr>\n",
       "    <tr>\n",
       "      <th>4</th>\n",
       "      <td>California</td>\n",
       "      <td>0.60</td>\n",
       "      <td>540</td>\n",
       "      <td>536</td>\n",
       "      <td>1076</td>\n",
       "    </tr>\n",
       "  </tbody>\n",
       "</table>\n",
       "</div>"
      ],
      "text/plain": [
       "        State  2018_Participation  2018_EBRW  2018_Math  2018_Total\n",
       "0     Alabama                0.06        595        571        1166\n",
       "1      Alaska                0.43        562        544        1106\n",
       "2     Arizona                0.29        577        572        1149\n",
       "3    Arkansas                0.05        592        576        1169\n",
       "4  California                0.60        540        536        1076"
      ]
     },
     "execution_count": 40,
     "metadata": {},
     "output_type": "execute_result"
    }
   ],
   "source": [
    "sat_2018.head()"
   ]
  },
  {
   "cell_type": "code",
   "execution_count": 41,
   "metadata": {},
   "outputs": [],
   "source": [
    "sat_2019.rename(columns={'State': 'State', 'Participation Rate': '2019_Participation', \n",
    "                        'EBRW': '2019_EBRW', \n",
    "                         'Math': '2019_Math', 'Total': '2019_Total'}, inplace=True)"
   ]
  },
  {
   "cell_type": "code",
   "execution_count": 42,
   "metadata": {},
   "outputs": [
    {
     "data": {
      "text/html": [
       "<div>\n",
       "<style scoped>\n",
       "    .dataframe tbody tr th:only-of-type {\n",
       "        vertical-align: middle;\n",
       "    }\n",
       "\n",
       "    .dataframe tbody tr th {\n",
       "        vertical-align: top;\n",
       "    }\n",
       "\n",
       "    .dataframe thead th {\n",
       "        text-align: right;\n",
       "    }\n",
       "</style>\n",
       "<table border=\"1\" class=\"dataframe\">\n",
       "  <thead>\n",
       "    <tr style=\"text-align: right;\">\n",
       "      <th></th>\n",
       "      <th>State</th>\n",
       "      <th>2019_Participation</th>\n",
       "      <th>2019_EBRW</th>\n",
       "      <th>2019_Math</th>\n",
       "      <th>2019_Total</th>\n",
       "    </tr>\n",
       "  </thead>\n",
       "  <tbody>\n",
       "    <tr>\n",
       "      <th>0</th>\n",
       "      <td>Alabama</td>\n",
       "      <td>0.07</td>\n",
       "      <td>583</td>\n",
       "      <td>560</td>\n",
       "      <td>1143</td>\n",
       "    </tr>\n",
       "    <tr>\n",
       "      <th>1</th>\n",
       "      <td>Alaska</td>\n",
       "      <td>0.41</td>\n",
       "      <td>556</td>\n",
       "      <td>541</td>\n",
       "      <td>1097</td>\n",
       "    </tr>\n",
       "    <tr>\n",
       "      <th>2</th>\n",
       "      <td>Arizona</td>\n",
       "      <td>0.31</td>\n",
       "      <td>569</td>\n",
       "      <td>565</td>\n",
       "      <td>1134</td>\n",
       "    </tr>\n",
       "    <tr>\n",
       "      <th>3</th>\n",
       "      <td>Arkansas</td>\n",
       "      <td>0.06</td>\n",
       "      <td>582</td>\n",
       "      <td>559</td>\n",
       "      <td>1141</td>\n",
       "    </tr>\n",
       "    <tr>\n",
       "      <th>4</th>\n",
       "      <td>California</td>\n",
       "      <td>0.63</td>\n",
       "      <td>534</td>\n",
       "      <td>531</td>\n",
       "      <td>1065</td>\n",
       "    </tr>\n",
       "  </tbody>\n",
       "</table>\n",
       "</div>"
      ],
      "text/plain": [
       "        State  2019_Participation  2019_EBRW  2019_Math  2019_Total\n",
       "0     Alabama                0.07        583        560        1143\n",
       "1      Alaska                0.41        556        541        1097\n",
       "2     Arizona                0.31        569        565        1134\n",
       "3    Arkansas                0.06        582        559        1141\n",
       "4  California                0.63        534        531        1065"
      ]
     },
     "execution_count": 42,
     "metadata": {},
     "output_type": "execute_result"
    }
   ],
   "source": [
    "sat_2019.head()"
   ]
  },
  {
   "cell_type": "code",
   "execution_count": 43,
   "metadata": {},
   "outputs": [
    {
     "data": {
      "text/plain": [
       "(51, 5)"
      ]
     },
     "execution_count": 43,
     "metadata": {},
     "output_type": "execute_result"
    }
   ],
   "source": [
    "sat_2017.shape"
   ]
  },
  {
   "cell_type": "code",
   "execution_count": 44,
   "metadata": {},
   "outputs": [
    {
     "data": {
      "text/plain": [
       "(51, 5)"
      ]
     },
     "execution_count": 44,
     "metadata": {},
     "output_type": "execute_result"
    }
   ],
   "source": [
    "sat_2018.shape"
   ]
  },
  {
   "cell_type": "code",
   "execution_count": 45,
   "metadata": {},
   "outputs": [
    {
     "data": {
      "text/plain": [
       "(53, 5)"
      ]
     },
     "execution_count": 45,
     "metadata": {},
     "output_type": "execute_result"
    }
   ],
   "source": [
    "sat_2019.shape"
   ]
  },
  {
   "cell_type": "markdown",
   "metadata": {},
   "source": [
    "### 8. Drop unnecessary rows\n"
   ]
  },
  {
   "cell_type": "markdown",
   "metadata": {},
   "source": [
    "Removing virgin islands and puerto rico from sat 2019. The participation rate is not available but there is data for 2019 sat scores. "
   ]
  },
  {
   "cell_type": "code",
   "execution_count": 46,
   "metadata": {},
   "outputs": [],
   "source": [
    "sat_2019.drop(sat_2019[(sat_2019[\"State\"] == 'Puerto Rico')].index, inplace = True)"
   ]
  },
  {
   "cell_type": "code",
   "execution_count": 47,
   "metadata": {},
   "outputs": [],
   "source": [
    "sat_2019.drop(sat_2019[(sat_2019[\"State\"] == 'Virgin Islands')].index, inplace = True)"
   ]
  },
  {
   "cell_type": "code",
   "execution_count": 48,
   "metadata": {},
   "outputs": [
    {
     "data": {
      "text/plain": [
       "(51, 5)"
      ]
     },
     "execution_count": 48,
     "metadata": {},
     "output_type": "execute_result"
    }
   ],
   "source": [
    "sat_2019.shape"
   ]
  },
  {
   "cell_type": "markdown",
   "metadata": {},
   "source": [
    "### 9. Merge"
   ]
  },
  {
   "cell_type": "code",
   "execution_count": 49,
   "metadata": {},
   "outputs": [
    {
     "data": {
      "text/html": [
       "<div>\n",
       "<style scoped>\n",
       "    .dataframe tbody tr th:only-of-type {\n",
       "        vertical-align: middle;\n",
       "    }\n",
       "\n",
       "    .dataframe tbody tr th {\n",
       "        vertical-align: top;\n",
       "    }\n",
       "\n",
       "    .dataframe thead th {\n",
       "        text-align: right;\n",
       "    }\n",
       "</style>\n",
       "<table border=\"1\" class=\"dataframe\">\n",
       "  <thead>\n",
       "    <tr style=\"text-align: right;\">\n",
       "      <th></th>\n",
       "      <th>State</th>\n",
       "      <th>2017_Participation</th>\n",
       "      <th>2017_EBRW</th>\n",
       "      <th>2017_Math</th>\n",
       "      <th>2017_Total</th>\n",
       "      <th>2018_Participation</th>\n",
       "      <th>2018_EBRW</th>\n",
       "      <th>2018_Math</th>\n",
       "      <th>2018_Total</th>\n",
       "    </tr>\n",
       "  </thead>\n",
       "  <tbody>\n",
       "    <tr>\n",
       "      <th>0</th>\n",
       "      <td>Alabama</td>\n",
       "      <td>0.05</td>\n",
       "      <td>593</td>\n",
       "      <td>572</td>\n",
       "      <td>1165</td>\n",
       "      <td>0.06</td>\n",
       "      <td>595</td>\n",
       "      <td>571</td>\n",
       "      <td>1166</td>\n",
       "    </tr>\n",
       "    <tr>\n",
       "      <th>1</th>\n",
       "      <td>Alaska</td>\n",
       "      <td>0.38</td>\n",
       "      <td>547</td>\n",
       "      <td>533</td>\n",
       "      <td>1080</td>\n",
       "      <td>0.43</td>\n",
       "      <td>562</td>\n",
       "      <td>544</td>\n",
       "      <td>1106</td>\n",
       "    </tr>\n",
       "    <tr>\n",
       "      <th>2</th>\n",
       "      <td>Arizona</td>\n",
       "      <td>0.30</td>\n",
       "      <td>563</td>\n",
       "      <td>553</td>\n",
       "      <td>1116</td>\n",
       "      <td>0.29</td>\n",
       "      <td>577</td>\n",
       "      <td>572</td>\n",
       "      <td>1149</td>\n",
       "    </tr>\n",
       "    <tr>\n",
       "      <th>3</th>\n",
       "      <td>Arkansas</td>\n",
       "      <td>0.03</td>\n",
       "      <td>614</td>\n",
       "      <td>594</td>\n",
       "      <td>1208</td>\n",
       "      <td>0.05</td>\n",
       "      <td>592</td>\n",
       "      <td>576</td>\n",
       "      <td>1169</td>\n",
       "    </tr>\n",
       "    <tr>\n",
       "      <th>4</th>\n",
       "      <td>California</td>\n",
       "      <td>0.53</td>\n",
       "      <td>531</td>\n",
       "      <td>524</td>\n",
       "      <td>1055</td>\n",
       "      <td>0.60</td>\n",
       "      <td>540</td>\n",
       "      <td>536</td>\n",
       "      <td>1076</td>\n",
       "    </tr>\n",
       "  </tbody>\n",
       "</table>\n",
       "</div>"
      ],
      "text/plain": [
       "        State  2017_Participation  2017_EBRW  2017_Math  2017_Total  \\\n",
       "0     Alabama                0.05        593        572        1165   \n",
       "1      Alaska                0.38        547        533        1080   \n",
       "2     Arizona                0.30        563        553        1116   \n",
       "3    Arkansas                0.03        614        594        1208   \n",
       "4  California                0.53        531        524        1055   \n",
       "\n",
       "   2018_Participation  2018_EBRW  2018_Math  2018_Total  \n",
       "0                0.06        595        571        1166  \n",
       "1                0.43        562        544        1106  \n",
       "2                0.29        577        572        1149  \n",
       "3                0.05        592        576        1169  \n",
       "4                0.60        540        536        1076  "
      ]
     },
     "execution_count": 49,
     "metadata": {},
     "output_type": "execute_result"
    }
   ],
   "source": [
    "sat_merge = pd.merge(sat_2017, sat_2018, on='State')\n",
    "\n",
    "sat_merge.head()"
   ]
  },
  {
   "cell_type": "code",
   "execution_count": 50,
   "metadata": {},
   "outputs": [
    {
     "data": {
      "text/html": [
       "<div>\n",
       "<style scoped>\n",
       "    .dataframe tbody tr th:only-of-type {\n",
       "        vertical-align: middle;\n",
       "    }\n",
       "\n",
       "    .dataframe tbody tr th {\n",
       "        vertical-align: top;\n",
       "    }\n",
       "\n",
       "    .dataframe thead th {\n",
       "        text-align: right;\n",
       "    }\n",
       "</style>\n",
       "<table border=\"1\" class=\"dataframe\">\n",
       "  <thead>\n",
       "    <tr style=\"text-align: right;\">\n",
       "      <th></th>\n",
       "      <th>State</th>\n",
       "      <th>2017_Participation</th>\n",
       "      <th>2017_EBRW</th>\n",
       "      <th>2017_Math</th>\n",
       "      <th>2017_Total</th>\n",
       "      <th>2018_Participation</th>\n",
       "      <th>2018_EBRW</th>\n",
       "      <th>2018_Math</th>\n",
       "      <th>2018_Total</th>\n",
       "      <th>2019_Participation</th>\n",
       "      <th>2019_EBRW</th>\n",
       "      <th>2019_Math</th>\n",
       "      <th>2019_Total</th>\n",
       "    </tr>\n",
       "  </thead>\n",
       "  <tbody>\n",
       "    <tr>\n",
       "      <th>0</th>\n",
       "      <td>Alabama</td>\n",
       "      <td>0.05</td>\n",
       "      <td>593</td>\n",
       "      <td>572</td>\n",
       "      <td>1165</td>\n",
       "      <td>0.06</td>\n",
       "      <td>595</td>\n",
       "      <td>571</td>\n",
       "      <td>1166</td>\n",
       "      <td>0.07</td>\n",
       "      <td>583</td>\n",
       "      <td>560</td>\n",
       "      <td>1143</td>\n",
       "    </tr>\n",
       "    <tr>\n",
       "      <th>1</th>\n",
       "      <td>Alaska</td>\n",
       "      <td>0.38</td>\n",
       "      <td>547</td>\n",
       "      <td>533</td>\n",
       "      <td>1080</td>\n",
       "      <td>0.43</td>\n",
       "      <td>562</td>\n",
       "      <td>544</td>\n",
       "      <td>1106</td>\n",
       "      <td>0.41</td>\n",
       "      <td>556</td>\n",
       "      <td>541</td>\n",
       "      <td>1097</td>\n",
       "    </tr>\n",
       "    <tr>\n",
       "      <th>2</th>\n",
       "      <td>Arizona</td>\n",
       "      <td>0.30</td>\n",
       "      <td>563</td>\n",
       "      <td>553</td>\n",
       "      <td>1116</td>\n",
       "      <td>0.29</td>\n",
       "      <td>577</td>\n",
       "      <td>572</td>\n",
       "      <td>1149</td>\n",
       "      <td>0.31</td>\n",
       "      <td>569</td>\n",
       "      <td>565</td>\n",
       "      <td>1134</td>\n",
       "    </tr>\n",
       "    <tr>\n",
       "      <th>3</th>\n",
       "      <td>Arkansas</td>\n",
       "      <td>0.03</td>\n",
       "      <td>614</td>\n",
       "      <td>594</td>\n",
       "      <td>1208</td>\n",
       "      <td>0.05</td>\n",
       "      <td>592</td>\n",
       "      <td>576</td>\n",
       "      <td>1169</td>\n",
       "      <td>0.06</td>\n",
       "      <td>582</td>\n",
       "      <td>559</td>\n",
       "      <td>1141</td>\n",
       "    </tr>\n",
       "    <tr>\n",
       "      <th>4</th>\n",
       "      <td>California</td>\n",
       "      <td>0.53</td>\n",
       "      <td>531</td>\n",
       "      <td>524</td>\n",
       "      <td>1055</td>\n",
       "      <td>0.60</td>\n",
       "      <td>540</td>\n",
       "      <td>536</td>\n",
       "      <td>1076</td>\n",
       "      <td>0.63</td>\n",
       "      <td>534</td>\n",
       "      <td>531</td>\n",
       "      <td>1065</td>\n",
       "    </tr>\n",
       "  </tbody>\n",
       "</table>\n",
       "</div>"
      ],
      "text/plain": [
       "        State  2017_Participation  2017_EBRW  2017_Math  2017_Total  \\\n",
       "0     Alabama                0.05        593        572        1165   \n",
       "1      Alaska                0.38        547        533        1080   \n",
       "2     Arizona                0.30        563        553        1116   \n",
       "3    Arkansas                0.03        614        594        1208   \n",
       "4  California                0.53        531        524        1055   \n",
       "\n",
       "   2018_Participation  2018_EBRW  2018_Math  2018_Total  2019_Participation  \\\n",
       "0                0.06        595        571        1166                0.07   \n",
       "1                0.43        562        544        1106                0.41   \n",
       "2                0.29        577        572        1149                0.31   \n",
       "3                0.05        592        576        1169                0.06   \n",
       "4                0.60        540        536        1076                0.63   \n",
       "\n",
       "   2019_EBRW  2019_Math  2019_Total  \n",
       "0        583        560        1143  \n",
       "1        556        541        1097  \n",
       "2        569        565        1134  \n",
       "3        582        559        1141  \n",
       "4        534        531        1065  "
      ]
     },
     "execution_count": 50,
     "metadata": {},
     "output_type": "execute_result"
    }
   ],
   "source": [
    "sat_data = pd.merge(sat_merge, sat_2019, on='State')\n",
    "\n",
    "sat_data.head()"
   ]
  },
  {
   "cell_type": "markdown",
   "metadata": {},
   "source": [
    "### 10. Additional cleaning as required"
   ]
  },
  {
   "cell_type": "code",
   "execution_count": 51,
   "metadata": {},
   "outputs": [
    {
     "data": {
      "text/html": [
       "<div>\n",
       "<style scoped>\n",
       "    .dataframe tbody tr th:only-of-type {\n",
       "        vertical-align: middle;\n",
       "    }\n",
       "\n",
       "    .dataframe tbody tr th {\n",
       "        vertical-align: top;\n",
       "    }\n",
       "\n",
       "    .dataframe thead th {\n",
       "        text-align: right;\n",
       "    }\n",
       "</style>\n",
       "<table border=\"1\" class=\"dataframe\">\n",
       "  <thead>\n",
       "    <tr style=\"text-align: right;\">\n",
       "      <th></th>\n",
       "      <th>State</th>\n",
       "      <th>2017_Participation</th>\n",
       "      <th>2017_EBRW</th>\n",
       "      <th>2017_Math</th>\n",
       "      <th>2017_Total</th>\n",
       "      <th>2018_Participation</th>\n",
       "      <th>2018_EBRW</th>\n",
       "      <th>2018_Math</th>\n",
       "      <th>2018_Total</th>\n",
       "      <th>2019_Participation</th>\n",
       "      <th>2019_EBRW</th>\n",
       "      <th>2019_Math</th>\n",
       "      <th>2019_Total</th>\n",
       "    </tr>\n",
       "  </thead>\n",
       "  <tbody>\n",
       "    <tr>\n",
       "      <th>1</th>\n",
       "      <td>Alabama</td>\n",
       "      <td>0.05</td>\n",
       "      <td>593</td>\n",
       "      <td>572</td>\n",
       "      <td>1165</td>\n",
       "      <td>0.06</td>\n",
       "      <td>595</td>\n",
       "      <td>571</td>\n",
       "      <td>1166</td>\n",
       "      <td>0.07</td>\n",
       "      <td>583</td>\n",
       "      <td>560</td>\n",
       "      <td>1143</td>\n",
       "    </tr>\n",
       "    <tr>\n",
       "      <th>2</th>\n",
       "      <td>Alaska</td>\n",
       "      <td>0.38</td>\n",
       "      <td>547</td>\n",
       "      <td>533</td>\n",
       "      <td>1080</td>\n",
       "      <td>0.43</td>\n",
       "      <td>562</td>\n",
       "      <td>544</td>\n",
       "      <td>1106</td>\n",
       "      <td>0.41</td>\n",
       "      <td>556</td>\n",
       "      <td>541</td>\n",
       "      <td>1097</td>\n",
       "    </tr>\n",
       "    <tr>\n",
       "      <th>3</th>\n",
       "      <td>Arizona</td>\n",
       "      <td>0.30</td>\n",
       "      <td>563</td>\n",
       "      <td>553</td>\n",
       "      <td>1116</td>\n",
       "      <td>0.29</td>\n",
       "      <td>577</td>\n",
       "      <td>572</td>\n",
       "      <td>1149</td>\n",
       "      <td>0.31</td>\n",
       "      <td>569</td>\n",
       "      <td>565</td>\n",
       "      <td>1134</td>\n",
       "    </tr>\n",
       "    <tr>\n",
       "      <th>4</th>\n",
       "      <td>Arkansas</td>\n",
       "      <td>0.03</td>\n",
       "      <td>614</td>\n",
       "      <td>594</td>\n",
       "      <td>1208</td>\n",
       "      <td>0.05</td>\n",
       "      <td>592</td>\n",
       "      <td>576</td>\n",
       "      <td>1169</td>\n",
       "      <td>0.06</td>\n",
       "      <td>582</td>\n",
       "      <td>559</td>\n",
       "      <td>1141</td>\n",
       "    </tr>\n",
       "    <tr>\n",
       "      <th>5</th>\n",
       "      <td>California</td>\n",
       "      <td>0.53</td>\n",
       "      <td>531</td>\n",
       "      <td>524</td>\n",
       "      <td>1055</td>\n",
       "      <td>0.60</td>\n",
       "      <td>540</td>\n",
       "      <td>536</td>\n",
       "      <td>1076</td>\n",
       "      <td>0.63</td>\n",
       "      <td>534</td>\n",
       "      <td>531</td>\n",
       "      <td>1065</td>\n",
       "    </tr>\n",
       "  </tbody>\n",
       "</table>\n",
       "</div>"
      ],
      "text/plain": [
       "        State  2017_Participation  2017_EBRW  2017_Math  2017_Total  \\\n",
       "1     Alabama                0.05        593        572        1165   \n",
       "2      Alaska                0.38        547        533        1080   \n",
       "3     Arizona                0.30        563        553        1116   \n",
       "4    Arkansas                0.03        614        594        1208   \n",
       "5  California                0.53        531        524        1055   \n",
       "\n",
       "   2018_Participation  2018_EBRW  2018_Math  2018_Total  2019_Participation  \\\n",
       "1                0.06        595        571        1166                0.07   \n",
       "2                0.43        562        544        1106                0.41   \n",
       "3                0.29        577        572        1149                0.31   \n",
       "4                0.05        592        576        1169                0.06   \n",
       "5                0.60        540        536        1076                0.63   \n",
       "\n",
       "   2019_EBRW  2019_Math  2019_Total  \n",
       "1        583        560        1143  \n",
       "2        556        541        1097  \n",
       "3        569        565        1134  \n",
       "4        582        559        1141  \n",
       "5        534        531        1065  "
      ]
     },
     "execution_count": 51,
     "metadata": {},
     "output_type": "execute_result"
    }
   ],
   "source": [
    "#set index to start at 1 instead of 0\n",
    "sat_data.index +=1\n",
    "sat_data.head()"
   ]
  },
  {
   "cell_type": "markdown",
   "metadata": {},
   "source": [
    "### 11. Save merged dataframes as csv"
   ]
  },
  {
   "cell_type": "code",
   "execution_count": 52,
   "metadata": {},
   "outputs": [],
   "source": [
    "sat_data.to_csv('sat_data_threeyears.csv')"
   ]
  },
  {
   "cell_type": "markdown",
   "metadata": {},
   "source": [
    "### Data Dictionary\n",
    "\n",
    "Now that we've fixed our data, and given it appropriate names, let's create a [data dictionary](http://library.ucmerced.edu/node/10249). \n",
    "\n",
    "A data dictionary provides a quick overview of features/variables/columns, alongside data types and descriptions. The more descriptive you can be, the more useful this document is.\n",
    "\n",
    "Example of a Fictional Data Dictionary Entry: \n",
    "\n",
    "|Feature|Type|Dataset|Description|\n",
    "|---|---|---|---|\n",
    "|**county_pop**|*integer*|2010 census|The population of the county (units in thousands, where 2.5 represents 2500 people).| \n",
    "|**per_poverty**|*float*|2010 census|The percent of the county over the age of 18 living below the 200% of official US poverty rate (units percent to two decimal places 98.10 means 98.1%)|\n",
    "\n",
    "[Here's a quick link to a short guide for formatting markdown in Jupyter notebooks](https://jupyter-notebook.readthedocs.io/en/stable/examples/Notebook/Working%20With%20Markdown%20Cells.html).\n",
    "\n",
    "Provided is the skeleton for formatting a markdown table, with columns headers that will help you create a data dictionary to quickly summarize your data, as well as some examples. **This would be a great thing to copy and paste into your custom README for this project.**\n",
    "\n",
    "*Note*: if you are unsure of what a feature is, check the source of the data! This can be found in the README."
   ]
  },
  {
   "cell_type": "markdown",
   "metadata": {},
   "source": [
    "### Data Dictionary\n",
    "\n",
    "\n",
    "|Feature|Type|Dataset|Description|\n",
    "|---|---|---|---|\n",
    "|**State**|*String*|SAT 2017, SAT 2018, SAT 2019|  List of states in USA| \n",
    "|**2017_Participation**|*float*|SAT 2017|Participation rate of each state for the SAT in 2017|\n",
    "|**2017_EBRW**|*integer*|SAT 2017|Average score for the Evidence-Based Reading and Writing section of the SAT exam in 2017|\n",
    "|**2017_Math**|*integer*|SAT 2017|Average score for the Math section of the SAT exam in 2017|\n",
    "|**2017_Total**|*integer*|SAT 2017|Average total score for both sections of the SAT exam in 2017|\n",
    "|**2018_Participation**|*float*|SAT 2018|Participation rate of each state for the SAT in 2018|\n",
    "|**2018_EBRW**|*integer*|SAT 2018|Average score for the Evidence-Based Reading and Writing section of the SAT exam in 2018|\n",
    "|**2018_Math**|*integer*|SAT 2018|Average score for the Math section of the SAT exam in 2018|\n",
    "|**2018_Total**|*integer*|SAT 2018|Average total score for both sections of the SAT exam in 2018|\n",
    "|**2019_Participation**|*float*|SAT 2019|Participation rate of each state for the SAT in 2019|\n",
    "|**2019_EBRW**|*integer*|SAT 2019|Average score for the Evidence-Based Reading and Writing section of the SAT exam in 2019|\n",
    "|**2019_Math**|*integer*|SAT 2019|Average score for the Math section of the SAT exam in 2019|\n",
    "|**2019_Total**|*integer*|SAT 2019|Average total score for both sections of the SAT exam in 2019|\n",
    "\n",
    "\n"
   ]
  },
  {
   "cell_type": "markdown",
   "metadata": {},
   "source": [
    "## Exploratory Data Analysis\n",
    "\n",
    "Complete the following steps to explore your data. You are welcome to do more EDA than the steps outlined here as you feel necessary:\n",
    "1. Summary Statistics.\n",
    "2. Use a **dictionary comprehension** to apply the standard deviation function you create in part 1 to each numeric column in the dataframe.  **No loops**.\n",
    "    - Assign the output to variable `sd` as a dictionary where: \n",
    "        - Each column name is now a key \n",
    "        - That standard deviation of the column is the value \n",
    "        - *Example Output :* `{'ACT_Math': 120, 'ACT_Reading': 120, ...}`\n",
    "3. Investigate trends in the data.\n",
    "    - Using sorting and/or masking (along with the `.head()` method to avoid printing our entire dataframe), consider questions relevant to your problem statement. Some examples are provided below (but feel free to change these questions for your specific problem):\n",
    "        - Which states have the highest and lowest participation rates for the 2017, 2019, or 2019 SAT and ACT?\n",
    "        - Which states have the highest and lowest mean total/composite scores for the 2017, 2019, or 2019 SAT and ACT?\n",
    "        - Do any states with 100% participation on a given test have a rate change year-to-year?\n",
    "        - Do any states show have >50% participation on *both* tests each year?\n",
    "        - Which colleges have the highest median SAT and ACT scores for admittance?\n",
    "        - Which California school districts have the highest and lowest mean test scores?\n",
    "    - **You should comment on your findings at each step in a markdown cell below your code block**. Make sure you include at least one example of sorting your dataframe by a column, and one example of using boolean filtering (i.e., masking) to select a subset of the dataframe."
   ]
  },
  {
   "cell_type": "markdown",
   "metadata": {},
   "source": [
    "### 1. Summary Statistics\n"
   ]
  },
  {
   "cell_type": "code",
   "execution_count": 53,
   "metadata": {},
   "outputs": [
    {
     "data": {
      "text/html": [
       "<div>\n",
       "<style scoped>\n",
       "    .dataframe tbody tr th:only-of-type {\n",
       "        vertical-align: middle;\n",
       "    }\n",
       "\n",
       "    .dataframe tbody tr th {\n",
       "        vertical-align: top;\n",
       "    }\n",
       "\n",
       "    .dataframe thead th {\n",
       "        text-align: right;\n",
       "    }\n",
       "</style>\n",
       "<table border=\"1\" class=\"dataframe\">\n",
       "  <thead>\n",
       "    <tr style=\"text-align: right;\">\n",
       "      <th></th>\n",
       "      <th>2017_Participation</th>\n",
       "      <th>2017_EBRW</th>\n",
       "      <th>2017_Math</th>\n",
       "      <th>2017_Total</th>\n",
       "      <th>2018_Participation</th>\n",
       "      <th>2018_EBRW</th>\n",
       "      <th>2018_Math</th>\n",
       "      <th>2018_Total</th>\n",
       "      <th>2019_Participation</th>\n",
       "      <th>2019_EBRW</th>\n",
       "      <th>2019_Math</th>\n",
       "      <th>2019_Total</th>\n",
       "    </tr>\n",
       "  </thead>\n",
       "  <tbody>\n",
       "    <tr>\n",
       "      <th>count</th>\n",
       "      <td>51.000000</td>\n",
       "      <td>51.000000</td>\n",
       "      <td>51.000000</td>\n",
       "      <td>51.000000</td>\n",
       "      <td>51.000000</td>\n",
       "      <td>51.000000</td>\n",
       "      <td>51.000000</td>\n",
       "      <td>51.000000</td>\n",
       "      <td>51.000000</td>\n",
       "      <td>51.000000</td>\n",
       "      <td>51.000000</td>\n",
       "      <td>51.000000</td>\n",
       "    </tr>\n",
       "    <tr>\n",
       "      <th>mean</th>\n",
       "      <td>0.398039</td>\n",
       "      <td>569.117647</td>\n",
       "      <td>556.882353</td>\n",
       "      <td>1126.098039</td>\n",
       "      <td>0.457451</td>\n",
       "      <td>563.686275</td>\n",
       "      <td>556.235294</td>\n",
       "      <td>1120.019608</td>\n",
       "      <td>0.490588</td>\n",
       "      <td>560.803922</td>\n",
       "      <td>552.196078</td>\n",
       "      <td>1113.078431</td>\n",
       "    </tr>\n",
       "    <tr>\n",
       "      <th>std</th>\n",
       "      <td>0.352766</td>\n",
       "      <td>45.666901</td>\n",
       "      <td>47.121395</td>\n",
       "      <td>92.494812</td>\n",
       "      <td>0.373143</td>\n",
       "      <td>47.502627</td>\n",
       "      <td>47.772623</td>\n",
       "      <td>94.155083</td>\n",
       "      <td>0.387476</td>\n",
       "      <td>46.248035</td>\n",
       "      <td>51.290553</td>\n",
       "      <td>97.197910</td>\n",
       "    </tr>\n",
       "    <tr>\n",
       "      <th>min</th>\n",
       "      <td>0.020000</td>\n",
       "      <td>482.000000</td>\n",
       "      <td>468.000000</td>\n",
       "      <td>950.000000</td>\n",
       "      <td>0.020000</td>\n",
       "      <td>480.000000</td>\n",
       "      <td>480.000000</td>\n",
       "      <td>977.000000</td>\n",
       "      <td>0.020000</td>\n",
       "      <td>483.000000</td>\n",
       "      <td>460.000000</td>\n",
       "      <td>943.000000</td>\n",
       "    </tr>\n",
       "    <tr>\n",
       "      <th>25%</th>\n",
       "      <td>0.040000</td>\n",
       "      <td>533.500000</td>\n",
       "      <td>523.500000</td>\n",
       "      <td>1055.500000</td>\n",
       "      <td>0.045000</td>\n",
       "      <td>534.500000</td>\n",
       "      <td>522.500000</td>\n",
       "      <td>1057.500000</td>\n",
       "      <td>0.055000</td>\n",
       "      <td>527.500000</td>\n",
       "      <td>511.500000</td>\n",
       "      <td>1038.000000</td>\n",
       "    </tr>\n",
       "    <tr>\n",
       "      <th>50%</th>\n",
       "      <td>0.380000</td>\n",
       "      <td>559.000000</td>\n",
       "      <td>548.000000</td>\n",
       "      <td>1107.000000</td>\n",
       "      <td>0.520000</td>\n",
       "      <td>552.000000</td>\n",
       "      <td>544.000000</td>\n",
       "      <td>1098.000000</td>\n",
       "      <td>0.540000</td>\n",
       "      <td>550.000000</td>\n",
       "      <td>546.000000</td>\n",
       "      <td>1097.000000</td>\n",
       "    </tr>\n",
       "    <tr>\n",
       "      <th>75%</th>\n",
       "      <td>0.660000</td>\n",
       "      <td>613.000000</td>\n",
       "      <td>599.000000</td>\n",
       "      <td>1212.000000</td>\n",
       "      <td>0.775000</td>\n",
       "      <td>610.500000</td>\n",
       "      <td>593.500000</td>\n",
       "      <td>1204.000000</td>\n",
       "      <td>0.820000</td>\n",
       "      <td>612.000000</td>\n",
       "      <td>599.000000</td>\n",
       "      <td>1210.000000</td>\n",
       "    </tr>\n",
       "    <tr>\n",
       "      <th>max</th>\n",
       "      <td>1.000000</td>\n",
       "      <td>644.000000</td>\n",
       "      <td>651.000000</td>\n",
       "      <td>1295.000000</td>\n",
       "      <td>1.000000</td>\n",
       "      <td>643.000000</td>\n",
       "      <td>655.000000</td>\n",
       "      <td>1298.000000</td>\n",
       "      <td>1.000000</td>\n",
       "      <td>636.000000</td>\n",
       "      <td>648.000000</td>\n",
       "      <td>1284.000000</td>\n",
       "    </tr>\n",
       "  </tbody>\n",
       "</table>\n",
       "</div>"
      ],
      "text/plain": [
       "       2017_Participation   2017_EBRW   2017_Math   2017_Total  \\\n",
       "count           51.000000   51.000000   51.000000    51.000000   \n",
       "mean             0.398039  569.117647  556.882353  1126.098039   \n",
       "std              0.352766   45.666901   47.121395    92.494812   \n",
       "min              0.020000  482.000000  468.000000   950.000000   \n",
       "25%              0.040000  533.500000  523.500000  1055.500000   \n",
       "50%              0.380000  559.000000  548.000000  1107.000000   \n",
       "75%              0.660000  613.000000  599.000000  1212.000000   \n",
       "max              1.000000  644.000000  651.000000  1295.000000   \n",
       "\n",
       "       2018_Participation   2018_EBRW   2018_Math   2018_Total  \\\n",
       "count           51.000000   51.000000   51.000000    51.000000   \n",
       "mean             0.457451  563.686275  556.235294  1120.019608   \n",
       "std              0.373143   47.502627   47.772623    94.155083   \n",
       "min              0.020000  480.000000  480.000000   977.000000   \n",
       "25%              0.045000  534.500000  522.500000  1057.500000   \n",
       "50%              0.520000  552.000000  544.000000  1098.000000   \n",
       "75%              0.775000  610.500000  593.500000  1204.000000   \n",
       "max              1.000000  643.000000  655.000000  1298.000000   \n",
       "\n",
       "       2019_Participation   2019_EBRW   2019_Math   2019_Total  \n",
       "count           51.000000   51.000000   51.000000    51.000000  \n",
       "mean             0.490588  560.803922  552.196078  1113.078431  \n",
       "std              0.387476   46.248035   51.290553    97.197910  \n",
       "min              0.020000  483.000000  460.000000   943.000000  \n",
       "25%              0.055000  527.500000  511.500000  1038.000000  \n",
       "50%              0.540000  550.000000  546.000000  1097.000000  \n",
       "75%              0.820000  612.000000  599.000000  1210.000000  \n",
       "max              1.000000  636.000000  648.000000  1284.000000  "
      ]
     },
     "execution_count": 53,
     "metadata": {},
     "output_type": "execute_result"
    }
   ],
   "source": [
    "sat_data.describe()"
   ]
  },
  {
   "cell_type": "code",
   "execution_count": 54,
   "metadata": {},
   "outputs": [
    {
     "data": {
      "text/html": [
       "<div>\n",
       "<style scoped>\n",
       "    .dataframe tbody tr th:only-of-type {\n",
       "        vertical-align: middle;\n",
       "    }\n",
       "\n",
       "    .dataframe tbody tr th {\n",
       "        vertical-align: top;\n",
       "    }\n",
       "\n",
       "    .dataframe thead th {\n",
       "        text-align: right;\n",
       "    }\n",
       "</style>\n",
       "<table border=\"1\" class=\"dataframe\">\n",
       "  <thead>\n",
       "    <tr style=\"text-align: right;\">\n",
       "      <th></th>\n",
       "      <th>count</th>\n",
       "      <th>mean</th>\n",
       "      <th>std</th>\n",
       "      <th>min</th>\n",
       "      <th>25%</th>\n",
       "      <th>50%</th>\n",
       "      <th>75%</th>\n",
       "      <th>max</th>\n",
       "    </tr>\n",
       "  </thead>\n",
       "  <tbody>\n",
       "    <tr>\n",
       "      <th>2017_Participation</th>\n",
       "      <td>51.0</td>\n",
       "      <td>0.398039</td>\n",
       "      <td>0.352766</td>\n",
       "      <td>0.02</td>\n",
       "      <td>0.040</td>\n",
       "      <td>0.38</td>\n",
       "      <td>0.660</td>\n",
       "      <td>1.0</td>\n",
       "    </tr>\n",
       "    <tr>\n",
       "      <th>2017_EBRW</th>\n",
       "      <td>51.0</td>\n",
       "      <td>569.117647</td>\n",
       "      <td>45.666901</td>\n",
       "      <td>482.00</td>\n",
       "      <td>533.500</td>\n",
       "      <td>559.00</td>\n",
       "      <td>613.000</td>\n",
       "      <td>644.0</td>\n",
       "    </tr>\n",
       "    <tr>\n",
       "      <th>2017_Math</th>\n",
       "      <td>51.0</td>\n",
       "      <td>556.882353</td>\n",
       "      <td>47.121395</td>\n",
       "      <td>468.00</td>\n",
       "      <td>523.500</td>\n",
       "      <td>548.00</td>\n",
       "      <td>599.000</td>\n",
       "      <td>651.0</td>\n",
       "    </tr>\n",
       "    <tr>\n",
       "      <th>2017_Total</th>\n",
       "      <td>51.0</td>\n",
       "      <td>1126.098039</td>\n",
       "      <td>92.494812</td>\n",
       "      <td>950.00</td>\n",
       "      <td>1055.500</td>\n",
       "      <td>1107.00</td>\n",
       "      <td>1212.000</td>\n",
       "      <td>1295.0</td>\n",
       "    </tr>\n",
       "    <tr>\n",
       "      <th>2018_Participation</th>\n",
       "      <td>51.0</td>\n",
       "      <td>0.457451</td>\n",
       "      <td>0.373143</td>\n",
       "      <td>0.02</td>\n",
       "      <td>0.045</td>\n",
       "      <td>0.52</td>\n",
       "      <td>0.775</td>\n",
       "      <td>1.0</td>\n",
       "    </tr>\n",
       "    <tr>\n",
       "      <th>2018_EBRW</th>\n",
       "      <td>51.0</td>\n",
       "      <td>563.686275</td>\n",
       "      <td>47.502627</td>\n",
       "      <td>480.00</td>\n",
       "      <td>534.500</td>\n",
       "      <td>552.00</td>\n",
       "      <td>610.500</td>\n",
       "      <td>643.0</td>\n",
       "    </tr>\n",
       "    <tr>\n",
       "      <th>2018_Math</th>\n",
       "      <td>51.0</td>\n",
       "      <td>556.235294</td>\n",
       "      <td>47.772623</td>\n",
       "      <td>480.00</td>\n",
       "      <td>522.500</td>\n",
       "      <td>544.00</td>\n",
       "      <td>593.500</td>\n",
       "      <td>655.0</td>\n",
       "    </tr>\n",
       "    <tr>\n",
       "      <th>2018_Total</th>\n",
       "      <td>51.0</td>\n",
       "      <td>1120.019608</td>\n",
       "      <td>94.155083</td>\n",
       "      <td>977.00</td>\n",
       "      <td>1057.500</td>\n",
       "      <td>1098.00</td>\n",
       "      <td>1204.000</td>\n",
       "      <td>1298.0</td>\n",
       "    </tr>\n",
       "    <tr>\n",
       "      <th>2019_Participation</th>\n",
       "      <td>51.0</td>\n",
       "      <td>0.490588</td>\n",
       "      <td>0.387476</td>\n",
       "      <td>0.02</td>\n",
       "      <td>0.055</td>\n",
       "      <td>0.54</td>\n",
       "      <td>0.820</td>\n",
       "      <td>1.0</td>\n",
       "    </tr>\n",
       "    <tr>\n",
       "      <th>2019_EBRW</th>\n",
       "      <td>51.0</td>\n",
       "      <td>560.803922</td>\n",
       "      <td>46.248035</td>\n",
       "      <td>483.00</td>\n",
       "      <td>527.500</td>\n",
       "      <td>550.00</td>\n",
       "      <td>612.000</td>\n",
       "      <td>636.0</td>\n",
       "    </tr>\n",
       "    <tr>\n",
       "      <th>2019_Math</th>\n",
       "      <td>51.0</td>\n",
       "      <td>552.196078</td>\n",
       "      <td>51.290553</td>\n",
       "      <td>460.00</td>\n",
       "      <td>511.500</td>\n",
       "      <td>546.00</td>\n",
       "      <td>599.000</td>\n",
       "      <td>648.0</td>\n",
       "    </tr>\n",
       "    <tr>\n",
       "      <th>2019_Total</th>\n",
       "      <td>51.0</td>\n",
       "      <td>1113.078431</td>\n",
       "      <td>97.197910</td>\n",
       "      <td>943.00</td>\n",
       "      <td>1038.000</td>\n",
       "      <td>1097.00</td>\n",
       "      <td>1210.000</td>\n",
       "      <td>1284.0</td>\n",
       "    </tr>\n",
       "  </tbody>\n",
       "</table>\n",
       "</div>"
      ],
      "text/plain": [
       "                    count         mean        std     min       25%      50%  \\\n",
       "2017_Participation   51.0     0.398039   0.352766    0.02     0.040     0.38   \n",
       "2017_EBRW            51.0   569.117647  45.666901  482.00   533.500   559.00   \n",
       "2017_Math            51.0   556.882353  47.121395  468.00   523.500   548.00   \n",
       "2017_Total           51.0  1126.098039  92.494812  950.00  1055.500  1107.00   \n",
       "2018_Participation   51.0     0.457451   0.373143    0.02     0.045     0.52   \n",
       "2018_EBRW            51.0   563.686275  47.502627  480.00   534.500   552.00   \n",
       "2018_Math            51.0   556.235294  47.772623  480.00   522.500   544.00   \n",
       "2018_Total           51.0  1120.019608  94.155083  977.00  1057.500  1098.00   \n",
       "2019_Participation   51.0     0.490588   0.387476    0.02     0.055     0.54   \n",
       "2019_EBRW            51.0   560.803922  46.248035  483.00   527.500   550.00   \n",
       "2019_Math            51.0   552.196078  51.290553  460.00   511.500   546.00   \n",
       "2019_Total           51.0  1113.078431  97.197910  943.00  1038.000  1097.00   \n",
       "\n",
       "                         75%     max  \n",
       "2017_Participation     0.660     1.0  \n",
       "2017_EBRW            613.000   644.0  \n",
       "2017_Math            599.000   651.0  \n",
       "2017_Total          1212.000  1295.0  \n",
       "2018_Participation     0.775     1.0  \n",
       "2018_EBRW            610.500   643.0  \n",
       "2018_Math            593.500   655.0  \n",
       "2018_Total          1204.000  1298.0  \n",
       "2019_Participation     0.820     1.0  \n",
       "2019_EBRW            612.000   636.0  \n",
       "2019_Math            599.000   648.0  \n",
       "2019_Total          1210.000  1284.0  "
      ]
     },
     "execution_count": 54,
     "metadata": {},
     "output_type": "execute_result"
    }
   ],
   "source": [
    "sat_data.describe().transpose()"
   ]
  },
  {
   "cell_type": "markdown",
   "metadata": {},
   "source": [
    "### 2. Dictionary Comprehension Standard Deviation \n"
   ]
  },
  {
   "cell_type": "code",
   "execution_count": 55,
   "metadata": {},
   "outputs": [
    {
     "name": "stdout",
     "output_type": "stream",
     "text": [
      "Variance of the sample is:  5.25\n",
      "Standard Deviation of the sample is:   2.29128784747792\n"
     ]
    }
   ],
   "source": [
    "#calculate the variance to use it for the calculation of standard deviations\n",
    "\n",
    "number = [1,2,3,4,5,6,7,8]\n",
    "def variance(number):\n",
    "    \n",
    "    mean = sum(number) / len(number)\n",
    "    deviations = [(x - mean) ** 2 for x in number]\n",
    "    variance = sum(deviations) / len(number)\n",
    "    \n",
    "    return variance\n",
    "\n",
    "def stan_dev(number):\n",
    "    var = variance(number)\n",
    "    std_dev = var**(1/2)\n",
    "    \n",
    "    return std_dev\n",
    "\n",
    "print(f\"Variance of the sample is:  {(variance(number))}\")\n",
    "print(f\"Standard Deviation of the sample is:   {(stan_dev(number))}\")\n"
   ]
  },
  {
   "cell_type": "code",
   "execution_count": 56,
   "metadata": {},
   "outputs": [
    {
     "data": {
      "text/plain": [
       "{'2017_Participation': 0.3492907076664507,\n",
       " '2017_EBRW': 45.21697020437866,\n",
       " '2017_Math': 46.65713364485503,\n",
       " '2017_Total': 91.58351056778743,\n",
       " '2018_Participation': 0.3694661922353942,\n",
       " '2018_EBRW': 47.03460978357609,\n",
       " '2018_Math': 47.30194550378352,\n",
       " '2018_Total': 93.22742384464433,\n",
       " '2019_Participation': 0.3836584048685726,\n",
       " '2019_EBRW': 45.792378682545134,\n",
       " '2019_Math': 50.78521461840036,\n",
       " '2019_Total': 96.24027185617864}"
      ]
     },
     "execution_count": 56,
     "metadata": {},
     "output_type": "execute_result"
    }
   ],
   "source": [
    "#calculating standard deviation using dictionary comprehension '\n",
    "\n",
    "sd = {i: stan_dev(sat_data[i]) for i in sat_data.columns[1:]}\n",
    "sd"
   ]
  },
  {
   "cell_type": "code",
   "execution_count": 57,
   "metadata": {},
   "outputs": [
    {
     "data": {
      "text/html": [
       "<div>\n",
       "<style scoped>\n",
       "    .dataframe tbody tr th:only-of-type {\n",
       "        vertical-align: middle;\n",
       "    }\n",
       "\n",
       "    .dataframe tbody tr th {\n",
       "        vertical-align: top;\n",
       "    }\n",
       "\n",
       "    .dataframe thead th {\n",
       "        text-align: right;\n",
       "    }\n",
       "</style>\n",
       "<table border=\"1\" class=\"dataframe\">\n",
       "  <thead>\n",
       "    <tr style=\"text-align: right;\">\n",
       "      <th></th>\n",
       "      <th>2017_Participation</th>\n",
       "      <th>2017_EBRW</th>\n",
       "      <th>2017_Math</th>\n",
       "      <th>2017_Total</th>\n",
       "      <th>2018_Participation</th>\n",
       "      <th>2018_EBRW</th>\n",
       "      <th>2018_Math</th>\n",
       "      <th>2018_Total</th>\n",
       "      <th>2019_Participation</th>\n",
       "      <th>2019_EBRW</th>\n",
       "      <th>2019_Math</th>\n",
       "      <th>2019_Total</th>\n",
       "    </tr>\n",
       "  </thead>\n",
       "  <tbody>\n",
       "    <tr>\n",
       "      <th>count</th>\n",
       "      <td>51.000000</td>\n",
       "      <td>51.000000</td>\n",
       "      <td>51.000000</td>\n",
       "      <td>51.000000</td>\n",
       "      <td>51.000000</td>\n",
       "      <td>51.000000</td>\n",
       "      <td>51.000000</td>\n",
       "      <td>51.000000</td>\n",
       "      <td>51.000000</td>\n",
       "      <td>51.000000</td>\n",
       "      <td>51.000000</td>\n",
       "      <td>51.000000</td>\n",
       "    </tr>\n",
       "    <tr>\n",
       "      <th>mean</th>\n",
       "      <td>0.398039</td>\n",
       "      <td>569.117647</td>\n",
       "      <td>556.882353</td>\n",
       "      <td>1126.098039</td>\n",
       "      <td>0.457451</td>\n",
       "      <td>563.686275</td>\n",
       "      <td>556.235294</td>\n",
       "      <td>1120.019608</td>\n",
       "      <td>0.490588</td>\n",
       "      <td>560.803922</td>\n",
       "      <td>552.196078</td>\n",
       "      <td>1113.078431</td>\n",
       "    </tr>\n",
       "    <tr>\n",
       "      <th>std</th>\n",
       "      <td>0.352766</td>\n",
       "      <td>45.666901</td>\n",
       "      <td>47.121395</td>\n",
       "      <td>92.494812</td>\n",
       "      <td>0.373143</td>\n",
       "      <td>47.502627</td>\n",
       "      <td>47.772623</td>\n",
       "      <td>94.155083</td>\n",
       "      <td>0.387476</td>\n",
       "      <td>46.248035</td>\n",
       "      <td>51.290553</td>\n",
       "      <td>97.197910</td>\n",
       "    </tr>\n",
       "    <tr>\n",
       "      <th>min</th>\n",
       "      <td>0.020000</td>\n",
       "      <td>482.000000</td>\n",
       "      <td>468.000000</td>\n",
       "      <td>950.000000</td>\n",
       "      <td>0.020000</td>\n",
       "      <td>480.000000</td>\n",
       "      <td>480.000000</td>\n",
       "      <td>977.000000</td>\n",
       "      <td>0.020000</td>\n",
       "      <td>483.000000</td>\n",
       "      <td>460.000000</td>\n",
       "      <td>943.000000</td>\n",
       "    </tr>\n",
       "    <tr>\n",
       "      <th>25%</th>\n",
       "      <td>0.040000</td>\n",
       "      <td>533.500000</td>\n",
       "      <td>523.500000</td>\n",
       "      <td>1055.500000</td>\n",
       "      <td>0.045000</td>\n",
       "      <td>534.500000</td>\n",
       "      <td>522.500000</td>\n",
       "      <td>1057.500000</td>\n",
       "      <td>0.055000</td>\n",
       "      <td>527.500000</td>\n",
       "      <td>511.500000</td>\n",
       "      <td>1038.000000</td>\n",
       "    </tr>\n",
       "    <tr>\n",
       "      <th>50%</th>\n",
       "      <td>0.380000</td>\n",
       "      <td>559.000000</td>\n",
       "      <td>548.000000</td>\n",
       "      <td>1107.000000</td>\n",
       "      <td>0.520000</td>\n",
       "      <td>552.000000</td>\n",
       "      <td>544.000000</td>\n",
       "      <td>1098.000000</td>\n",
       "      <td>0.540000</td>\n",
       "      <td>550.000000</td>\n",
       "      <td>546.000000</td>\n",
       "      <td>1097.000000</td>\n",
       "    </tr>\n",
       "    <tr>\n",
       "      <th>75%</th>\n",
       "      <td>0.660000</td>\n",
       "      <td>613.000000</td>\n",
       "      <td>599.000000</td>\n",
       "      <td>1212.000000</td>\n",
       "      <td>0.775000</td>\n",
       "      <td>610.500000</td>\n",
       "      <td>593.500000</td>\n",
       "      <td>1204.000000</td>\n",
       "      <td>0.820000</td>\n",
       "      <td>612.000000</td>\n",
       "      <td>599.000000</td>\n",
       "      <td>1210.000000</td>\n",
       "    </tr>\n",
       "    <tr>\n",
       "      <th>max</th>\n",
       "      <td>1.000000</td>\n",
       "      <td>644.000000</td>\n",
       "      <td>651.000000</td>\n",
       "      <td>1295.000000</td>\n",
       "      <td>1.000000</td>\n",
       "      <td>643.000000</td>\n",
       "      <td>655.000000</td>\n",
       "      <td>1298.000000</td>\n",
       "      <td>1.000000</td>\n",
       "      <td>636.000000</td>\n",
       "      <td>648.000000</td>\n",
       "      <td>1284.000000</td>\n",
       "    </tr>\n",
       "  </tbody>\n",
       "</table>\n",
       "</div>"
      ],
      "text/plain": [
       "       2017_Participation   2017_EBRW   2017_Math   2017_Total  \\\n",
       "count           51.000000   51.000000   51.000000    51.000000   \n",
       "mean             0.398039  569.117647  556.882353  1126.098039   \n",
       "std              0.352766   45.666901   47.121395    92.494812   \n",
       "min              0.020000  482.000000  468.000000   950.000000   \n",
       "25%              0.040000  533.500000  523.500000  1055.500000   \n",
       "50%              0.380000  559.000000  548.000000  1107.000000   \n",
       "75%              0.660000  613.000000  599.000000  1212.000000   \n",
       "max              1.000000  644.000000  651.000000  1295.000000   \n",
       "\n",
       "       2018_Participation   2018_EBRW   2018_Math   2018_Total  \\\n",
       "count           51.000000   51.000000   51.000000    51.000000   \n",
       "mean             0.457451  563.686275  556.235294  1120.019608   \n",
       "std              0.373143   47.502627   47.772623    94.155083   \n",
       "min              0.020000  480.000000  480.000000   977.000000   \n",
       "25%              0.045000  534.500000  522.500000  1057.500000   \n",
       "50%              0.520000  552.000000  544.000000  1098.000000   \n",
       "75%              0.775000  610.500000  593.500000  1204.000000   \n",
       "max              1.000000  643.000000  655.000000  1298.000000   \n",
       "\n",
       "       2019_Participation   2019_EBRW   2019_Math   2019_Total  \n",
       "count           51.000000   51.000000   51.000000    51.000000  \n",
       "mean             0.490588  560.803922  552.196078  1113.078431  \n",
       "std              0.387476   46.248035   51.290553    97.197910  \n",
       "min              0.020000  483.000000  460.000000   943.000000  \n",
       "25%              0.055000  527.500000  511.500000  1038.000000  \n",
       "50%              0.540000  550.000000  546.000000  1097.000000  \n",
       "75%              0.820000  612.000000  599.000000  1210.000000  \n",
       "max              1.000000  636.000000  648.000000  1284.000000  "
      ]
     },
     "execution_count": 57,
     "metadata": {},
     "output_type": "execute_result"
    }
   ],
   "source": [
    "sat_data.describe()"
   ]
  },
  {
   "cell_type": "markdown",
   "metadata": {},
   "source": [
    "### 3. Exploring Trends\n",
    "\n",
    "Investigate trends in the data.\n",
    "\n",
    "Using sorting and/or masking (along with the .head() method to avoid printing our entire dataframe), consider questions relevant to your problem statement. Some examples are provided below (but feel free to change these questions for your specific problem):\n",
    "\n",
    "Which states have the highest and lowest participation rates for the 2017, 2018, or 2019 SAT and ACT?\n",
    "\n",
    "Which states have the highest and lowest mean total/composite scores for the 2017, 2018, or 2019 SAT and ACT?\n",
    "\n",
    "Do any states with 100% participation on a given test have a rate change year-to-year?\n",
    "\n",
    "Do any states show have >50% participation on both tests each year?\n",
    "\n",
    "Which colleges have the highest median SAT and ACT scores for admittance?\n",
    "\n",
    "Which California school districts have the highest and lowest mean test scores?\n"
   ]
  },
  {
   "cell_type": "markdown",
   "metadata": {},
   "source": [
    "### 3.1  Highest Participation Rates in 2017"
   ]
  },
  {
   "cell_type": "code",
   "execution_count": 58,
   "metadata": {},
   "outputs": [
    {
     "data": {
      "text/html": [
       "<div>\n",
       "<style scoped>\n",
       "    .dataframe tbody tr th:only-of-type {\n",
       "        vertical-align: middle;\n",
       "    }\n",
       "\n",
       "    .dataframe tbody tr th {\n",
       "        vertical-align: top;\n",
       "    }\n",
       "\n",
       "    .dataframe thead th {\n",
       "        text-align: right;\n",
       "    }\n",
       "</style>\n",
       "<table border=\"1\" class=\"dataframe\">\n",
       "  <thead>\n",
       "    <tr style=\"text-align: right;\">\n",
       "      <th></th>\n",
       "      <th>State</th>\n",
       "      <th>2017_Participation</th>\n",
       "      <th>2018_Participation</th>\n",
       "      <th>2019_Participation</th>\n",
       "    </tr>\n",
       "  </thead>\n",
       "  <tbody>\n",
       "    <tr>\n",
       "      <th>9</th>\n",
       "      <td>District of Columbia</td>\n",
       "      <td>1.00</td>\n",
       "      <td>0.92</td>\n",
       "      <td>0.94</td>\n",
       "    </tr>\n",
       "    <tr>\n",
       "      <th>23</th>\n",
       "      <td>Michigan</td>\n",
       "      <td>1.00</td>\n",
       "      <td>1.00</td>\n",
       "      <td>1.00</td>\n",
       "    </tr>\n",
       "    <tr>\n",
       "      <th>7</th>\n",
       "      <td>Connecticut</td>\n",
       "      <td>1.00</td>\n",
       "      <td>1.00</td>\n",
       "      <td>1.00</td>\n",
       "    </tr>\n",
       "    <tr>\n",
       "      <th>8</th>\n",
       "      <td>Delaware</td>\n",
       "      <td>1.00</td>\n",
       "      <td>1.00</td>\n",
       "      <td>1.00</td>\n",
       "    </tr>\n",
       "    <tr>\n",
       "      <th>30</th>\n",
       "      <td>New Hampshire</td>\n",
       "      <td>0.96</td>\n",
       "      <td>0.96</td>\n",
       "      <td>0.95</td>\n",
       "    </tr>\n",
       "  </tbody>\n",
       "</table>\n",
       "</div>"
      ],
      "text/plain": [
       "                   State  2017_Participation  2018_Participation  \\\n",
       "9   District of Columbia                1.00                0.92   \n",
       "23              Michigan                1.00                1.00   \n",
       "7            Connecticut                1.00                1.00   \n",
       "8               Delaware                1.00                1.00   \n",
       "30         New Hampshire                0.96                0.96   \n",
       "\n",
       "    2019_Participation  \n",
       "9                 0.94  \n",
       "23                1.00  \n",
       "7                 1.00  \n",
       "8                 1.00  \n",
       "30                0.95  "
      ]
     },
     "execution_count": 58,
     "metadata": {},
     "output_type": "execute_result"
    }
   ],
   "source": [
    "sat_data.sort_values('2017_Participation', ascending = False)[['State','2017_Participation','2018_Participation', '2019_Participation']].head()"
   ]
  },
  {
   "cell_type": "markdown",
   "metadata": {},
   "source": [
    "The states with the highest participation rates for 2017 are District of Columbia, Michigan, Connecticut and Delaware. District of Columbia faced a dropped in participation over 2018 and 2019. Michigan, Connecticut and Delaware are able to maintain full participation rates from 2017 - 2019. \n"
   ]
  },
  {
   "cell_type": "markdown",
   "metadata": {},
   "source": [
    "### 3.2  Highest Participation Rates in 2018"
   ]
  },
  {
   "cell_type": "code",
   "execution_count": 59,
   "metadata": {},
   "outputs": [
    {
     "data": {
      "text/html": [
       "<div>\n",
       "<style scoped>\n",
       "    .dataframe tbody tr th:only-of-type {\n",
       "        vertical-align: middle;\n",
       "    }\n",
       "\n",
       "    .dataframe tbody tr th {\n",
       "        vertical-align: top;\n",
       "    }\n",
       "\n",
       "    .dataframe thead th {\n",
       "        text-align: right;\n",
       "    }\n",
       "</style>\n",
       "<table border=\"1\" class=\"dataframe\">\n",
       "  <thead>\n",
       "    <tr style=\"text-align: right;\">\n",
       "      <th></th>\n",
       "      <th>State</th>\n",
       "      <th>2018_Participation</th>\n",
       "      <th>2017_Participation</th>\n",
       "      <th>2019_Participation</th>\n",
       "    </tr>\n",
       "  </thead>\n",
       "  <tbody>\n",
       "    <tr>\n",
       "      <th>6</th>\n",
       "      <td>Colorado</td>\n",
       "      <td>1.00</td>\n",
       "      <td>0.11</td>\n",
       "      <td>1.00</td>\n",
       "    </tr>\n",
       "    <tr>\n",
       "      <th>7</th>\n",
       "      <td>Connecticut</td>\n",
       "      <td>1.00</td>\n",
       "      <td>1.00</td>\n",
       "      <td>1.00</td>\n",
       "    </tr>\n",
       "    <tr>\n",
       "      <th>8</th>\n",
       "      <td>Delaware</td>\n",
       "      <td>1.00</td>\n",
       "      <td>1.00</td>\n",
       "      <td>1.00</td>\n",
       "    </tr>\n",
       "    <tr>\n",
       "      <th>23</th>\n",
       "      <td>Michigan</td>\n",
       "      <td>1.00</td>\n",
       "      <td>1.00</td>\n",
       "      <td>1.00</td>\n",
       "    </tr>\n",
       "    <tr>\n",
       "      <th>13</th>\n",
       "      <td>Idaho</td>\n",
       "      <td>1.00</td>\n",
       "      <td>0.93</td>\n",
       "      <td>1.00</td>\n",
       "    </tr>\n",
       "    <tr>\n",
       "      <th>20</th>\n",
       "      <td>Maine</td>\n",
       "      <td>0.99</td>\n",
       "      <td>0.95</td>\n",
       "      <td>0.99</td>\n",
       "    </tr>\n",
       "    <tr>\n",
       "      <th>14</th>\n",
       "      <td>Illinois</td>\n",
       "      <td>0.99</td>\n",
       "      <td>0.09</td>\n",
       "      <td>1.00</td>\n",
       "    </tr>\n",
       "    <tr>\n",
       "      <th>40</th>\n",
       "      <td>Rhode Island</td>\n",
       "      <td>0.97</td>\n",
       "      <td>0.71</td>\n",
       "      <td>1.00</td>\n",
       "    </tr>\n",
       "    <tr>\n",
       "      <th>30</th>\n",
       "      <td>New Hampshire</td>\n",
       "      <td>0.96</td>\n",
       "      <td>0.96</td>\n",
       "      <td>0.95</td>\n",
       "    </tr>\n",
       "    <tr>\n",
       "      <th>9</th>\n",
       "      <td>District of Columbia</td>\n",
       "      <td>0.92</td>\n",
       "      <td>1.00</td>\n",
       "      <td>0.94</td>\n",
       "    </tr>\n",
       "  </tbody>\n",
       "</table>\n",
       "</div>"
      ],
      "text/plain": [
       "                   State  2018_Participation  2017_Participation  \\\n",
       "6               Colorado                1.00                0.11   \n",
       "7            Connecticut                1.00                1.00   \n",
       "8               Delaware                1.00                1.00   \n",
       "23              Michigan                1.00                1.00   \n",
       "13                 Idaho                1.00                0.93   \n",
       "20                 Maine                0.99                0.95   \n",
       "14              Illinois                0.99                0.09   \n",
       "40          Rhode Island                0.97                0.71   \n",
       "30         New Hampshire                0.96                0.96   \n",
       "9   District of Columbia                0.92                1.00   \n",
       "\n",
       "    2019_Participation  \n",
       "6                 1.00  \n",
       "7                 1.00  \n",
       "8                 1.00  \n",
       "23                1.00  \n",
       "13                1.00  \n",
       "20                0.99  \n",
       "14                1.00  \n",
       "40                1.00  \n",
       "30                0.95  \n",
       "9                 0.94  "
      ]
     },
     "execution_count": 59,
     "metadata": {},
     "output_type": "execute_result"
    }
   ],
   "source": [
    "sat_data.sort_values('2018_Participation', ascending = False)[['State','2018_Participation','2017_Participation', '2019_Participation']].head(10)"
   ]
  },
  {
   "cell_type": "markdown",
   "metadata": {},
   "source": [
    "The states with the highest partipation rates in 2018 are Colorado, Connecticut, Delaware, Michigan and Idaho. Colorado has a huge rise in participation numbers from 2017 to 2018 from 11% to 100%and was able to maintain the participation rates for 2019. Idaho saw a slight increase in their participation numbers from 93% to 100% from 2017 to 2018 and was able to maintain their participation rates in 2019 as well. "
   ]
  },
  {
   "cell_type": "markdown",
   "metadata": {},
   "source": [
    "### 3.3  Highest Participation Rates in 2019"
   ]
  },
  {
   "cell_type": "code",
   "execution_count": 60,
   "metadata": {},
   "outputs": [
    {
     "data": {
      "text/html": [
       "<div>\n",
       "<style scoped>\n",
       "    .dataframe tbody tr th:only-of-type {\n",
       "        vertical-align: middle;\n",
       "    }\n",
       "\n",
       "    .dataframe tbody tr th {\n",
       "        vertical-align: top;\n",
       "    }\n",
       "\n",
       "    .dataframe thead th {\n",
       "        text-align: right;\n",
       "    }\n",
       "</style>\n",
       "<table border=\"1\" class=\"dataframe\">\n",
       "  <thead>\n",
       "    <tr style=\"text-align: right;\">\n",
       "      <th></th>\n",
       "      <th>State</th>\n",
       "      <th>2019_Participation</th>\n",
       "      <th>2017_Participation</th>\n",
       "      <th>2018_Participation</th>\n",
       "    </tr>\n",
       "  </thead>\n",
       "  <tbody>\n",
       "    <tr>\n",
       "      <th>40</th>\n",
       "      <td>Rhode Island</td>\n",
       "      <td>1.00</td>\n",
       "      <td>0.71</td>\n",
       "      <td>0.97</td>\n",
       "    </tr>\n",
       "    <tr>\n",
       "      <th>14</th>\n",
       "      <td>Illinois</td>\n",
       "      <td>1.00</td>\n",
       "      <td>0.09</td>\n",
       "      <td>0.99</td>\n",
       "    </tr>\n",
       "    <tr>\n",
       "      <th>23</th>\n",
       "      <td>Michigan</td>\n",
       "      <td>1.00</td>\n",
       "      <td>1.00</td>\n",
       "      <td>1.00</td>\n",
       "    </tr>\n",
       "    <tr>\n",
       "      <th>6</th>\n",
       "      <td>Colorado</td>\n",
       "      <td>1.00</td>\n",
       "      <td>0.11</td>\n",
       "      <td>1.00</td>\n",
       "    </tr>\n",
       "    <tr>\n",
       "      <th>7</th>\n",
       "      <td>Connecticut</td>\n",
       "      <td>1.00</td>\n",
       "      <td>1.00</td>\n",
       "      <td>1.00</td>\n",
       "    </tr>\n",
       "    <tr>\n",
       "      <th>8</th>\n",
       "      <td>Delaware</td>\n",
       "      <td>1.00</td>\n",
       "      <td>1.00</td>\n",
       "      <td>1.00</td>\n",
       "    </tr>\n",
       "    <tr>\n",
       "      <th>10</th>\n",
       "      <td>Florida</td>\n",
       "      <td>1.00</td>\n",
       "      <td>0.83</td>\n",
       "      <td>0.56</td>\n",
       "    </tr>\n",
       "    <tr>\n",
       "      <th>13</th>\n",
       "      <td>Idaho</td>\n",
       "      <td>1.00</td>\n",
       "      <td>0.93</td>\n",
       "      <td>1.00</td>\n",
       "    </tr>\n",
       "    <tr>\n",
       "      <th>20</th>\n",
       "      <td>Maine</td>\n",
       "      <td>0.99</td>\n",
       "      <td>0.95</td>\n",
       "      <td>0.99</td>\n",
       "    </tr>\n",
       "    <tr>\n",
       "      <th>49</th>\n",
       "      <td>West Virginia</td>\n",
       "      <td>0.99</td>\n",
       "      <td>0.14</td>\n",
       "      <td>0.28</td>\n",
       "    </tr>\n",
       "  </tbody>\n",
       "</table>\n",
       "</div>"
      ],
      "text/plain": [
       "            State  2019_Participation  2017_Participation  2018_Participation\n",
       "40   Rhode Island                1.00                0.71                0.97\n",
       "14       Illinois                1.00                0.09                0.99\n",
       "23       Michigan                1.00                1.00                1.00\n",
       "6        Colorado                1.00                0.11                1.00\n",
       "7     Connecticut                1.00                1.00                1.00\n",
       "8        Delaware                1.00                1.00                1.00\n",
       "10        Florida                1.00                0.83                0.56\n",
       "13          Idaho                1.00                0.93                1.00\n",
       "20          Maine                0.99                0.95                0.99\n",
       "49  West Virginia                0.99                0.14                0.28"
      ]
     },
     "execution_count": 60,
     "metadata": {},
     "output_type": "execute_result"
    }
   ],
   "source": [
    "sat_data.sort_values('2019_Participation', ascending = False)[['State','2019_Participation','2017_Participation', '2018_Participation']].head(10)"
   ]
  },
  {
   "cell_type": "markdown",
   "metadata": {},
   "source": [
    "The states with the highest participation rates in 2019 are Rhode Island, Illinois, Michigan, Colorado, Connecticut, Delaware, Florida and Idaho. It is noted that the following states have had the highest participation rates consistently from 2017 - 2019: Michigan, Connecticut, Delaware.  Rhode Island saw am steady increase in participation rates from 2017 to 2019 from 71% (2017) to 97% (2018) and 100% (2019). Illinois saw a huge spike in their participation rates from 9% in 2017 to 99% in 2018 and 100% in 2019.Florida has a slight drop in participation rates for 2018 from 83% in 2017 to 56% in 2018 but they were able to recover their participation rates with 100% in 2019. "
   ]
  },
  {
   "cell_type": "markdown",
   "metadata": {},
   "source": [
    "### 3.4  Lowest Participation Rates in 2017"
   ]
  },
  {
   "cell_type": "code",
   "execution_count": 61,
   "metadata": {},
   "outputs": [
    {
     "data": {
      "text/html": [
       "<div>\n",
       "<style scoped>\n",
       "    .dataframe tbody tr th:only-of-type {\n",
       "        vertical-align: middle;\n",
       "    }\n",
       "\n",
       "    .dataframe tbody tr th {\n",
       "        vertical-align: top;\n",
       "    }\n",
       "\n",
       "    .dataframe thead th {\n",
       "        text-align: right;\n",
       "    }\n",
       "</style>\n",
       "<table border=\"1\" class=\"dataframe\">\n",
       "  <thead>\n",
       "    <tr style=\"text-align: right;\">\n",
       "      <th></th>\n",
       "      <th>State</th>\n",
       "      <th>2017_Participation</th>\n",
       "      <th>2018_Participation</th>\n",
       "      <th>2019_Participation</th>\n",
       "    </tr>\n",
       "  </thead>\n",
       "  <tbody>\n",
       "    <tr>\n",
       "      <th>35</th>\n",
       "      <td>North Dakota</td>\n",
       "      <td>0.02</td>\n",
       "      <td>0.02</td>\n",
       "      <td>0.02</td>\n",
       "    </tr>\n",
       "    <tr>\n",
       "      <th>25</th>\n",
       "      <td>Mississippi</td>\n",
       "      <td>0.02</td>\n",
       "      <td>0.03</td>\n",
       "      <td>0.03</td>\n",
       "    </tr>\n",
       "    <tr>\n",
       "      <th>16</th>\n",
       "      <td>Iowa</td>\n",
       "      <td>0.02</td>\n",
       "      <td>0.03</td>\n",
       "      <td>0.03</td>\n",
       "    </tr>\n",
       "    <tr>\n",
       "      <th>26</th>\n",
       "      <td>Missouri</td>\n",
       "      <td>0.03</td>\n",
       "      <td>0.04</td>\n",
       "      <td>0.04</td>\n",
       "    </tr>\n",
       "    <tr>\n",
       "      <th>45</th>\n",
       "      <td>Utah</td>\n",
       "      <td>0.03</td>\n",
       "      <td>0.04</td>\n",
       "      <td>0.04</td>\n",
       "    </tr>\n",
       "  </tbody>\n",
       "</table>\n",
       "</div>"
      ],
      "text/plain": [
       "           State  2017_Participation  2018_Participation  2019_Participation\n",
       "35  North Dakota                0.02                0.02                0.02\n",
       "25   Mississippi                0.02                0.03                0.03\n",
       "16          Iowa                0.02                0.03                0.03\n",
       "26      Missouri                0.03                0.04                0.04\n",
       "45          Utah                0.03                0.04                0.04"
      ]
     },
     "execution_count": 61,
     "metadata": {},
     "output_type": "execute_result"
    }
   ],
   "source": [
    "sat_data.sort_values('2017_Participation', ascending = True)[['State','2017_Participation','2018_Participation', '2019_Participation']].head()"
   ]
  },
  {
   "cell_type": "markdown",
   "metadata": {},
   "source": [
    "The states with the lowest participation rates in 2017 are North Dakota, Mississippi and Iowa. "
   ]
  },
  {
   "cell_type": "markdown",
   "metadata": {},
   "source": [
    "### 3.5  Lowest Participation Rates in 2018"
   ]
  },
  {
   "cell_type": "code",
   "execution_count": 62,
   "metadata": {},
   "outputs": [
    {
     "data": {
      "text/html": [
       "<div>\n",
       "<style scoped>\n",
       "    .dataframe tbody tr th:only-of-type {\n",
       "        vertical-align: middle;\n",
       "    }\n",
       "\n",
       "    .dataframe tbody tr th {\n",
       "        vertical-align: top;\n",
       "    }\n",
       "\n",
       "    .dataframe thead th {\n",
       "        text-align: right;\n",
       "    }\n",
       "</style>\n",
       "<table border=\"1\" class=\"dataframe\">\n",
       "  <thead>\n",
       "    <tr style=\"text-align: right;\">\n",
       "      <th></th>\n",
       "      <th>State</th>\n",
       "      <th>2018_Participation</th>\n",
       "      <th>2017_Participation</th>\n",
       "      <th>2019_Participation</th>\n",
       "    </tr>\n",
       "  </thead>\n",
       "  <tbody>\n",
       "    <tr>\n",
       "      <th>35</th>\n",
       "      <td>North Dakota</td>\n",
       "      <td>0.02</td>\n",
       "      <td>0.02</td>\n",
       "      <td>0.02</td>\n",
       "    </tr>\n",
       "    <tr>\n",
       "      <th>51</th>\n",
       "      <td>Wyoming</td>\n",
       "      <td>0.03</td>\n",
       "      <td>0.03</td>\n",
       "      <td>0.03</td>\n",
       "    </tr>\n",
       "    <tr>\n",
       "      <th>42</th>\n",
       "      <td>South Dakota</td>\n",
       "      <td>0.03</td>\n",
       "      <td>0.03</td>\n",
       "      <td>0.03</td>\n",
       "    </tr>\n",
       "    <tr>\n",
       "      <th>28</th>\n",
       "      <td>Nebraska</td>\n",
       "      <td>0.03</td>\n",
       "      <td>0.03</td>\n",
       "      <td>0.03</td>\n",
       "    </tr>\n",
       "    <tr>\n",
       "      <th>50</th>\n",
       "      <td>Wisconsin</td>\n",
       "      <td>0.03</td>\n",
       "      <td>0.03</td>\n",
       "      <td>0.03</td>\n",
       "    </tr>\n",
       "    <tr>\n",
       "      <th>25</th>\n",
       "      <td>Mississippi</td>\n",
       "      <td>0.03</td>\n",
       "      <td>0.02</td>\n",
       "      <td>0.03</td>\n",
       "    </tr>\n",
       "    <tr>\n",
       "      <th>16</th>\n",
       "      <td>Iowa</td>\n",
       "      <td>0.03</td>\n",
       "      <td>0.02</td>\n",
       "      <td>0.03</td>\n",
       "    </tr>\n",
       "    <tr>\n",
       "      <th>45</th>\n",
       "      <td>Utah</td>\n",
       "      <td>0.04</td>\n",
       "      <td>0.03</td>\n",
       "      <td>0.04</td>\n",
       "    </tr>\n",
       "  </tbody>\n",
       "</table>\n",
       "</div>"
      ],
      "text/plain": [
       "           State  2018_Participation  2017_Participation  2019_Participation\n",
       "35  North Dakota                0.02                0.02                0.02\n",
       "51       Wyoming                0.03                0.03                0.03\n",
       "42  South Dakota                0.03                0.03                0.03\n",
       "28      Nebraska                0.03                0.03                0.03\n",
       "50     Wisconsin                0.03                0.03                0.03\n",
       "25   Mississippi                0.03                0.02                0.03\n",
       "16          Iowa                0.03                0.02                0.03\n",
       "45          Utah                0.04                0.03                0.04"
      ]
     },
     "execution_count": 62,
     "metadata": {},
     "output_type": "execute_result"
    }
   ],
   "source": [
    "sat_data.sort_values('2018_Participation', ascending = True)[['State','2018_Participation','2017_Participation', '2019_Participation']].head(8)"
   ]
  },
  {
   "cell_type": "markdown",
   "metadata": {},
   "source": [
    "The states with the lowest participation rates in 2018 are North Dakota, Wyoming, South Dakota, Nebraska, Wisconsin, Mississippi and Iowa. There is little change seen in the participation rates for these states from 2017 to 2018 except for Mississippi and Wisconsin which saw a 0.01 increase in their participation rates. "
   ]
  },
  {
   "cell_type": "markdown",
   "metadata": {},
   "source": [
    "### 3.6  Lowest Participation Rates in 2019"
   ]
  },
  {
   "cell_type": "code",
   "execution_count": 63,
   "metadata": {},
   "outputs": [
    {
     "data": {
      "text/html": [
       "<div>\n",
       "<style scoped>\n",
       "    .dataframe tbody tr th:only-of-type {\n",
       "        vertical-align: middle;\n",
       "    }\n",
       "\n",
       "    .dataframe tbody tr th {\n",
       "        vertical-align: top;\n",
       "    }\n",
       "\n",
       "    .dataframe thead th {\n",
       "        text-align: right;\n",
       "    }\n",
       "</style>\n",
       "<table border=\"1\" class=\"dataframe\">\n",
       "  <thead>\n",
       "    <tr style=\"text-align: right;\">\n",
       "      <th></th>\n",
       "      <th>State</th>\n",
       "      <th>2019_Participation</th>\n",
       "      <th>2017_Participation</th>\n",
       "      <th>2018_Participation</th>\n",
       "    </tr>\n",
       "  </thead>\n",
       "  <tbody>\n",
       "    <tr>\n",
       "      <th>35</th>\n",
       "      <td>North Dakota</td>\n",
       "      <td>0.02</td>\n",
       "      <td>0.02</td>\n",
       "      <td>0.02</td>\n",
       "    </tr>\n",
       "    <tr>\n",
       "      <th>51</th>\n",
       "      <td>Wyoming</td>\n",
       "      <td>0.03</td>\n",
       "      <td>0.03</td>\n",
       "      <td>0.03</td>\n",
       "    </tr>\n",
       "    <tr>\n",
       "      <th>42</th>\n",
       "      <td>South Dakota</td>\n",
       "      <td>0.03</td>\n",
       "      <td>0.03</td>\n",
       "      <td>0.03</td>\n",
       "    </tr>\n",
       "    <tr>\n",
       "      <th>28</th>\n",
       "      <td>Nebraska</td>\n",
       "      <td>0.03</td>\n",
       "      <td>0.03</td>\n",
       "      <td>0.03</td>\n",
       "    </tr>\n",
       "    <tr>\n",
       "      <th>50</th>\n",
       "      <td>Wisconsin</td>\n",
       "      <td>0.03</td>\n",
       "      <td>0.03</td>\n",
       "      <td>0.03</td>\n",
       "    </tr>\n",
       "    <tr>\n",
       "      <th>25</th>\n",
       "      <td>Mississippi</td>\n",
       "      <td>0.03</td>\n",
       "      <td>0.02</td>\n",
       "      <td>0.03</td>\n",
       "    </tr>\n",
       "    <tr>\n",
       "      <th>16</th>\n",
       "      <td>Iowa</td>\n",
       "      <td>0.03</td>\n",
       "      <td>0.02</td>\n",
       "      <td>0.03</td>\n",
       "    </tr>\n",
       "    <tr>\n",
       "      <th>45</th>\n",
       "      <td>Utah</td>\n",
       "      <td>0.04</td>\n",
       "      <td>0.03</td>\n",
       "      <td>0.04</td>\n",
       "    </tr>\n",
       "  </tbody>\n",
       "</table>\n",
       "</div>"
      ],
      "text/plain": [
       "           State  2019_Participation  2017_Participation  2018_Participation\n",
       "35  North Dakota                0.02                0.02                0.02\n",
       "51       Wyoming                0.03                0.03                0.03\n",
       "42  South Dakota                0.03                0.03                0.03\n",
       "28      Nebraska                0.03                0.03                0.03\n",
       "50     Wisconsin                0.03                0.03                0.03\n",
       "25   Mississippi                0.03                0.02                0.03\n",
       "16          Iowa                0.03                0.02                0.03\n",
       "45          Utah                0.04                0.03                0.04"
      ]
     },
     "execution_count": 63,
     "metadata": {},
     "output_type": "execute_result"
    }
   ],
   "source": [
    "sat_data.sort_values('2019_Participation', ascending = True)[['State','2019_Participation','2017_Participation', '2018_Participation']].head(8)"
   ]
  },
  {
   "cell_type": "markdown",
   "metadata": {},
   "source": [
    "The states with the lowest participation rates in 2019 are North Dakota, Wyoming, South Dakota, Nebraska, Wisonsin, Mississippi and Iowa. There is little change seen in the participation rates for these states from 2018 to 2019. "
   ]
  },
  {
   "cell_type": "markdown",
   "metadata": {},
   "source": [
    "### 3.7  States with highest SAT scores in 2017"
   ]
  },
  {
   "cell_type": "code",
   "execution_count": 64,
   "metadata": {},
   "outputs": [
    {
     "data": {
      "text/html": [
       "<div>\n",
       "<style scoped>\n",
       "    .dataframe tbody tr th:only-of-type {\n",
       "        vertical-align: middle;\n",
       "    }\n",
       "\n",
       "    .dataframe tbody tr th {\n",
       "        vertical-align: top;\n",
       "    }\n",
       "\n",
       "    .dataframe thead th {\n",
       "        text-align: right;\n",
       "    }\n",
       "</style>\n",
       "<table border=\"1\" class=\"dataframe\">\n",
       "  <thead>\n",
       "    <tr style=\"text-align: right;\">\n",
       "      <th></th>\n",
       "      <th>State</th>\n",
       "      <th>2017_Total</th>\n",
       "      <th>2017_Participation</th>\n",
       "    </tr>\n",
       "  </thead>\n",
       "  <tbody>\n",
       "    <tr>\n",
       "      <th>24</th>\n",
       "      <td>Minnesota</td>\n",
       "      <td>1295</td>\n",
       "      <td>0.03</td>\n",
       "    </tr>\n",
       "    <tr>\n",
       "      <th>50</th>\n",
       "      <td>Wisconsin</td>\n",
       "      <td>1291</td>\n",
       "      <td>0.03</td>\n",
       "    </tr>\n",
       "    <tr>\n",
       "      <th>16</th>\n",
       "      <td>Iowa</td>\n",
       "      <td>1275</td>\n",
       "      <td>0.02</td>\n",
       "    </tr>\n",
       "    <tr>\n",
       "      <th>26</th>\n",
       "      <td>Missouri</td>\n",
       "      <td>1271</td>\n",
       "      <td>0.03</td>\n",
       "    </tr>\n",
       "    <tr>\n",
       "      <th>17</th>\n",
       "      <td>Kansas</td>\n",
       "      <td>1260</td>\n",
       "      <td>0.04</td>\n",
       "    </tr>\n",
       "  </tbody>\n",
       "</table>\n",
       "</div>"
      ],
      "text/plain": [
       "        State  2017_Total  2017_Participation\n",
       "24  Minnesota        1295                0.03\n",
       "50  Wisconsin        1291                0.03\n",
       "16       Iowa        1275                0.02\n",
       "26   Missouri        1271                0.03\n",
       "17     Kansas        1260                0.04"
      ]
     },
     "execution_count": 64,
     "metadata": {},
     "output_type": "execute_result"
    }
   ],
   "source": [
    "sat_data.sort_values('2017_Total', ascending = False)[['State','2017_Total', '2017_Participation']].head()"
   ]
  },
  {
   "cell_type": "markdown",
   "metadata": {},
   "source": [
    "The top 3 states with the highest SAT scores in 2017 are Minnesota, Wisconsin and Iowa. It is noted that the states that has the highest SAT scores also saw low participation rates of less than 4%. "
   ]
  },
  {
   "cell_type": "markdown",
   "metadata": {},
   "source": [
    "### 3.7  States with highest SAT scores in 2018"
   ]
  },
  {
   "cell_type": "code",
   "execution_count": 65,
   "metadata": {},
   "outputs": [
    {
     "data": {
      "text/html": [
       "<div>\n",
       "<style scoped>\n",
       "    .dataframe tbody tr th:only-of-type {\n",
       "        vertical-align: middle;\n",
       "    }\n",
       "\n",
       "    .dataframe tbody tr th {\n",
       "        vertical-align: top;\n",
       "    }\n",
       "\n",
       "    .dataframe thead th {\n",
       "        text-align: right;\n",
       "    }\n",
       "</style>\n",
       "<table border=\"1\" class=\"dataframe\">\n",
       "  <thead>\n",
       "    <tr style=\"text-align: right;\">\n",
       "      <th></th>\n",
       "      <th>State</th>\n",
       "      <th>2017_Total</th>\n",
       "      <th>2017_Participation</th>\n",
       "      <th>2018_Total</th>\n",
       "      <th>2018_Participation</th>\n",
       "    </tr>\n",
       "  </thead>\n",
       "  <tbody>\n",
       "    <tr>\n",
       "      <th>24</th>\n",
       "      <td>Minnesota</td>\n",
       "      <td>1295</td>\n",
       "      <td>0.03</td>\n",
       "      <td>1298</td>\n",
       "      <td>0.04</td>\n",
       "    </tr>\n",
       "    <tr>\n",
       "      <th>50</th>\n",
       "      <td>Wisconsin</td>\n",
       "      <td>1291</td>\n",
       "      <td>0.03</td>\n",
       "      <td>1294</td>\n",
       "      <td>0.03</td>\n",
       "    </tr>\n",
       "    <tr>\n",
       "      <th>35</th>\n",
       "      <td>North Dakota</td>\n",
       "      <td>1256</td>\n",
       "      <td>0.02</td>\n",
       "      <td>1283</td>\n",
       "      <td>0.02</td>\n",
       "    </tr>\n",
       "    <tr>\n",
       "      <th>16</th>\n",
       "      <td>Iowa</td>\n",
       "      <td>1275</td>\n",
       "      <td>0.02</td>\n",
       "      <td>1265</td>\n",
       "      <td>0.03</td>\n",
       "    </tr>\n",
       "    <tr>\n",
       "      <th>17</th>\n",
       "      <td>Kansas</td>\n",
       "      <td>1260</td>\n",
       "      <td>0.04</td>\n",
       "      <td>1265</td>\n",
       "      <td>0.04</td>\n",
       "    </tr>\n",
       "  </tbody>\n",
       "</table>\n",
       "</div>"
      ],
      "text/plain": [
       "           State  2017_Total  2017_Participation  2018_Total  \\\n",
       "24     Minnesota        1295                0.03        1298   \n",
       "50     Wisconsin        1291                0.03        1294   \n",
       "35  North Dakota        1256                0.02        1283   \n",
       "16          Iowa        1275                0.02        1265   \n",
       "17        Kansas        1260                0.04        1265   \n",
       "\n",
       "    2018_Participation  \n",
       "24                0.04  \n",
       "50                0.03  \n",
       "35                0.02  \n",
       "16                0.03  \n",
       "17                0.04  "
      ]
     },
     "execution_count": 65,
     "metadata": {},
     "output_type": "execute_result"
    }
   ],
   "source": [
    "sat_data.sort_values('2018_Total', ascending = False)[['State', '2017_Total', '2017_Participation', '2018_Total', '2018_Participation']].head()"
   ]
  },
  {
   "cell_type": "markdown",
   "metadata": {},
   "source": [
    "The top 3 states with the highest SAT scores in 2018 are Minnesota, Wisconsin and North Dakota. Minnesota [1] and Wisconsin [2] were able to retain their spots same as 2017. It is noted that the states that has the highest SAT scores also saw low participation rates of less than 5%.  "
   ]
  },
  {
   "cell_type": "markdown",
   "metadata": {},
   "source": [
    "### 3.8  States with highest SAT scores in 2019"
   ]
  },
  {
   "cell_type": "code",
   "execution_count": 66,
   "metadata": {},
   "outputs": [
    {
     "data": {
      "text/html": [
       "<div>\n",
       "<style scoped>\n",
       "    .dataframe tbody tr th:only-of-type {\n",
       "        vertical-align: middle;\n",
       "    }\n",
       "\n",
       "    .dataframe tbody tr th {\n",
       "        vertical-align: top;\n",
       "    }\n",
       "\n",
       "    .dataframe thead th {\n",
       "        text-align: right;\n",
       "    }\n",
       "</style>\n",
       "<table border=\"1\" class=\"dataframe\">\n",
       "  <thead>\n",
       "    <tr style=\"text-align: right;\">\n",
       "      <th></th>\n",
       "      <th>State</th>\n",
       "      <th>2017_Total</th>\n",
       "      <th>2017_Participation</th>\n",
       "      <th>2018_Total</th>\n",
       "      <th>2018_Participation</th>\n",
       "      <th>2019_Total</th>\n",
       "      <th>2019_Participation</th>\n",
       "    </tr>\n",
       "  </thead>\n",
       "  <tbody>\n",
       "    <tr>\n",
       "      <th>24</th>\n",
       "      <td>Minnesota</td>\n",
       "      <td>1295</td>\n",
       "      <td>0.03</td>\n",
       "      <td>1298</td>\n",
       "      <td>0.04</td>\n",
       "      <td>1284</td>\n",
       "      <td>0.04</td>\n",
       "    </tr>\n",
       "    <tr>\n",
       "      <th>50</th>\n",
       "      <td>Wisconsin</td>\n",
       "      <td>1291</td>\n",
       "      <td>0.03</td>\n",
       "      <td>1294</td>\n",
       "      <td>0.03</td>\n",
       "      <td>1283</td>\n",
       "      <td>0.03</td>\n",
       "    </tr>\n",
       "    <tr>\n",
       "      <th>42</th>\n",
       "      <td>South Dakota</td>\n",
       "      <td>1216</td>\n",
       "      <td>0.03</td>\n",
       "      <td>1240</td>\n",
       "      <td>0.03</td>\n",
       "      <td>1268</td>\n",
       "      <td>0.03</td>\n",
       "    </tr>\n",
       "    <tr>\n",
       "      <th>35</th>\n",
       "      <td>North Dakota</td>\n",
       "      <td>1256</td>\n",
       "      <td>0.02</td>\n",
       "      <td>1283</td>\n",
       "      <td>0.02</td>\n",
       "      <td>1263</td>\n",
       "      <td>0.02</td>\n",
       "    </tr>\n",
       "    <tr>\n",
       "      <th>28</th>\n",
       "      <td>Nebraska</td>\n",
       "      <td>1253</td>\n",
       "      <td>0.03</td>\n",
       "      <td>1252</td>\n",
       "      <td>0.03</td>\n",
       "      <td>1260</td>\n",
       "      <td>0.03</td>\n",
       "    </tr>\n",
       "  </tbody>\n",
       "</table>\n",
       "</div>"
      ],
      "text/plain": [
       "           State  2017_Total  2017_Participation  2018_Total  \\\n",
       "24     Minnesota        1295                0.03        1298   \n",
       "50     Wisconsin        1291                0.03        1294   \n",
       "42  South Dakota        1216                0.03        1240   \n",
       "35  North Dakota        1256                0.02        1283   \n",
       "28      Nebraska        1253                0.03        1252   \n",
       "\n",
       "    2018_Participation  2019_Total  2019_Participation  \n",
       "24                0.04        1284                0.04  \n",
       "50                0.03        1283                0.03  \n",
       "42                0.03        1268                0.03  \n",
       "35                0.02        1263                0.02  \n",
       "28                0.03        1260                0.03  "
      ]
     },
     "execution_count": 66,
     "metadata": {},
     "output_type": "execute_result"
    }
   ],
   "source": [
    "sat_data.sort_values('2019_Total', ascending = False)[['State', '2017_Total', '2017_Participation', '2018_Total', '2018_Participation', '2019_Total', '2019_Participation']].head()"
   ]
  },
  {
   "cell_type": "markdown",
   "metadata": {},
   "source": [
    "The top 3 states for 2019 is Minnesota, Wisconsin and South Dakota. Minnesota [1] and Wisconsin [2] were able to retain their spots same as 2017 and 2018. It is noted that the states that has the highest SAT scores also saw low participation rates of less than 5%.  "
   ]
  },
  {
   "cell_type": "markdown",
   "metadata": {},
   "source": [
    "### 3.9  States with lowest SAT scores in 2017"
   ]
  },
  {
   "cell_type": "code",
   "execution_count": 67,
   "metadata": {},
   "outputs": [
    {
     "data": {
      "text/html": [
       "<div>\n",
       "<style scoped>\n",
       "    .dataframe tbody tr th:only-of-type {\n",
       "        vertical-align: middle;\n",
       "    }\n",
       "\n",
       "    .dataframe tbody tr th {\n",
       "        vertical-align: top;\n",
       "    }\n",
       "\n",
       "    .dataframe thead th {\n",
       "        text-align: right;\n",
       "    }\n",
       "</style>\n",
       "<table border=\"1\" class=\"dataframe\">\n",
       "  <thead>\n",
       "    <tr style=\"text-align: right;\">\n",
       "      <th></th>\n",
       "      <th>State</th>\n",
       "      <th>2017_Total</th>\n",
       "      <th>2017_Participation</th>\n",
       "    </tr>\n",
       "  </thead>\n",
       "  <tbody>\n",
       "    <tr>\n",
       "      <th>9</th>\n",
       "      <td>District of Columbia</td>\n",
       "      <td>950</td>\n",
       "      <td>1.00</td>\n",
       "    </tr>\n",
       "    <tr>\n",
       "      <th>8</th>\n",
       "      <td>Delaware</td>\n",
       "      <td>996</td>\n",
       "      <td>1.00</td>\n",
       "    </tr>\n",
       "    <tr>\n",
       "      <th>13</th>\n",
       "      <td>Idaho</td>\n",
       "      <td>1005</td>\n",
       "      <td>0.93</td>\n",
       "    </tr>\n",
       "    <tr>\n",
       "      <th>23</th>\n",
       "      <td>Michigan</td>\n",
       "      <td>1005</td>\n",
       "      <td>1.00</td>\n",
       "    </tr>\n",
       "    <tr>\n",
       "      <th>20</th>\n",
       "      <td>Maine</td>\n",
       "      <td>1012</td>\n",
       "      <td>0.95</td>\n",
       "    </tr>\n",
       "  </tbody>\n",
       "</table>\n",
       "</div>"
      ],
      "text/plain": [
       "                   State  2017_Total  2017_Participation\n",
       "9   District of Columbia         950                1.00\n",
       "8               Delaware         996                1.00\n",
       "13                 Idaho        1005                0.93\n",
       "23              Michigan        1005                1.00\n",
       "20                 Maine        1012                0.95"
      ]
     },
     "execution_count": 67,
     "metadata": {},
     "output_type": "execute_result"
    }
   ],
   "source": [
    "sat_data.sort_values('2017_Total', ascending = True)[['State', '2017_Total', '2017_Participation']].head()"
   ]
  },
  {
   "cell_type": "markdown",
   "metadata": {},
   "source": [
    "The states with the lowest SAT scores in 2017 are District of Columbia, Delaware and Idaho. It is noted that the states with the lowest SAT scores actually have very high partipation rates more than 90%. "
   ]
  },
  {
   "cell_type": "markdown",
   "metadata": {},
   "source": [
    "### 3.10  States with lowest SAT scores in 2018"
   ]
  },
  {
   "cell_type": "code",
   "execution_count": 68,
   "metadata": {},
   "outputs": [
    {
     "data": {
      "text/html": [
       "<div>\n",
       "<style scoped>\n",
       "    .dataframe tbody tr th:only-of-type {\n",
       "        vertical-align: middle;\n",
       "    }\n",
       "\n",
       "    .dataframe tbody tr th {\n",
       "        vertical-align: top;\n",
       "    }\n",
       "\n",
       "    .dataframe thead th {\n",
       "        text-align: right;\n",
       "    }\n",
       "</style>\n",
       "<table border=\"1\" class=\"dataframe\">\n",
       "  <thead>\n",
       "    <tr style=\"text-align: right;\">\n",
       "      <th></th>\n",
       "      <th>State</th>\n",
       "      <th>2017_Total</th>\n",
       "      <th>2017_Participation</th>\n",
       "      <th>2018_Total</th>\n",
       "      <th>2018_Participation</th>\n",
       "    </tr>\n",
       "  </thead>\n",
       "  <tbody>\n",
       "    <tr>\n",
       "      <th>9</th>\n",
       "      <td>District of Columbia</td>\n",
       "      <td>950</td>\n",
       "      <td>1.00</td>\n",
       "      <td>977</td>\n",
       "      <td>0.92</td>\n",
       "    </tr>\n",
       "    <tr>\n",
       "      <th>8</th>\n",
       "      <td>Delaware</td>\n",
       "      <td>996</td>\n",
       "      <td>1.00</td>\n",
       "      <td>998</td>\n",
       "      <td>1.00</td>\n",
       "    </tr>\n",
       "    <tr>\n",
       "      <th>49</th>\n",
       "      <td>West Virginia</td>\n",
       "      <td>1086</td>\n",
       "      <td>0.14</td>\n",
       "      <td>999</td>\n",
       "      <td>0.28</td>\n",
       "    </tr>\n",
       "    <tr>\n",
       "      <th>13</th>\n",
       "      <td>Idaho</td>\n",
       "      <td>1005</td>\n",
       "      <td>0.93</td>\n",
       "      <td>1001</td>\n",
       "      <td>1.00</td>\n",
       "    </tr>\n",
       "    <tr>\n",
       "      <th>45</th>\n",
       "      <td>Utah</td>\n",
       "      <td>1238</td>\n",
       "      <td>0.03</td>\n",
       "      <td>1010</td>\n",
       "      <td>0.04</td>\n",
       "    </tr>\n",
       "  </tbody>\n",
       "</table>\n",
       "</div>"
      ],
      "text/plain": [
       "                   State  2017_Total  2017_Participation  2018_Total  \\\n",
       "9   District of Columbia         950                1.00         977   \n",
       "8               Delaware         996                1.00         998   \n",
       "49         West Virginia        1086                0.14         999   \n",
       "13                 Idaho        1005                0.93        1001   \n",
       "45                  Utah        1238                0.03        1010   \n",
       "\n",
       "    2018_Participation  \n",
       "9                 0.92  \n",
       "8                 1.00  \n",
       "49                0.28  \n",
       "13                1.00  \n",
       "45                0.04  "
      ]
     },
     "execution_count": 68,
     "metadata": {},
     "output_type": "execute_result"
    }
   ],
   "source": [
    "sat_data.sort_values('2018_Total', ascending = True)[['State', '2017_Total', '2017_Participation', '2018_Total', '2018_Participation']].head()"
   ]
  },
  {
   "cell_type": "markdown",
   "metadata": {},
   "source": [
    "The states with the lowest SAT scores in 2018 are District of Columbia, Delaware and West Virginia. West Virginia has one of the lowest SAT scores but the state saw an increase in their partipation rates from 14% in 2017 to 28% in 2018. District of Columbia [1] and Delaware [2] remain in the same spots as the previous year. "
   ]
  },
  {
   "cell_type": "markdown",
   "metadata": {},
   "source": [
    "### 3.11  States with lowest SAT scores in 2019"
   ]
  },
  {
   "cell_type": "code",
   "execution_count": 69,
   "metadata": {},
   "outputs": [
    {
     "data": {
      "text/html": [
       "<div>\n",
       "<style scoped>\n",
       "    .dataframe tbody tr th:only-of-type {\n",
       "        vertical-align: middle;\n",
       "    }\n",
       "\n",
       "    .dataframe tbody tr th {\n",
       "        vertical-align: top;\n",
       "    }\n",
       "\n",
       "    .dataframe thead th {\n",
       "        text-align: right;\n",
       "    }\n",
       "</style>\n",
       "<table border=\"1\" class=\"dataframe\">\n",
       "  <thead>\n",
       "    <tr style=\"text-align: right;\">\n",
       "      <th></th>\n",
       "      <th>State</th>\n",
       "      <th>2017_Total</th>\n",
       "      <th>2017_Participation</th>\n",
       "      <th>2018_Total</th>\n",
       "      <th>2018_Participation</th>\n",
       "      <th>2019_Total</th>\n",
       "      <th>2019_Participation</th>\n",
       "    </tr>\n",
       "  </thead>\n",
       "  <tbody>\n",
       "    <tr>\n",
       "      <th>49</th>\n",
       "      <td>West Virginia</td>\n",
       "      <td>1086</td>\n",
       "      <td>0.14</td>\n",
       "      <td>999</td>\n",
       "      <td>0.28</td>\n",
       "      <td>943</td>\n",
       "      <td>0.99</td>\n",
       "    </tr>\n",
       "    <tr>\n",
       "      <th>37</th>\n",
       "      <td>Oklahoma</td>\n",
       "      <td>1047</td>\n",
       "      <td>0.07</td>\n",
       "      <td>1062</td>\n",
       "      <td>0.08</td>\n",
       "      <td>963</td>\n",
       "      <td>0.22</td>\n",
       "    </tr>\n",
       "    <tr>\n",
       "      <th>9</th>\n",
       "      <td>District of Columbia</td>\n",
       "      <td>950</td>\n",
       "      <td>1.00</td>\n",
       "      <td>977</td>\n",
       "      <td>0.92</td>\n",
       "      <td>975</td>\n",
       "      <td>0.94</td>\n",
       "    </tr>\n",
       "    <tr>\n",
       "      <th>8</th>\n",
       "      <td>Delaware</td>\n",
       "      <td>996</td>\n",
       "      <td>1.00</td>\n",
       "      <td>998</td>\n",
       "      <td>1.00</td>\n",
       "      <td>985</td>\n",
       "      <td>1.00</td>\n",
       "    </tr>\n",
       "    <tr>\n",
       "      <th>13</th>\n",
       "      <td>Idaho</td>\n",
       "      <td>1005</td>\n",
       "      <td>0.93</td>\n",
       "      <td>1001</td>\n",
       "      <td>1.00</td>\n",
       "      <td>993</td>\n",
       "      <td>1.00</td>\n",
       "    </tr>\n",
       "  </tbody>\n",
       "</table>\n",
       "</div>"
      ],
      "text/plain": [
       "                   State  2017_Total  2017_Participation  2018_Total  \\\n",
       "49         West Virginia        1086                0.14         999   \n",
       "37              Oklahoma        1047                0.07        1062   \n",
       "9   District of Columbia         950                1.00         977   \n",
       "8               Delaware         996                1.00         998   \n",
       "13                 Idaho        1005                0.93        1001   \n",
       "\n",
       "    2018_Participation  2019_Total  2019_Participation  \n",
       "49                0.28         943                0.99  \n",
       "37                0.08         963                0.22  \n",
       "9                 0.92         975                0.94  \n",
       "8                 1.00         985                1.00  \n",
       "13                1.00         993                1.00  "
      ]
     },
     "execution_count": 69,
     "metadata": {},
     "output_type": "execute_result"
    }
   ],
   "source": [
    "sat_data.sort_values('2019_Total', ascending = True)[['State', '2017_Total', '2017_Participation', '2018_Total', '2018_Participation', '2019_Total', '2019_Participation']].head()"
   ]
  },
  {
   "cell_type": "markdown",
   "metadata": {},
   "source": [
    "The states with the lowest SAT score in 2019 are West Virginia, Oklahoma and District of Columbia. District of Columbia was has the lowest SAT scores from 2017 - 2019. Oklahoma saw a slight increase in the participation rates from 7% in 2017 to 8% in 2018 and 22% in 2019. West Virginia saw a huge spike in their participation rates in 2019 from 28% in 2018 to 99% in 2019. It should be noted that there could be a change in the education system of  West Virginia, requiring mandatory partipation for the SAT. "
   ]
  },
  {
   "cell_type": "markdown",
   "metadata": {},
   "source": [
    "### 3.12  States with 100% participation rates over 2017 -2019"
   ]
  },
  {
   "cell_type": "markdown",
   "metadata": {},
   "source": [
    "Identify states that were able to achieve 100% participation rates as well as states that are able to achieve 100% participation rates consistently. This will support the college board in identifying why these states were able to see high participation rates and the actions that they have done to improve their participation rates. "
   ]
  },
  {
   "cell_type": "code",
   "execution_count": 70,
   "metadata": {},
   "outputs": [
    {
     "data": {
      "text/html": [
       "<div>\n",
       "<style scoped>\n",
       "    .dataframe tbody tr th:only-of-type {\n",
       "        vertical-align: middle;\n",
       "    }\n",
       "\n",
       "    .dataframe tbody tr th {\n",
       "        vertical-align: top;\n",
       "    }\n",
       "\n",
       "    .dataframe thead th {\n",
       "        text-align: right;\n",
       "    }\n",
       "</style>\n",
       "<table border=\"1\" class=\"dataframe\">\n",
       "  <thead>\n",
       "    <tr style=\"text-align: right;\">\n",
       "      <th></th>\n",
       "      <th>State</th>\n",
       "      <th>2017_Participation</th>\n",
       "      <th>2017_EBRW</th>\n",
       "      <th>2017_Math</th>\n",
       "      <th>2017_Total</th>\n",
       "      <th>2018_Participation</th>\n",
       "      <th>2018_EBRW</th>\n",
       "      <th>2018_Math</th>\n",
       "      <th>2018_Total</th>\n",
       "      <th>2019_Participation</th>\n",
       "      <th>2019_EBRW</th>\n",
       "      <th>2019_Math</th>\n",
       "      <th>2019_Total</th>\n",
       "    </tr>\n",
       "  </thead>\n",
       "  <tbody>\n",
       "    <tr>\n",
       "      <th>7</th>\n",
       "      <td>Connecticut</td>\n",
       "      <td>1.0</td>\n",
       "      <td>530</td>\n",
       "      <td>512</td>\n",
       "      <td>1041</td>\n",
       "      <td>1.00</td>\n",
       "      <td>535</td>\n",
       "      <td>519</td>\n",
       "      <td>1053</td>\n",
       "      <td>1.00</td>\n",
       "      <td>529</td>\n",
       "      <td>516</td>\n",
       "      <td>1046</td>\n",
       "    </tr>\n",
       "    <tr>\n",
       "      <th>8</th>\n",
       "      <td>Delaware</td>\n",
       "      <td>1.0</td>\n",
       "      <td>503</td>\n",
       "      <td>492</td>\n",
       "      <td>996</td>\n",
       "      <td>1.00</td>\n",
       "      <td>505</td>\n",
       "      <td>492</td>\n",
       "      <td>998</td>\n",
       "      <td>1.00</td>\n",
       "      <td>499</td>\n",
       "      <td>486</td>\n",
       "      <td>985</td>\n",
       "    </tr>\n",
       "    <tr>\n",
       "      <th>9</th>\n",
       "      <td>District of Columbia</td>\n",
       "      <td>1.0</td>\n",
       "      <td>482</td>\n",
       "      <td>468</td>\n",
       "      <td>950</td>\n",
       "      <td>0.92</td>\n",
       "      <td>497</td>\n",
       "      <td>480</td>\n",
       "      <td>977</td>\n",
       "      <td>0.94</td>\n",
       "      <td>495</td>\n",
       "      <td>480</td>\n",
       "      <td>975</td>\n",
       "    </tr>\n",
       "    <tr>\n",
       "      <th>23</th>\n",
       "      <td>Michigan</td>\n",
       "      <td>1.0</td>\n",
       "      <td>509</td>\n",
       "      <td>495</td>\n",
       "      <td>1005</td>\n",
       "      <td>1.00</td>\n",
       "      <td>511</td>\n",
       "      <td>499</td>\n",
       "      <td>1011</td>\n",
       "      <td>1.00</td>\n",
       "      <td>507</td>\n",
       "      <td>496</td>\n",
       "      <td>1003</td>\n",
       "    </tr>\n",
       "  </tbody>\n",
       "</table>\n",
       "</div>"
      ],
      "text/plain": [
       "                   State  2017_Participation  2017_EBRW  2017_Math  \\\n",
       "7            Connecticut                 1.0        530        512   \n",
       "8               Delaware                 1.0        503        492   \n",
       "9   District of Columbia                 1.0        482        468   \n",
       "23              Michigan                 1.0        509        495   \n",
       "\n",
       "    2017_Total  2018_Participation  2018_EBRW  2018_Math  2018_Total  \\\n",
       "7         1041                1.00        535        519        1053   \n",
       "8          996                1.00        505        492         998   \n",
       "9          950                0.92        497        480         977   \n",
       "23        1005                1.00        511        499        1011   \n",
       "\n",
       "    2019_Participation  2019_EBRW  2019_Math  2019_Total  \n",
       "7                 1.00        529        516        1046  \n",
       "8                 1.00        499        486         985  \n",
       "9                 0.94        495        480         975  \n",
       "23                1.00        507        496        1003  "
      ]
     },
     "execution_count": 70,
     "metadata": {},
     "output_type": "execute_result"
    }
   ],
   "source": [
    "#Creating masks to identify states with 100% Participation \n",
    "\n",
    "full_2017 = sat_data.loc[sat_data['2017_Participation'] == 1]\n",
    "full_2017"
   ]
  },
  {
   "cell_type": "markdown",
   "metadata": {},
   "source": [
    "The states with full participation rates for 2017 are Connecticut, Delaware, District of Columbia and Michigan. "
   ]
  },
  {
   "cell_type": "code",
   "execution_count": 71,
   "metadata": {},
   "outputs": [
    {
     "data": {
      "text/html": [
       "<div>\n",
       "<style scoped>\n",
       "    .dataframe tbody tr th:only-of-type {\n",
       "        vertical-align: middle;\n",
       "    }\n",
       "\n",
       "    .dataframe tbody tr th {\n",
       "        vertical-align: top;\n",
       "    }\n",
       "\n",
       "    .dataframe thead th {\n",
       "        text-align: right;\n",
       "    }\n",
       "</style>\n",
       "<table border=\"1\" class=\"dataframe\">\n",
       "  <thead>\n",
       "    <tr style=\"text-align: right;\">\n",
       "      <th></th>\n",
       "      <th>State</th>\n",
       "      <th>2017_Participation</th>\n",
       "      <th>2017_EBRW</th>\n",
       "      <th>2017_Math</th>\n",
       "      <th>2017_Total</th>\n",
       "      <th>2018_Participation</th>\n",
       "      <th>2018_EBRW</th>\n",
       "      <th>2018_Math</th>\n",
       "      <th>2018_Total</th>\n",
       "      <th>2019_Participation</th>\n",
       "      <th>2019_EBRW</th>\n",
       "      <th>2019_Math</th>\n",
       "      <th>2019_Total</th>\n",
       "    </tr>\n",
       "  </thead>\n",
       "  <tbody>\n",
       "    <tr>\n",
       "      <th>6</th>\n",
       "      <td>Colorado</td>\n",
       "      <td>0.11</td>\n",
       "      <td>606</td>\n",
       "      <td>595</td>\n",
       "      <td>1201</td>\n",
       "      <td>1.0</td>\n",
       "      <td>519</td>\n",
       "      <td>506</td>\n",
       "      <td>1025</td>\n",
       "      <td>1.0</td>\n",
       "      <td>518</td>\n",
       "      <td>506</td>\n",
       "      <td>1024</td>\n",
       "    </tr>\n",
       "    <tr>\n",
       "      <th>7</th>\n",
       "      <td>Connecticut</td>\n",
       "      <td>1.00</td>\n",
       "      <td>530</td>\n",
       "      <td>512</td>\n",
       "      <td>1041</td>\n",
       "      <td>1.0</td>\n",
       "      <td>535</td>\n",
       "      <td>519</td>\n",
       "      <td>1053</td>\n",
       "      <td>1.0</td>\n",
       "      <td>529</td>\n",
       "      <td>516</td>\n",
       "      <td>1046</td>\n",
       "    </tr>\n",
       "    <tr>\n",
       "      <th>8</th>\n",
       "      <td>Delaware</td>\n",
       "      <td>1.00</td>\n",
       "      <td>503</td>\n",
       "      <td>492</td>\n",
       "      <td>996</td>\n",
       "      <td>1.0</td>\n",
       "      <td>505</td>\n",
       "      <td>492</td>\n",
       "      <td>998</td>\n",
       "      <td>1.0</td>\n",
       "      <td>499</td>\n",
       "      <td>486</td>\n",
       "      <td>985</td>\n",
       "    </tr>\n",
       "    <tr>\n",
       "      <th>13</th>\n",
       "      <td>Idaho</td>\n",
       "      <td>0.93</td>\n",
       "      <td>513</td>\n",
       "      <td>493</td>\n",
       "      <td>1005</td>\n",
       "      <td>1.0</td>\n",
       "      <td>508</td>\n",
       "      <td>493</td>\n",
       "      <td>1001</td>\n",
       "      <td>1.0</td>\n",
       "      <td>505</td>\n",
       "      <td>488</td>\n",
       "      <td>993</td>\n",
       "    </tr>\n",
       "    <tr>\n",
       "      <th>23</th>\n",
       "      <td>Michigan</td>\n",
       "      <td>1.00</td>\n",
       "      <td>509</td>\n",
       "      <td>495</td>\n",
       "      <td>1005</td>\n",
       "      <td>1.0</td>\n",
       "      <td>511</td>\n",
       "      <td>499</td>\n",
       "      <td>1011</td>\n",
       "      <td>1.0</td>\n",
       "      <td>507</td>\n",
       "      <td>496</td>\n",
       "      <td>1003</td>\n",
       "    </tr>\n",
       "  </tbody>\n",
       "</table>\n",
       "</div>"
      ],
      "text/plain": [
       "          State  2017_Participation  2017_EBRW  2017_Math  2017_Total  \\\n",
       "6      Colorado                0.11        606        595        1201   \n",
       "7   Connecticut                1.00        530        512        1041   \n",
       "8      Delaware                1.00        503        492         996   \n",
       "13        Idaho                0.93        513        493        1005   \n",
       "23     Michigan                1.00        509        495        1005   \n",
       "\n",
       "    2018_Participation  2018_EBRW  2018_Math  2018_Total  2019_Participation  \\\n",
       "6                  1.0        519        506        1025                 1.0   \n",
       "7                  1.0        535        519        1053                 1.0   \n",
       "8                  1.0        505        492         998                 1.0   \n",
       "13                 1.0        508        493        1001                 1.0   \n",
       "23                 1.0        511        499        1011                 1.0   \n",
       "\n",
       "    2019_EBRW  2019_Math  2019_Total  \n",
       "6         518        506        1024  \n",
       "7         529        516        1046  \n",
       "8         499        486         985  \n",
       "13        505        488         993  \n",
       "23        507        496        1003  "
      ]
     },
     "execution_count": 71,
     "metadata": {},
     "output_type": "execute_result"
    }
   ],
   "source": [
    "full_2018 = sat_data.loc[sat_data['2018_Participation'] == 1]\n",
    "full_2018"
   ]
  },
  {
   "cell_type": "markdown",
   "metadata": {},
   "source": [
    "The states with full participation for 2018 are Colorado, Connecticut, Delaware, Idaho and Michigan.\n",
    "\n",
    "Colorado saw a massive spike in the participation rate from 11% to 100% from 2017 to 2018. \n",
    "\n",
    "Idaho saw a slight increase in participation rates from 93% in 2017 to 100% in 2018.\n",
    "\n",
    "Michigan, Connecticut and Delaware saw 100% partipation in 2018 same as 2017. "
   ]
  },
  {
   "cell_type": "code",
   "execution_count": 72,
   "metadata": {},
   "outputs": [
    {
     "data": {
      "text/html": [
       "<div>\n",
       "<style scoped>\n",
       "    .dataframe tbody tr th:only-of-type {\n",
       "        vertical-align: middle;\n",
       "    }\n",
       "\n",
       "    .dataframe tbody tr th {\n",
       "        vertical-align: top;\n",
       "    }\n",
       "\n",
       "    .dataframe thead th {\n",
       "        text-align: right;\n",
       "    }\n",
       "</style>\n",
       "<table border=\"1\" class=\"dataframe\">\n",
       "  <thead>\n",
       "    <tr style=\"text-align: right;\">\n",
       "      <th></th>\n",
       "      <th>State</th>\n",
       "      <th>2017_Participation</th>\n",
       "      <th>2017_EBRW</th>\n",
       "      <th>2017_Math</th>\n",
       "      <th>2017_Total</th>\n",
       "      <th>2018_Participation</th>\n",
       "      <th>2018_EBRW</th>\n",
       "      <th>2018_Math</th>\n",
       "      <th>2018_Total</th>\n",
       "      <th>2019_Participation</th>\n",
       "      <th>2019_EBRW</th>\n",
       "      <th>2019_Math</th>\n",
       "      <th>2019_Total</th>\n",
       "    </tr>\n",
       "  </thead>\n",
       "  <tbody>\n",
       "    <tr>\n",
       "      <th>6</th>\n",
       "      <td>Colorado</td>\n",
       "      <td>0.11</td>\n",
       "      <td>606</td>\n",
       "      <td>595</td>\n",
       "      <td>1201</td>\n",
       "      <td>1.00</td>\n",
       "      <td>519</td>\n",
       "      <td>506</td>\n",
       "      <td>1025</td>\n",
       "      <td>1.0</td>\n",
       "      <td>518</td>\n",
       "      <td>506</td>\n",
       "      <td>1024</td>\n",
       "    </tr>\n",
       "    <tr>\n",
       "      <th>7</th>\n",
       "      <td>Connecticut</td>\n",
       "      <td>1.00</td>\n",
       "      <td>530</td>\n",
       "      <td>512</td>\n",
       "      <td>1041</td>\n",
       "      <td>1.00</td>\n",
       "      <td>535</td>\n",
       "      <td>519</td>\n",
       "      <td>1053</td>\n",
       "      <td>1.0</td>\n",
       "      <td>529</td>\n",
       "      <td>516</td>\n",
       "      <td>1046</td>\n",
       "    </tr>\n",
       "    <tr>\n",
       "      <th>8</th>\n",
       "      <td>Delaware</td>\n",
       "      <td>1.00</td>\n",
       "      <td>503</td>\n",
       "      <td>492</td>\n",
       "      <td>996</td>\n",
       "      <td>1.00</td>\n",
       "      <td>505</td>\n",
       "      <td>492</td>\n",
       "      <td>998</td>\n",
       "      <td>1.0</td>\n",
       "      <td>499</td>\n",
       "      <td>486</td>\n",
       "      <td>985</td>\n",
       "    </tr>\n",
       "    <tr>\n",
       "      <th>10</th>\n",
       "      <td>Florida</td>\n",
       "      <td>0.83</td>\n",
       "      <td>520</td>\n",
       "      <td>497</td>\n",
       "      <td>1017</td>\n",
       "      <td>0.56</td>\n",
       "      <td>550</td>\n",
       "      <td>549</td>\n",
       "      <td>1099</td>\n",
       "      <td>1.0</td>\n",
       "      <td>516</td>\n",
       "      <td>483</td>\n",
       "      <td>999</td>\n",
       "    </tr>\n",
       "    <tr>\n",
       "      <th>13</th>\n",
       "      <td>Idaho</td>\n",
       "      <td>0.93</td>\n",
       "      <td>513</td>\n",
       "      <td>493</td>\n",
       "      <td>1005</td>\n",
       "      <td>1.00</td>\n",
       "      <td>508</td>\n",
       "      <td>493</td>\n",
       "      <td>1001</td>\n",
       "      <td>1.0</td>\n",
       "      <td>505</td>\n",
       "      <td>488</td>\n",
       "      <td>993</td>\n",
       "    </tr>\n",
       "    <tr>\n",
       "      <th>14</th>\n",
       "      <td>Illinois</td>\n",
       "      <td>0.09</td>\n",
       "      <td>559</td>\n",
       "      <td>556</td>\n",
       "      <td>1115</td>\n",
       "      <td>0.99</td>\n",
       "      <td>513</td>\n",
       "      <td>506</td>\n",
       "      <td>1019</td>\n",
       "      <td>1.0</td>\n",
       "      <td>509</td>\n",
       "      <td>504</td>\n",
       "      <td>1013</td>\n",
       "    </tr>\n",
       "    <tr>\n",
       "      <th>23</th>\n",
       "      <td>Michigan</td>\n",
       "      <td>1.00</td>\n",
       "      <td>509</td>\n",
       "      <td>495</td>\n",
       "      <td>1005</td>\n",
       "      <td>1.00</td>\n",
       "      <td>511</td>\n",
       "      <td>499</td>\n",
       "      <td>1011</td>\n",
       "      <td>1.0</td>\n",
       "      <td>507</td>\n",
       "      <td>496</td>\n",
       "      <td>1003</td>\n",
       "    </tr>\n",
       "    <tr>\n",
       "      <th>40</th>\n",
       "      <td>Rhode Island</td>\n",
       "      <td>0.71</td>\n",
       "      <td>539</td>\n",
       "      <td>524</td>\n",
       "      <td>1062</td>\n",
       "      <td>0.97</td>\n",
       "      <td>513</td>\n",
       "      <td>505</td>\n",
       "      <td>1018</td>\n",
       "      <td>1.0</td>\n",
       "      <td>503</td>\n",
       "      <td>492</td>\n",
       "      <td>995</td>\n",
       "    </tr>\n",
       "  </tbody>\n",
       "</table>\n",
       "</div>"
      ],
      "text/plain": [
       "           State  2017_Participation  2017_EBRW  2017_Math  2017_Total  \\\n",
       "6       Colorado                0.11        606        595        1201   \n",
       "7    Connecticut                1.00        530        512        1041   \n",
       "8       Delaware                1.00        503        492         996   \n",
       "10       Florida                0.83        520        497        1017   \n",
       "13         Idaho                0.93        513        493        1005   \n",
       "14      Illinois                0.09        559        556        1115   \n",
       "23      Michigan                1.00        509        495        1005   \n",
       "40  Rhode Island                0.71        539        524        1062   \n",
       "\n",
       "    2018_Participation  2018_EBRW  2018_Math  2018_Total  2019_Participation  \\\n",
       "6                 1.00        519        506        1025                 1.0   \n",
       "7                 1.00        535        519        1053                 1.0   \n",
       "8                 1.00        505        492         998                 1.0   \n",
       "10                0.56        550        549        1099                 1.0   \n",
       "13                1.00        508        493        1001                 1.0   \n",
       "14                0.99        513        506        1019                 1.0   \n",
       "23                1.00        511        499        1011                 1.0   \n",
       "40                0.97        513        505        1018                 1.0   \n",
       "\n",
       "    2019_EBRW  2019_Math  2019_Total  \n",
       "6         518        506        1024  \n",
       "7         529        516        1046  \n",
       "8         499        486         985  \n",
       "10        516        483         999  \n",
       "13        505        488         993  \n",
       "14        509        504        1013  \n",
       "23        507        496        1003  \n",
       "40        503        492         995  "
      ]
     },
     "execution_count": 72,
     "metadata": {},
     "output_type": "execute_result"
    }
   ],
   "source": [
    "full_2019 = sat_data.loc[sat_data['2019_Participation'] == 1]\n",
    "full_2019"
   ]
  },
  {
   "cell_type": "markdown",
   "metadata": {},
   "source": [
    "The states with full participation for 2019 are Colorado, Connecticut, Delaware, Florida, Idaho, Illinois, Michigan and Rhode Island. \n",
    "\n",
    "Michigan, Connecticut and Delaware saw 100% participation from 2017 to 2019. \n",
    "\n",
    "Florida and Rhode Island were able to see 100% participation, first time in 3 years in 2019. \n",
    "\n",
    "Idaho and Colorado saw consistent participation rates from 2018 to 2019 with 100% participation rates. \n",
    "\n",
    "\n",
    "More states are seeing 100 SAT participations from 4 states in 2017 to 5 states in 2018 and 8 states in 2019. "
   ]
  },
  {
   "cell_type": "code",
   "execution_count": 73,
   "metadata": {},
   "outputs": [
    {
     "data": {
      "text/html": [
       "<div>\n",
       "<style scoped>\n",
       "    .dataframe tbody tr th:only-of-type {\n",
       "        vertical-align: middle;\n",
       "    }\n",
       "\n",
       "    .dataframe tbody tr th {\n",
       "        vertical-align: top;\n",
       "    }\n",
       "\n",
       "    .dataframe thead th {\n",
       "        text-align: right;\n",
       "    }\n",
       "</style>\n",
       "<table border=\"1\" class=\"dataframe\">\n",
       "  <thead>\n",
       "    <tr style=\"text-align: right;\">\n",
       "      <th></th>\n",
       "      <th>State</th>\n",
       "      <th>2017_Participation</th>\n",
       "      <th>2017_EBRW</th>\n",
       "      <th>2017_Math</th>\n",
       "      <th>2017_Total</th>\n",
       "      <th>2018_Participation</th>\n",
       "      <th>2018_EBRW</th>\n",
       "      <th>2018_Math</th>\n",
       "      <th>2018_Total</th>\n",
       "      <th>2019_Participation</th>\n",
       "      <th>2019_EBRW</th>\n",
       "      <th>2019_Math</th>\n",
       "      <th>2019_Total</th>\n",
       "    </tr>\n",
       "  </thead>\n",
       "  <tbody>\n",
       "    <tr>\n",
       "      <th>7</th>\n",
       "      <td>Connecticut</td>\n",
       "      <td>1.0</td>\n",
       "      <td>530</td>\n",
       "      <td>512</td>\n",
       "      <td>1041</td>\n",
       "      <td>1.0</td>\n",
       "      <td>535</td>\n",
       "      <td>519</td>\n",
       "      <td>1053</td>\n",
       "      <td>1.0</td>\n",
       "      <td>529</td>\n",
       "      <td>516</td>\n",
       "      <td>1046</td>\n",
       "    </tr>\n",
       "    <tr>\n",
       "      <th>8</th>\n",
       "      <td>Delaware</td>\n",
       "      <td>1.0</td>\n",
       "      <td>503</td>\n",
       "      <td>492</td>\n",
       "      <td>996</td>\n",
       "      <td>1.0</td>\n",
       "      <td>505</td>\n",
       "      <td>492</td>\n",
       "      <td>998</td>\n",
       "      <td>1.0</td>\n",
       "      <td>499</td>\n",
       "      <td>486</td>\n",
       "      <td>985</td>\n",
       "    </tr>\n",
       "    <tr>\n",
       "      <th>23</th>\n",
       "      <td>Michigan</td>\n",
       "      <td>1.0</td>\n",
       "      <td>509</td>\n",
       "      <td>495</td>\n",
       "      <td>1005</td>\n",
       "      <td>1.0</td>\n",
       "      <td>511</td>\n",
       "      <td>499</td>\n",
       "      <td>1011</td>\n",
       "      <td>1.0</td>\n",
       "      <td>507</td>\n",
       "      <td>496</td>\n",
       "      <td>1003</td>\n",
       "    </tr>\n",
       "  </tbody>\n",
       "</table>\n",
       "</div>"
      ],
      "text/plain": [
       "          State  2017_Participation  2017_EBRW  2017_Math  2017_Total  \\\n",
       "7   Connecticut                 1.0        530        512        1041   \n",
       "8      Delaware                 1.0        503        492         996   \n",
       "23     Michigan                 1.0        509        495        1005   \n",
       "\n",
       "    2018_Participation  2018_EBRW  2018_Math  2018_Total  2019_Participation  \\\n",
       "7                  1.0        535        519        1053                 1.0   \n",
       "8                  1.0        505        492         998                 1.0   \n",
       "23                 1.0        511        499        1011                 1.0   \n",
       "\n",
       "    2019_EBRW  2019_Math  2019_Total  \n",
       "7         529        516        1046  \n",
       "8         499        486         985  \n",
       "23        507        496        1003  "
      ]
     },
     "execution_count": 73,
     "metadata": {},
     "output_type": "execute_result"
    }
   ],
   "source": [
    "full_1719 = sat_data.loc[(sat_data['2017_Participation'] == 1) & (sat_data['2018_Participation'] == 1) & (sat_data['2019_Participation'] == 1)]\n",
    "full_1719"
   ]
  },
  {
   "cell_type": "markdown",
   "metadata": {},
   "source": [
    "The states with consistent full participation from 2017 to 2019 are Connecticut, Delaware and Michigan. "
   ]
  },
  {
   "cell_type": "markdown",
   "metadata": {},
   "source": [
    "### 3.13  States with participation rates less than 50% and SAT scores lower than the 25% quartile."
   ]
  },
  {
   "cell_type": "markdown",
   "metadata": {},
   "source": [
    "Identify states with participation rates less than 50% and SAT scores lower than the 25% quartile for 2017, 2018 and 2019. This will support the collegeboard in narrowing down the key states that require more support in encouraging participation rates as well as to improve the scores supporting the college board's mission in to connecting students to college success and opportunity. "
   ]
  },
  {
   "cell_type": "code",
   "execution_count": 74,
   "metadata": {},
   "outputs": [
    {
     "data": {
      "text/html": [
       "<div>\n",
       "<style scoped>\n",
       "    .dataframe tbody tr th:only-of-type {\n",
       "        vertical-align: middle;\n",
       "    }\n",
       "\n",
       "    .dataframe tbody tr th {\n",
       "        vertical-align: top;\n",
       "    }\n",
       "\n",
       "    .dataframe thead th {\n",
       "        text-align: right;\n",
       "    }\n",
       "</style>\n",
       "<table border=\"1\" class=\"dataframe\">\n",
       "  <thead>\n",
       "    <tr style=\"text-align: right;\">\n",
       "      <th></th>\n",
       "      <th>2017_Participation</th>\n",
       "      <th>2017_EBRW</th>\n",
       "      <th>2017_Math</th>\n",
       "      <th>2017_Total</th>\n",
       "      <th>2018_Participation</th>\n",
       "      <th>2018_EBRW</th>\n",
       "      <th>2018_Math</th>\n",
       "      <th>2018_Total</th>\n",
       "      <th>2019_Participation</th>\n",
       "      <th>2019_EBRW</th>\n",
       "      <th>2019_Math</th>\n",
       "      <th>2019_Total</th>\n",
       "    </tr>\n",
       "  </thead>\n",
       "  <tbody>\n",
       "    <tr>\n",
       "      <th>count</th>\n",
       "      <td>51.000000</td>\n",
       "      <td>51.000000</td>\n",
       "      <td>51.000000</td>\n",
       "      <td>51.000000</td>\n",
       "      <td>51.000000</td>\n",
       "      <td>51.000000</td>\n",
       "      <td>51.000000</td>\n",
       "      <td>51.000000</td>\n",
       "      <td>51.000000</td>\n",
       "      <td>51.000000</td>\n",
       "      <td>51.000000</td>\n",
       "      <td>51.000000</td>\n",
       "    </tr>\n",
       "    <tr>\n",
       "      <th>mean</th>\n",
       "      <td>0.398039</td>\n",
       "      <td>569.117647</td>\n",
       "      <td>556.882353</td>\n",
       "      <td>1126.098039</td>\n",
       "      <td>0.457451</td>\n",
       "      <td>563.686275</td>\n",
       "      <td>556.235294</td>\n",
       "      <td>1120.019608</td>\n",
       "      <td>0.490588</td>\n",
       "      <td>560.803922</td>\n",
       "      <td>552.196078</td>\n",
       "      <td>1113.078431</td>\n",
       "    </tr>\n",
       "    <tr>\n",
       "      <th>std</th>\n",
       "      <td>0.352766</td>\n",
       "      <td>45.666901</td>\n",
       "      <td>47.121395</td>\n",
       "      <td>92.494812</td>\n",
       "      <td>0.373143</td>\n",
       "      <td>47.502627</td>\n",
       "      <td>47.772623</td>\n",
       "      <td>94.155083</td>\n",
       "      <td>0.387476</td>\n",
       "      <td>46.248035</td>\n",
       "      <td>51.290553</td>\n",
       "      <td>97.197910</td>\n",
       "    </tr>\n",
       "    <tr>\n",
       "      <th>min</th>\n",
       "      <td>0.020000</td>\n",
       "      <td>482.000000</td>\n",
       "      <td>468.000000</td>\n",
       "      <td>950.000000</td>\n",
       "      <td>0.020000</td>\n",
       "      <td>480.000000</td>\n",
       "      <td>480.000000</td>\n",
       "      <td>977.000000</td>\n",
       "      <td>0.020000</td>\n",
       "      <td>483.000000</td>\n",
       "      <td>460.000000</td>\n",
       "      <td>943.000000</td>\n",
       "    </tr>\n",
       "    <tr>\n",
       "      <th>25%</th>\n",
       "      <td>0.040000</td>\n",
       "      <td>533.500000</td>\n",
       "      <td>523.500000</td>\n",
       "      <td>1055.500000</td>\n",
       "      <td>0.045000</td>\n",
       "      <td>534.500000</td>\n",
       "      <td>522.500000</td>\n",
       "      <td>1057.500000</td>\n",
       "      <td>0.055000</td>\n",
       "      <td>527.500000</td>\n",
       "      <td>511.500000</td>\n",
       "      <td>1038.000000</td>\n",
       "    </tr>\n",
       "    <tr>\n",
       "      <th>50%</th>\n",
       "      <td>0.380000</td>\n",
       "      <td>559.000000</td>\n",
       "      <td>548.000000</td>\n",
       "      <td>1107.000000</td>\n",
       "      <td>0.520000</td>\n",
       "      <td>552.000000</td>\n",
       "      <td>544.000000</td>\n",
       "      <td>1098.000000</td>\n",
       "      <td>0.540000</td>\n",
       "      <td>550.000000</td>\n",
       "      <td>546.000000</td>\n",
       "      <td>1097.000000</td>\n",
       "    </tr>\n",
       "    <tr>\n",
       "      <th>75%</th>\n",
       "      <td>0.660000</td>\n",
       "      <td>613.000000</td>\n",
       "      <td>599.000000</td>\n",
       "      <td>1212.000000</td>\n",
       "      <td>0.775000</td>\n",
       "      <td>610.500000</td>\n",
       "      <td>593.500000</td>\n",
       "      <td>1204.000000</td>\n",
       "      <td>0.820000</td>\n",
       "      <td>612.000000</td>\n",
       "      <td>599.000000</td>\n",
       "      <td>1210.000000</td>\n",
       "    </tr>\n",
       "    <tr>\n",
       "      <th>max</th>\n",
       "      <td>1.000000</td>\n",
       "      <td>644.000000</td>\n",
       "      <td>651.000000</td>\n",
       "      <td>1295.000000</td>\n",
       "      <td>1.000000</td>\n",
       "      <td>643.000000</td>\n",
       "      <td>655.000000</td>\n",
       "      <td>1298.000000</td>\n",
       "      <td>1.000000</td>\n",
       "      <td>636.000000</td>\n",
       "      <td>648.000000</td>\n",
       "      <td>1284.000000</td>\n",
       "    </tr>\n",
       "  </tbody>\n",
       "</table>\n",
       "</div>"
      ],
      "text/plain": [
       "       2017_Participation   2017_EBRW   2017_Math   2017_Total  \\\n",
       "count           51.000000   51.000000   51.000000    51.000000   \n",
       "mean             0.398039  569.117647  556.882353  1126.098039   \n",
       "std              0.352766   45.666901   47.121395    92.494812   \n",
       "min              0.020000  482.000000  468.000000   950.000000   \n",
       "25%              0.040000  533.500000  523.500000  1055.500000   \n",
       "50%              0.380000  559.000000  548.000000  1107.000000   \n",
       "75%              0.660000  613.000000  599.000000  1212.000000   \n",
       "max              1.000000  644.000000  651.000000  1295.000000   \n",
       "\n",
       "       2018_Participation   2018_EBRW   2018_Math   2018_Total  \\\n",
       "count           51.000000   51.000000   51.000000    51.000000   \n",
       "mean             0.457451  563.686275  556.235294  1120.019608   \n",
       "std              0.373143   47.502627   47.772623    94.155083   \n",
       "min              0.020000  480.000000  480.000000   977.000000   \n",
       "25%              0.045000  534.500000  522.500000  1057.500000   \n",
       "50%              0.520000  552.000000  544.000000  1098.000000   \n",
       "75%              0.775000  610.500000  593.500000  1204.000000   \n",
       "max              1.000000  643.000000  655.000000  1298.000000   \n",
       "\n",
       "       2019_Participation   2019_EBRW   2019_Math   2019_Total  \n",
       "count           51.000000   51.000000   51.000000    51.000000  \n",
       "mean             0.490588  560.803922  552.196078  1113.078431  \n",
       "std              0.387476   46.248035   51.290553    97.197910  \n",
       "min              0.020000  483.000000  460.000000   943.000000  \n",
       "25%              0.055000  527.500000  511.500000  1038.000000  \n",
       "50%              0.540000  550.000000  546.000000  1097.000000  \n",
       "75%              0.820000  612.000000  599.000000  1210.000000  \n",
       "max              1.000000  636.000000  648.000000  1284.000000  "
      ]
     },
     "execution_count": 74,
     "metadata": {},
     "output_type": "execute_result"
    }
   ],
   "source": [
    "sat_data.describe()"
   ]
  },
  {
   "cell_type": "code",
   "execution_count": 75,
   "metadata": {},
   "outputs": [
    {
     "data": {
      "text/html": [
       "<div>\n",
       "<style scoped>\n",
       "    .dataframe tbody tr th:only-of-type {\n",
       "        vertical-align: middle;\n",
       "    }\n",
       "\n",
       "    .dataframe tbody tr th {\n",
       "        vertical-align: top;\n",
       "    }\n",
       "\n",
       "    .dataframe thead th {\n",
       "        text-align: right;\n",
       "    }\n",
       "</style>\n",
       "<table border=\"1\" class=\"dataframe\">\n",
       "  <thead>\n",
       "    <tr style=\"text-align: right;\">\n",
       "      <th></th>\n",
       "      <th>State</th>\n",
       "      <th>2017_Participation</th>\n",
       "      <th>2017_EBRW</th>\n",
       "      <th>2017_Math</th>\n",
       "      <th>2017_Total</th>\n",
       "      <th>2018_Participation</th>\n",
       "      <th>2018_EBRW</th>\n",
       "      <th>2018_Math</th>\n",
       "      <th>2018_Total</th>\n",
       "      <th>2019_Participation</th>\n",
       "      <th>2019_EBRW</th>\n",
       "      <th>2019_Math</th>\n",
       "      <th>2019_Total</th>\n",
       "    </tr>\n",
       "  </thead>\n",
       "  <tbody>\n",
       "    <tr>\n",
       "      <th>37</th>\n",
       "      <td>Oklahoma</td>\n",
       "      <td>0.07</td>\n",
       "      <td>530</td>\n",
       "      <td>517</td>\n",
       "      <td>1047</td>\n",
       "      <td>0.08</td>\n",
       "      <td>541</td>\n",
       "      <td>521</td>\n",
       "      <td>1062</td>\n",
       "      <td>0.22</td>\n",
       "      <td>490</td>\n",
       "      <td>472</td>\n",
       "      <td>963</td>\n",
       "    </tr>\n",
       "  </tbody>\n",
       "</table>\n",
       "</div>"
      ],
      "text/plain": [
       "       State  2017_Participation  2017_EBRW  2017_Math  2017_Total  \\\n",
       "37  Oklahoma                0.07        530        517        1047   \n",
       "\n",
       "    2018_Participation  2018_EBRW  2018_Math  2018_Total  2019_Participation  \\\n",
       "37                0.08        541        521        1062                0.22   \n",
       "\n",
       "    2019_EBRW  2019_Math  2019_Total  \n",
       "37        490        472         963  "
      ]
     },
     "execution_count": 75,
     "metadata": {},
     "output_type": "execute_result"
    }
   ],
   "source": [
    "#2017\n",
    "df = sat_data.loc[(sat_data['2017_Participation'] < 0.5) & (sat_data['2017_Total'] < 1055)]\n",
    "df"
   ]
  },
  {
   "cell_type": "code",
   "execution_count": 76,
   "metadata": {},
   "outputs": [
    {
     "data": {
      "text/html": [
       "<div>\n",
       "<style scoped>\n",
       "    .dataframe tbody tr th:only-of-type {\n",
       "        vertical-align: middle;\n",
       "    }\n",
       "\n",
       "    .dataframe tbody tr th {\n",
       "        vertical-align: top;\n",
       "    }\n",
       "\n",
       "    .dataframe thead th {\n",
       "        text-align: right;\n",
       "    }\n",
       "</style>\n",
       "<table border=\"1\" class=\"dataframe\">\n",
       "  <thead>\n",
       "    <tr style=\"text-align: right;\">\n",
       "      <th></th>\n",
       "      <th>State</th>\n",
       "      <th>2017_Participation</th>\n",
       "      <th>2017_EBRW</th>\n",
       "      <th>2017_Math</th>\n",
       "      <th>2017_Total</th>\n",
       "      <th>2018_Participation</th>\n",
       "      <th>2018_EBRW</th>\n",
       "      <th>2018_Math</th>\n",
       "      <th>2018_Total</th>\n",
       "      <th>2019_Participation</th>\n",
       "      <th>2019_EBRW</th>\n",
       "      <th>2019_Math</th>\n",
       "      <th>2019_Total</th>\n",
       "    </tr>\n",
       "  </thead>\n",
       "  <tbody>\n",
       "    <tr>\n",
       "      <th>45</th>\n",
       "      <td>Utah</td>\n",
       "      <td>0.03</td>\n",
       "      <td>624</td>\n",
       "      <td>614</td>\n",
       "      <td>1238</td>\n",
       "      <td>0.04</td>\n",
       "      <td>480</td>\n",
       "      <td>530</td>\n",
       "      <td>1010</td>\n",
       "      <td>0.04</td>\n",
       "      <td>614</td>\n",
       "      <td>615</td>\n",
       "      <td>1230</td>\n",
       "    </tr>\n",
       "    <tr>\n",
       "      <th>49</th>\n",
       "      <td>West Virginia</td>\n",
       "      <td>0.14</td>\n",
       "      <td>558</td>\n",
       "      <td>528</td>\n",
       "      <td>1086</td>\n",
       "      <td>0.28</td>\n",
       "      <td>513</td>\n",
       "      <td>486</td>\n",
       "      <td>999</td>\n",
       "      <td>0.99</td>\n",
       "      <td>483</td>\n",
       "      <td>460</td>\n",
       "      <td>943</td>\n",
       "    </tr>\n",
       "  </tbody>\n",
       "</table>\n",
       "</div>"
      ],
      "text/plain": [
       "            State  2017_Participation  2017_EBRW  2017_Math  2017_Total  \\\n",
       "45           Utah                0.03        624        614        1238   \n",
       "49  West Virginia                0.14        558        528        1086   \n",
       "\n",
       "    2018_Participation  2018_EBRW  2018_Math  2018_Total  2019_Participation  \\\n",
       "45                0.04        480        530        1010                0.04   \n",
       "49                0.28        513        486         999                0.99   \n",
       "\n",
       "    2019_EBRW  2019_Math  2019_Total  \n",
       "45        614        615        1230  \n",
       "49        483        460         943  "
      ]
     },
     "execution_count": 76,
     "metadata": {},
     "output_type": "execute_result"
    }
   ],
   "source": [
    "#2018\n",
    "df = sat_data.loc[(sat_data['2018_Participation'] < 0.5) & (sat_data['2018_Total'] < 1057)]\n",
    "df"
   ]
  },
  {
   "cell_type": "code",
   "execution_count": 77,
   "metadata": {},
   "outputs": [
    {
     "data": {
      "text/html": [
       "<div>\n",
       "<style scoped>\n",
       "    .dataframe tbody tr th:only-of-type {\n",
       "        vertical-align: middle;\n",
       "    }\n",
       "\n",
       "    .dataframe tbody tr th {\n",
       "        vertical-align: top;\n",
       "    }\n",
       "\n",
       "    .dataframe thead th {\n",
       "        text-align: right;\n",
       "    }\n",
       "</style>\n",
       "<table border=\"1\" class=\"dataframe\">\n",
       "  <thead>\n",
       "    <tr style=\"text-align: right;\">\n",
       "      <th></th>\n",
       "      <th>State</th>\n",
       "      <th>2017_Participation</th>\n",
       "      <th>2017_EBRW</th>\n",
       "      <th>2017_Math</th>\n",
       "      <th>2017_Total</th>\n",
       "      <th>2018_Participation</th>\n",
       "      <th>2018_EBRW</th>\n",
       "      <th>2018_Math</th>\n",
       "      <th>2018_Total</th>\n",
       "      <th>2019_Participation</th>\n",
       "      <th>2019_EBRW</th>\n",
       "      <th>2019_Math</th>\n",
       "      <th>2019_Total</th>\n",
       "    </tr>\n",
       "  </thead>\n",
       "  <tbody>\n",
       "    <tr>\n",
       "      <th>37</th>\n",
       "      <td>Oklahoma</td>\n",
       "      <td>0.07</td>\n",
       "      <td>530</td>\n",
       "      <td>517</td>\n",
       "      <td>1047</td>\n",
       "      <td>0.08</td>\n",
       "      <td>541</td>\n",
       "      <td>521</td>\n",
       "      <td>1062</td>\n",
       "      <td>0.22</td>\n",
       "      <td>490</td>\n",
       "      <td>472</td>\n",
       "      <td>963</td>\n",
       "    </tr>\n",
       "  </tbody>\n",
       "</table>\n",
       "</div>"
      ],
      "text/plain": [
       "       State  2017_Participation  2017_EBRW  2017_Math  2017_Total  \\\n",
       "37  Oklahoma                0.07        530        517        1047   \n",
       "\n",
       "    2018_Participation  2018_EBRW  2018_Math  2018_Total  2019_Participation  \\\n",
       "37                0.08        541        521        1062                0.22   \n",
       "\n",
       "    2019_EBRW  2019_Math  2019_Total  \n",
       "37        490        472         963  "
      ]
     },
     "execution_count": 77,
     "metadata": {},
     "output_type": "execute_result"
    }
   ],
   "source": [
    "#2019\n",
    "df = sat_data.loc[(sat_data['2019_Participation'] < 0.5) & (sat_data['2019_Total'] < 1038)]\n",
    "df"
   ]
  },
  {
   "cell_type": "code",
   "execution_count": 78,
   "metadata": {},
   "outputs": [
    {
     "data": {
      "text/html": [
       "<div>\n",
       "<style scoped>\n",
       "    .dataframe tbody tr th:only-of-type {\n",
       "        vertical-align: middle;\n",
       "    }\n",
       "\n",
       "    .dataframe tbody tr th {\n",
       "        vertical-align: top;\n",
       "    }\n",
       "\n",
       "    .dataframe thead th {\n",
       "        text-align: right;\n",
       "    }\n",
       "</style>\n",
       "<table border=\"1\" class=\"dataframe\">\n",
       "  <thead>\n",
       "    <tr style=\"text-align: right;\">\n",
       "      <th></th>\n",
       "      <th>State</th>\n",
       "      <th>2017_Participation</th>\n",
       "      <th>2017_EBRW</th>\n",
       "      <th>2017_Math</th>\n",
       "      <th>2017_Total</th>\n",
       "      <th>2018_Participation</th>\n",
       "      <th>2018_EBRW</th>\n",
       "      <th>2018_Math</th>\n",
       "      <th>2018_Total</th>\n",
       "      <th>2019_Participation</th>\n",
       "      <th>2019_EBRW</th>\n",
       "      <th>2019_Math</th>\n",
       "      <th>2019_Total</th>\n",
       "    </tr>\n",
       "  </thead>\n",
       "  <tbody>\n",
       "    <tr>\n",
       "      <th>37</th>\n",
       "      <td>Oklahoma</td>\n",
       "      <td>0.07</td>\n",
       "      <td>530</td>\n",
       "      <td>517</td>\n",
       "      <td>1047</td>\n",
       "      <td>0.08</td>\n",
       "      <td>541</td>\n",
       "      <td>521</td>\n",
       "      <td>1062</td>\n",
       "      <td>0.22</td>\n",
       "      <td>490</td>\n",
       "      <td>472</td>\n",
       "      <td>963</td>\n",
       "    </tr>\n",
       "  </tbody>\n",
       "</table>\n",
       "</div>"
      ],
      "text/plain": [
       "       State  2017_Participation  2017_EBRW  2017_Math  2017_Total  \\\n",
       "37  Oklahoma                0.07        530        517        1047   \n",
       "\n",
       "    2018_Participation  2018_EBRW  2018_Math  2018_Total  2019_Participation  \\\n",
       "37                0.08        541        521        1062                0.22   \n",
       "\n",
       "    2019_EBRW  2019_Math  2019_Total  \n",
       "37        490        472         963  "
      ]
     },
     "execution_count": 78,
     "metadata": {},
     "output_type": "execute_result"
    }
   ],
   "source": [
    "#details on Oklahoma\n",
    "oklahoma = sat_data.loc[sat_data['State'] == 'Oklahoma']\n",
    "oklahoma"
   ]
  },
  {
   "cell_type": "code",
   "execution_count": 79,
   "metadata": {},
   "outputs": [
    {
     "data": {
      "text/html": [
       "<div>\n",
       "<style scoped>\n",
       "    .dataframe tbody tr th:only-of-type {\n",
       "        vertical-align: middle;\n",
       "    }\n",
       "\n",
       "    .dataframe tbody tr th {\n",
       "        vertical-align: top;\n",
       "    }\n",
       "\n",
       "    .dataframe thead th {\n",
       "        text-align: right;\n",
       "    }\n",
       "</style>\n",
       "<table border=\"1\" class=\"dataframe\">\n",
       "  <thead>\n",
       "    <tr style=\"text-align: right;\">\n",
       "      <th></th>\n",
       "      <th>State</th>\n",
       "      <th>2017_Participation</th>\n",
       "      <th>2017_EBRW</th>\n",
       "      <th>2017_Math</th>\n",
       "      <th>2017_Total</th>\n",
       "      <th>2018_Participation</th>\n",
       "      <th>2018_EBRW</th>\n",
       "      <th>2018_Math</th>\n",
       "      <th>2018_Total</th>\n",
       "      <th>2019_Participation</th>\n",
       "      <th>2019_EBRW</th>\n",
       "      <th>2019_Math</th>\n",
       "      <th>2019_Total</th>\n",
       "    </tr>\n",
       "  </thead>\n",
       "  <tbody>\n",
       "    <tr>\n",
       "      <th>49</th>\n",
       "      <td>West Virginia</td>\n",
       "      <td>0.14</td>\n",
       "      <td>558</td>\n",
       "      <td>528</td>\n",
       "      <td>1086</td>\n",
       "      <td>0.28</td>\n",
       "      <td>513</td>\n",
       "      <td>486</td>\n",
       "      <td>999</td>\n",
       "      <td>0.99</td>\n",
       "      <td>483</td>\n",
       "      <td>460</td>\n",
       "      <td>943</td>\n",
       "    </tr>\n",
       "  </tbody>\n",
       "</table>\n",
       "</div>"
      ],
      "text/plain": [
       "            State  2017_Participation  2017_EBRW  2017_Math  2017_Total  \\\n",
       "49  West Virginia                0.14        558        528        1086   \n",
       "\n",
       "    2018_Participation  2018_EBRW  2018_Math  2018_Total  2019_Participation  \\\n",
       "49                0.28        513        486         999                0.99   \n",
       "\n",
       "    2019_EBRW  2019_Math  2019_Total  \n",
       "49        483        460         943  "
      ]
     },
     "execution_count": 79,
     "metadata": {},
     "output_type": "execute_result"
    }
   ],
   "source": [
    "#details on West Virginia\n",
    "West_Virginia  = sat_data.loc[sat_data['State'] == 'West Virginia']\n",
    "West_Virginia"
   ]
  },
  {
   "cell_type": "code",
   "execution_count": 80,
   "metadata": {},
   "outputs": [
    {
     "data": {
      "text/html": [
       "<div>\n",
       "<style scoped>\n",
       "    .dataframe tbody tr th:only-of-type {\n",
       "        vertical-align: middle;\n",
       "    }\n",
       "\n",
       "    .dataframe tbody tr th {\n",
       "        vertical-align: top;\n",
       "    }\n",
       "\n",
       "    .dataframe thead th {\n",
       "        text-align: right;\n",
       "    }\n",
       "</style>\n",
       "<table border=\"1\" class=\"dataframe\">\n",
       "  <thead>\n",
       "    <tr style=\"text-align: right;\">\n",
       "      <th></th>\n",
       "      <th>State</th>\n",
       "      <th>2017_Participation</th>\n",
       "      <th>2017_EBRW</th>\n",
       "      <th>2017_Math</th>\n",
       "      <th>2017_Total</th>\n",
       "      <th>2018_Participation</th>\n",
       "      <th>2018_EBRW</th>\n",
       "      <th>2018_Math</th>\n",
       "      <th>2018_Total</th>\n",
       "      <th>2019_Participation</th>\n",
       "      <th>2019_EBRW</th>\n",
       "      <th>2019_Math</th>\n",
       "      <th>2019_Total</th>\n",
       "    </tr>\n",
       "  </thead>\n",
       "  <tbody>\n",
       "    <tr>\n",
       "      <th>45</th>\n",
       "      <td>Utah</td>\n",
       "      <td>0.03</td>\n",
       "      <td>624</td>\n",
       "      <td>614</td>\n",
       "      <td>1238</td>\n",
       "      <td>0.04</td>\n",
       "      <td>480</td>\n",
       "      <td>530</td>\n",
       "      <td>1010</td>\n",
       "      <td>0.04</td>\n",
       "      <td>614</td>\n",
       "      <td>615</td>\n",
       "      <td>1230</td>\n",
       "    </tr>\n",
       "  </tbody>\n",
       "</table>\n",
       "</div>"
      ],
      "text/plain": [
       "   State  2017_Participation  2017_EBRW  2017_Math  2017_Total  \\\n",
       "45  Utah                0.03        624        614        1238   \n",
       "\n",
       "    2018_Participation  2018_EBRW  2018_Math  2018_Total  2019_Participation  \\\n",
       "45                0.04        480        530        1010                0.04   \n",
       "\n",
       "    2019_EBRW  2019_Math  2019_Total  \n",
       "45        614        615        1230  "
      ]
     },
     "execution_count": 80,
     "metadata": {},
     "output_type": "execute_result"
    }
   ],
   "source": [
    "#details on Utah\n",
    "utah = sat_data.loc[sat_data['State'] == 'Utah']\n",
    "utah"
   ]
  },
  {
   "cell_type": "markdown",
   "metadata": {},
   "source": [
    "States with less than 50% participation rate and average test scores lower than 25% quartile will require more support (Oklahoma, West Virginia, Utah). The college board will be able to step in and offer these states support by collaborating with the Board of Education to improve participation rates as well as test scores. This is inline with the College Board's mission to connect students to college success and opportunity. Additionally, the college board is also able to offer subsidies for students who are unable to participate in the tests due to financial concerns. The college board can offer more resources for higher education, test taking and teaching materials to encourage students to take on the SAT tests, increasing participation rate for these states. \n",
    "\n",
    "Oklahoma has appeared on the lists for both 2017 and 2019. Participation rate has increased gradually from 7% to 22% from 2017 - 2019. More attention is required from the college board to help support the education system at Oklahoma.Support is required at Utah as participation rate has remained relatively the same from 2017-2019 at 3-4%. The college board will need to partner with the states to help increase SAT participation rates, collaborating with the state to increase access to the SAT test. The college board can offer subsidies for students who are unable to participate in the tests due to financial concerns and work with the state on making the SAT test mandatory. \n",
    "\n",
    "West Virginia on the other hand has 99% participation rate in 2019 as all juniors must take the SAT unless taking the West Virginia Alternative Summer Assessment. However the sat scores for the state was below the 25% quartile for 2018 and 2019. The college board will be able to partner with the state to offer materials to help polish the student's test taking skills. \n",
    "\n",
    "Source:https://blog.prepscholar.com/which-states-require-the-sat\n"
   ]
  },
  {
   "cell_type": "markdown",
   "metadata": {},
   "source": [
    "### 4.  Visualizations"
   ]
  },
  {
   "cell_type": "code",
   "execution_count": 81,
   "metadata": {},
   "outputs": [
    {
     "data": {
      "image/png": "[encoded data removed]",
      "text/plain": [
       "<Figure size 1152x648 with 2 Axes>"
      ]
     },
     "metadata": {
      "needs_background": "light"
     },
     "output_type": "display_data"
    }
   ],
   "source": [
    "sat_data.corr()\n",
    "plt.figure(figsize = (16,9))\n",
    "sns.heatmap(sat_data.corr(), annot=True, cmap=\"YlGnBu\")\n",
    "\n",
    "plt.title('Heatmap of SAT variables')\n",
    "plt.savefig('SAT_corr');"
   ]
  },
  {
   "cell_type": "code",
   "execution_count": 82,
   "metadata": {},
   "outputs": [
    {
     "data": {
      "image/png": "[encoded data removed]",
      "text/plain": [
       "<Figure size 1080x576 with 2 Axes>"
      ]
     },
     "metadata": {
      "needs_background": "light"
     },
     "output_type": "display_data"
    }
   ],
   "source": [
    "plt.figure(figsize=(15,8)) \n",
    "list_col = [\"2017_Participation\", \"2018_Participation\", \"2019_Participation\", \"2017_Total\", \"2018_Total\", \"2019_Total\"]\n",
    "sns.heatmap(sat_data[list_col].corr(), annot=True, cmap=\"YlGnBu\") # heatmap of final participation rates according to correlation index\n",
    "\n",
    "plt.xticks(rotation=\"horizontal\") # rotate xtick labels to horizontal\n",
    "plt.yticks(rotation=\"horizontal\"); # rotate ytick labels to horizontal\n",
    "\n",
    "plt.title(\"Investigating Correlation between Participation from 2017-2019\")\n",
    "plt.savefig('SAT_corr_2');"
   ]
  },
  {
   "cell_type": "markdown",
   "metadata": {},
   "source": [
    "From the heatmap, we are able to notice that the scores for the math section and the scores for the evidence-based reading and writing section for the year have a strong positive correlation to the total SAT scores for the same year. \n",
    "\n",
    "Scores for the math section and the scores for the evidence-based reading and writing section for previous years have a strong positive correlation to the total SAT scores for future years. \n",
    "\n",
    "Participation rates from past years have a strong positive correlation with future participation rates. \n",
    "Participation rate has a strong negative correlation with the average SAT test scores. \n",
    "\n",
    " 2017 - -0.87\n",
    " \n",
    " 2018 - -0.79\n",
    " \n",
    " 2019 - -0.86\n",
    " \n"
   ]
  },
  {
   "cell_type": "code",
   "execution_count": 83,
   "metadata": {},
   "outputs": [
    {
     "data": {
      "image/png": "[encoded data removed]",
      "text/plain": [
       "<Figure size 1080x360 with 3 Axes>"
      ]
     },
     "metadata": {
      "needs_background": "light"
     },
     "output_type": "display_data"
    }
   ],
   "source": [
    "#subplots \n",
    "n_bins = 10\n",
    "\n",
    "\n",
    "dist1 = sat_data['2017_Participation']\n",
    "dist2 = sat_data['2018_Participation']\n",
    "dist3 = sat_data['2019_Participation']\n",
    "\n",
    "fig, axs = plt.subplots(1, 3, sharey=True, tight_layout = True, figsize=(15, 5))\n",
    "\n",
    "\n",
    "axs[0].hist(dist1, bins=n_bins)\n",
    "axs[1].hist(dist2, bins=n_bins)\n",
    "axs[2].hist(dist3, bins=n_bins)\n",
    "\n",
    "axs[0].set_title(\"2017 Participation Rates\", fontsize = 16)\n",
    "axs[1].set_title(\"2018 Participation Rates\", fontsize = 16)\n",
    "axs[2].set_title(\"2019 Participation Rates\", fontsize = 16)\n",
    "\n",
    "plt.xlabel(\"Participation Rates}\", fontsize=16)\n",
    "plt.ylabel(\"Frequency\",fontsize=16)\n",
    "\n",
    "\n",
    "fig.suptitle(' SAT participation rates from 2017-2019 ', fontsize=24)\n",
    "plt.savefig('SAT_bar');"
   ]
  },
  {
   "cell_type": "code",
   "execution_count": 85,
   "metadata": {
    "scrolled": true
   },
   "outputs": [
    {
     "data": {
      "image/png": "[encoded data removed]",
      "text/plain": [
       "<Figure size 1080x360 with 3 Axes>"
      ]
     },
     "metadata": {
      "needs_background": "light"
     },
     "output_type": "display_data"
    }
   ],
   "source": [
    "n_bins = 10\n",
    "\n",
    "\n",
    "dist1 = sat_data [sat_data['2017_Participation'] == 1].iloc[: , 1]\n",
    "dist2 = sat_data [sat_data['2018_Participation'] == 1].iloc[: , 5]\n",
    "dist3 = sat_data [sat_data['2019_Participation'] == 1].iloc[: , 9]\n",
    "\n",
    "fig, axs = plt.subplots(1, 3, sharey=True, tight_layout = True, figsize=(15, 5) )\n",
    "\n",
    "\n",
    "axs[0].hist(dist1, bins=n_bins)\n",
    "axs[1].hist(dist2, bins=n_bins)\n",
    "axs[2].hist(dist3, bins=n_bins)\n",
    "\n",
    "axs[0].set_title(\"2017  100% SAT Participation Counts\", fontsize = 16)\n",
    "axs[1].set_title(\"2018 100% SAT Participation Counts\", fontsize = 16)\n",
    "axs[2].set_title(\"2019 100% SAT Participation Counts\", fontsize = 16)\n",
    "\n",
    "plt.xlabel(\"Average SAT Score\", fontsize=16)\n",
    "plt.ylabel(\"Frequency\",fontsize=16)\n",
    "\n",
    "\n",
    "fig.suptitle(' States with 100% Participation rate from 2017-2019 ', fontsize=24)\n",
    "plt.savefig('SAT_bar_2');"
   ]
  },
  {
   "cell_type": "markdown",
   "metadata": {},
   "source": [
    "More states are seeing 100% SAT participations from 4 states in 2017 to 5 states in 2018 and 8 states in 2019\n",
    "\n",
    "2017 - Connecticut, Delaware, District of Columbia and Michigan\n",
    "\n",
    "2018 - Connecticut, Delaware, Colorado, Idaho and Michigan \n",
    "\n",
    "2019 - Colorado, Connecticut, Delaware, Florida, Idaho, Illinois, Michigan and Rhode island \n",
    "\n",
    "This is seen as more states are making this tests mandatory, resulting in 100% participation rates in the SAT tests. \n",
    "\n",
    "2017, 2018, 2019 Connecticut\n",
    "* As of the 2015-16 school year, all Connecticut juniors will take the SAT.\n",
    "\n",
    "2017, 2018, 2019 Delaware\n",
    "* In 2016, the SAT replaced Delaware's Smarter Assessment state test for 11th graders.\n",
    "\n",
    "2017, 2018, 2019 Michigan\n",
    "* Michigan administered the SAT to juniors statewide for the first time in the 2015-16 school year. The SAT is required for Michigan public school students who are in 11th grade.\n",
    "\n",
    "2018, 2019 Idaho \n",
    "* Each year, Idaho offers a free administration of the SAT to high school juniors.\n",
    "\n",
    "2018, 2019 Colorado\n",
    "* As of the 2016-17 school year, all Colorado juniors in public schools are eligible to take the SAT through Colorado's SAT School Day.\n",
    "\n",
    "2019 Florida\n",
    "*  Many Florida school districts, including those in Central Florida, offer such programs like “SAT school day” programs that allow students to take the exam during the week, at their school, free of charge. This results in the 100% SAT participation rate. \n",
    "\n",
    "2019 Illinois\n",
    "* Beginning with the 2016-17 school year, all Illinois juniors must take the SAT.\n",
    "\n",
    "2019 Rhode Island\n",
    "* Since the 2017-18 school year, all Rhode Island 11th graders must take the SAT.\n",
    "\n",
    "2017 District of Columbia \n",
    "* Although it's not required, the SAT is offered for free to all juniors and seniors in Washington, DC. The D.C. government has funded the SAT in regular and charter public schools for several years. \n",
    "\n",
    "\n",
    "Sources: \n",
    "\n",
    "https://blog.prepscholar.com/which-states-require-the-sat\n",
    "\n",
    "https://www.orlandosentinel.com/news/education/os-ne-sat-scores-florida-20190924-2ycpuogc2ndkrkwzdrkrjgrg64-story.html\n",
    "\n",
    "https://www.washingtonpost.com/local/education/sat-scores-drop-for-2019-class-but-participation-rises-through-testing-in-schools/2019/09/23/332fc4d0-de11-11e9-8dc8-498eabc129a0_story.html\n"
   ]
  },
  {
   "cell_type": "code",
   "execution_count": 86,
   "metadata": {
    "scrolled": true
   },
   "outputs": [
    {
     "data": {
      "image/png": "[encoded data removed]",
      "text/plain": [
       "<Figure size 1080x576 with 1 Axes>"
      ]
     },
     "metadata": {
      "needs_background": "light"
     },
     "output_type": "display_data"
    }
   ],
   "source": [
    "list_of_columns = [\"2017_Participation\", \"2018_Participation\",\n",
    "                   \"2019_Participation\"] # boxplot of SAT participation rates\n",
    "\n",
    "sat_data[list_of_columns].plot(kind=\"box\", figsize=[15,8])\n",
    "\n",
    "plt.title(\"Boxplot of SAT Participation Rates across 2017-2019\", size=20 ) # set title\n",
    "plt.ylabel(\"Participation Rate\", size=10); # set ylabel\n",
    "\n",
    "plt.savefig('SAT_box')"
   ]
  },
  {
   "cell_type": "code",
   "execution_count": 85,
   "metadata": {},
   "outputs": [
    {
     "name": "stdout",
     "output_type": "stream",
     "text": [
      " The interquartile range for the participation rates in 2017 is 0.62\n",
      " The interquartile range for the participation rates in 2018 is 0.73\n",
      " The interquartile range for the participation rates in 2019 is 0.7649999999999999\n"
     ]
    }
   ],
   "source": [
    "q3 , q1 = np.percentile(sat_data['2017_Participation'], [75 ,25])\n",
    "IQR_2017 = q3 - q1\n",
    "\n",
    "q3 , q1 = np.percentile(sat_data['2018_Participation'], [75 ,25])\n",
    "IQR_2018 = q3 - q1\n",
    "\n",
    "q3 , q1 = np.percentile(sat_data['2019_Participation'], [75 ,25])\n",
    "IQR_2019 = q3 - q1\n",
    "\n",
    "\n",
    "print(f\" The interquartile range for the participation rates in 2017 is {IQR_2017}\")\n",
    "print(f\" The interquartile range for the participation rates in 2018 is {IQR_2018}\")\n",
    "print(f\" The interquartile range for the participation rates in 2019 is {IQR_2019}\")"
   ]
  },
  {
   "cell_type": "markdown",
   "metadata": {},
   "source": [
    "Through the boxplot, we are able to notice that the  median for the participation has increased gradually from 2017 - 2019. \n",
    "We are able to notice the center of the boxplots nearing 0.6 for both 2018 and 2019. We are also able to notice that the data for 2019 has higher variability as compared to 2017 due to the higher Interquartile Range (IQR) for 2019 as compared to 2017. The median participation rate for 2017 was generally closer to the first quartile (Q1 at 25%) which suggest a skew towards lower participation rates. The median scores for 2018 and 2019 are generally in the middle. "
   ]
  },
  {
   "cell_type": "code",
   "execution_count": 87,
   "metadata": {},
   "outputs": [
    {
     "data": {
      "image/png": "[encoded data removed]",
      "text/plain": [
       "<Figure size 1080x360 with 3 Axes>"
      ]
     },
     "metadata": {
      "needs_background": "light"
     },
     "output_type": "display_data"
    }
   ],
   "source": [
    "#Matplotlib distribution of SAT scores from 2017 - 2019\n",
    "n_bins = 10\n",
    "\n",
    "\n",
    "dist1 = sat_data['2017_Total']\n",
    "dist2 = sat_data['2018_Total']\n",
    "dist3 = sat_data['2019_Total']\n",
    "\n",
    "fig, axs = plt.subplots(1, 3, sharey=True, tight_layout = True, figsize=(15, 5) )\n",
    "\n",
    "\n",
    "axs[0].hist(dist1, bins=n_bins)\n",
    "axs[1].hist(dist2, bins=n_bins)\n",
    "axs[2].hist(dist3, bins=n_bins)\n",
    "\n",
    "axs[0].set_title(\"2017 SAT Scores\", fontsize = 16)\n",
    "axs[1].set_title(\"2018 SAT Scores\", fontsize = 16)\n",
    "axs[2].set_title(\"2019 SAT Scores\", fontsize = 16)\n",
    "\n",
    "plt.xlabel(\"Average SAT Score\", fontsize=16)\n",
    "plt.ylabel(\"Frequency\",fontsize=16)\n",
    "\n",
    "\n",
    "fig.suptitle(' SAT scores from 2017-2019 ', fontsize=24)\n",
    "plt.savefig('SAT_bar_3');"
   ]
  },
  {
   "cell_type": "code",
   "execution_count": 88,
   "metadata": {},
   "outputs": [
    {
     "name": "stderr",
     "output_type": "stream",
     "text": [
      "C:\\Users\\wongs\\anaconda3\\lib\\site-packages\\seaborn\\distributions.py:2557: FutureWarning: `distplot` is a deprecated function and will be removed in a future version. Please adapt your code to use either `displot` (a figure-level function with similar flexibility) or `histplot` (an axes-level function for histograms).\n",
      "  warnings.warn(msg, FutureWarning)\n",
      "C:\\Users\\wongs\\anaconda3\\lib\\site-packages\\seaborn\\distributions.py:2557: FutureWarning: `distplot` is a deprecated function and will be removed in a future version. Please adapt your code to use either `displot` (a figure-level function with similar flexibility) or `histplot` (an axes-level function for histograms).\n",
      "  warnings.warn(msg, FutureWarning)\n",
      "C:\\Users\\wongs\\anaconda3\\lib\\site-packages\\seaborn\\distributions.py:2557: FutureWarning: `distplot` is a deprecated function and will be removed in a future version. Please adapt your code to use either `displot` (a figure-level function with similar flexibility) or `histplot` (an axes-level function for histograms).\n",
      "  warnings.warn(msg, FutureWarning)\n"
     ]
    },
    {
     "data": {
      "image/png": "[encoded data removed]",
      "text/plain": [
       "<Figure size 1080x360 with 3 Axes>"
      ]
     },
     "metadata": {
      "needs_background": "light"
     },
     "output_type": "display_data"
    }
   ],
   "source": [
    "#Seaborn displot distribution of SAT scores from 2017 - 2019\n",
    "n_bins = 10\n",
    "\n",
    "\n",
    "dist1 = sat_data['2017_Total']\n",
    "dist2 = sat_data['2018_Total']\n",
    "dist3 = sat_data['2019_Total']\n",
    "\n",
    "fig, axs = plt.subplots(1, 3, sharey=True, tight_layout = True, figsize=(15, 5) )\n",
    "\n",
    "\n",
    "sns.distplot(ax = axs[0], a = sat_data['2017_Total'], color = 'red', hist = True)\n",
    "sns.distplot(ax = axs[1], a = sat_data['2018_Total'], color = 'skyblue' , hist = True)\n",
    "sns.distplot(ax = axs[2], a = sat_data['2019_Total'], color = 'olive', hist = True);\n",
    "\n",
    "axs[0].set_title(\"2017 SAT Scores\", fontsize = 16)\n",
    "axs[1].set_title(\"2018 SAT Score\", fontsize = 16)\n",
    "axs[2].set_title(\"2019 SAT Score\", fontsize = 16)\n",
    "\n",
    "\n",
    "plt.xlabel(\"SAT Score\", fontsize=16)\n",
    "\n",
    "\n",
    "fig.suptitle('Distribution of SAT scores 2017-2019 ', fontsize=24)\n",
    "plt.savefig('SAT_bar_4');"
   ]
  },
  {
   "cell_type": "code",
   "execution_count": 89,
   "metadata": {},
   "outputs": [
    {
     "data": {
      "image/png": "[encoded data removed]",
      "text/plain": [
       "<Figure size 1080x360 with 3 Axes>"
      ]
     },
     "metadata": {},
     "output_type": "display_data"
    }
   ],
   "source": [
    "#Whether there is any correlation between the SAT scores and the participation rates\n",
    "#Participation rates by State \n",
    "sns.set_theme(style=\"whitegrid\")\n",
    "\n",
    "f, axes = plt.subplots(1,3, figsize=(15, 5))\n",
    "sns.despine(left=True)\n",
    "plt.subplots_adjust(hspace = .5)\n",
    "\n",
    "ax=axes[0]\n",
    "ax.set_title(\"Overall SAT score by participation 2017\");\n",
    "sns.regplot(x=\"2017_Participation\", y=\"2017_Total\", data=sat_data, ax=ax)\n",
    "ax.set_xlabel(\"Participation Rate\")\n",
    "ax.set_ylabel(\"SAT Score\")\n",
    "\n",
    "ax=axes[1]\n",
    "ax.set_title(\"Overall SAT score by participation 2018\");\n",
    "sns.regplot(x=\"2018_Participation\", y=\"2018_Total\", data=sat_data, ax=ax,)\n",
    "ax.set_xlabel(\"Participation Rate\")\n",
    "ax.set_ylabel(\"SAT Score\")\n",
    "\n",
    "\n",
    "ax=axes[2]\n",
    "ax.set_title(\"Overall SAT score by participation 2019\");\n",
    "sns.regplot(x=\"2019_Participation\", y=\"2019_Total\", data=sat_data, ax=ax)\n",
    "ax.set_xlabel(\"Participation Rate\")\n",
    "ax.set_ylabel(\"SAT Score\")\n",
    "\n",
    "plt.savefig('SAT_scatter');\n"
   ]
  },
  {
   "cell_type": "markdown",
   "metadata": {},
   "source": [
    "It is noted in the scatterplot for 2017-2019 that there is a strong negative correlation between the participation rate and the SAT scores for 2017, 2018 and 2019. \n",
    "\n",
    "\n",
    " 2017 - correlation = -0.87\n",
    " \n",
    " 2018 - correlation =  -0.79\n",
    "\n",
    " 2019 - correlation =  -0.86 \n",
    " \n",
    " \n",
    "When the participation rate is high, the overall average SAT score will be low. Conversely, when the participation rate is low, the overall average SAT score will be high. The SAT scores are negatively correlated to the the SAT participation rate. This shows that states that had low participation rate and high scores had students that are well-prepared for the SAT. \n",
    "\n",
    "While states with high participation rates have more students than ever took the exam, many of them from low-income families or from families with no history of college attendance. Those students typically don’t score as well on the exam as teenagers from wealthier families and with parents who are college graduates.\n",
    "\n",
    "Despite relatively high variance on the SAT among states below 40% participation, a linear relationship can still be intepreted between participation and state average.\n",
    "\n",
    "source: https://www.orlandosentinel.com/news/education/os-ne-sat-scores-florida-20190924-2ycpuogc2ndkrkwzdrkrjgrg64-story.html"
   ]
  },
  {
   "cell_type": "markdown",
   "metadata": {},
   "source": [
    "## Conclusions and Recommendations"
   ]
  },
  {
   "cell_type": "markdown",
   "metadata": {},
   "source": [
    "\n",
    "The key takeaways from the data for the SAT from 2017 - 2019 are: \n",
    "\n",
    "1) Strong negative correlation between the participation rate and the overall average SAT scores(-0.87(2017), -0.79(2018),-0.86(2019)). States that had low participation rate and high scores had students that are well-prepared for the SAT. While states with high participation rates have more students than ever took the exam, many of them from low-income families or from families with no history of college attendance. Those students typically do not score as well on the exam as teenagers from wealthier families and with parents who are college graduates. Despite relatively high variance on the SAT among states below 40% participation, a linear relationship can still be intepreted between participation and state average.\n",
    "\n",
    "2) More states are seeing 100% SAT participations from 4 states in 2017 to 5 states in 2018 and 8 states in 2019. \n",
    "\n",
    "2017 - Connecticut, Delaware, District of Columbia and Michigan\n",
    "\n",
    "2018 - Connecticut, Delaware, Colorado, Idaho and Michigan \n",
    "\n",
    "2019 - Colorado, Connecticut, Delaware, Florida, Idaho, Illinois, Michigan and Rhode island \n",
    "\n",
    "We are able to see an increasing trend in states taking the SAT test as more states are making this tests mandatory, resulting in 100% participation rates in the SAT tests. Certain states are also offering SAT for free for all juniors. e.g. Illinois, Idaho, Michigan, Connecticut, Colorado (for jumiors only),Delaware, District of Columbia (Juniors & Seniors), Rhode Island (Juniors). There is greater accessibility to SAT tests for students in these states.\n",
    "\n",
    "Source: https://www.collegeraptor.com/getting-in/articles/act-sat/states-act-sat-given-free/\n",
    "\n",
    "\n",
    "3) SAT Participation rates have been growing consistently from 2017 - 2019. Through the boxplot, we are able to notice that the  median for the participation has increased gradually from 2017 - 2019.There are also positive correlations in the participation rates from 2017 -2019 with more than 0.8.\n",
    "\n",
    "\n",
    "\n",
    "Recommendations in improving the SAT participation rates would include the following:\n",
    "\n",
    "1) The College Board can increase efforts in working with states, collaborating with states to increase participation rates. Work with states to require SAT in their education system. In supporting this decision, the college board will have to work with educators to ensure that the SAT is fair in measuring a high school student's readiness for college. \n",
    "\n",
    "2) The College Board can also offer subsidies for taking the SAT tests to support students with financial difficulties, increasing accessibility for students to take the test while removing the financial burden for these students.\n",
    "\n",
    "3) Implementing online testing will ensure that SAT is more widely available internationally and also to reduce the risk during the covid pandemic. \n",
    "\n",
    "4) States with less than 50% participation rate and average test scores lower than 25% quartile will require more support (Oklahoma, West Virginia, Utah). The college board will be able to step in and offer these states support by collaborating with the Board of Education to improve participation rates as well as test scores. This is inline with the College Board's mission to connect students to college success and opportunity. Additionally, the college board is also able to offer subsidies for students who are unable to participate in the tests due to financial concerns. The college board can offer more resources for higher education, test taking and teaching materials to encourage students to take on the SAT tests, increasing participation rate for these states. \n",
    "\n",
    "Oklahoma has appeared on the lists for both 2017 and 2019. Participation rate has increased gradually from 7% to 22% from 2017 - 2019. More attention is required from the college board to help support the education system at Oklahoma.Support is required at Utah as participation rate has remained relatively the same from 2017-2019 at 3-4%. The college board will need to partner with the states to help increase SAT participation rates, collaborating with the state to increase access to the SAT test. The college board can offer subsidies for students who are unable to participate in the tests due to financial concerns and work with the state on making the SAT test mandatory. \n",
    "\n",
    "West Virginia on the other hand has 99% participation rate in 2019 as all juniors must take the SAT unless taking the West Virginia Alternative Summer Assessment. However the sat scores for the state was below the 25% quartile for 2018 and 2019. The college board will be able to partner with the state to offer materials to help polish the student's test taking skills. "
   ]
  },
  {
   "cell_type": "code",
   "execution_count": null,
   "metadata": {},
   "outputs": [],
   "source": []
  }
 ],
 "metadata": {
  "anaconda-cloud": {},
  "kernelspec": {
   "display_name": "Python 3",
   "language": "python",
   "name": "python3"
  },
  "language_info": {
   "codemirror_mode": {
    "name": "ipython",
    "version": 3
   },
   "file_extension": ".py",
   "mimetype": "text/x-python",
   "name": "python",
   "nbconvert_exporter": "python",
   "pygments_lexer": "ipython3",
   "version": "3.8.8"
  }
 },
 "nbformat": 4,
 "nbformat_minor": 4
}
