{
 "cells": [
  {
   "cell_type": "markdown",
   "id": "09cb00cd",
   "metadata": {},
   "source": [
    "# 4. Data Preparation\n",
    "\n",
    "Data will be prepared before modelling. "
   ]
  },
  {
   "cell_type": "code",
   "execution_count": 56,
   "id": "b6628969",
   "metadata": {},
   "outputs": [],
   "source": [
    "#Import train and test data CSV for prediction \n",
    "train_data = pd.read_csv(\"./datasets/train.csv\")\n",
    "test_data = pd.read_csv(\"./datasets/test.csv\")"
   ]
  },
  {
   "cell_type": "code",
   "execution_count": 57,
   "id": "5ecc24ed",
   "metadata": {},
   "outputs": [
    {
     "data": {
      "text/plain": [
       "(2051, 81)"
      ]
     },
     "execution_count": 57,
     "metadata": {},
     "output_type": "execute_result"
    }
   ],
   "source": [
    "train_data.shape"
   ]
  },
  {
   "cell_type": "code",
   "execution_count": 58,
   "id": "81127532",
   "metadata": {},
   "outputs": [
    {
     "data": {
      "text/plain": [
       "(878, 80)"
      ]
     },
     "execution_count": 58,
     "metadata": {},
     "output_type": "execute_result"
    }
   ],
   "source": [
    "test_data.shape"
   ]
  },
  {
   "cell_type": "code",
   "execution_count": 59,
   "id": "10e4c830",
   "metadata": {},
   "outputs": [
    {
     "data": {
      "text/plain": [
       "Index(['Id', 'PID', 'MS SubClass', 'MS Zoning', 'Lot Frontage', 'Lot Area',\n",
       "       'Street', 'Alley', 'Lot Shape', 'Land Contour', 'Utilities',\n",
       "       'Lot Config', 'Land Slope', 'Neighborhood', 'Condition 1',\n",
       "       'Condition 2', 'Bldg Type', 'House Style', 'Overall Qual',\n",
       "       'Overall Cond', 'Year Built', 'Year Remod/Add', 'Roof Style',\n",
       "       'Roof Matl', 'Exterior 1st', 'Exterior 2nd', 'Mas Vnr Type',\n",
       "       'Mas Vnr Area', 'Exter Qual', 'Exter Cond', 'Foundation', 'Bsmt Qual',\n",
       "       'Bsmt Cond', 'Bsmt Exposure', 'BsmtFin Type 1', 'BsmtFin SF 1',\n",
       "       'BsmtFin Type 2', 'BsmtFin SF 2', 'Bsmt Unf SF', 'Total Bsmt SF',\n",
       "       'Heating', 'Heating QC', 'Central Air', 'Electrical', '1st Flr SF',\n",
       "       '2nd Flr SF', 'Low Qual Fin SF', 'Gr Liv Area', 'Bsmt Full Bath',\n",
       "       'Bsmt Half Bath', 'Full Bath', 'Half Bath', 'Bedroom AbvGr',\n",
       "       'Kitchen AbvGr', 'Kitchen Qual', 'TotRms AbvGrd', 'Functional',\n",
       "       'Fireplaces', 'Fireplace Qu', 'Garage Type', 'Garage Yr Blt',\n",
       "       'Garage Finish', 'Garage Cars', 'Garage Area', 'Garage Qual',\n",
       "       'Garage Cond', 'Paved Drive', 'Wood Deck SF', 'Open Porch SF',\n",
       "       'Enclosed Porch', '3Ssn Porch', 'Screen Porch', 'Pool Area', 'Pool QC',\n",
       "       'Fence', 'Misc Feature', 'Misc Val', 'Mo Sold', 'Yr Sold', 'Sale Type'],\n",
       "      dtype='object')"
      ]
     },
     "execution_count": 59,
     "metadata": {},
     "output_type": "execute_result"
    }
   ],
   "source": [
    "test_data.columns"
   ]
  },
  {
   "cell_type": "code",
   "execution_count": 60,
   "id": "d28c0433",
   "metadata": {},
   "outputs": [
    {
     "data": {
      "text/plain": [
       "Index(['Id', 'PID', 'MS SubClass', 'MS Zoning', 'Lot Frontage', 'Lot Area',\n",
       "       'Street', 'Alley', 'Lot Shape', 'Land Contour', 'Utilities',\n",
       "       'Lot Config', 'Land Slope', 'Neighborhood', 'Condition 1',\n",
       "       'Condition 2', 'Bldg Type', 'House Style', 'Overall Qual',\n",
       "       'Overall Cond', 'Year Built', 'Year Remod/Add', 'Roof Style',\n",
       "       'Roof Matl', 'Exterior 1st', 'Exterior 2nd', 'Mas Vnr Type',\n",
       "       'Mas Vnr Area', 'Exter Qual', 'Exter Cond', 'Foundation', 'Bsmt Qual',\n",
       "       'Bsmt Cond', 'Bsmt Exposure', 'BsmtFin Type 1', 'BsmtFin SF 1',\n",
       "       'BsmtFin Type 2', 'BsmtFin SF 2', 'Bsmt Unf SF', 'Total Bsmt SF',\n",
       "       'Heating', 'Heating QC', 'Central Air', 'Electrical', '1st Flr SF',\n",
       "       '2nd Flr SF', 'Low Qual Fin SF', 'Gr Liv Area', 'Bsmt Full Bath',\n",
       "       'Bsmt Half Bath', 'Full Bath', 'Half Bath', 'Bedroom AbvGr',\n",
       "       'Kitchen AbvGr', 'Kitchen Qual', 'TotRms AbvGrd', 'Functional',\n",
       "       'Fireplaces', 'Fireplace Qu', 'Garage Type', 'Garage Yr Blt',\n",
       "       'Garage Finish', 'Garage Cars', 'Garage Area', 'Garage Qual',\n",
       "       'Garage Cond', 'Paved Drive', 'Wood Deck SF', 'Open Porch SF',\n",
       "       'Enclosed Porch', '3Ssn Porch', 'Screen Porch', 'Pool Area', 'Pool QC',\n",
       "       'Fence', 'Misc Feature', 'Misc Val', 'Mo Sold', 'Yr Sold', 'Sale Type',\n",
       "       'SalePrice'],\n",
       "      dtype='object')"
      ]
     },
     "execution_count": 60,
     "metadata": {},
     "output_type": "execute_result"
    }
   ],
   "source": [
    "train_data.columns"
   ]
  },
  {
   "cell_type": "markdown",
   "id": "45511501",
   "metadata": {},
   "source": [
    "# 4.1 Clean and transform data, feature engineering"
   ]
  },
  {
   "cell_type": "code",
   "execution_count": 61,
   "id": "cd342ef7",
   "metadata": {},
   "outputs": [],
   "source": [
    "remove_row = ['BsmtFin SF 1', 'BsmtFin SF 2', 'Bsmt Unf SF', 'Total Bsmt SF', 'Bsmt Full Bath', 'Bsmt Half Bath', \\\n",
    "              'Garage Cars', 'Garage Area']\n",
    "\n",
    "drop_col = ['Lot Frontage','PID', 'Mo Sold', 'Garage Yr Blt', 'Year Remod/Add', 'Year Built', 'Garage Cars',\\\n",
    "           'Total Bsmt SF', '1st Flr SF', '2nd Flr SF', 'Sale Type']\n",
    "#reasons for dropping columns \n",
    "# Year Built & 'Garage Yr Blt': New variable created - \"House Age\"\n",
    "# Year Remod/Add: New variable created - \"Age Remod\"\n",
    "# Garage Cars: Similar correlation to Garage Area\n",
    "# Bsmt Variables: New variable created - Total SF\n",
    "#Sale Type: Not a feature of the house\n",
    "\n",
    "\n",
    "input_0 = ['Mas Vnr Area'] \n",
    "input_na = ['Alley', 'Mas Vnr Type', 'Bsmt Qual', 'Bsmt Cond', 'Bsmt Exposure', 'BsmtFin Type 1', 'BsmtFin Type 2', \\\n",
    "              'Fireplace Qu', 'Garage Type', 'Garage Yr Blt', 'Garage Finish', 'Garage Qual', 'Garage Cond', 'Pool QC',\\\n",
    "          'Fence', 'Misc Feature']"
   ]
  },
  {
   "cell_type": "code",
   "execution_count": 62,
   "id": "e951b1f9",
   "metadata": {
    "scrolled": false
   },
   "outputs": [
    {
     "data": {
      "text/plain": [
       "Index(['Id', 'PID', 'MS SubClass', 'MS Zoning', 'Lot Frontage', 'Lot Area',\n",
       "       'Street', 'Alley', 'Lot Shape', 'Land Contour', 'Utilities',\n",
       "       'Lot Config', 'Land Slope', 'Neighborhood', 'Condition 1',\n",
       "       'Condition 2', 'Bldg Type', 'House Style', 'Overall Qual',\n",
       "       'Overall Cond', 'Year Built', 'Year Remod/Add', 'Roof Style',\n",
       "       'Roof Matl', 'Exterior 1st', 'Exterior 2nd', 'Mas Vnr Type',\n",
       "       'Mas Vnr Area', 'Exter Qual', 'Exter Cond', 'Foundation', 'Bsmt Qual',\n",
       "       'Bsmt Cond', 'Bsmt Exposure', 'BsmtFin Type 1', 'BsmtFin SF 1',\n",
       "       'BsmtFin Type 2', 'BsmtFin SF 2', 'Bsmt Unf SF', 'Total Bsmt SF',\n",
       "       'Heating', 'Heating QC', 'Central Air', 'Electrical', '1st Flr SF',\n",
       "       '2nd Flr SF', 'Low Qual Fin SF', 'Gr Liv Area', 'Bsmt Full Bath',\n",
       "       'Bsmt Half Bath', 'Full Bath', 'Half Bath', 'Bedroom AbvGr',\n",
       "       'Kitchen AbvGr', 'Kitchen Qual', 'TotRms AbvGrd', 'Functional',\n",
       "       'Fireplaces', 'Fireplace Qu', 'Garage Type', 'Garage Yr Blt',\n",
       "       'Garage Finish', 'Garage Cars', 'Garage Area', 'Garage Qual',\n",
       "       'Garage Cond', 'Paved Drive', 'Wood Deck SF', 'Open Porch SF',\n",
       "       'Enclosed Porch', '3Ssn Porch', 'Screen Porch', 'Pool Area', 'Pool QC',\n",
       "       'Fence', 'Misc Feature', 'Misc Val', 'Mo Sold', 'Yr Sold', 'Sale Type',\n",
       "       'SalePrice'],\n",
       "      dtype='object')"
      ]
     },
     "execution_count": 62,
     "metadata": {},
     "output_type": "execute_result"
    }
   ],
   "source": [
    "train_data.columns"
   ]
  },
  {
   "cell_type": "code",
   "execution_count": 63,
   "id": "d6d2ad03",
   "metadata": {},
   "outputs": [],
   "source": [
    "#Training Data cleaning \n",
    "\n",
    "#drop rows\n",
    "train_data.dropna(subset=remove_row, inplace=True)\n",
    "\n",
    "#Input 0 \n",
    "train_data['Mas Vnr Area'] .fillna( 0, inplace = True) \n",
    "\n",
    "#Input None\n",
    "[train_data[col].fillna( 'None', inplace = True) for col in input_na]\n",
    "\n",
    "#Add new columns \n",
    "train_data[\"House Age\"] = train_data[\"Yr Sold\"] - train_data[\"Year Built\"]\n",
    "train_data[\"Total SF\"] = (train_data[\"Total Bsmt SF\"] + train_data[\"1st Flr SF\"] + train_data[\"2nd Flr SF\"]) \n",
    "\n",
    "#Remove outliers\n",
    "train_data.drop(train_data.loc[train_data['Gr Liv Area']>5000].index, inplace=True)\n",
    "train_data.drop(train_data.loc[train_data['Total SF']>10000].index, inplace=True)\n",
    "\n",
    "#drop columns \n",
    "train_data = train_data[train_data.columns[~train_data.columns.isin(drop_col)]]"
   ]
  },
  {
   "cell_type": "code",
   "execution_count": 64,
   "id": "044fe728",
   "metadata": {},
   "outputs": [],
   "source": [
    "#Test data cleaning\n",
    "#The test data will also be cleaned as well but the outliers and rows will not be removed as \n",
    "#Kaggle submission requires a certain number of rows for submission\n",
    "\n",
    "#Input 0 \n",
    "test_data['Mas Vnr Area'] .fillna( 0, inplace = True) \n",
    "\n",
    "#Input None\n",
    "[test_data[col].fillna( 'None', inplace = True) for col in input_na]\n",
    "\n",
    "#Add new columns \n",
    "test_data[\"House Age\"] = test_data[\"Yr Sold\"] - test_data[\"Year Built\"]\n",
    "test_data[\"Total SF\"] = (test_data[\"Total Bsmt SF\"] + test_data[\"1st Flr SF\"] + test_data[\"2nd Flr SF\"]) \n",
    "\n",
    "#drop columns \n",
    "test_data = test_data[test_data.columns[~test_data.columns.isin(drop_col)]]"
   ]
  },
  {
   "cell_type": "code",
   "execution_count": 65,
   "id": "95ccfe9f",
   "metadata": {},
   "outputs": [
    {
     "data": {
      "text/plain": [
       "Index(['Id', 'MS SubClass', 'MS Zoning', 'Lot Area', 'Street', 'Alley',\n",
       "       'Lot Shape', 'Land Contour', 'Utilities', 'Lot Config', 'Land Slope',\n",
       "       'Neighborhood', 'Condition 1', 'Condition 2', 'Bldg Type',\n",
       "       'House Style', 'Overall Qual', 'Overall Cond', 'Roof Style',\n",
       "       'Roof Matl', 'Exterior 1st', 'Exterior 2nd', 'Mas Vnr Type',\n",
       "       'Mas Vnr Area', 'Exter Qual', 'Exter Cond', 'Foundation', 'Bsmt Qual',\n",
       "       'Bsmt Cond', 'Bsmt Exposure', 'BsmtFin Type 1', 'BsmtFin SF 1',\n",
       "       'BsmtFin Type 2', 'BsmtFin SF 2', 'Bsmt Unf SF', 'Heating',\n",
       "       'Heating QC', 'Central Air', 'Electrical', 'Low Qual Fin SF',\n",
       "       'Gr Liv Area', 'Bsmt Full Bath', 'Bsmt Half Bath', 'Full Bath',\n",
       "       'Half Bath', 'Bedroom AbvGr', 'Kitchen AbvGr', 'Kitchen Qual',\n",
       "       'TotRms AbvGrd', 'Functional', 'Fireplaces', 'Fireplace Qu',\n",
       "       'Garage Type', 'Garage Finish', 'Garage Area', 'Garage Qual',\n",
       "       'Garage Cond', 'Paved Drive', 'Wood Deck SF', 'Open Porch SF',\n",
       "       'Enclosed Porch', '3Ssn Porch', 'Screen Porch', 'Pool Area', 'Pool QC',\n",
       "       'Fence', 'Misc Feature', 'Misc Val', 'Yr Sold', 'House Age',\n",
       "       'Total SF'],\n",
       "      dtype='object')"
      ]
     },
     "execution_count": 65,
     "metadata": {},
     "output_type": "execute_result"
    }
   ],
   "source": [
    "test_data.columns"
   ]
  },
  {
   "cell_type": "code",
   "execution_count": 66,
   "id": "95b82ec0",
   "metadata": {
    "scrolled": true
   },
   "outputs": [
    {
     "name": "stdout",
     "output_type": "stream",
     "text": [
      "(878, 71) (2046, 72)\n"
     ]
    }
   ],
   "source": [
    "print(test_data.shape, train_data.shape)"
   ]
  },
  {
   "cell_type": "code",
   "execution_count": 67,
   "id": "8cd4e999",
   "metadata": {},
   "outputs": [
    {
     "data": {
      "text/plain": [
       "['SalePrice']"
      ]
     },
     "execution_count": 67,
     "metadata": {},
     "output_type": "execute_result"
    }
   ],
   "source": [
    "#Saleprice is in training data, but not in the test data\n",
    "[col for col in train_data.columns if col not in test_data.columns]"
   ]
  },
  {
   "cell_type": "markdown",
   "id": "5107e501",
   "metadata": {},
   "source": [
    "# 4.2  One-hot encoding\n",
    "\n",
    "Categorical variables will be hot-encoded"
   ]
  },
  {
   "cell_type": "code",
   "execution_count": 68,
   "id": "7c4fe8a7",
   "metadata": {},
   "outputs": [],
   "source": [
    "categorical_cols = ['MS Zoning', 'Street', 'Alley', 'Lot Shape', 'Land Contour',\n",
    "       'Utilities', 'Lot Config', 'Land Slope', 'Neighborhood', 'Condition 1',\n",
    "       'Condition 2', 'Bldg Type', 'House Style', 'Roof Style', 'Roof Matl',\n",
    "       'Exterior 1st', 'Exterior 2nd', 'Mas Vnr Type', 'Exter Qual',\n",
    "       'Exter Cond', 'Foundation', 'Bsmt Qual', 'Bsmt Cond', 'Bsmt Exposure',\n",
    "       'BsmtFin Type 1', 'BsmtFin Type 2', 'Heating', 'Heating QC',\n",
    "       'Central Air', 'Electrical', 'Kitchen Qual', 'Functional',\n",
    "       'Fireplace Qu', 'Garage Type', 'Garage Finish',\n",
    "       'Garage Qual', 'Garage Cond', 'Paved Drive', 'Pool QC', 'Fence',\n",
    "       'Misc Feature']"
   ]
  },
  {
   "cell_type": "code",
   "execution_count": 69,
   "id": "0710c82b",
   "metadata": {},
   "outputs": [],
   "source": [
    "#one-hot encoding categorical features of a house \n",
    "train_dummies = pd.get_dummies(train_data, columns = categorical_cols)\n",
    "test_dummies = pd.get_dummies(test_data, columns = categorical_cols)"
   ]
  },
  {
   "cell_type": "markdown",
   "id": "e3c79899",
   "metadata": {},
   "source": [
    "# 4.3 Drop features with little variance \n",
    "\n",
    "Features with low variance will be removed for dimensionality reduction as a feature with low variance cannot explain much of the variance in SalePrice"
   ]
  },
  {
   "cell_type": "code",
   "execution_count": 70,
   "id": "5f2b89f6",
   "metadata": {},
   "outputs": [],
   "source": [
    "low_variance = train_dummies.var().sort_values(ascending=False)\n",
    "low_variance = low_variance[low_variance.values < 0.002]"
   ]
  },
  {
   "cell_type": "code",
   "execution_count": 71,
   "id": "8f3bc991",
   "metadata": {},
   "outputs": [
    {
     "data": {
      "text/plain": [
       "Index(['Roof Matl_WdShake', 'Misc Feature_Gar2', 'Heating QC_Po',\n",
       "       'Condition 2_PosN', 'Misc Feature_Othr', 'Exterior 2nd_AsphShn',\n",
       "       'Condition 1_RRNe', 'Exterior 1st_BrkComm', 'Roof Style_Shed',\n",
       "       'Pool QC_Gd', 'Garage Qual_Ex', 'Neighborhood_Greens',\n",
       "       'Condition 2_PosA', 'Bsmt Cond_Ex', 'MS Zoning_A (agr)',\n",
       "       'Utilities_AllPub', 'Pool QC_Fa', 'Foundation_Wood', 'Heating_OthW',\n",
       "       'Exterior 1st_Stone', 'Exterior 1st_CBlock', 'Condition 2_RRNn',\n",
       "       'Exter Cond_Po', 'Garage Cond_Ex', 'Functional_Sal', 'Garage Qual_Po',\n",
       "       'Neighborhood_GrnHill', 'Functional_Sev', 'Pool QC_TA',\n",
       "       'Exterior 2nd_CBlock', 'Utilities_NoSeWa', 'Utilities_NoSewr',\n",
       "       'Exterior 1st_ImStucc', 'Pool QC_Ex', 'Bsmt Qual_Po',\n",
       "       'Neighborhood_Landmrk', 'Exterior 1st_AsphShn', 'Roof Matl_Membran',\n",
       "       'MS Zoning_I (all)', 'Condition 2_RRAn', 'Condition 2_RRAe',\n",
       "       'Electrical_Mix', 'Misc Feature_TenC'],\n",
       "      dtype='object')"
      ]
     },
     "execution_count": 71,
     "metadata": {},
     "output_type": "execute_result"
    }
   ],
   "source": [
    "low_variance.index"
   ]
  },
  {
   "cell_type": "code",
   "execution_count": 72,
   "id": "6274912c",
   "metadata": {},
   "outputs": [
    {
     "data": {
      "text/plain": [
       "43"
      ]
     },
     "execution_count": 72,
     "metadata": {},
     "output_type": "execute_result"
    }
   ],
   "source": [
    "#4 columns will be dropped\n",
    "len(low_variance)"
   ]
  },
  {
   "cell_type": "code",
   "execution_count": 73,
   "id": "2a42e4ed",
   "metadata": {},
   "outputs": [],
   "source": [
    "#columns with low varaiance dropped\n",
    "train_dummmies = train_dummies.drop(columns = low_variance.index)"
   ]
  },
  {
   "cell_type": "code",
   "execution_count": 74,
   "id": "08f3573f",
   "metadata": {},
   "outputs": [],
   "source": [
    "#Align final_train and final_test\n",
    "final_train, final_test = train_dummies.align(test_dummies, join='left', axis=1)"
   ]
  },
  {
   "cell_type": "code",
   "execution_count": 75,
   "id": "47c099b1",
   "metadata": {},
   "outputs": [
    {
     "name": "stdout",
     "output_type": "stream",
     "text": [
      "(2046, 287) (878, 287)\n"
     ]
    }
   ],
   "source": [
    "print(final_train.shape, final_test.shape)"
   ]
  },
  {
   "cell_type": "code",
   "execution_count": 76,
   "id": "a3b73b59",
   "metadata": {},
   "outputs": [],
   "source": [
    "# drop sale price from final_test\n",
    "final_test = final_test.drop(columns = 'SalePrice')"
   ]
  },
  {
   "cell_type": "code",
   "execution_count": 77,
   "id": "a78a5d54",
   "metadata": {},
   "outputs": [],
   "source": [
    "# fill null dummy variables\n",
    "final_test = final_test.fillna(0)"
   ]
  },
  {
   "cell_type": "code",
   "execution_count": 78,
   "id": "b4c49651",
   "metadata": {},
   "outputs": [
    {
     "name": "stdout",
     "output_type": "stream",
     "text": [
      "(2046, 287) (878, 286)\n"
     ]
    }
   ],
   "source": [
    "print(final_train.shape, final_test.shape)"
   ]
  },
  {
   "cell_type": "markdown",
   "id": "0c09fa2a",
   "metadata": {},
   "source": [
    "## Save final dataframes as CSV files "
   ]
  },
  {
   "cell_type": "code",
   "execution_count": 79,
   "id": "1719755c",
   "metadata": {},
   "outputs": [],
   "source": [
    "# Save final training data\n",
    "final_train.to_csv('./final_dataset/final_train.csv', index=False)\n",
    "\n",
    "# Save final test data\n",
    "final_test.to_csv('./final_dataset/final_test.csv', index=False)"
   ]
  },
  {
   "cell_type": "markdown",
   "id": "a172fddd",
   "metadata": {},
   "source": [
    "# 5. Modelling"
   ]
  },
  {
   "cell_type": "code",
   "execution_count": 81,
   "id": "cb79ba20",
   "metadata": {},
   "outputs": [],
   "source": [
    "# import libraries\n",
    "import pandas as pd\n",
    "import numpy as np\n",
    "import matplotlib.pyplot as plt\n",
    "import seaborn as sns\n",
    "import scipy.stats as stats\n",
    "import warnings\n",
    "warnings.filterwarnings('ignore')\n",
    "from sklearn import preprocessing\n",
    "from sklearn.preprocessing import StandardScaler, RobustScaler, PowerTransformer\n",
    "from sklearn.model_selection import cross_val_score, train_test_split, KFold, RepeatedKFold\n",
    "from sklearn.linear_model import LinearRegression, Lasso, LassoCV, Ridge, RidgeCV, ElasticNet, ElasticNetCV \n",
    "from sklearn.metrics import mean_squared_error, r2_score\n",
    "from sklearn.dummy import DummyRegressor\n",
    "import sklearn.metrics as metrics\n",
    "\n",
    "sns.set_style()\n",
    "\n",
    "pd.set_option('display.max_columns', None)\n",
    "\n",
    "%matplotlib inline"
   ]
  },
  {
   "cell_type": "code",
   "execution_count": 82,
   "id": "c59364c8",
   "metadata": {},
   "outputs": [],
   "source": [
    "\n",
    "#Import train and test data CSV for prediction \n",
    "train_data = pd.read_csv(\"./datasets/train.csv\")\n",
    "test_data = pd.read_csv(\"./datasets/test.csv\")   \n"
   ]
  },
  {
   "cell_type": "markdown",
   "id": "82700058",
   "metadata": {},
   "source": [
    "# 5.1 Baseline Prediction \n",
    "Before working on the models, I tried using the predicions based on the average sale price of the listings in the train_data file. The average sale price is `$181493`. Using this average sale price, I submitted this prediction into Kaggle and the RMSE score it produced was `83945.99`. \n",
    "\n",
    "Using the Kaggle RMSE of `83945.99`, we will be able to utilise it while we are creating the regression models. The aim will be to minimize the RMSE as much as possible. The smaller the RMSE, the better our model predictions."
   ]
  },
  {
   "cell_type": "code",
   "execution_count": 83,
   "id": "0866fdff",
   "metadata": {},
   "outputs": [
    {
     "data": {
      "text/plain": [
       "181469.70160897123"
      ]
     },
     "execution_count": 83,
     "metadata": {},
     "output_type": "execute_result"
    }
   ],
   "source": [
    "#average sale price \n",
    "train_data['SalePrice'].mean()"
   ]
  },
  {
   "cell_type": "markdown",
   "id": "bb877f9b",
   "metadata": {},
   "source": [
    "# 5.2 Train Test Split Training Data"
   ]
  },
  {
   "cell_type": "code",
   "execution_count": 84,
   "id": "786be437",
   "metadata": {},
   "outputs": [
    {
     "name": "stdout",
     "output_type": "stream",
     "text": [
      "(2046, 286)\n",
      "(2046, 1)\n",
      "(1636, 286)\n",
      "(1636, 1)\n",
      "(410, 286)\n",
      "(410, 1)\n"
     ]
    }
   ],
   "source": [
    "X = final_train.drop(columns = 'SalePrice')\n",
    "y = final_train[['SalePrice']]\n",
    "\n",
    "print(X.shape)\n",
    "print(y.shape)\n",
    "\n",
    "# train test split\n",
    "np.random.seed(100)\n",
    "X_train, X_test, y_train, y_test = train_test_split(X, y, random_state=42, test_size = 0.2) \n",
    "\n",
    "print(X_train.shape)\n",
    "print(y_train.shape)\n",
    "print(X_test.shape)\n",
    "print(y_test.shape)   "
   ]
  },
  {
   "cell_type": "code",
   "execution_count": 85,
   "id": "f603b941",
   "metadata": {},
   "outputs": [],
   "source": [
    "test_df = pd.read_csv('./final_dataset/final_test.csv')"
   ]
  },
  {
   "cell_type": "markdown",
   "id": "870e6d34",
   "metadata": {},
   "source": [
    "# 5.3 StandardScaler, fit, and transform\n",
    "\n",
    "Scaling data for regularised regression"
   ]
  },
  {
   "cell_type": "code",
   "execution_count": 86,
   "id": "a71103d8",
   "metadata": {},
   "outputs": [],
   "source": [
    "ss = StandardScaler()"
   ]
  },
  {
   "cell_type": "code",
   "execution_count": 87,
   "id": "d90a4072",
   "metadata": {},
   "outputs": [
    {
     "data": {
      "text/plain": [
       "StandardScaler()"
      ]
     },
     "execution_count": 87,
     "metadata": {},
     "output_type": "execute_result"
    }
   ],
   "source": [
    "ss.fit(X_train)"
   ]
  },
  {
   "cell_type": "code",
   "execution_count": 88,
   "id": "f2c69b93",
   "metadata": {},
   "outputs": [],
   "source": [
    "X_train_sc = ss.transform(X_train)\n",
    "X_test_sc = ss.transform(X_test)\n",
    "X_sub = ss.transform(test_df)"
   ]
  },
  {
   "cell_type": "code",
   "execution_count": 89,
   "id": "83a7116e",
   "metadata": {},
   "outputs": [
    {
     "data": {
      "text/plain": [
       "(1636, 286)"
      ]
     },
     "execution_count": 89,
     "metadata": {},
     "output_type": "execute_result"
    }
   ],
   "source": [
    "X_train_sc.shape"
   ]
  },
  {
   "cell_type": "code",
   "execution_count": 90,
   "id": "9b8f0571",
   "metadata": {
    "scrolled": true
   },
   "outputs": [
    {
     "data": {
      "text/plain": [
       "(410, 286)"
      ]
     },
     "execution_count": 90,
     "metadata": {},
     "output_type": "execute_result"
    }
   ],
   "source": [
    "X_test_sc.shape"
   ]
  },
  {
   "cell_type": "code",
   "execution_count": 91,
   "id": "ec68904d",
   "metadata": {},
   "outputs": [
    {
     "data": {
      "text/plain": [
       "(878, 286)"
      ]
     },
     "execution_count": 91,
     "metadata": {},
     "output_type": "execute_result"
    }
   ],
   "source": [
    "X_sub.shape"
   ]
  },
  {
   "cell_type": "code",
   "execution_count": 92,
   "id": "cc63efc1",
   "metadata": {},
   "outputs": [],
   "source": [
    "#Instantiate\n",
    "lr = LinearRegression()\n",
    "ridge = Ridge()\n",
    "ridgecv = RidgeCV()\n",
    "lassocv = LassoCV()\n",
    "en = ElasticNetCV()"
   ]
  },
  {
   "cell_type": "markdown",
   "id": "05c271c4",
   "metadata": {},
   "source": [
    "# 5.4 Linear Regression "
   ]
  },
  {
   "cell_type": "code",
   "execution_count": 93,
   "id": "458ebbbd",
   "metadata": {},
   "outputs": [
    {
     "data": {
      "text/plain": [
       "LinearRegression()"
      ]
     },
     "execution_count": 93,
     "metadata": {},
     "output_type": "execute_result"
    }
   ],
   "source": [
    "#fit\n",
    "lr.fit(X_train, y_train)"
   ]
  },
  {
   "cell_type": "code",
   "execution_count": 94,
   "id": "e461daf4",
   "metadata": {},
   "outputs": [
    {
     "data": {
      "text/plain": [
       "0.9181190187227168"
      ]
     },
     "execution_count": 94,
     "metadata": {},
     "output_type": "execute_result"
    }
   ],
   "source": [
    "lr.score(X_test, y_test)"
   ]
  },
  {
   "cell_type": "code",
   "execution_count": 95,
   "id": "6e5d7e71",
   "metadata": {},
   "outputs": [
    {
     "name": "stdout",
     "output_type": "stream",
     "text": [
      "Training Set\n",
      "Predicted Train RMSE: 19119.711576378388\n",
      "Predicted Train r2: 0.9421784977403324\n",
      "\n",
      "\n",
      "Test Set\n",
      "Predicted Test RMSE: 22387.652434986456\n",
      "Predicted Test r2: 0.9181190187227168\n"
     ]
    }
   ],
   "source": [
    "# Generate predictions\n",
    "y_pred_lr_train = lr.predict(X_train)\n",
    "y_pred_lr = lr.predict(X_test)\n",
    "\n",
    "# Testing on training data\n",
    "print(\"Training Set\")\n",
    "print('Predicted Train RMSE:', np.sqrt(mean_squared_error(y_train,y_pred_lr_train)))\n",
    "print('Predicted Train r2:', r2_score(y_train, y_pred_lr_train))\n",
    "print('\\n')\n",
    "# Testing on test data\n",
    "print(\"Test Set\")\n",
    "print('Predicted Test RMSE:', np.sqrt(mean_squared_error(y_test, y_pred_lr)))\n",
    "print('Predicted Test r2:', r2_score(y_test, y_pred_lr))"
   ]
  },
  {
   "cell_type": "code",
   "execution_count": 96,
   "id": "d5a25888",
   "metadata": {},
   "outputs": [
    {
     "data": {
      "text/plain": [
       "0.9067919451399458"
      ]
     },
     "execution_count": 96,
     "metadata": {},
     "output_type": "execute_result"
    }
   ],
   "source": [
    "lr_predictions = pd.DataFrame(lr.predict(test_df))\n",
    "cross_val_score(lr, X_train, y_train, cv=5).mean()"
   ]
  },
  {
   "cell_type": "code",
   "execution_count": 97,
   "id": "bead1986",
   "metadata": {},
   "outputs": [],
   "source": [
    "\n",
    "# Generate csv\n",
    "lr_submission = pd.DataFrame({'Id': test_data['Id'],\n",
    "                           'SalePrice': lr_predictions[0]})\n",
    "\n",
    "lr_submission.to_csv('./final_dataset/lr_submission.csv', index=False)"
   ]
  },
  {
   "cell_type": "markdown",
   "id": "9e415f65",
   "metadata": {},
   "source": [
    "The linear regression test results are performing worse than the training set.\n",
    "\n",
    "__Kaggle RMSE Score = 26319.84916__"
   ]
  },
  {
   "cell_type": "markdown",
   "id": "dc50e26d",
   "metadata": {},
   "source": [
    "# 5.5 Ridge CV"
   ]
  },
  {
   "cell_type": "code",
   "execution_count": 98,
   "id": "d15ac678",
   "metadata": {},
   "outputs": [],
   "source": [
    "\n",
    "r_alpha = np.logspace(0,5,100)\n",
    "\n",
    "# Instantiate model.\n",
    "ridgecv = RidgeCV(alphas = r_alpha, cv= 5)"
   ]
  },
  {
   "cell_type": "code",
   "execution_count": 99,
   "id": "7d4ad7dd",
   "metadata": {},
   "outputs": [
    {
     "data": {
      "text/plain": [
       "RidgeCV(alphas=array([1.00000000e+00, 1.12332403e+00, 1.26185688e+00, 1.41747416e+00,\n",
       "       1.59228279e+00, 1.78864953e+00, 2.00923300e+00, 2.25701972e+00,\n",
       "       2.53536449e+00, 2.84803587e+00, 3.19926714e+00, 3.59381366e+00,\n",
       "       4.03701726e+00, 4.53487851e+00, 5.09413801e+00, 5.72236766e+00,\n",
       "       6.42807312e+00, 7.22080902e+00, 8.11130831e+00, 9.11162756e+00,\n",
       "       1.02353102e+01, 1.14975700e+0...\n",
       "       6.89261210e+03, 7.74263683e+03, 8.69749003e+03, 9.77009957e+03,\n",
       "       1.09749877e+04, 1.23284674e+04, 1.38488637e+04, 1.55567614e+04,\n",
       "       1.74752840e+04, 1.96304065e+04, 2.20513074e+04, 2.47707636e+04,\n",
       "       2.78255940e+04, 3.12571585e+04, 3.51119173e+04, 3.94420606e+04,\n",
       "       4.43062146e+04, 4.97702356e+04, 5.59081018e+04, 6.28029144e+04,\n",
       "       7.05480231e+04, 7.92482898e+04, 8.90215085e+04, 1.00000000e+05]),\n",
       "        cv=5)"
      ]
     },
     "execution_count": 99,
     "metadata": {},
     "output_type": "execute_result"
    }
   ],
   "source": [
    "#fit\n",
    "ridgecv.fit(X_train_sc, y_train)"
   ]
  },
  {
   "cell_type": "code",
   "execution_count": 100,
   "id": "790ca20c",
   "metadata": {},
   "outputs": [
    {
     "name": "stdout",
     "output_type": "stream",
     "text": [
      "Training Set\n",
      "Predicted Train RMSE: 19610.955922862628\n",
      "Predicted Train r2: 0.9391691023954134\n",
      "\n",
      "\n",
      "Test Set\n",
      "Predicted Test RMSE: 21773.302787446337\n",
      "Predicted Test r2: 0.9225512253531988\n"
     ]
    }
   ],
   "source": [
    "# Generate predictions\n",
    "y_pred_ridgecv_train = ridgecv.predict(X_train_sc)\n",
    "y_pred_ridgecv = ridgecv.predict(X_test_sc)\n",
    "\n",
    "# Testing on training data\n",
    "print(\"Training Set\")\n",
    "print('Predicted Train RMSE:', np.sqrt(mean_squared_error(y_train,y_pred_ridgecv_train)))\n",
    "print('Predicted Train r2:', r2_score(y_train, y_pred_ridgecv_train))\n",
    "print('\\n')\n",
    "# Testing on test data\n",
    "print(\"Test Set\")\n",
    "print('Predicted Test RMSE:', np.sqrt(mean_squared_error(y_test, y_pred_ridgecv)))\n",
    "print('Predicted Test r2:', r2_score(y_test, y_pred_ridgecv))"
   ]
  },
  {
   "cell_type": "code",
   "execution_count": 101,
   "id": "98796465",
   "metadata": {},
   "outputs": [
    {
     "data": {
      "text/plain": [
       "0.9146078820484977"
      ]
     },
     "execution_count": 101,
     "metadata": {},
     "output_type": "execute_result"
    }
   ],
   "source": [
    "ridge_predictions = pd.DataFrame(ridgecv.predict(X_sub))\n",
    "cross_val_score(ridgecv, X_train_sc, y_train, cv=5).mean()"
   ]
  },
  {
   "cell_type": "code",
   "execution_count": 102,
   "id": "2102dd44",
   "metadata": {},
   "outputs": [],
   "source": [
    "\n",
    "# Generate csv\n",
    "ridge_submission = pd.DataFrame({'Id': test_data['Id'],\n",
    "                           'SalePrice': ridge_predictions[0]})\n",
    "\n",
    "ridge_submission.to_csv('./final_dataset/ridge_submission.csv', index=False)"
   ]
  },
  {
   "cell_type": "code",
   "execution_count": 103,
   "id": "a314bac9",
   "metadata": {
    "scrolled": true
   },
   "outputs": [],
   "source": [
    "#ridge_predictions"
   ]
  },
  {
   "cell_type": "markdown",
   "id": "0dfedaf5",
   "metadata": {},
   "source": [
    "The  test results are performing worse than the training set.\n",
    "\n",
    "__Kaggle RMSE Score = 26518.07449__"
   ]
  },
  {
   "cell_type": "markdown",
   "id": "e67b3701",
   "metadata": {},
   "source": [
    "# 5.6 Lasso CV"
   ]
  },
  {
   "cell_type": "code",
   "execution_count": 104,
   "id": "f0bbfa3d",
   "metadata": {},
   "outputs": [
    {
     "data": {
      "text/plain": [
       "LassoCV()"
      ]
     },
     "execution_count": 104,
     "metadata": {},
     "output_type": "execute_result"
    }
   ],
   "source": [
    "#Instantiate model\n",
    "lassocv = LassoCV()\n",
    "# Fit model using optimal alpha.\n",
    "lassocv.fit(X_train_sc, y_train)\n"
   ]
  },
  {
   "cell_type": "code",
   "execution_count": 105,
   "id": "39da52d6",
   "metadata": {},
   "outputs": [
    {
     "data": {
      "text/plain": [
       "379.2137113196995"
      ]
     },
     "execution_count": 105,
     "metadata": {},
     "output_type": "execute_result"
    }
   ],
   "source": [
    "# Here is the optimal value of alpha which will be used in the model tuning \n",
    "lassocv.alpha_"
   ]
  },
  {
   "cell_type": "code",
   "execution_count": 106,
   "id": "b3fc1975",
   "metadata": {},
   "outputs": [
    {
     "data": {
      "text/plain": [
       "22369.137537163177"
      ]
     },
     "execution_count": 106,
     "metadata": {},
     "output_type": "execute_result"
    }
   ],
   "source": [
    "cv=RepeatedKFold(n_splits=10, n_repeats = 3, random_state=1)\n",
    "\n",
    "cross_val_score(lassocv, X_train_sc, y_train, cv=cv, scoring='neg_root_mean_squared_error').mean()\n",
    "#r2\n",
    "\n",
    "#abs\n",
    "abs(cross_val_score(lassocv, X_train_sc, y_train, cv=cv, scoring='neg_root_mean_squared_error').mean())"
   ]
  },
  {
   "cell_type": "code",
   "execution_count": 107,
   "id": "1f8b5152",
   "metadata": {},
   "outputs": [
    {
     "name": "stdout",
     "output_type": "stream",
     "text": [
      "Training Set\n",
      "Predicted Train RMSE: 19929.564862935375\n",
      "Predicted Train r2: 0.9371764706700595\n",
      "\n",
      "\n",
      "Test Set\n",
      "Predicted Test RMSE: 21320.51410837086\n",
      "Predicted Test r2: 0.9257389180588734\n"
     ]
    }
   ],
   "source": [
    "# Generate predictions\n",
    "y_pred_lassocv_train = lassocv.predict(X_train_sc)\n",
    "y_pred_lassocv = lassocv.predict(X_test_sc)\n",
    "\n",
    "## Evaulation metrics: Root Mean Squared Error (RMSE), R-squared (r2)\n",
    "# Testing on training data\n",
    "print(\"Training Set\")\n",
    "print('Predicted Train RMSE:', np.sqrt(mean_squared_error(y_train,y_pred_lassocv_train)))\n",
    "print('Predicted Train r2:', r2_score(y_train, y_pred_lassocv_train))\n",
    "print('\\n')\n",
    "# Testing on unseen data\n",
    "print(\"Test Set\")\n",
    "print('Predicted Test RMSE:', np.sqrt(mean_squared_error(y_test, y_pred_lassocv)))\n",
    "print('Predicted Test r2:', r2_score(y_test, y_pred_lassocv))"
   ]
  },
  {
   "cell_type": "code",
   "execution_count": 108,
   "id": "08a6a794",
   "metadata": {},
   "outputs": [],
   "source": [
    "lasso_predictions = pd.DataFrame(lassocv.predict(X_sub))"
   ]
  },
  {
   "cell_type": "code",
   "execution_count": 109,
   "id": "af778d63",
   "metadata": {},
   "outputs": [],
   "source": [
    "\n",
    "# Generate csv\n",
    "lasso_submission = pd.DataFrame({'Id': test_data['Id'],\n",
    "                           'SalePrice': lasso_predictions[0]})\n",
    "\n",
    "lasso_submission.to_csv('./final_dataset/lasso_submission.csv', index=False)"
   ]
  },
  {
   "cell_type": "code",
   "execution_count": 110,
   "id": "d66538fb",
   "metadata": {},
   "outputs": [
    {
     "data": {
      "image/png": "[encoded data removed]",
      "text/plain": [
       "<Figure size 432x432 with 1 Axes>"
      ]
     },
     "metadata": {
      "needs_background": "light"
     },
     "output_type": "display_data"
    }
   ],
   "source": [
    "# plot ypred vs ytrue\n",
    "fig, ax = plt.subplots(figsize=(6.0, 6.0))\n",
    "ax.scatter(y_test['SalePrice'], y_pred_lassocv)\n",
    "ax.set_title('predicted values distribution plot',fontsize=14)\n",
    "ax.set_xlabel('actual values',fontsize=12)\n",
    "ax.set_ylabel('predicted values',fontsize=12)\n",
    "ax.plot(ax.get_xlim(), ax.get_ylim(), ls=\"-\", c=\"r\")\n",
    "plt.plot([], [], ' ', label=\"Model: Lasso CV\")\n",
    "plt.legend()\n",
    "plt.tight_layout()"
   ]
  },
  {
   "cell_type": "markdown",
   "id": "319a10d9",
   "metadata": {},
   "source": [
    "__Kaggle RMSE score : 25538.77144__\n",
    "\n"
   ]
  },
  {
   "cell_type": "markdown",
   "id": "ec537f60",
   "metadata": {},
   "source": [
    "# 5.7 Elastic Net"
   ]
  },
  {
   "cell_type": "code",
   "execution_count": 111,
   "id": "bd7e19f1",
   "metadata": {},
   "outputs": [
    {
     "data": {
      "text/plain": [
       "ElasticNetCV()"
      ]
     },
     "execution_count": 111,
     "metadata": {},
     "output_type": "execute_result"
    }
   ],
   "source": [
    "#instantiate model\n",
    "en.fit(X_train_sc, y_train)"
   ]
  },
  {
   "cell_type": "code",
   "execution_count": 112,
   "id": "33537196",
   "metadata": {},
   "outputs": [
    {
     "name": "stdout",
     "output_type": "stream",
     "text": [
      "Training Set\n",
      "Predicted Train RMSE: 67466.59700829863\n",
      "Predicted Train r2: 0.2800467313534941\n",
      "\n",
      "\n",
      "Test Set\n",
      "Predicted Test RMSE: 66495.1406388333\n",
      "Predicted Test r2: 0.27765321425528044\n"
     ]
    }
   ],
   "source": [
    "# Generate predictions\n",
    "y_pred_en_train = en.predict(X_train_sc)\n",
    "y_pred_en = en.predict(X_test_sc)\n",
    "\n",
    "## Evaulation metrics: Root Mean Squared Error (RMSE), R-squared (r2)\n",
    "# Testing on training data\n",
    "print(\"Training Set\")\n",
    "print('Predicted Train RMSE:', np.sqrt(mean_squared_error(y_train,y_pred_en_train)))\n",
    "print('Predicted Train r2:', r2_score(y_train, y_pred_en_train))\n",
    "print('\\n')\n",
    "# Testing on unseen data|\n",
    "print(\"Test Set\")\n",
    "print('Predicted Test RMSE:', np.sqrt(mean_squared_error(y_test, y_pred_en)))\n",
    "print('Predicted Test r2:', r2_score(y_test, y_pred_en))"
   ]
  },
  {
   "cell_type": "code",
   "execution_count": 113,
   "id": "bd354d93",
   "metadata": {},
   "outputs": [
    {
     "data": {
      "text/plain": [
       "0.2741459351907925"
      ]
     },
     "execution_count": 113,
     "metadata": {},
     "output_type": "execute_result"
    }
   ],
   "source": [
    "en_predictions = pd.DataFrame(en.predict(X_sub))\n",
    "cross_val_score(en, X_train_sc, y_train, cv=5).mean()"
   ]
  },
  {
   "cell_type": "code",
   "execution_count": 114,
   "id": "f1a79669",
   "metadata": {},
   "outputs": [],
   "source": [
    "# Generate csv\n",
    "en_submission = pd.DataFrame({'Id': test_data['Id'],\n",
    "                           'SalePrice': en_predictions[0]})\n",
    "\n",
    "en_submission.to_csv('./final_dataset/en_submission.csv', index=False)"
   ]
  },
  {
   "cell_type": "markdown",
   "id": "eab6a0b6",
   "metadata": {},
   "source": [
    "__Kaggle RMSE Score: 72604.75605__"
   ]
  },
  {
   "cell_type": "markdown",
   "id": "2fcd1e7b",
   "metadata": {},
   "source": [
    "## Overall Conclusion for initial modelling \n",
    "\n",
    "The Lasso Regression Model was the best model to test my training data because it was able to manage well unknown data according to the 𝑅2 score. The scatter plot of the predicted saleprice and actual sale price has a generally strong linear relationship except for two outliers."
   ]
  },
  {
   "cell_type": "markdown",
   "id": "316e0d9e",
   "metadata": {},
   "source": [
    "# 6. Improving Model"
   ]
  },
  {
   "cell_type": "markdown",
   "id": "860a80b9",
   "metadata": {},
   "source": [
    "## 6.1 Improving the model by tuning the hyperparameters"
   ]
  },
  {
   "cell_type": "code",
   "execution_count": 115,
   "id": "db718ad4",
   "metadata": {},
   "outputs": [
    {
     "data": {
      "text/plain": [
       "LassoCV(max_iter=70, n_alphas=369)"
      ]
     },
     "execution_count": 115,
     "metadata": {},
     "output_type": "execute_result"
    }
   ],
   "source": [
    "#Changing the alpha and max_iter\n",
    "#Instantiate model\n",
    "lassocv = LassoCV(n_alphas = 369, max_iter=70)\n",
    "lassocv.fit(X_train_sc, y_train)"
   ]
  },
  {
   "cell_type": "code",
   "execution_count": 116,
   "id": "8b335a57",
   "metadata": {},
   "outputs": [
    {
     "data": {
      "text/plain": [
       "372.65613404868975"
      ]
     },
     "execution_count": 116,
     "metadata": {},
     "output_type": "execute_result"
    }
   ],
   "source": [
    "#optimal alpha\n",
    "lassocv.alpha_"
   ]
  },
  {
   "cell_type": "code",
   "execution_count": 117,
   "id": "0637a210",
   "metadata": {},
   "outputs": [
    {
     "name": "stdout",
     "output_type": "stream",
     "text": [
      "Training Set\n",
      "Predicted Train RMSE: 19905.000554224174\n",
      "Predicted Train r2: 0.9373312422898937\n",
      "\n",
      "\n",
      "Test Set\n",
      "Predicted Test RMSE: 21317.637831096472\n",
      "Predicted Test r2: 0.9257589533219593\n"
     ]
    }
   ],
   "source": [
    "# Generate predictions\n",
    "y_pred_lassocv_train = lassocv.predict(X_train_sc)\n",
    "y_pred_lassocv = lassocv.predict(X_test_sc)\n",
    "\n",
    "## Evaulation metrics: Root Mean Squared Error (RMSE), R-squared (r2)\n",
    "# Testing on training data\n",
    "print(\"Training Set\")\n",
    "print('Predicted Train RMSE:', np.sqrt(mean_squared_error(y_train,y_pred_lassocv_train)))\n",
    "print('Predicted Train r2:', r2_score(y_train, y_pred_lassocv_train))\n",
    "print('\\n')\n",
    "# Testing on unseen data\n",
    "print(\"Test Set\")\n",
    "print('Predicted Test RMSE:', np.sqrt(mean_squared_error(y_test, y_pred_lassocv)))\n",
    "print('Predicted Test r2:', r2_score(y_test, y_pred_lassocv))"
   ]
  },
  {
   "cell_type": "code",
   "execution_count": 118,
   "id": "c2f29bfd",
   "metadata": {},
   "outputs": [
    {
     "data": {
      "text/plain": [
       "22369.093285156716"
      ]
     },
     "execution_count": 118,
     "metadata": {},
     "output_type": "execute_result"
    }
   ],
   "source": [
    "cv=RepeatedKFold(n_splits=10, n_repeats = 3, random_state=1)\n",
    "\n",
    "cross_val_score(lassocv, X_train_sc, y_train, cv=cv, scoring='neg_root_mean_squared_error').mean()\n",
    "#r2\n",
    "\n",
    "#abs\n",
    "abs(cross_val_score(lassocv, X_train_sc, y_train, cv=cv, scoring='neg_root_mean_squared_error').mean())"
   ]
  },
  {
   "cell_type": "code",
   "execution_count": 119,
   "id": "7f5437a5",
   "metadata": {},
   "outputs": [],
   "source": [
    "lasso_predictions = pd.DataFrame(lassocv.predict(X_sub))"
   ]
  },
  {
   "cell_type": "code",
   "execution_count": 120,
   "id": "156b0bdf",
   "metadata": {},
   "outputs": [],
   "source": [
    "# Generate csv\n",
    "lasso_submission = pd.DataFrame({'Id': test_data['Id'],\n",
    "                           'SalePrice': lasso_predictions[0]})\n",
    "\n",
    "lasso_submission.to_csv('./final_dataset/lasso_pt1_submission.csv', index=False)"
   ]
  },
  {
   "cell_type": "markdown",
   "id": "c4a96e32",
   "metadata": {},
   "source": [
    "__Kaggle RMSE score : 25421.58717__"
   ]
  },
  {
   "cell_type": "markdown",
   "id": "6a99da29",
   "metadata": {},
   "source": [
    "## Improving model through feature selection \n",
    "Relooking the Lasso model to view the most important features "
   ]
  },
  {
   "cell_type": "code",
   "execution_count": 121,
   "id": "1894b519",
   "metadata": {},
   "outputs": [],
   "source": [
    "#coefficients of features in the lasso model\n",
    "coef= sorted(abs(lassocv.coef_), reverse = True)"
   ]
  },
  {
   "cell_type": "code",
   "execution_count": 122,
   "id": "947c6d9b",
   "metadata": {},
   "outputs": [
    {
     "data": {
      "text/plain": [
       "Text(0.5, 1.0, 'Top 25 Housing Features')"
      ]
     },
     "execution_count": 122,
     "metadata": {},
     "output_type": "execute_result"
    },
    {
     "data": {
      "image/png": "[encoded data removed]",
      "text/plain": [
       "<Figure size 720x648 with 1 Axes>"
      ]
     },
     "metadata": {
      "needs_background": "light"
     },
     "output_type": "display_data"
    }
   ],
   "source": [
    "# Create dataframe of features, coefficients and absolute coefficients\n",
    "lasso_df = pd.DataFrame(columns=['Feature', 'Coef', 'Abs Coef'])\n",
    "lasso_df['Abs Coef'] = abs(lassocv.coef_)\n",
    "lasso_df['Coef'] = lassocv.coef_\n",
    "lasso_df['Feature'] = X.columns\n",
    "\n",
    "# Plot top 30 features (sorted by absolute regression coefficient)\n",
    "plt.figure(figsize=(10,9))\n",
    "data = lasso_df.sort_values(by='Abs Coef', ascending=False).head(25)[['Feature', 'Coef']] \\\n",
    "               .sort_values(by='Coef', ascending=False).reset_index(drop=True)\n",
    "    \n",
    "ax = sns.barplot(data=data, y='Feature', x='Coef', orient='h', palette='Spectral')\n",
    "ax.set_yticklabels(data['Feature'])\n",
    "ax.set_xlabel('Lasso Coefficient')\n",
    "plt.title('Top 25 Housing Features', fontsize=14)\n"
   ]
  },
  {
   "cell_type": "code",
   "execution_count": 123,
   "id": "fa029ae3",
   "metadata": {},
   "outputs": [],
   "source": [
    "top_25 = [\"Total SF\", \"Gr Liv Area\", \"Overall Qual\", \"BsmtFin SF 1\", \"Overall Cond\", \"Exter Qual_Ex\",\\\n",
    "          \"Neighborhood_NridgHt\", \"Kitchen Qual_Ex\", \"Neighborhood_StoneBr\", \"Lot Area\", \"Garage Area\",\\\n",
    "          \"Bldg Type_1Fam\", \"Bsmt Qual_Ex\", \"Neighborhood_GrnHill\", \"Mas Vnr Area\", \"Neighborhood_Somerst\",\\\n",
    "         \"Bsmt Exposure_Gd\", \"Bsmt Exposure_No\" ,\"Neighborhood_NoRidge\", \"Screen Porch\", \"Neighborhood_Crawfor\", \\\n",
    "          \"Exterior 1st_BrkFace\",\"Functional_Typ\", \"Bedroom AbvGr\", \"House Age\"]\n"
   ]
  },
  {
   "cell_type": "markdown",
   "id": "119ed634",
   "metadata": {},
   "source": [
    "### After viewing the top 25 features, I will try to recreate a model with just the top 25 features highlighted. Afterwhich, I will  rerun the model for the RMSE score on Kaggle. \n",
    "\n",
    "I will be going through the entire process again before running the data. \n",
    "\n",
    "1) loading data \n",
    "\n",
    "2) data cleaning \n",
    "\n",
    "3) one - hot encoding \n",
    "\n",
    "4) removing features with low variance \n",
    "\n",
    "5) train test split \n",
    "\n",
    "6) feature scaling \n",
    "\n",
    "7) lasso cv modelling "
   ]
  },
  {
   "cell_type": "code",
   "execution_count": 124,
   "id": "ba5b18ea",
   "metadata": {},
   "outputs": [],
   "source": [
    "#Import train and test data CSV for prediction \n",
    "train_data = pd.read_csv(\"./datasets/train.csv\")\n",
    "test_data = pd.read_csv(\"./datasets/test.csv\")                                                      "
   ]
  },
  {
   "cell_type": "code",
   "execution_count": 125,
   "id": "d5de2ef2",
   "metadata": {},
   "outputs": [
    {
     "data": {
      "text/plain": [
       "(2051, 81)"
      ]
     },
     "execution_count": 125,
     "metadata": {},
     "output_type": "execute_result"
    }
   ],
   "source": [
    "train_data.shape"
   ]
  },
  {
   "cell_type": "code",
   "execution_count": 126,
   "id": "041c1506",
   "metadata": {},
   "outputs": [
    {
     "data": {
      "text/plain": [
       "(878, 80)"
      ]
     },
     "execution_count": 126,
     "metadata": {},
     "output_type": "execute_result"
    }
   ],
   "source": [
    "test_data.shape"
   ]
  },
  {
   "cell_type": "code",
   "execution_count": 127,
   "id": "56854199",
   "metadata": {},
   "outputs": [],
   "source": [
    "#Training Data cleaning \n",
    "\n",
    "#drop rows\n",
    "train_data.dropna(subset=remove_row, inplace=True)\n",
    "\n",
    "#Input 0 \n",
    "train_data['Mas Vnr Area'] .fillna( 0, inplace = True) \n",
    "\n",
    "#Input None\n",
    "[train_data[col].fillna( 'None', inplace = True) for col in input_na]\n",
    "\n",
    "#Add new columns \n",
    "train_data[\"House Age\"] = train_data[\"Yr Sold\"] - train_data[\"Year Built\"]\n",
    "train_data[\"Total SF\"] = (train_data[\"Total Bsmt SF\"] + train_data[\"1st Flr SF\"] + train_data[\"2nd Flr SF\"]) \n",
    "\n",
    "#Remove outliers\n",
    "train_data.drop(train_data.loc[train_data['Gr Liv Area']>5000].index, inplace=True)\n",
    "train_data.drop(train_data.loc[train_data['Total SF']>10000].index, inplace=True)\n",
    "\n",
    "#drop columns \n",
    "train_data = train_data[train_data.columns[~train_data.columns.isin(drop_col)]]"
   ]
  },
  {
   "cell_type": "code",
   "execution_count": 128,
   "id": "405aab53",
   "metadata": {},
   "outputs": [],
   "source": [
    "#Test data cleaning\n",
    "#The test data will also be cleaned as well but the outliers and rows will not be removed as \n",
    "#Kaggle submission requires a certain number of rows for submission\n",
    "\n",
    "#Input 0 \n",
    "test_data['Mas Vnr Area'] .fillna( 0, inplace = True) \n",
    "\n",
    "#Input None\n",
    "[test_data[col].fillna( 'None', inplace = True) for col in input_na]\n",
    "\n",
    "#Add new columns \n",
    "test_data[\"House Age\"] = test_data[\"Yr Sold\"] - test_data[\"Year Built\"]\n",
    "test_data[\"Total SF\"] = (test_data[\"Total Bsmt SF\"] + test_data[\"1st Flr SF\"] + test_data[\"2nd Flr SF\"]) \n",
    "\n",
    "#drop columns \n",
    "test_data = test_data[test_data.columns[~test_data.columns.isin(drop_col)]]"
   ]
  },
  {
   "cell_type": "code",
   "execution_count": 129,
   "id": "79f0255e",
   "metadata": {},
   "outputs": [
    {
     "name": "stdout",
     "output_type": "stream",
     "text": [
      "(878, 71) (2046, 72)\n"
     ]
    }
   ],
   "source": [
    "print(test_data.shape, train_data.shape)"
   ]
  },
  {
   "cell_type": "code",
   "execution_count": 130,
   "id": "b4fa4ff7",
   "metadata": {},
   "outputs": [],
   "source": [
    "categorical_cols = ['MS Zoning', 'Street', 'Alley', 'Lot Shape', 'Land Contour',\n",
    "       'Utilities', 'Lot Config', 'Land Slope', 'Neighborhood', 'Condition 1',\n",
    "       'Condition 2', 'Bldg Type', 'House Style', 'Roof Style', 'Roof Matl',\n",
    "       'Exterior 1st', 'Exterior 2nd', 'Mas Vnr Type', 'Exter Qual',\n",
    "       'Exter Cond', 'Foundation', 'Bsmt Qual', 'Bsmt Cond', 'Bsmt Exposure',\n",
    "       'BsmtFin Type 1', 'BsmtFin Type 2', 'Heating', 'Heating QC',\n",
    "       'Central Air', 'Electrical', 'Kitchen Qual', 'Functional',\n",
    "       'Fireplace Qu', 'Garage Type', 'Garage Finish',\n",
    "       'Garage Qual', 'Garage Cond', 'Paved Drive', 'Pool QC', 'Fence',\n",
    "       'Misc Feature']"
   ]
  },
  {
   "cell_type": "code",
   "execution_count": 131,
   "id": "07c673fe",
   "metadata": {},
   "outputs": [],
   "source": [
    "#one-hot encoding \n",
    "train_dummies = pd.get_dummies(train_data, columns = categorical_cols)\n",
    "test_dummies = pd.get_dummies(test_data, columns = categorical_cols)"
   ]
  },
  {
   "cell_type": "code",
   "execution_count": 132,
   "id": "6c203542",
   "metadata": {},
   "outputs": [],
   "source": [
    "#removing features with low variance \n",
    "low_variance = train_dummies.var().sort_values(ascending=False)\n",
    "low_variance = low_variance[low_variance.values < 0.002]"
   ]
  },
  {
   "cell_type": "code",
   "execution_count": 133,
   "id": "cf208632",
   "metadata": {},
   "outputs": [
    {
     "data": {
      "text/plain": [
       "Index(['Roof Matl_WdShake', 'Misc Feature_Gar2', 'Heating QC_Po',\n",
       "       'Condition 2_PosN', 'Misc Feature_Othr', 'Exterior 2nd_AsphShn',\n",
       "       'Condition 1_RRNe', 'Exterior 1st_BrkComm', 'Roof Style_Shed',\n",
       "       'Pool QC_Gd', 'Garage Qual_Ex', 'Neighborhood_Greens',\n",
       "       'Condition 2_PosA', 'Bsmt Cond_Ex', 'MS Zoning_A (agr)',\n",
       "       'Utilities_AllPub', 'Pool QC_Fa', 'Foundation_Wood', 'Heating_OthW',\n",
       "       'Exterior 1st_Stone', 'Exterior 1st_CBlock', 'Condition 2_RRNn',\n",
       "       'Exter Cond_Po', 'Garage Cond_Ex', 'Functional_Sal', 'Garage Qual_Po',\n",
       "       'Neighborhood_GrnHill', 'Functional_Sev', 'Pool QC_TA',\n",
       "       'Exterior 2nd_CBlock', 'Utilities_NoSeWa', 'Utilities_NoSewr',\n",
       "       'Exterior 1st_ImStucc', 'Pool QC_Ex', 'Bsmt Qual_Po',\n",
       "       'Neighborhood_Landmrk', 'Exterior 1st_AsphShn', 'Roof Matl_Membran',\n",
       "       'MS Zoning_I (all)', 'Condition 2_RRAn', 'Condition 2_RRAe',\n",
       "       'Electrical_Mix', 'Misc Feature_TenC'],\n",
       "      dtype='object')"
      ]
     },
     "execution_count": 133,
     "metadata": {},
     "output_type": "execute_result"
    }
   ],
   "source": [
    "low_variance.index"
   ]
  },
  {
   "cell_type": "code",
   "execution_count": 134,
   "id": "ae880e81",
   "metadata": {},
   "outputs": [
    {
     "data": {
      "text/plain": [
       "43"
      ]
     },
     "execution_count": 134,
     "metadata": {},
     "output_type": "execute_result"
    }
   ],
   "source": [
    "#43 columns will be dropped\n",
    "len(low_variance)"
   ]
  },
  {
   "cell_type": "code",
   "execution_count": 135,
   "id": "b38acb61",
   "metadata": {},
   "outputs": [],
   "source": [
    "#columns with low varaiance dropped\n",
    "train_dummmies = train_dummies.drop(columns = low_variance.index)"
   ]
  },
  {
   "cell_type": "code",
   "execution_count": 136,
   "id": "e10c13e4",
   "metadata": {},
   "outputs": [],
   "source": [
    "#Align final_train and final_test\n",
    "final_train, final_test = train_dummies.align(test_dummies, join='left', axis=1)"
   ]
  },
  {
   "cell_type": "code",
   "execution_count": 137,
   "id": "50dd3daf",
   "metadata": {},
   "outputs": [
    {
     "name": "stdout",
     "output_type": "stream",
     "text": [
      "(2046, 287) (878, 287)\n"
     ]
    }
   ],
   "source": [
    "print(final_train.shape, final_test.shape)"
   ]
  },
  {
   "cell_type": "code",
   "execution_count": 138,
   "id": "041b0ee1",
   "metadata": {},
   "outputs": [],
   "source": [
    "# drop sale price from final_test\n",
    "final_test = final_test.drop(columns = 'SalePrice')"
   ]
  },
  {
   "cell_type": "code",
   "execution_count": 139,
   "id": "14cd7e41",
   "metadata": {},
   "outputs": [],
   "source": [
    "# fill null dummy variables\n",
    "final_test = final_test.fillna(0)\n"
   ]
  },
  {
   "cell_type": "code",
   "execution_count": 140,
   "id": "ae09ed43",
   "metadata": {},
   "outputs": [
    {
     "name": "stdout",
     "output_type": "stream",
     "text": [
      "(2046, 287) (878, 286)\n"
     ]
    }
   ],
   "source": [
    "print(final_train.shape, final_test.shape)"
   ]
  },
  {
   "cell_type": "code",
   "execution_count": 141,
   "id": "fd8c8ac8",
   "metadata": {},
   "outputs": [],
   "source": [
    "#train dataset includes saleprice\n",
    "\n",
    "top_25_train = [\"Total SF\", \"Gr Liv Area\", \"Overall Qual\", \"BsmtFin SF 1\", \"Overall Cond\", \"Exter Qual_Ex\",\\\n",
    "          \"Neighborhood_NridgHt\", \"Kitchen Qual_Ex\", \"Neighborhood_StoneBr\", \"Lot Area\", \"Garage Area\",\\\n",
    "          \"Bldg Type_1Fam\", \"Bsmt Qual_Ex\", \"Neighborhood_GrnHill\", \"Mas Vnr Area\", \"Neighborhood_Somerst\",\\\n",
    "         \"Bsmt Exposure_Gd\", \"Bsmt Exposure_No\" ,\"Neighborhood_NoRidge\", \"Screen Porch\", \"Neighborhood_Crawfor\", \\\n",
    "          \"Exterior 1st_BrkFace\",\"Functional_Typ\", \"Bedroom AbvGr\", \"House Age\", \"SalePrice\"]\n",
    "\n",
    "top_25_test = [\"Total SF\", \"Gr Liv Area\", \"Overall Qual\", \"BsmtFin SF 1\", \"Overall Cond\", \"Exter Qual_Ex\",\\\n",
    "          \"Neighborhood_NridgHt\", \"Kitchen Qual_Ex\", \"Neighborhood_StoneBr\", \"Lot Area\", \"Garage Area\",\\\n",
    "          \"Bldg Type_1Fam\", \"Bsmt Qual_Ex\", \"Neighborhood_GrnHill\", \"Mas Vnr Area\", \"Neighborhood_Somerst\",\\\n",
    "         \"Bsmt Exposure_Gd\", \"Bsmt Exposure_No\" ,\"Neighborhood_NoRidge\", \"Screen Porch\", \"Neighborhood_Crawfor\", \\\n",
    "          \"Exterior 1st_BrkFace\",\"Functional_Typ\", \"Bedroom AbvGr\", \"House Age\"]\n"
   ]
  },
  {
   "cell_type": "code",
   "execution_count": 142,
   "id": "807eeb52",
   "metadata": {},
   "outputs": [],
   "source": [
    "final_train = final_train[top_25_train]"
   ]
  },
  {
   "cell_type": "code",
   "execution_count": 143,
   "id": "29c90670",
   "metadata": {},
   "outputs": [],
   "source": [
    "final_test = final_test[top_25_test]"
   ]
  },
  {
   "cell_type": "code",
   "execution_count": 144,
   "id": "c8e73d11",
   "metadata": {},
   "outputs": [
    {
     "name": "stdout",
     "output_type": "stream",
     "text": [
      "(2046, 26) (878, 25)\n"
     ]
    }
   ],
   "source": [
    "print(final_train.shape, final_test.shape)"
   ]
  },
  {
   "cell_type": "code",
   "execution_count": 145,
   "id": "63509b15",
   "metadata": {},
   "outputs": [
    {
     "name": "stdout",
     "output_type": "stream",
     "text": [
      "(2046, 25)\n",
      "(2046, 1)\n",
      "(1636, 25)\n",
      "(1636, 1)\n",
      "(410, 25)\n",
      "(410, 1)\n"
     ]
    }
   ],
   "source": [
    "#train-test-split, test size(0.2)\n",
    "X = final_train.drop(columns = 'SalePrice')\n",
    "y = final_train[['SalePrice']]\n",
    "\n",
    "print(X.shape)\n",
    "print(y.shape)\n",
    "\n",
    "# train test split\n",
    "np.random.seed(100)\n",
    "X_train, X_test, y_train, y_test = train_test_split(X, y, random_state=42, test_size = 0.2) \n",
    "\n",
    "print(X_train.shape)\n",
    "print(y_train.shape)\n",
    "print(X_test.shape)\n",
    "print(y_test.shape)   "
   ]
  },
  {
   "cell_type": "code",
   "execution_count": 146,
   "id": "a3a11984",
   "metadata": {},
   "outputs": [
    {
     "data": {
      "text/plain": [
       "(878, 25)"
      ]
     },
     "execution_count": 146,
     "metadata": {},
     "output_type": "execute_result"
    }
   ],
   "source": [
    "test_df=final_test.copy()\n",
    "test_df.shape"
   ]
  },
  {
   "cell_type": "code",
   "execution_count": 147,
   "id": "a8e1b9c8",
   "metadata": {},
   "outputs": [
    {
     "data": {
      "text/plain": [
       "StandardScaler()"
      ]
     },
     "execution_count": 147,
     "metadata": {},
     "output_type": "execute_result"
    }
   ],
   "source": [
    "#Create the standardization scaling object\n",
    "ss = StandardScaler()\n",
    "\n",
    "#Fit the standardization parameters and scale the data.\n",
    "ss.fit(X_train)"
   ]
  },
  {
   "cell_type": "code",
   "execution_count": 148,
   "id": "136230e1",
   "metadata": {},
   "outputs": [],
   "source": [
    "X_train_sc = ss.transform(X_train)\n",
    "X_test_sc = ss.transform(X_test)\n",
    "X_sub = ss.transform(test_df)"
   ]
  },
  {
   "cell_type": "code",
   "execution_count": 149,
   "id": "4c5f1cda",
   "metadata": {},
   "outputs": [
    {
     "name": "stdout",
     "output_type": "stream",
     "text": [
      "(1636, 25) (410, 25) (878, 25)\n"
     ]
    }
   ],
   "source": [
    "print(X_train_sc.shape, X_test_sc.shape, X_sub.shape)"
   ]
  },
  {
   "cell_type": "code",
   "execution_count": 150,
   "id": "f1f4e538",
   "metadata": {},
   "outputs": [
    {
     "data": {
      "text/plain": [
       "LassoCV(max_iter=100, n_alphas=66)"
      ]
     },
     "execution_count": 150,
     "metadata": {},
     "output_type": "execute_result"
    }
   ],
   "source": [
    "# Lasso CV \n",
    "lassocv = LassoCV(n_alphas = 66, max_iter = 100)\n",
    "# Fit model using optimal alpha.\n",
    "lassocv.fit(X_train_sc, y_train)"
   ]
  },
  {
   "cell_type": "code",
   "execution_count": 151,
   "id": "0f9d0368",
   "metadata": {},
   "outputs": [
    {
     "data": {
      "text/plain": [
       "66.26867302034901"
      ]
     },
     "execution_count": 151,
     "metadata": {},
     "output_type": "execute_result"
    }
   ],
   "source": [
    "#optimasl alpha\n",
    "lassocv.alpha_"
   ]
  },
  {
   "cell_type": "code",
   "execution_count": 152,
   "id": "76f6c0ba",
   "metadata": {},
   "outputs": [],
   "source": [
    "# Generate predictions\n",
    "y_pred_lassocv_train = lassocv.predict(X_train_sc)\n",
    "y_pred_lassocv = lassocv.predict(X_test_sc)\n"
   ]
  },
  {
   "cell_type": "code",
   "execution_count": 153,
   "id": "761d21b5",
   "metadata": {},
   "outputs": [
    {
     "name": "stdout",
     "output_type": "stream",
     "text": [
      "Training Set\n",
      "Predicted Train RMSE: 22210.907525198454\n",
      "Predicted Train r2: 0.9219704134831815\n",
      "\n",
      "\n",
      "Test Set\n",
      "Predicted Test RMSE: 21554.335734756456\n",
      "Predicted Test r2: 0.9241011469114538\n"
     ]
    }
   ],
   "source": [
    "\n",
    "## Evaulation metrics: Root Mean Squared Error (RMSE), R-squared (r2)\n",
    "# Testing on training data\n",
    "print(\"Training Set\")\n",
    "print('Predicted Train RMSE:', np.sqrt(mean_squared_error(y_train,y_pred_lassocv_train)))\n",
    "print('Predicted Train r2:', r2_score(y_train, y_pred_lassocv_train))\n",
    "print('\\n')\n",
    "# Testing on unseen data\n",
    "print(\"Test Set\")\n",
    "print('Predicted Test RMSE:', np.sqrt(mean_squared_error(y_test, y_pred_lassocv)))\n",
    "print('Predicted Test r2:', r2_score(y_test, y_pred_lassocv))"
   ]
  },
  {
   "cell_type": "code",
   "execution_count": 154,
   "id": "f85e1c95",
   "metadata": {},
   "outputs": [
    {
     "data": {
      "text/plain": [
       "22738.657924812112"
      ]
     },
     "execution_count": 154,
     "metadata": {},
     "output_type": "execute_result"
    }
   ],
   "source": [
    "cv=RepeatedKFold(n_splits=10, n_repeats = 3, random_state=1)\n",
    "\n",
    "cross_val_score(lassocv, X_train_sc, y_train, cv=cv, scoring='neg_root_mean_squared_error').mean()\n",
    "#r2\n",
    "\n",
    "#abs\n",
    "abs(cross_val_score(lassocv, X_train_sc, y_train, cv=cv, scoring='neg_root_mean_squared_error').mean())"
   ]
  },
  {
   "cell_type": "code",
   "execution_count": 155,
   "id": "4a74a2f7",
   "metadata": {},
   "outputs": [],
   "source": [
    "lasso_predictions = pd.DataFrame(lassocv.predict(X_sub))\n",
    "\n",
    "\n",
    "# Generate csv\n",
    "lasso_submission = pd.DataFrame({'Id': test_data['Id'],\n",
    "                           'SalePrice': lasso_predictions[0]})\n",
    "\n",
    "lasso_submission.to_csv('./final_dataset/lasso_submission_imprved.csv', index=False)\n",
    "\n"
   ]
  },
  {
   "cell_type": "markdown",
   "id": "b2e36914",
   "metadata": {},
   "source": [
    "__Kaggle RMSE score : 25861.19202__\n"
   ]
  },
  {
   "cell_type": "markdown",
   "id": "ac10f85d",
   "metadata": {},
   "source": [
    "# 6 Conclusions and Recommendations"
   ]
  },
  {
   "cell_type": "markdown",
   "id": "54e2edc6",
   "metadata": {},
   "source": [
    "### Four different models were tested on training data:\n",
    "\n",
    "1) linear regression\n",
    "\n",
    "2) Ridge CV\n",
    "\n",
    "3) lasso CV\n",
    "\n",
    "4) elastic net regression\n",
    "\n",
    "\n",
    "Looking at the Kaggle score of the different models, we can see that the RMSE score is lowest for Lasso. The lowest score was produced by playing around with the max_iter and alpha. By setting the alpha to 200 and the max_iter to 30000, I was able to come up with the lowest Kaggle RMSE score. \n",
    "\n",
    "Improvements were made to improve the model in two areas. \n",
    "\n",
    "1) Hyperparameter tuning  \n",
    "\n",
    "Improved the model by selecting the best configurations of the hyperparameters that give us the best model performance output. \n",
    "\n",
    "2) Feature Selection \n",
    "\n",
    "After determining the important features in the LassoCV model, I decided to run another model with just the important features identified in the initial model, discarding the other features to see if there was an improvement in the results. \n",
    "\n",
    "\n",
    "After rerunning the model, it was noticed that the LassoCV results improved after hyperparameter tuning with a R2 of 0.93.This model will be used to predict the housing prices in Ames based on the characteristics of the house. This model will support out in-house real estate agents support the clients (buyers & sellers) by looking at the key factors affecting housing prices in areas of Area, Condition/Quality, Building Type, External Feature and Location. With better pricing estimates, the real estate agents can advice buys on the estimate selling price and how they are able to improve their property features to push for a higher selling price. Furthermore for buyers, real estate agents will be able to work with buyers in determining the fair value of a house price in relation to the features of the house. \n",
    "\n",
    "###  Recommendations\n",
    "\n",
    "More time will be required to drop more features to improve the model, testing across other machine learning models before the solution will be able to be released for implementation to help the real estate agents in predicting the Sale Prices depending on the features of the house. If the model is continually worked on, collecting more data from different cities within the USA with a longer time frame, this dataset will serve more purpose beyond Iowa, benefitting more individuals and also showing more valuable trends between housing prices in different cities. Furthermore, there are also some limitations with the model as the model currently only considers the features of the property only, it does not take into account other factors including econommic indicators, government policies, mortgage and interest rates. \n",
    "\n",
    "\n",
    "\n"
   ]
  },
  {
   "cell_type": "code",
   "execution_count": null,
   "id": "93b95686",
   "metadata": {},
   "outputs": [],
   "source": []
  }
 ],
 "metadata": {
  "kernelspec": {
   "display_name": "Python 3",
   "language": "python",
   "name": "python3"
  },
  "language_info": {
   "codemirror_mode": {
    "name": "ipython",
    "version": 3
   },
   "file_extension": ".py",
   "mimetype": "text/x-python",
   "name": "python",
   "nbconvert_exporter": "python",
   "pygments_lexer": "ipython3",
   "version": "3.8.8"
  }
 },
 "nbformat": 4,
 "nbformat_minor": 5
}
