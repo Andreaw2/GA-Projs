{
 "cells": [
  {
   "cell_type": "markdown",
   "id": "183c8260",
   "metadata": {},
   "source": [
    "# 1) Data Cleaning  starting with r/aliens"
   ]
  },
  {
   "cell_type": "code",
   "execution_count": 1,
   "id": "0f9533b6",
   "metadata": {},
   "outputs": [],
   "source": [
    "# Imports\n",
    "import numpy as np\n",
    "import pandas as pd\n",
    "import seaborn as sns\n",
    "import matplotlib.pyplot as plt  \n",
    "import datetime\n",
    "import regex as re\n",
    "\n",
    "\n",
    "\n",
    "%matplotlib inline\n",
    "\n",
    "pd.set_option(\"display.max_columns\", None)\n",
    "\n",
    "from bs4 import BeautifulSoup\n",
    "from emot.emo_unicode import UNICODE_EMOJI # For emojis\n",
    "from emot.emo_unicode import EMOTICONS_EMO # For EMOTICONS\n",
    "\n",
    "# importing NLP packages\n",
    "from nltk.corpus import stopwords\n",
    "from nltk.stem import WordNetLemmatizer, PorterStemmer\n",
    "from sklearn.feature_extraction.text import CountVectorizer, TfidfVectorizer, ENGLISH_STOP_WORDS\n",
    "\n",
    "# Imports\n",
    "import numpy as np\n",
    "import pandas as pd\n",
    "import seaborn as sns\n",
    "import matplotlib.pyplot as plt  \n",
    "import datetime\n",
    "import regex as re\n",
    "\n",
    "\n",
    "\n",
    "from sklearn.model_selection import train_test_split, GridSearchCV, KFold, cross_val_score\n",
    "\n",
    "# importing NLP packages\n",
    "from nltk.corpus import stopwords\n",
    "from nltk.stem import WordNetLemmatizer, PorterStemmer\n",
    "from sklearn.feature_extraction.text import CountVectorizer, TfidfVectorizer, ENGLISH_STOP_WORDS\n",
    "from sklearn.pipeline import Pipeline\n",
    "from sklearn.model_selection import train_test_split, GridSearchCV\n",
    "from sklearn.linear_model import LogisticRegression\n",
    "\n",
    "from sklearn.naive_bayes import MultinomialNB\n",
    "\n",
    "from sklearn.ensemble import RandomForestClassifier\n",
    "\n",
    "from sklearn.metrics import confusion_matrix\n",
    "\n",
    "%matplotlib inline\n",
    "\n",
    "pd.set_option(\"display.max_columns\", None)\n",
    "\n",
    "from bs4 import BeautifulSoup\n",
    "from emot.emo_unicode import UNICODE_EMOJI # For emojis\n",
    "from emot.emo_unicode import EMOTICONS_EMO # For EMOTICONS\n"
   ]
  },
  {
   "cell_type": "code",
   "execution_count": 2,
   "id": "2f673502",
   "metadata": {},
   "outputs": [],
   "source": [
    "#retrieve the csv files extracted \n",
    "\n",
    "aliens = pd.read_csv('./data/aliens_submissions.csv', low_memory=False)"
   ]
  },
  {
   "cell_type": "code",
   "execution_count": 3,
   "id": "8e8902e1",
   "metadata": {},
   "outputs": [
    {
     "name": "stdout",
     "output_type": "stream",
     "text": [
      "(9996, 86)\n"
     ]
    }
   ],
   "source": [
    "print(aliens.shape)\n"
   ]
  },
  {
   "cell_type": "code",
   "execution_count": 4,
   "id": "8351f8de",
   "metadata": {},
   "outputs": [
    {
     "data": {
      "text/plain": [
       "Index(['all_awardings', 'allow_live_comments', 'author',\n",
       "       'author_flair_css_class', 'author_flair_richtext', 'author_flair_text',\n",
       "       'author_flair_type', 'author_fullname', 'author_is_blocked',\n",
       "       'author_patreon_flair', 'author_premium', 'awarders', 'can_mod_post',\n",
       "       'contest_mode', 'created_utc', 'domain', 'full_link', 'gildings', 'id',\n",
       "       'is_created_from_ads_ui', 'is_crosspostable', 'is_meta',\n",
       "       'is_original_content', 'is_reddit_media_domain', 'is_robot_indexable',\n",
       "       'is_self', 'is_video', 'link_flair_background_color',\n",
       "       'link_flair_css_class', 'link_flair_richtext', 'link_flair_template_id',\n",
       "       'link_flair_text', 'link_flair_text_color', 'link_flair_type', 'locked',\n",
       "       'media_only', 'no_follow', 'num_comments', 'num_crossposts', 'over_18',\n",
       "       'parent_whitelist_status', 'permalink', 'pinned', 'pwls',\n",
       "       'retrieved_on', 'score', 'selftext', 'send_replies', 'spoiler',\n",
       "       'stickied', 'subreddit', 'subreddit_id', 'subreddit_subscribers',\n",
       "       'subreddit_type', 'thumbnail', 'title', 'total_awards_received',\n",
       "       'treatment_tags', 'upvote_ratio', 'url', 'whitelist_status', 'wls',\n",
       "       'media', 'media_embed', 'post_hint', 'preview', 'secure_media',\n",
       "       'secure_media_embed', 'thumbnail_height', 'thumbnail_width',\n",
       "       'url_overridden_by_dest', 'removed_by_category',\n",
       "       'author_flair_template_id', 'author_flair_text_color', 'is_gallery',\n",
       "       'media_metadata', 'author_flair_background_color', 'gallery_data',\n",
       "       'author_cakeday', 'crosspost_parent', 'crosspost_parent_list', 'edited',\n",
       "       'banned_by', 'gilded', 'poll_data', 'distinguished'],\n",
       "      dtype='object')"
      ]
     },
     "execution_count": 4,
     "metadata": {},
     "output_type": "execute_result"
    }
   ],
   "source": [
    "aliens.columns"
   ]
  },
  {
   "cell_type": "code",
   "execution_count": 5,
   "id": "9506166f",
   "metadata": {},
   "outputs": [],
   "source": [
    "#Select columns to be extracted that will be useful for EDA\n",
    "def extract_cols(df):\n",
    "    return df[['subreddit','id','selftext','title', 'author', 'created_utc', 'score', \n",
    "              'num_comments', 'upvote_ratio']]"
   ]
  },
  {
   "cell_type": "code",
   "execution_count": 6,
   "id": "504aa948",
   "metadata": {},
   "outputs": [],
   "source": [
    "aliens = extract_cols(aliens)"
   ]
  },
  {
   "cell_type": "code",
   "execution_count": 7,
   "id": "3bb30095",
   "metadata": {},
   "outputs": [
    {
     "data": {
      "text/plain": [
       "(9996, 9)"
      ]
     },
     "execution_count": 7,
     "metadata": {},
     "output_type": "execute_result"
    }
   ],
   "source": [
    "aliens.shape"
   ]
  },
  {
   "cell_type": "code",
   "execution_count": 8,
   "id": "0caf1240",
   "metadata": {},
   "outputs": [
    {
     "data": {
      "text/html": [
       "<div>\n",
       "<style scoped>\n",
       "    .dataframe tbody tr th:only-of-type {\n",
       "        vertical-align: middle;\n",
       "    }\n",
       "\n",
       "    .dataframe tbody tr th {\n",
       "        vertical-align: top;\n",
       "    }\n",
       "\n",
       "    .dataframe thead th {\n",
       "        text-align: right;\n",
       "    }\n",
       "</style>\n",
       "<table border=\"1\" class=\"dataframe\">\n",
       "  <thead>\n",
       "    <tr style=\"text-align: right;\">\n",
       "      <th></th>\n",
       "      <th>subreddit</th>\n",
       "      <th>id</th>\n",
       "      <th>selftext</th>\n",
       "      <th>title</th>\n",
       "      <th>author</th>\n",
       "      <th>created_utc</th>\n",
       "      <th>score</th>\n",
       "      <th>num_comments</th>\n",
       "      <th>upvote_ratio</th>\n",
       "    </tr>\n",
       "  </thead>\n",
       "  <tbody>\n",
       "    <tr>\n",
       "      <th>0</th>\n",
       "      <td>aliens</td>\n",
       "      <td>t4wova</td>\n",
       "      <td>I just woke up from a crazy alien dream! It st...</td>\n",
       "      <td>Aliens shot me with a subatomic particle beam ...</td>\n",
       "      <td>knowledgeCaterpillar</td>\n",
       "      <td>1646214399</td>\n",
       "      <td>1</td>\n",
       "      <td>0</td>\n",
       "      <td>1.0</td>\n",
       "    </tr>\n",
       "    <tr>\n",
       "      <th>1</th>\n",
       "      <td>aliens</td>\n",
       "      <td>t4wf68</td>\n",
       "      <td>I live in the south so we'll usually hear guns...</td>\n",
       "      <td>maybe an alien ?</td>\n",
       "      <td>opism_ex</td>\n",
       "      <td>1646213158</td>\n",
       "      <td>1</td>\n",
       "      <td>0</td>\n",
       "      <td>1.0</td>\n",
       "    </tr>\n",
       "    <tr>\n",
       "      <th>2</th>\n",
       "      <td>aliens</td>\n",
       "      <td>t4w4gg</td>\n",
       "      <td>NaN</td>\n",
       "      <td>HUMAN-ALIEN hybrid lives in India! #Shorts</td>\n",
       "      <td>Dan_Vasilache</td>\n",
       "      <td>1646211873</td>\n",
       "      <td>1</td>\n",
       "      <td>0</td>\n",
       "      <td>1.0</td>\n",
       "    </tr>\n",
       "    <tr>\n",
       "      <th>3</th>\n",
       "      <td>aliens</td>\n",
       "      <td>t4v5ik</td>\n",
       "      <td>[removed]</td>\n",
       "      <td>UFO sighting</td>\n",
       "      <td>Wookiesarepeopletoo_</td>\n",
       "      <td>1646207848</td>\n",
       "      <td>1</td>\n",
       "      <td>0</td>\n",
       "      <td>1.0</td>\n",
       "    </tr>\n",
       "    <tr>\n",
       "      <th>4</th>\n",
       "      <td>aliens</td>\n",
       "      <td>t4ulla</td>\n",
       "      <td>What are signs that someone’s been abducted? A...</td>\n",
       "      <td>Signs you’ve been abducted</td>\n",
       "      <td>Theespacebaby</td>\n",
       "      <td>1646205635</td>\n",
       "      <td>1</td>\n",
       "      <td>0</td>\n",
       "      <td>1.0</td>\n",
       "    </tr>\n",
       "  </tbody>\n",
       "</table>\n",
       "</div>"
      ],
      "text/plain": [
       "  subreddit      id                                           selftext  \\\n",
       "0    aliens  t4wova  I just woke up from a crazy alien dream! It st...   \n",
       "1    aliens  t4wf68  I live in the south so we'll usually hear guns...   \n",
       "2    aliens  t4w4gg                                                NaN   \n",
       "3    aliens  t4v5ik                                          [removed]   \n",
       "4    aliens  t4ulla  What are signs that someone’s been abducted? A...   \n",
       "\n",
       "                                               title                author  \\\n",
       "0  Aliens shot me with a subatomic particle beam ...  knowledgeCaterpillar   \n",
       "1                                   maybe an alien ?              opism_ex   \n",
       "2         HUMAN-ALIEN hybrid lives in India! #Shorts         Dan_Vasilache   \n",
       "3                                       UFO sighting  Wookiesarepeopletoo_   \n",
       "4                         Signs you’ve been abducted         Theespacebaby   \n",
       "\n",
       "   created_utc  score  num_comments  upvote_ratio  \n",
       "0   1646214399      1             0           1.0  \n",
       "1   1646213158      1             0           1.0  \n",
       "2   1646211873      1             0           1.0  \n",
       "3   1646207848      1             0           1.0  \n",
       "4   1646205635      1             0           1.0  "
      ]
     },
     "execution_count": 8,
     "metadata": {},
     "output_type": "execute_result"
    }
   ],
   "source": [
    "aliens.head()"
   ]
  },
  {
   "cell_type": "code",
   "execution_count": 9,
   "id": "e6e0616b",
   "metadata": {},
   "outputs": [],
   "source": [
    "#check for any duplicates\n",
    "def duplicate_id(df):\n",
    "    \n",
    "    duplicate = df[df.duplicated('id')]\n",
    "    count = duplicate['id'].count()\n",
    "\n",
    "    print(f\"Duplicate id counts in  : {count}\")"
   ]
  },
  {
   "cell_type": "code",
   "execution_count": 10,
   "id": "ec433db4",
   "metadata": {},
   "outputs": [
    {
     "name": "stdout",
     "output_type": "stream",
     "text": [
      "Duplicate id counts in  : 0\n"
     ]
    }
   ],
   "source": [
    "duplicate_id(aliens)"
   ]
  },
  {
   "cell_type": "code",
   "execution_count": 11,
   "id": "90893690",
   "metadata": {},
   "outputs": [
    {
     "data": {
      "text/plain": [
       "subreddit          0\n",
       "id                 0\n",
       "selftext        4333\n",
       "title              0\n",
       "author             0\n",
       "created_utc        0\n",
       "score              0\n",
       "num_comments       0\n",
       "upvote_ratio       0\n",
       "dtype: int64"
      ]
     },
     "execution_count": 11,
     "metadata": {},
     "output_type": "execute_result"
    }
   ],
   "source": [
    "#check for null values\n",
    "\n",
    "aliens.isnull().sum()"
   ]
  },
  {
   "cell_type": "markdown",
   "id": "26e70d51",
   "metadata": {},
   "source": [
    "The submissions’ selftext would an empty string if a link post. Hence, we will be replacing the null values within selftext as 'NA' instead. "
   ]
  },
  {
   "cell_type": "markdown",
   "id": "7f6e2d3a",
   "metadata": {},
   "source": [
    "# 2) Repeat same steps for r/conspiracytheories\n"
   ]
  },
  {
   "cell_type": "code",
   "execution_count": 12,
   "id": "b7bafc67",
   "metadata": {},
   "outputs": [
    {
     "data": {
      "text/plain": [
       "(9999, 85)"
      ]
     },
     "execution_count": 12,
     "metadata": {},
     "output_type": "execute_result"
    }
   ],
   "source": [
    "#retrieve the csv files extracted \n",
    "\n",
    "ct = pd.read_csv('./data/ct_submissions.csv', low_memory = False)\n",
    "\n",
    "ct.shape"
   ]
  },
  {
   "cell_type": "code",
   "execution_count": 13,
   "id": "0d8dad41",
   "metadata": {},
   "outputs": [
    {
     "data": {
      "text/html": [
       "<div>\n",
       "<style scoped>\n",
       "    .dataframe tbody tr th:only-of-type {\n",
       "        vertical-align: middle;\n",
       "    }\n",
       "\n",
       "    .dataframe tbody tr th {\n",
       "        vertical-align: top;\n",
       "    }\n",
       "\n",
       "    .dataframe thead th {\n",
       "        text-align: right;\n",
       "    }\n",
       "</style>\n",
       "<table border=\"1\" class=\"dataframe\">\n",
       "  <thead>\n",
       "    <tr style=\"text-align: right;\">\n",
       "      <th></th>\n",
       "      <th>subreddit</th>\n",
       "      <th>id</th>\n",
       "      <th>selftext</th>\n",
       "      <th>title</th>\n",
       "      <th>author</th>\n",
       "      <th>created_utc</th>\n",
       "      <th>score</th>\n",
       "      <th>num_comments</th>\n",
       "      <th>upvote_ratio</th>\n",
       "    </tr>\n",
       "  </thead>\n",
       "  <tbody>\n",
       "    <tr>\n",
       "      <th>0</th>\n",
       "      <td>conspiracytheories</td>\n",
       "      <td>t4twuy</td>\n",
       "      <td>There have been several things in world histor...</td>\n",
       "      <td>Did someone invent time travel?</td>\n",
       "      <td>Aintsosimple</td>\n",
       "      <td>1646202980</td>\n",
       "      <td>1</td>\n",
       "      <td>0</td>\n",
       "      <td>1.0</td>\n",
       "    </tr>\n",
       "    <tr>\n",
       "      <th>1</th>\n",
       "      <td>conspiracytheories</td>\n",
       "      <td>t4tbku</td>\n",
       "      <td>[removed]</td>\n",
       "      <td>Did you know that moderna is a Ukrainian compa...</td>\n",
       "      <td>Numerous_Cut_5410</td>\n",
       "      <td>1646200837</td>\n",
       "      <td>1</td>\n",
       "      <td>0</td>\n",
       "      <td>1.0</td>\n",
       "    </tr>\n",
       "    <tr>\n",
       "      <th>2</th>\n",
       "      <td>conspiracytheories</td>\n",
       "      <td>t4taka</td>\n",
       "      <td>Theory: They can't get their more advanced cra...</td>\n",
       "      <td>UAP/Non-human intelligence is interfering with...</td>\n",
       "      <td>Light-based</td>\n",
       "      <td>1646200764</td>\n",
       "      <td>1</td>\n",
       "      <td>0</td>\n",
       "      <td>1.0</td>\n",
       "    </tr>\n",
       "    <tr>\n",
       "      <th>3</th>\n",
       "      <td>conspiracytheories</td>\n",
       "      <td>t4t9j8</td>\n",
       "      <td>What if the Mandela effect is actually the gov...</td>\n",
       "      <td>Mandela effect?</td>\n",
       "      <td>sbspixie</td>\n",
       "      <td>1646200667</td>\n",
       "      <td>1</td>\n",
       "      <td>0</td>\n",
       "      <td>1.0</td>\n",
       "    </tr>\n",
       "    <tr>\n",
       "      <th>4</th>\n",
       "      <td>conspiracytheories</td>\n",
       "      <td>t4t08c</td>\n",
       "      <td>[removed]</td>\n",
       "      <td>Beige listed still owes me $1,000</td>\n",
       "      <td>Numerous_Cut_5410</td>\n",
       "      <td>1646199782</td>\n",
       "      <td>1</td>\n",
       "      <td>0</td>\n",
       "      <td>1.0</td>\n",
       "    </tr>\n",
       "  </tbody>\n",
       "</table>\n",
       "</div>"
      ],
      "text/plain": [
       "            subreddit      id  \\\n",
       "0  conspiracytheories  t4twuy   \n",
       "1  conspiracytheories  t4tbku   \n",
       "2  conspiracytheories  t4taka   \n",
       "3  conspiracytheories  t4t9j8   \n",
       "4  conspiracytheories  t4t08c   \n",
       "\n",
       "                                            selftext  \\\n",
       "0  There have been several things in world histor...   \n",
       "1                                          [removed]   \n",
       "2  Theory: They can't get their more advanced cra...   \n",
       "3  What if the Mandela effect is actually the gov...   \n",
       "4                                          [removed]   \n",
       "\n",
       "                                               title             author  \\\n",
       "0                    Did someone invent time travel?       Aintsosimple   \n",
       "1  Did you know that moderna is a Ukrainian compa...  Numerous_Cut_5410   \n",
       "2  UAP/Non-human intelligence is interfering with...        Light-based   \n",
       "3                                    Mandela effect?           sbspixie   \n",
       "4                  Beige listed still owes me $1,000  Numerous_Cut_5410   \n",
       "\n",
       "   created_utc  score  num_comments  upvote_ratio  \n",
       "0   1646202980      1             0           1.0  \n",
       "1   1646200837      1             0           1.0  \n",
       "2   1646200764      1             0           1.0  \n",
       "3   1646200667      1             0           1.0  \n",
       "4   1646199782      1             0           1.0  "
      ]
     },
     "execution_count": 13,
     "metadata": {},
     "output_type": "execute_result"
    }
   ],
   "source": [
    "ct = extract_cols(ct)\n",
    "ct.head()"
   ]
  },
  {
   "cell_type": "code",
   "execution_count": 14,
   "id": "a08c569e",
   "metadata": {},
   "outputs": [
    {
     "name": "stdout",
     "output_type": "stream",
     "text": [
      "Duplicate id counts in  : 0\n"
     ]
    }
   ],
   "source": [
    "duplicate_id(ct)"
   ]
  },
  {
   "cell_type": "code",
   "execution_count": 15,
   "id": "fa57f14a",
   "metadata": {},
   "outputs": [
    {
     "data": {
      "text/plain": [
       "subreddit          0\n",
       "id                 0\n",
       "selftext        4834\n",
       "title              0\n",
       "author             0\n",
       "created_utc        0\n",
       "score              0\n",
       "num_comments       0\n",
       "upvote_ratio       0\n",
       "dtype: int64"
      ]
     },
     "execution_count": 15,
     "metadata": {},
     "output_type": "execute_result"
    }
   ],
   "source": [
    "ct.isnull().sum()"
   ]
  },
  {
   "cell_type": "markdown",
   "id": "12181796",
   "metadata": {},
   "source": [
    "The submissions’ selftext would an empty string if a link post. Hence, we will be replacing the null values within selftext as 'NA' instead. "
   ]
  },
  {
   "cell_type": "markdown",
   "id": "7a98a049",
   "metadata": {},
   "source": [
    "# 3) Replace null values with 'NA', convert UTC to datetime"
   ]
  },
  {
   "cell_type": "code",
   "execution_count": 16,
   "id": "193cb162",
   "metadata": {},
   "outputs": [],
   "source": [
    "\n",
    "aliens[\"selftext\"].fillna(\"NA\", inplace = True)\n",
    "ct[\"selftext\"].fillna(\"NA\", inplace = True)"
   ]
  },
  {
   "cell_type": "code",
   "execution_count": 17,
   "id": "30344483",
   "metadata": {},
   "outputs": [],
   "source": [
    "#aliens.isnull().sum()"
   ]
  },
  {
   "cell_type": "code",
   "execution_count": 18,
   "id": "f3c72b51",
   "metadata": {
    "scrolled": true
   },
   "outputs": [],
   "source": [
    "#ct.isnull().sum()"
   ]
  },
  {
   "cell_type": "code",
   "execution_count": 19,
   "id": "1017fa9b",
   "metadata": {},
   "outputs": [],
   "source": [
    "aliens['created_utc'] = pd.to_datetime(aliens['created_utc'], unit = 's')\n",
    "ct['created_utc'] = pd.to_datetime(ct['created_utc'], unit = 's')"
   ]
  },
  {
   "cell_type": "markdown",
   "id": "33b44a13",
   "metadata": {},
   "source": [
    "# 4) Explore % of posts that are in text (e.g. not links or images) "
   ]
  },
  {
   "cell_type": "code",
   "execution_count": 20,
   "id": "9949454e",
   "metadata": {},
   "outputs": [
    {
     "data": {
      "text/plain": [
       "(9999, 9)"
      ]
     },
     "execution_count": 20,
     "metadata": {},
     "output_type": "execute_result"
    }
   ],
   "source": [
    "ct.shape"
   ]
  },
  {
   "cell_type": "code",
   "execution_count": 21,
   "id": "38500f3c",
   "metadata": {},
   "outputs": [
    {
     "data": {
      "text/plain": [
       "(9996, 9)"
      ]
     },
     "execution_count": 21,
     "metadata": {},
     "output_type": "execute_result"
    }
   ],
   "source": [
    "aliens.shape"
   ]
  },
  {
   "cell_type": "code",
   "execution_count": 22,
   "id": "b1f1caee",
   "metadata": {},
   "outputs": [
    {
     "data": {
      "text/plain": [
       "4333"
      ]
     },
     "execution_count": 22,
     "metadata": {},
     "output_type": "execute_result"
    }
   ],
   "source": [
    "aliens_nontext= aliens.loc[aliens['selftext'] == 'NA', 'selftext'].count()\n",
    "aliens_nontext"
   ]
  },
  {
   "cell_type": "code",
   "execution_count": 23,
   "id": "2e0a94ef",
   "metadata": {},
   "outputs": [
    {
     "data": {
      "text/plain": [
       "4834"
      ]
     },
     "execution_count": 23,
     "metadata": {},
     "output_type": "execute_result"
    }
   ],
   "source": [
    "ct_nontext= ct.loc[ct['selftext'] == 'NA', 'selftext'].count()\n",
    "ct_nontext"
   ]
  },
  {
   "cell_type": "code",
   "execution_count": 24,
   "id": "49ebaf4d",
   "metadata": {},
   "outputs": [
    {
     "data": {
      "image/png": "[encoded data removed]",
      "text/plain": [
       "<Figure size 360x288 with 1 Axes>"
      ]
     },
     "metadata": {
      "needs_background": "light"
     },
     "output_type": "display_data"
    }
   ],
   "source": [
    "ct_text = ((ct.shape[0] - ct_nontext)/ ct.shape[0]) * 100\n",
    "aliens_text = ((aliens.shape[0] - aliens_nontext)/ aliens.shape[0]) * 100\n",
    "\n",
    "plt.figure(figsize = (5,4))\n",
    "plots = sns.barplot(y = [ct_text, aliens_text], x = ['r/conspiracytheoris','r/aliens'])\n",
    "\n",
    "for bar in plots.patches:\n",
    "   \n",
    "    # Using Matplotlib's annotate function and\n",
    "    # passing the coordinates where the annotation shall be done\n",
    "    plots.annotate(format(bar.get_height(), '.2f'),\n",
    "                   (bar.get_x() + bar.get_width() / 2,\n",
    "                    bar.get_height()), ha='center', va='center',\n",
    "                   size=15, xytext=(0, 9),\n",
    "                   textcoords='offset points')\n",
    "    \n",
    "plt.title('Percentage of text posts', fontsize=14)\n",
    "plt.ylim(0,100)\n",
    "plt.xticks(fontsize=14)\n",
    "plt.yticks(fontsize=12)\n",
    "plt.ylabel('Percentage')\n",
    "\n",
    "plt.tight_layout()\n"
   ]
  },
  {
   "cell_type": "markdown",
   "id": "68fcdc05",
   "metadata": {},
   "source": [
    "Both subreddits contain similar percentages of text posts at around 50%. There is still content in the 'title' columns that will be useful in training the model. Hence the posts that are not text posts will not be removed. "
   ]
  },
  {
   "cell_type": "markdown",
   "id": "6cdf847a",
   "metadata": {},
   "source": [
    "# 5) Observe for datetime trends in the dataset"
   ]
  },
  {
   "cell_type": "code",
   "execution_count": 25,
   "id": "efb8b1b7",
   "metadata": {},
   "outputs": [
    {
     "data": {
      "text/plain": [
       "<AxesSubplot:>"
      ]
     },
     "execution_count": 25,
     "metadata": {},
     "output_type": "execute_result"
    },
    {
     "data": {
      "image/png": "[encoded data removed]",
      "text/plain": [
       "<Figure size 1440x504 with 1 Axes>"
      ]
     },
     "metadata": {
      "needs_background": "light"
     },
     "output_type": "display_data"
    }
   ],
   "source": [
    "ct['created_utc'].hist(figsize = (20,7))"
   ]
  },
  {
   "cell_type": "code",
   "execution_count": 26,
   "id": "6ac94601",
   "metadata": {},
   "outputs": [
    {
     "data": {
      "text/plain": [
       "<AxesSubplot:>"
      ]
     },
     "execution_count": 26,
     "metadata": {},
     "output_type": "execute_result"
    },
    {
     "data": {
      "image/png": "[encoded data removed]",
      "text/plain": [
       "<Figure size 1440x504 with 1 Axes>"
      ]
     },
     "metadata": {
      "needs_background": "light"
     },
     "output_type": "display_data"
    }
   ],
   "source": [
    "aliens['created_utc'].hist(figsize = (20,7))"
   ]
  },
  {
   "cell_type": "markdown",
   "id": "118215b3",
   "metadata": {},
   "source": [
    "r/conspiracytheories was able to maintain a consistent number of posts per month from june 2021 to March 2022 between 900-1100 posts. On the other hand, r/aliens saw a decline in the number of posts from more than 1750 posts in july 2021 to less than 750 posts a month. "
   ]
  },
  {
   "cell_type": "markdown",
   "id": "e631aa3a",
   "metadata": {},
   "source": [
    "# 6) Visualize title lengths and post lengths"
   ]
  },
  {
   "cell_type": "code",
   "execution_count": 27,
   "id": "2e209c31",
   "metadata": {},
   "outputs": [],
   "source": [
    "ct['title_len'] = [len(x) for x in ct['title'].str.split(' ')]\n",
    "aliens['title_len'] = [len(x) for x in aliens['title'].str.split(' ')]"
   ]
  },
  {
   "cell_type": "code",
   "execution_count": 28,
   "id": "16150cba",
   "metadata": {},
   "outputs": [],
   "source": [
    "ct['text_len'] = [len(x) for x in ct['selftext'].str.split(' ')]\n",
    "aliens['text_len'] = [len(x) for x in aliens['selftext'].str.split(' ')]"
   ]
  },
  {
   "cell_type": "code",
   "execution_count": 29,
   "id": "d986f97f",
   "metadata": {},
   "outputs": [
    {
     "name": "stdout",
     "output_type": "stream",
     "text": [
      "The average r/conspiracytheory title is: 11.536053605360536 words long\n",
      "The average r/aliens title is: 11.513605442176871 words long\n"
     ]
    }
   ],
   "source": [
    "print(f\"The average r/conspiracytheory title is: {ct['title_len'].mean()} words long\")\n",
    "print(f\"The average r/aliens title is: {aliens['title_len'].mean()} words long\")"
   ]
  },
  {
   "cell_type": "code",
   "execution_count": 30,
   "id": "90d6bdfd",
   "metadata": {
    "scrolled": true
   },
   "outputs": [
    {
     "name": "stderr",
     "output_type": "stream",
     "text": [
      "C:\\Users\\wongs\\anaconda3\\lib\\site-packages\\seaborn\\distributions.py:2557: FutureWarning: `distplot` is a deprecated function and will be removed in a future version. Please adapt your code to use either `displot` (a figure-level function with similar flexibility) or `histplot` (an axes-level function for histograms).\n",
      "  warnings.warn(msg, FutureWarning)\n"
     ]
    },
    {
     "data": {
      "image/png": "[encoded data removed]",
      "text/plain": [
       "<Figure size 1080x432 with 1 Axes>"
      ]
     },
     "metadata": {
      "needs_background": "light"
     },
     "output_type": "display_data"
    }
   ],
   "source": [
    "plt.figure(figsize=(15, 6))\n",
    "sns.distplot(ct[\"title_len\"], kde=False, bins=20, label=\"r/conspiracytheories\", color=\"red\")\n",
    "sns.distplot(aliens[\"title_len\"], kde=False, bins=20, label=\"r/aliens\", color=\"blue\")\n",
    "plt.title(\"Distribution of Title (word count)\", size=20)\n",
    "plt.xlabel(\" Number of words in Title\", size=16)\n",
    "plt.xticks(range(0, 75, 25))\n",
    "plt.ylabel(\"Frequency\", size=16)\n",
    "plt.legend(fontsize=\"x-large\");"
   ]
  },
  {
   "cell_type": "code",
   "execution_count": 31,
   "id": "ad8012ac",
   "metadata": {},
   "outputs": [
    {
     "data": {
      "image/png": "[encoded data removed]",
      "text/plain": [
       "<Figure size 432x288 with 1 Axes>"
      ]
     },
     "metadata": {
      "needs_background": "light"
     },
     "output_type": "display_data"
    }
   ],
   "source": [
    "sns.boxplot( y=ct[\"subreddit\"], x = ct['title_len'] );\n",
    "plt.show()"
   ]
  },
  {
   "cell_type": "code",
   "execution_count": 32,
   "id": "30980d9d",
   "metadata": {},
   "outputs": [
    {
     "data": {
      "image/png": "[encoded data removed]",
      "text/plain": [
       "<Figure size 432x288 with 1 Axes>"
      ]
     },
     "metadata": {
      "needs_background": "light"
     },
     "output_type": "display_data"
    }
   ],
   "source": [
    "sns.boxplot( y=aliens[\"subreddit\"], x = aliens['title_len'] );\n",
    "plt.show()"
   ]
  },
  {
   "cell_type": "code",
   "execution_count": 33,
   "id": "1baa15ab",
   "metadata": {},
   "outputs": [
    {
     "name": "stdout",
     "output_type": "stream",
     "text": [
      "The average r/conspiracytheory post is: 40.964796479647966 words long\n",
      "The average r/aliens post is: 88.41946778711484 words long\n"
     ]
    }
   ],
   "source": [
    "print(f\"The average r/conspiracytheory post is: {ct['text_len'].mean()} words long\")\n",
    "print(f\"The average r/aliens post is: {aliens['text_len'].mean()} words long\")"
   ]
  },
  {
   "cell_type": "code",
   "execution_count": 34,
   "id": "6a177d84",
   "metadata": {},
   "outputs": [
    {
     "name": "stderr",
     "output_type": "stream",
     "text": [
      "C:\\Users\\wongs\\anaconda3\\lib\\site-packages\\seaborn\\distributions.py:2557: FutureWarning: `distplot` is a deprecated function and will be removed in a future version. Please adapt your code to use either `displot` (a figure-level function with similar flexibility) or `histplot` (an axes-level function for histograms).\n",
      "  warnings.warn(msg, FutureWarning)\n"
     ]
    },
    {
     "data": {
      "image/png": "[encoded data removed]",
      "text/plain": [
       "<Figure size 1440x720 with 1 Axes>"
      ]
     },
     "metadata": {
      "needs_background": "light"
     },
     "output_type": "display_data"
    }
   ],
   "source": [
    "plt.figure(figsize=(20, 10))\n",
    "sns.distplot(ct[\"text_len\"], kde=False, bins=20, label=\"r/conspiracytheories\", color=\"red\")\n",
    "sns.distplot(aliens[\"text_len\"], kde=False, bins=20, label=\"r/aliens\", color=\"blue\")\n",
    "plt.title(\"Distribution of post (word count) \", size=20)\n",
    "plt.xlabel(\"Number of words in Post\", size=16)\n",
    "plt.ylabel(\"Frequency\", size=16)\n",
    "plt.legend(fontsize=\"x-large\");"
   ]
  },
  {
   "cell_type": "code",
   "execution_count": 35,
   "id": "0b4aa3b7",
   "metadata": {},
   "outputs": [
    {
     "data": {
      "image/png": "[encoded data removed]",
      "text/plain": [
       "<Figure size 432x288 with 1 Axes>"
      ]
     },
     "metadata": {
      "needs_background": "light"
     },
     "output_type": "display_data"
    }
   ],
   "source": [
    "sns.boxplot( y=ct[\"subreddit\"], x = ct['text_len'] );\n",
    "plt.show()"
   ]
  },
  {
   "cell_type": "code",
   "execution_count": 36,
   "id": "c7a0d057",
   "metadata": {},
   "outputs": [
    {
     "data": {
      "image/png": "[encoded data removed]",
      "text/plain": [
       "<Figure size 432x288 with 1 Axes>"
      ]
     },
     "metadata": {
      "needs_background": "light"
     },
     "output_type": "display_data"
    }
   ],
   "source": [
    "sns.boxplot( y=aliens[\"subreddit\"], x = aliens['text_len'] );\n",
    "plt.show()"
   ]
  },
  {
   "cell_type": "markdown",
   "id": "6c0ed9b3",
   "metadata": {},
   "source": [
    "r/aliens and r/conspiracytheories are very similar in terms of the number of words in titles as well as posts. The title are on average around 11 words. For posts, r/conspiracytheories has shorter posts with 41 words on average while r/aliens have 89 words on average. However, it is observed that their posts have some outliers as well with posts more than 6000 words for both subreddits. "
   ]
  },
  {
   "cell_type": "code",
   "execution_count": 37,
   "id": "f06b7440",
   "metadata": {
    "scrolled": true
   },
   "outputs": [
    {
     "data": {
      "text/html": [
       "<div>\n",
       "<style scoped>\n",
       "    .dataframe tbody tr th:only-of-type {\n",
       "        vertical-align: middle;\n",
       "    }\n",
       "\n",
       "    .dataframe tbody tr th {\n",
       "        vertical-align: top;\n",
       "    }\n",
       "\n",
       "    .dataframe thead th {\n",
       "        text-align: right;\n",
       "    }\n",
       "</style>\n",
       "<table border=\"1\" class=\"dataframe\">\n",
       "  <thead>\n",
       "    <tr style=\"text-align: right;\">\n",
       "      <th></th>\n",
       "      <th>score</th>\n",
       "      <th>num_comments</th>\n",
       "      <th>upvote_ratio</th>\n",
       "      <th>title_len</th>\n",
       "      <th>text_len</th>\n",
       "    </tr>\n",
       "  </thead>\n",
       "  <tbody>\n",
       "    <tr>\n",
       "      <th>count</th>\n",
       "      <td>9999.000000</td>\n",
       "      <td>9999.000000</td>\n",
       "      <td>9999.000000</td>\n",
       "      <td>9999.000000</td>\n",
       "      <td>9999.000000</td>\n",
       "    </tr>\n",
       "    <tr>\n",
       "      <th>mean</th>\n",
       "      <td>1.823182</td>\n",
       "      <td>12.334633</td>\n",
       "      <td>0.986985</td>\n",
       "      <td>11.536054</td>\n",
       "      <td>40.964796</td>\n",
       "    </tr>\n",
       "    <tr>\n",
       "      <th>std</th>\n",
       "      <td>30.864067</td>\n",
       "      <td>41.069772</td>\n",
       "      <td>0.076945</td>\n",
       "      <td>10.342189</td>\n",
       "      <td>171.810383</td>\n",
       "    </tr>\n",
       "    <tr>\n",
       "      <th>min</th>\n",
       "      <td>0.000000</td>\n",
       "      <td>0.000000</td>\n",
       "      <td>0.140000</td>\n",
       "      <td>1.000000</td>\n",
       "      <td>1.000000</td>\n",
       "    </tr>\n",
       "    <tr>\n",
       "      <th>25%</th>\n",
       "      <td>1.000000</td>\n",
       "      <td>0.000000</td>\n",
       "      <td>1.000000</td>\n",
       "      <td>5.000000</td>\n",
       "      <td>1.000000</td>\n",
       "    </tr>\n",
       "    <tr>\n",
       "      <th>50%</th>\n",
       "      <td>1.000000</td>\n",
       "      <td>0.000000</td>\n",
       "      <td>1.000000</td>\n",
       "      <td>8.000000</td>\n",
       "      <td>1.000000</td>\n",
       "    </tr>\n",
       "    <tr>\n",
       "      <th>75%</th>\n",
       "      <td>1.000000</td>\n",
       "      <td>7.000000</td>\n",
       "      <td>1.000000</td>\n",
       "      <td>14.000000</td>\n",
       "      <td>4.000000</td>\n",
       "    </tr>\n",
       "    <tr>\n",
       "      <th>max</th>\n",
       "      <td>2760.000000</td>\n",
       "      <td>1258.000000</td>\n",
       "      <td>1.000000</td>\n",
       "      <td>60.000000</td>\n",
       "      <td>6200.000000</td>\n",
       "    </tr>\n",
       "  </tbody>\n",
       "</table>\n",
       "</div>"
      ],
      "text/plain": [
       "             score  num_comments  upvote_ratio    title_len     text_len\n",
       "count  9999.000000   9999.000000   9999.000000  9999.000000  9999.000000\n",
       "mean      1.823182     12.334633      0.986985    11.536054    40.964796\n",
       "std      30.864067     41.069772      0.076945    10.342189   171.810383\n",
       "min       0.000000      0.000000      0.140000     1.000000     1.000000\n",
       "25%       1.000000      0.000000      1.000000     5.000000     1.000000\n",
       "50%       1.000000      0.000000      1.000000     8.000000     1.000000\n",
       "75%       1.000000      7.000000      1.000000    14.000000     4.000000\n",
       "max    2760.000000   1258.000000      1.000000    60.000000  6200.000000"
      ]
     },
     "execution_count": 37,
     "metadata": {},
     "output_type": "execute_result"
    }
   ],
   "source": [
    "ct.describe()"
   ]
  },
  {
   "cell_type": "code",
   "execution_count": 38,
   "id": "f1725c5e",
   "metadata": {
    "scrolled": true
   },
   "outputs": [
    {
     "data": {
      "text/html": [
       "<div>\n",
       "<style scoped>\n",
       "    .dataframe tbody tr th:only-of-type {\n",
       "        vertical-align: middle;\n",
       "    }\n",
       "\n",
       "    .dataframe tbody tr th {\n",
       "        vertical-align: top;\n",
       "    }\n",
       "\n",
       "    .dataframe thead th {\n",
       "        text-align: right;\n",
       "    }\n",
       "</style>\n",
       "<table border=\"1\" class=\"dataframe\">\n",
       "  <thead>\n",
       "    <tr style=\"text-align: right;\">\n",
       "      <th></th>\n",
       "      <th>score</th>\n",
       "      <th>num_comments</th>\n",
       "      <th>upvote_ratio</th>\n",
       "      <th>title_len</th>\n",
       "      <th>text_len</th>\n",
       "    </tr>\n",
       "  </thead>\n",
       "  <tbody>\n",
       "    <tr>\n",
       "      <th>count</th>\n",
       "      <td>9996.000000</td>\n",
       "      <td>9996.000000</td>\n",
       "      <td>9996.000000</td>\n",
       "      <td>9996.000000</td>\n",
       "      <td>9996.000000</td>\n",
       "    </tr>\n",
       "    <tr>\n",
       "      <th>mean</th>\n",
       "      <td>1.345338</td>\n",
       "      <td>19.397059</td>\n",
       "      <td>0.994846</td>\n",
       "      <td>11.513605</td>\n",
       "      <td>88.419468</td>\n",
       "    </tr>\n",
       "    <tr>\n",
       "      <th>std</th>\n",
       "      <td>8.912065</td>\n",
       "      <td>57.622913</td>\n",
       "      <td>0.047944</td>\n",
       "      <td>9.712481</td>\n",
       "      <td>273.003249</td>\n",
       "    </tr>\n",
       "    <tr>\n",
       "      <th>min</th>\n",
       "      <td>0.000000</td>\n",
       "      <td>0.000000</td>\n",
       "      <td>0.110000</td>\n",
       "      <td>1.000000</td>\n",
       "      <td>1.000000</td>\n",
       "    </tr>\n",
       "    <tr>\n",
       "      <th>25%</th>\n",
       "      <td>1.000000</td>\n",
       "      <td>0.000000</td>\n",
       "      <td>1.000000</td>\n",
       "      <td>5.000000</td>\n",
       "      <td>1.000000</td>\n",
       "    </tr>\n",
       "    <tr>\n",
       "      <th>50%</th>\n",
       "      <td>1.000000</td>\n",
       "      <td>0.000000</td>\n",
       "      <td>1.000000</td>\n",
       "      <td>9.000000</td>\n",
       "      <td>1.000000</td>\n",
       "    </tr>\n",
       "    <tr>\n",
       "      <th>75%</th>\n",
       "      <td>1.000000</td>\n",
       "      <td>12.000000</td>\n",
       "      <td>1.000000</td>\n",
       "      <td>14.000000</td>\n",
       "      <td>73.000000</td>\n",
       "    </tr>\n",
       "    <tr>\n",
       "      <th>max</th>\n",
       "      <td>668.000000</td>\n",
       "      <td>1576.000000</td>\n",
       "      <td>1.000000</td>\n",
       "      <td>63.000000</td>\n",
       "      <td>6884.000000</td>\n",
       "    </tr>\n",
       "  </tbody>\n",
       "</table>\n",
       "</div>"
      ],
      "text/plain": [
       "             score  num_comments  upvote_ratio    title_len     text_len\n",
       "count  9996.000000   9996.000000   9996.000000  9996.000000  9996.000000\n",
       "mean      1.345338     19.397059      0.994846    11.513605    88.419468\n",
       "std       8.912065     57.622913      0.047944     9.712481   273.003249\n",
       "min       0.000000      0.000000      0.110000     1.000000     1.000000\n",
       "25%       1.000000      0.000000      1.000000     5.000000     1.000000\n",
       "50%       1.000000      0.000000      1.000000     9.000000     1.000000\n",
       "75%       1.000000     12.000000      1.000000    14.000000    73.000000\n",
       "max     668.000000   1576.000000      1.000000    63.000000  6884.000000"
      ]
     },
     "execution_count": 38,
     "metadata": {},
     "output_type": "execute_result"
    }
   ],
   "source": [
    "aliens.describe()"
   ]
  },
  {
   "cell_type": "markdown",
   "id": "fe2bf438",
   "metadata": {},
   "source": [
    "Both r/aliens and 6/conspiracytheories have posts with more than 6000 words. I will have to look more into this to find out if the posts are related to the content."
   ]
  },
  {
   "cell_type": "code",
   "execution_count": 39,
   "id": "59f7a05c",
   "metadata": {},
   "outputs": [],
   "source": [
    "#pd.set_option('display.max_colwidth', 100)"
   ]
  },
  {
   "cell_type": "code",
   "execution_count": 40,
   "id": "c9bfbab8",
   "metadata": {},
   "outputs": [
    {
     "data": {
      "text/html": [
       "<div>\n",
       "<style scoped>\n",
       "    .dataframe tbody tr th:only-of-type {\n",
       "        vertical-align: middle;\n",
       "    }\n",
       "\n",
       "    .dataframe tbody tr th {\n",
       "        vertical-align: top;\n",
       "    }\n",
       "\n",
       "    .dataframe thead th {\n",
       "        text-align: right;\n",
       "    }\n",
       "</style>\n",
       "<table border=\"1\" class=\"dataframe\">\n",
       "  <thead>\n",
       "    <tr style=\"text-align: right;\">\n",
       "      <th></th>\n",
       "      <th>subreddit</th>\n",
       "      <th>id</th>\n",
       "      <th>selftext</th>\n",
       "      <th>title</th>\n",
       "      <th>author</th>\n",
       "      <th>created_utc</th>\n",
       "      <th>score</th>\n",
       "      <th>num_comments</th>\n",
       "      <th>upvote_ratio</th>\n",
       "      <th>title_len</th>\n",
       "      <th>text_len</th>\n",
       "    </tr>\n",
       "  </thead>\n",
       "  <tbody>\n",
       "    <tr>\n",
       "      <th>3750</th>\n",
       "      <td>conspiracytheories</td>\n",
       "      <td>qv2gti</td>\n",
       "      <td>Let me say this, this is my belief. This is so...</td>\n",
       "      <td>A Theory For All the Ages: Part 1</td>\n",
       "      <td>ItalianStallion_25</td>\n",
       "      <td>2021-11-16 07:36:15</td>\n",
       "      <td>1</td>\n",
       "      <td>167</td>\n",
       "      <td>1.0</td>\n",
       "      <td>8</td>\n",
       "      <td>6057</td>\n",
       "    </tr>\n",
       "    <tr>\n",
       "      <th>9600</th>\n",
       "      <td>conspiracytheories</td>\n",
       "      <td>nmv7qq</td>\n",
       "      <td>July 18 and Hoaxers\\n\\nCommenting here was a ...</td>\n",
       "      <td>The Government has been keeping secrets on ali...</td>\n",
       "      <td>THM9000</td>\n",
       "      <td>2021-05-28 10:55:08</td>\n",
       "      <td>1</td>\n",
       "      <td>4</td>\n",
       "      <td>1.0</td>\n",
       "      <td>31</td>\n",
       "      <td>6200</td>\n",
       "    </tr>\n",
       "  </tbody>\n",
       "</table>\n",
       "</div>"
      ],
      "text/plain": [
       "               subreddit      id  \\\n",
       "3750  conspiracytheories  qv2gti   \n",
       "9600  conspiracytheories  nmv7qq   \n",
       "\n",
       "                                               selftext  \\\n",
       "3750  Let me say this, this is my belief. This is so...   \n",
       "9600   July 18 and Hoaxers\\n\\nCommenting here was a ...   \n",
       "\n",
       "                                                  title              author  \\\n",
       "3750                  A Theory For All the Ages: Part 1  ItalianStallion_25   \n",
       "9600  The Government has been keeping secrets on ali...             THM9000   \n",
       "\n",
       "             created_utc  score  num_comments  upvote_ratio  title_len  \\\n",
       "3750 2021-11-16 07:36:15      1           167           1.0          8   \n",
       "9600 2021-05-28 10:55:08      1             4           1.0         31   \n",
       "\n",
       "      text_len  \n",
       "3750      6057  \n",
       "9600      6200  "
      ]
     },
     "execution_count": 40,
     "metadata": {},
     "output_type": "execute_result"
    }
   ],
   "source": [
    "ct.loc[ct['text_len'] > 6000]"
   ]
  },
  {
   "cell_type": "code",
   "execution_count": 41,
   "id": "b3c056bb",
   "metadata": {},
   "outputs": [
    {
     "data": {
      "text/html": [
       "<div>\n",
       "<style scoped>\n",
       "    .dataframe tbody tr th:only-of-type {\n",
       "        vertical-align: middle;\n",
       "    }\n",
       "\n",
       "    .dataframe tbody tr th {\n",
       "        vertical-align: top;\n",
       "    }\n",
       "\n",
       "    .dataframe thead th {\n",
       "        text-align: right;\n",
       "    }\n",
       "</style>\n",
       "<table border=\"1\" class=\"dataframe\">\n",
       "  <thead>\n",
       "    <tr style=\"text-align: right;\">\n",
       "      <th></th>\n",
       "      <th>subreddit</th>\n",
       "      <th>id</th>\n",
       "      <th>selftext</th>\n",
       "      <th>title</th>\n",
       "      <th>author</th>\n",
       "      <th>created_utc</th>\n",
       "      <th>score</th>\n",
       "      <th>num_comments</th>\n",
       "      <th>upvote_ratio</th>\n",
       "      <th>title_len</th>\n",
       "      <th>text_len</th>\n",
       "    </tr>\n",
       "  </thead>\n",
       "  <tbody>\n",
       "    <tr>\n",
       "      <th>3316</th>\n",
       "      <td>aliens</td>\n",
       "      <td>qzlbux</td>\n",
       "      <td>**-This is a sacred text, a modern hymn to th...</td>\n",
       "      <td>Transcript of Chris Bledsoe's regression with ...</td>\n",
       "      <td>EarthAliens</td>\n",
       "      <td>2021-11-22 13:23:58</td>\n",
       "      <td>1</td>\n",
       "      <td>13</td>\n",
       "      <td>1.0</td>\n",
       "      <td>13</td>\n",
       "      <td>6884</td>\n",
       "    </tr>\n",
       "  </tbody>\n",
       "</table>\n",
       "</div>"
      ],
      "text/plain": [
       "     subreddit      id                                           selftext  \\\n",
       "3316    aliens  qzlbux   **-This is a sacred text, a modern hymn to th...   \n",
       "\n",
       "                                                  title       author  \\\n",
       "3316  Transcript of Chris Bledsoe's regression with ...  EarthAliens   \n",
       "\n",
       "             created_utc  score  num_comments  upvote_ratio  title_len  \\\n",
       "3316 2021-11-22 13:23:58      1            13           1.0         13   \n",
       "\n",
       "      text_len  \n",
       "3316      6884  "
      ]
     },
     "execution_count": 41,
     "metadata": {},
     "output_type": "execute_result"
    }
   ],
   "source": [
    "aliens.loc[aliens['text_len'] > 6000]"
   ]
  },
  {
   "cell_type": "markdown",
   "id": "fde1daa4",
   "metadata": {},
   "source": [
    "After looking at this posts, the content within are indeed related to the subject matter of the subreddit and will be included in the dataset.\n",
    "\n",
    "\n",
    "Further exploring the post on r/aliens with more than 6000 words,  it is a post regarding Chris Bledsoe who was visited by a mysterious entity.  Nearly a decade later, Chris Bledsor's son Ryan Bledsoe released a podcast of a hypnotic regression he did with Barbara Lamb. According to Ryan Bledsoe, Chris had conscious memory of the experience and recounted it in the interim."
   ]
  },
  {
   "cell_type": "markdown",
   "id": "2155e472",
   "metadata": {},
   "source": [
    "# 7) Explore behaviors of users within the two subreddits"
   ]
  },
  {
   "cell_type": "code",
   "execution_count": 42,
   "id": "7d5766c4",
   "metadata": {},
   "outputs": [],
   "source": [
    "#create dataframes of values counts of users with each subreddit \n",
    "\n",
    "ct_user = ct.author.value_counts().reset_index().rename(\n",
    "           columns={'index': 'name', 0:'count'})\n",
    "\n",
    "aliens_user = aliens.author.value_counts().reset_index().rename(\n",
    "           columns={'index': 'name', 0: 'count'})"
   ]
  },
  {
   "cell_type": "code",
   "execution_count": 43,
   "id": "aec57bdb",
   "metadata": {},
   "outputs": [
    {
     "name": "stdout",
     "output_type": "stream",
     "text": [
      "No. of rows within r/conspiracytheories: 9999\n",
      "Maximum no. of times a user has posted in r/conspiracytheories was: 473\n",
      "No. of users who have posted more than 20 times in r/conspiracytheories: 19\n",
      "\n",
      "No. of rows within r/aliens: 9996\n",
      "Maximum no. of times a user has posted in r/aliens was: 152\n",
      "No. of users who have posted more than 20 times in r/aliens: 31\n"
     ]
    }
   ],
   "source": [
    "print(f\"No. of rows within r/conspiracytheories:\", ct.shape[0])\n",
    "print (f\"Maximum no. of times a user has posted in r/conspiracytheories was:\", ct_user['author'].max())\n",
    "print(f\"No. of users who have posted more than 20 times in r/conspiracytheories:\", ct_user.loc[ct_user['author'] > 20, 'author'].count())\n",
    "\n",
    "print('')\n",
    "print(f\"No. of rows within r/aliens:\", aliens.shape[0])\n",
    "print (f\"Maximum no. of times a user has posted in r/aliens was:\", aliens_user['author'].max())\n",
    "print(f\"No. of users who have posted more than 20 times in r/aliens:\", aliens_user.loc[aliens_user['author'] > 20, 'author'].count())"
   ]
  },
  {
   "cell_type": "code",
   "execution_count": 44,
   "id": "34ef0f37",
   "metadata": {},
   "outputs": [
    {
     "data": {
      "text/plain": [
       "(0, 2]      0.915495\n",
       "(2, 4]      0.053967\n",
       "(4, 6]      0.016158\n",
       "(6, 8]      0.006625\n",
       "(8, 10]     0.004201\n",
       "(10, 20]    0.003555\n",
       "Name: binned, dtype: float64"
      ]
     },
     "execution_count": 44,
     "metadata": {},
     "output_type": "execute_result"
    }
   ],
   "source": [
    "bins = [0, 2, 4, 6, 8, 10, 20]\n",
    "ct_user['binned'] = pd.cut(ct_user['author'], bins)\n",
    "ct_user['binned'].value_counts(normalize=True)"
   ]
  },
  {
   "cell_type": "code",
   "execution_count": 45,
   "id": "6cebf4fe",
   "metadata": {},
   "outputs": [
    {
     "data": {
      "image/png": "[encoded data removed]",
      "text/plain": [
       "<Figure size 432x288 with 1 Axes>"
      ]
     },
     "metadata": {
      "needs_background": "light"
     },
     "output_type": "display_data"
    }
   ],
   "source": [
    "splot = sns.barplot(x=ct_user.binned.value_counts().index, y=ct_user.binned.value_counts())\n",
    "for p in splot.patches:\n",
    "    splot.annotate(format(p.get_height(), '.1f'), \n",
    "                   (p.get_x() + p.get_width() / 2., p.get_height()), \n",
    "                   ha = 'center', va = 'center', \n",
    "                   xytext = (0, 4), \n",
    "                   textcoords = 'offset points')"
   ]
  },
  {
   "cell_type": "code",
   "execution_count": 46,
   "id": "56f85ac3",
   "metadata": {},
   "outputs": [
    {
     "data": {
      "text/plain": [
       "(0, 2]      0.881166\n",
       "(2, 4]      0.071704\n",
       "(4, 6]      0.020356\n",
       "(6, 8]      0.010820\n",
       "(10, 20]    0.009536\n",
       "(8, 10]     0.006418\n",
       "Name: binned, dtype: float64"
      ]
     },
     "execution_count": 46,
     "metadata": {},
     "output_type": "execute_result"
    }
   ],
   "source": [
    "bins = [0, 2, 4, 6, 8, 10, 20]\n",
    "aliens_user['binned'] = pd.cut(aliens_user['author'], bins)\n",
    "aliens_user['binned'].value_counts(normalize=True)"
   ]
  },
  {
   "cell_type": "code",
   "execution_count": 47,
   "id": "343367bd",
   "metadata": {},
   "outputs": [
    {
     "data": {
      "image/png": "[encoded data removed]",
      "text/plain": [
       "<Figure size 432x288 with 1 Axes>"
      ]
     },
     "metadata": {
      "needs_background": "light"
     },
     "output_type": "display_data"
    }
   ],
   "source": [
    "splot = sns.barplot(x=aliens_user.binned.value_counts().index, y=aliens_user.binned.value_counts())\n",
    "for p in splot.patches:\n",
    "    splot.annotate(format(p.get_height(), '.1f'), \n",
    "                   (p.get_x() + p.get_width() / 2., p.get_height()), \n",
    "                   ha = 'center', va = 'center', \n",
    "                   xytext = (0, 4), \n",
    "                   textcoords = 'offset points')"
   ]
  },
  {
   "cell_type": "markdown",
   "id": "35266908",
   "metadata": {},
   "source": [
    "Both r/conspiracytheories and r/aliens have more than 88% of users posting 1-2 posts and both subreddits also saw some power users that have posted more than 20 times with 19 users in r/conspiracytheories and 31 users in r/aliens."
   ]
  },
  {
   "cell_type": "markdown",
   "id": "90106113",
   "metadata": {},
   "source": [
    "# 6) Explore 'removed' and 'deleted' posts"
   ]
  },
  {
   "cell_type": "markdown",
   "id": "3f1e1715",
   "metadata": {},
   "source": [
    "I noticed that some of the selftext and author within the dataset were had been 'deleted' or 'removed'. Posts that were [removed] were done by moderators. [deleted] posts were done by the user. Next, I will explore the counts of deleted selftexts and authors. It is noticed that both columns, selftext and author could be labelled as deleted or removed but we are still able to see the content of the title. "
   ]
  },
  {
   "cell_type": "code",
   "execution_count": 48,
   "id": "08f3edd2",
   "metadata": {},
   "outputs": [],
   "source": [
    "#creating a function\n",
    "def rem_del_counts( column, df): \n",
    "    del_ct = df.loc[df[column] == '[deleted]',column].count()\n",
    "    rem_ct = df.loc[df[column] == '[removed]',column].count()\n",
    "    \n",
    "    print(f'Count of posts with {column} labelled as [deleted]:', del_ct )\n",
    "    print(f'Count of posts with {column} labelled as [removed]:', rem_ct )\n",
    "    "
   ]
  },
  {
   "cell_type": "code",
   "execution_count": 49,
   "id": "8955f6bf",
   "metadata": {},
   "outputs": [
    {
     "name": "stdout",
     "output_type": "stream",
     "text": [
      "Count of posts with selftext labelled as [deleted]: 64\n",
      "Count of posts with selftext labelled as [removed]: 781\n"
     ]
    }
   ],
   "source": [
    "rem_del_counts('selftext', aliens)"
   ]
  },
  {
   "cell_type": "code",
   "execution_count": 50,
   "id": "e41a065a",
   "metadata": {},
   "outputs": [
    {
     "name": "stdout",
     "output_type": "stream",
     "text": [
      "Count of posts with selftext labelled as [deleted]: 39\n",
      "Count of posts with selftext labelled as [removed]: 2489\n"
     ]
    }
   ],
   "source": [
    "rem_del_counts('selftext', ct)"
   ]
  },
  {
   "cell_type": "code",
   "execution_count": 51,
   "id": "a3cd8a74",
   "metadata": {
    "scrolled": false
   },
   "outputs": [],
   "source": [
    "#Explore posts that are removed - 2489 within r/conspiracytheories\n",
    "#pd.set_option('display.max_colwidth', 100)\n",
    "#pd.set_option('display.max_rows', 100)\n",
    "#ct.loc[ct['selftext'] == '[removed]'].head(100)\n"
   ]
  },
  {
   "cell_type": "markdown",
   "id": "d4ebe177",
   "metadata": {},
   "source": [
    "\n",
    "Curious about the large number of posts that are moderated(['removed']), I explored these posts to see what content was deem inappropriate by moderators in r/conspiracytheories. Upon further look, I realised that the moderators removed these posts because they were controversial or with content that were not relevant to the subreddit. If I were to remove these posts, it can affect the distribution of the data that we will be feeding to the model. \n",
    "\n",
    "\n",
    "I have decided to remove the posts as keeping these posts may not be representative of the content within the two subreddits and resample the data before modelling so that the distribution of the number of data from the two datasets are equal. I will be retaining content that were ['deleted'] as this was done so by the user, not the moderators which indirectly meant that the content has met the rules of the subreddit.  "
   ]
  },
  {
   "cell_type": "code",
   "execution_count": 52,
   "id": "71fce388",
   "metadata": {},
   "outputs": [
    {
     "name": "stdout",
     "output_type": "stream",
     "text": [
      "Shape of ct after dropping moderator removed posts: (7510, 11)\n",
      "Shape of aliens after dropping moderator removed posts: (9215, 11)\n"
     ]
    }
   ],
   "source": [
    "#drop columns with ['removed'] in selftext columns \n",
    "\n",
    "ct = ct[ct['selftext']!='[removed]']\n",
    "aliens = aliens[aliens['selftext']!='[removed]']\n",
    "\n",
    "print(f\"Shape of ct after dropping moderator removed posts:\", ct.shape)\n",
    "print(f\"Shape of aliens after dropping moderator removed posts:\", aliens.shape)"
   ]
  },
  {
   "cell_type": "markdown",
   "id": "ae8a9a2e",
   "metadata": {},
   "source": [
    "# 7) Check for overlaps between the two subreddits \n",
    "Check for any posts that were uploaded on both r/aliens and r/conspiracytheories. "
   ]
  },
  {
   "cell_type": "code",
   "execution_count": 53,
   "id": "cf557c7a",
   "metadata": {},
   "outputs": [],
   "source": [
    "def crosspost( df1, df2): \n",
    "\n",
    "    #print the count of the number of the posts \n",
    "    df1_ct = df1[df1['title'].isin(df2['title']) == True].count()\n",
    "    df2_ct = df2[df2['title'].isin(df1['title']) == True].count()\n",
    "    \n",
    "    print(f'Number of posts from aliens crossposted to conspiracytheories is :',df1_ct )\n",
    "    print(f'Number of posts from conspiracytheories crossposted to aliens is :', df2_ct )\n",
    "    \n",
    "      #remove these overlap posts from the df \n",
    "    df1_rem = df1[df1['title'].isin(df2['title']) == True]\n",
    "    df2_rem = df2[df2['title'].isin(df1['title']) == True]\n",
    "    \n",
    "    df1.drop(df1_rem.index, inplace = True)\n",
    "    df2.drop(df2_rem.index, inplace = True)\n",
    "\n",
    "    #print shape of the df after removing posts \n",
    "    print(' ')\n",
    "    print(f'Shape of aliens after removing the overlap posts is:', df1.shape)\n",
    "    print(f'Shape of conspiracytheories after removing the overlap posts is:', df2.shape)\n",
    "  "
   ]
  },
  {
   "cell_type": "code",
   "execution_count": 54,
   "id": "da81d431",
   "metadata": {},
   "outputs": [
    {
     "name": "stdout",
     "output_type": "stream",
     "text": [
      "Number of posts from aliens crossposted to conspiracytheories is : subreddit       118\n",
      "id              118\n",
      "selftext        118\n",
      "title           118\n",
      "author          118\n",
      "created_utc     118\n",
      "score           118\n",
      "num_comments    118\n",
      "upvote_ratio    118\n",
      "title_len       118\n",
      "text_len        118\n",
      "dtype: int64\n",
      "Number of posts from conspiracytheories crossposted to aliens is : subreddit       102\n",
      "id              102\n",
      "selftext        102\n",
      "title           102\n",
      "author          102\n",
      "created_utc     102\n",
      "score           102\n",
      "num_comments    102\n",
      "upvote_ratio    102\n",
      "title_len       102\n",
      "text_len        102\n",
      "dtype: int64\n",
      " \n",
      "Shape of aliens after removing the overlap posts is: (9097, 11)\n",
      "Shape of conspiracytheories after removing the overlap posts is: (7408, 11)\n"
     ]
    }
   ],
   "source": [
    "crosspost(aliens, ct)"
   ]
  },
  {
   "cell_type": "markdown",
   "id": "0367b90b",
   "metadata": {},
   "source": [
    "There were more than 100 similar posts crossposted in both subreddits. In this situation, these posts will have to be removed as the posts would affect the modelling process with same content appearing on both subreddits. "
   ]
  },
  {
   "cell_type": "markdown",
   "id": "2fcd9c31",
   "metadata": {},
   "source": [
    "# 8) Merge title and selftext to form a merged column.\n"
   ]
  },
  {
   "cell_type": "code",
   "execution_count": 55,
   "id": "c45c986c",
   "metadata": {},
   "outputs": [],
   "source": [
    "pd.set_option('display.max_colwidth', 50)"
   ]
  },
  {
   "cell_type": "code",
   "execution_count": 56,
   "id": "3d1bda86",
   "metadata": {},
   "outputs": [],
   "source": [
    "#merge selftext column with title column\n",
    "ct['merged'] = ct['title'] + ' ' + ct['selftext']\n",
    "aliens['merged'] =aliens['title'] + ' ' + aliens['selftext']"
   ]
  },
  {
   "cell_type": "markdown",
   "id": "7f41122b",
   "metadata": {},
   "source": [
    "# 9)Preprocess the content of merged column to show most common words\n",
    "\n",
    "\n",
    "Next, I will be cleaning the merged column through the following methods to find the most common words before preprocessing. \n",
    "\n",
    "\n",
    "1) Apply lowercase to merged column \n",
    "\n",
    "2) Remove stopwords\n",
    "\n",
    "Stop words are removed as they do not convey much meaning. By removing these words, we remove the low-level information from our text in order to give more focus to the important information. Additional words were included as well as these words come up very frequently in both subreddits like 'aliens', or 'conspiracy'. \n",
    "\n",
    "3) Remove links or webpages \n",
    "\n",
    "4) Convert emoticons to words\n",
    "\n",
    "5) Stemming\n",
    "\n",
    "6) Count Vectorize to extract single words or bigrams"
   ]
  },
  {
   "cell_type": "markdown",
   "id": "eed05dd7",
   "metadata": {},
   "source": [
    "### Preprocess (stopwords, links, emojis, convert to lowercase, stemming) "
   ]
  },
  {
   "cell_type": "code",
   "execution_count": 57,
   "id": "683c68ff",
   "metadata": {},
   "outputs": [],
   "source": [
    "#stopwords \n",
    "\n",
    "# list to store the standard + custom stop words\n",
    "stop_words = stopwords.words('english')\n",
    "#additional words to add on to stop_words \n",
    "add_words = [\"na\", \"[deleted]\", \"like\", \"really\", \"it\", \"think\", \"know\", \"make\", \"ve\", \"going\", \"way\", \"want\", \"would\"\\\n",
    "            \"think\", \"us\", \"say\", \"actually\", \"right\", \"thing\", \"things\", \"x200b\", \"said\", \"anyone\", \"look\"]\n",
    "\n",
    "stop_words.extend(add_words)\n",
    "\n",
    "\n",
    "#----------------------------------------\n",
    "#function to remove links \n",
    "\n",
    "def remove_links (text):\n",
    "\n",
    "    # remove html tags using BeautifulSoupw\n",
    "    text = BeautifulSoup(text).get_text()\n",
    "    # remove html links\n",
    "    regex_html = r'http[s]?://(?:[a-zA-Z]|[0-9]|[$-_@.&+]|[!*\\(\\),]|(?:%[0-9a-fA-F][0-9a-fA-F]))+'\n",
    "    text = re.sub(regex_html, r'', text, flags=re.MULTILINE)\n",
    "    return text\n",
    "\n",
    "\n",
    "#----------------------------------------\n",
    "#function to convert emojis \n",
    "\n",
    "def convert_emojis(text):\n",
    "    for emot in UNICODE_EMOJI:\n",
    "        text = text.replace(emot, \"_\".join(UNICODE_EMOJI[emot].replace(\",\",\"\").replace(\":\",\"\").split()))\n",
    "    return text\n",
    "\n",
    "#----------------------------------------\n",
    "# Stemming for text normalization\n",
    "stemmer = PorterStemmer()"
   ]
  },
  {
   "cell_type": "code",
   "execution_count": 58,
   "id": "52c3949a",
   "metadata": {},
   "outputs": [],
   "source": [
    "#Convert to lowercase\n",
    "ct['merged'] = ct['merged'].apply(lambda x:x.lower())\n",
    "aliens['merged'] = aliens['merged'].apply(lambda x:x.lower())"
   ]
  },
  {
   "cell_type": "code",
   "execution_count": 59,
   "id": "f842ad10",
   "metadata": {},
   "outputs": [],
   "source": [
    "# remove stop words from both dfs\n",
    "ct[\"merged\"] = ct[\"merged\"].apply(\n",
    "    lambda x: \" \".join([word for word in x.split() if word not in stop_words])\n",
    ")\n",
    "aliens[\"merged\"] = aliens[\"merged\"].apply(\n",
    "    lambda x: \" \".join([word for word in x.split() if word not in stop_words])\n",
    ")"
   ]
  },
  {
   "cell_type": "code",
   "execution_count": 60,
   "id": "9d168bef",
   "metadata": {},
   "outputs": [
    {
     "name": "stderr",
     "output_type": "stream",
     "text": [
      "C:\\Users\\wongs\\anaconda3\\lib\\site-packages\\bs4\\__init__.py:417: MarkupResemblesLocatorWarning: \"https://rokfin.com/stream/13613\" looks like a URL. Beautiful Soup is not an HTTP client. You should probably use an HTTP client like requests to get the document behind the URL, and feed that document to Beautiful Soup.\n",
      "  warnings.warn(\n",
      "C:\\Users\\wongs\\anaconda3\\lib\\site-packages\\bs4\\__init__.py:417: MarkupResemblesLocatorWarning: \"https://www.youtube.com/watch?v=zi5wv2urosy\" looks like a URL. Beautiful Soup is not an HTTP client. You should probably use an HTTP client like requests to get the document behind the URL, and feed that document to Beautiful Soup.\n",
      "  warnings.warn(\n",
      "C:\\Users\\wongs\\anaconda3\\lib\\site-packages\\bs4\\__init__.py:417: MarkupResemblesLocatorWarning: \"https://questiontheanswers.weebly.com/question-the-answers/4th-week-of-mass-protest-in-france-over-vaccine-passport-requirments\" looks like a URL. Beautiful Soup is not an HTTP client. You should probably use an HTTP client like requests to get the document behind the URL, and feed that document to Beautiful Soup.\n",
      "  warnings.warn(\n",
      "C:\\Users\\wongs\\anaconda3\\lib\\site-packages\\bs4\\__init__.py:417: MarkupResemblesLocatorWarning: \"https://donaldmarshallrevolution.com/#queenelizabeth\" looks like a URL. Beautiful Soup is not an HTTP client. You should probably use an HTTP client like requests to get the document behind the URL, and feed that document to Beautiful Soup.\n",
      "  warnings.warn(\n",
      "C:\\Users\\wongs\\anaconda3\\lib\\site-packages\\bs4\\__init__.py:417: MarkupResemblesLocatorWarning: \"https://www.youtube.com/watch?v=0sulu5fv7xs\" looks like a URL. Beautiful Soup is not an HTTP client. You should probably use an HTTP client like requests to get the document behind the URL, and feed that document to Beautiful Soup.\n",
      "  warnings.warn(\n",
      "C:\\Users\\wongs\\anaconda3\\lib\\site-packages\\bs4\\__init__.py:417: MarkupResemblesLocatorWarning: \"https://www.youtube.com/watch?v=gninm6tpexg\" looks like a URL. Beautiful Soup is not an HTTP client. You should probably use an HTTP client like requests to get the document behind the URL, and feed that document to Beautiful Soup.\n",
      "  warnings.warn(\n",
      "C:\\Users\\wongs\\anaconda3\\lib\\site-packages\\bs4\\__init__.py:417: MarkupResemblesLocatorWarning: \"https://filmi-beats.blogspot.com/2021/05/iron-man-robert-downey-jr.-hd-wallpaper.html\" looks like a URL. Beautiful Soup is not an HTTP client. You should probably use an HTTP client like requests to get the document behind the URL, and feed that document to Beautiful Soup.\n",
      "  warnings.warn(\n",
      "C:\\Users\\wongs\\anaconda3\\lib\\site-packages\\bs4\\__init__.py:332: MarkupResemblesLocatorWarning: \"...\" looks like a filename, not markup. You should probably open this file and pass the filehandle into Beautiful Soup.\n",
      "  warnings.warn(\n",
      "C:\\Users\\wongs\\anaconda3\\lib\\site-packages\\bs4\\__init__.py:417: MarkupResemblesLocatorWarning: \"https://www.news96online.com/2021/10/%20animals-or-creatures-that-return.html\" looks like a URL. Beautiful Soup is not an HTTP client. You should probably use an HTTP client like requests to get the document behind the URL, and feed that document to Beautiful Soup.\n",
      "  warnings.warn(\n",
      "C:\\Users\\wongs\\anaconda3\\lib\\site-packages\\bs4\\__init__.py:417: MarkupResemblesLocatorWarning: \"http://ouo.io/ref/dq7yrsqi\" looks like a URL. Beautiful Soup is not an HTTP client. You should probably use an HTTP client like requests to get the document behind the URL, and feed that document to Beautiful Soup.\n",
      "  warnings.warn(\n",
      "C:\\Users\\wongs\\anaconda3\\lib\\site-packages\\bs4\\__init__.py:417: MarkupResemblesLocatorWarning: \"https://youtu.be/ilu3qpgwgos\" looks like a URL. Beautiful Soup is not an HTTP client. You should probably use an HTTP client like requests to get the document behind the URL, and feed that document to Beautiful Soup.\n",
      "  warnings.warn(\n"
     ]
    }
   ],
   "source": [
    "#remove links from both dfs \n",
    "ct['merged'] = ct['merged'].apply(lambda x:remove_links(x))\n",
    "aliens['merged'] = aliens['merged'].apply(lambda x:remove_links(x))"
   ]
  },
  {
   "cell_type": "code",
   "execution_count": 61,
   "id": "c16f7de7",
   "metadata": {},
   "outputs": [],
   "source": [
    "#convert emojis for both dfs\n",
    "ct['merged'] = ct['merged'].apply(lambda x:convert_emojis(x))\n",
    "aliens['merged'] = aliens['merged'].apply(lambda x:convert_emojis(x))"
   ]
  },
  {
   "cell_type": "code",
   "execution_count": 62,
   "id": "b4bf36bb",
   "metadata": {},
   "outputs": [],
   "source": [
    "# stemming words to root form for both dfs\n",
    "ct[\"merged\"] = ct[\"merged\"].apply(\n",
    "    lambda x: \" \".join([stemmer.stem(word) for word in x.split()])\n",
    ")\n",
    "aliens[\"merged\"] = aliens[\"merged\"].apply(\n",
    "    lambda x: \" \".join([stemmer.stem(word) for word in x.split()])\n",
    ")"
   ]
  },
  {
   "cell_type": "markdown",
   "id": "4d38e663",
   "metadata": {},
   "source": [
    "### Count vectorize to have the most common single words and bigrams in both subreddits \n",
    "Starting with single words for both subreddits \n",
    "then bigrams for both subreddit "
   ]
  },
  {
   "cell_type": "code",
   "execution_count": 63,
   "id": "49c33e81",
   "metadata": {
    "scrolled": true
   },
   "outputs": [],
   "source": [
    "#r/conspiracytheories most used words \n",
    "\n",
    "# instantiating a cvec for single words\n",
    "ct_cvec = CountVectorizer(stop_words = ENGLISH_STOP_WORDS, ngram_range=(1, 1))\n",
    "\n",
    "# fitting/transforming the merged column \n",
    "ct_word_cvec = ct_cvec.fit_transform(ct[\"merged\"])\n",
    "\n",
    "# making a dataframe of the vectors\n",
    "ct_word1_df = pd.DataFrame(ct_word_cvec.toarray(),\n",
    "                                columns=ct_cvec.get_feature_names())\n",
    "# getting the top 20 most used words\n",
    "c1 = ct_word1_df.sum().sort_values(ascending=False).head(20)"
   ]
  },
  {
   "cell_type": "code",
   "execution_count": 64,
   "id": "bf6ae3ee",
   "metadata": {},
   "outputs": [],
   "source": [
    "\n",
    "#r/conspiracytheories most common bigrams \n",
    "\n",
    "# instantiating a cvec for bigrams\n",
    "ct_cvec = CountVectorizer(stop_words = ENGLISH_STOP_WORDS, ngram_range=(2, 2))\n",
    "\n",
    "# fitting/transforming merged column \n",
    "ct_word_cvec = ct_cvec.fit_transform(ct[\"merged\"])\n",
    "\n",
    "# making a dataframe of the vectors\n",
    "ct_word2_df = pd.DataFrame(ct_word_cvec.toarray(),\n",
    "                                columns=ct_cvec.get_feature_names())\n",
    "# getting the top 20 most used words\n",
    "c2 = ct_word2_df.sum().sort_values(ascending=False).head(20)"
   ]
  },
  {
   "cell_type": "code",
   "execution_count": 65,
   "id": "00b2901d",
   "metadata": {},
   "outputs": [],
   "source": [
    "#r/aliens most used words \n",
    "\n",
    "\n",
    "# instantiating a cvec for single words\n",
    "aliens_cvec = CountVectorizer(stop_words = ENGLISH_STOP_WORDS, ngram_range=(1, 1))\n",
    "\n",
    "# fitting/transforming the merged column \n",
    "aliens_word_cvec = aliens_cvec.fit_transform(aliens[\"merged\"])\n",
    "\n",
    "# making a dataframe of the vectors\n",
    "aliens_word1_df = pd.DataFrame(aliens_word_cvec.toarray(),\n",
    "                                columns=aliens_cvec.get_feature_names())\n",
    "# getting the top 20 most used words\n",
    "a1 = aliens_word1_df.sum().sort_values(ascending=False).head(20)"
   ]
  },
  {
   "cell_type": "code",
   "execution_count": 66,
   "id": "821cff32",
   "metadata": {},
   "outputs": [],
   "source": [
    "\n",
    "#r/aliens most common bigrams \n",
    "\n",
    "\n",
    "# instantiating a cvec for bigrams\n",
    "aliens_cvec= CountVectorizer( ngram_range=(2, 2))\n",
    "\n",
    "\n",
    "# fitting/transforming merged column \n",
    "aliens_word_cvec = aliens_cvec.fit_transform(aliens[\"merged\"])\n",
    "\n",
    "# making a dataframe of the vectors\n",
    "aliens_word2_df = pd.DataFrame(aliens_word_cvec.toarray(), columns=aliens_cvec.get_feature_names())\n",
    "# getting the top 20 most used words\n",
    "a2 = aliens_word2_df.sum().sort_values(ascending=False).head(20)"
   ]
  },
  {
   "cell_type": "code",
   "execution_count": 67,
   "id": "310c1be6",
   "metadata": {},
   "outputs": [
    {
     "data": {
      "image/png": "[encoded data removed]",
      "text/plain": [
       "<Figure size 1440x720 with 2 Axes>"
      ]
     },
     "metadata": {
      "needs_background": "light"
     },
     "output_type": "display_data"
    }
   ],
   "source": [
    "fit, ax = plt.subplots(nrows = 1, ncols = 2, figsize=(20,10))\n",
    "sns.barplot(y=a1.index.values, x = a1 ,ax=ax[0], color = 'lightblue')\n",
    "ax[0].set_title('top 20 words in r/aliens ',fontsize=16)\n",
    "ax[0].set_xlabel('count of words', fontsize=13)\n",
    "plt.setp(ax[1].get_yticklabels(), fontsize=15)\n",
    "\n",
    "\n",
    "sns.barplot(y=c1.index.values, x = c1 ,ax=ax[1], color = 'lightblue')\n",
    "ax[1].set_title('top 20 words in r/conspiracytheories ',fontsize=16)\n",
    "ax[1].set_xlabel('count of words', fontsize=13)\n",
    "plt.setp(ax[1].get_yticklabels(), fontsize=13);"
   ]
  },
  {
   "cell_type": "code",
   "execution_count": 68,
   "id": "af73220b",
   "metadata": {},
   "outputs": [
    {
     "data": {
      "image/png": "[encoded data removed]",
      "text/plain": [
       "<Figure size 1440x720 with 2 Axes>"
      ]
     },
     "metadata": {
      "needs_background": "light"
     },
     "output_type": "display_data"
    }
   ],
   "source": [
    "fit, ax = plt.subplots(nrows = 1, ncols = 2, figsize=(20,10), sharex = True)\n",
    "sns.barplot(y=a2.index.values, x = a2 ,ax=ax[0], color = 'lightblue')\n",
    "ax[0].set_title('top 20 words in r/aliens ',fontsize=16)\n",
    "ax[0].set_xlabel('count of words', fontsize=13)\n",
    "plt.setp(ax[1].get_yticklabels(), fontsize=15)\n",
    "\n",
    "\n",
    "sns.barplot(y=c2.index.values, x = c2 ,ax=ax[1], color = 'lightblue')\n",
    "ax[1].set_title('top 20 words in r/conspiracytheories ',fontsize=16)\n",
    "ax[1].set_xlabel('count of words', fontsize=13)\n",
    "plt.setp(ax[1].get_yticklabels(), fontsize=12);"
   ]
  },
  {
   "cell_type": "markdown",
   "id": "7ef63823",
   "metadata": {},
   "source": [
    "# 10) Sentiment analysis "
   ]
  },
  {
   "cell_type": "code",
   "execution_count": 69,
   "id": "1017dcdc",
   "metadata": {},
   "outputs": [],
   "source": [
    "from textblob import TextBlob\n",
    "# function to calculate subjectivity\n",
    "def getSubjectivity(review):\n",
    "    return TextBlob(review).sentiment.subjectivity\n",
    "\n",
    "# function to calculate polarity\n",
    "def getPolarity(review):\n",
    "    return TextBlob(review).sentiment.polarity\n",
    "\n",
    "# function to analyze the reviews\n",
    "def analysis(score):\n",
    "    if score < 0:\n",
    "        return 'Negative'\n",
    "    elif score == 0:\n",
    "        return 'Neutral'\n",
    "    else:\n",
    "        return 'Positive'"
   ]
  },
  {
   "cell_type": "code",
   "execution_count": 70,
   "id": "8cf3636b",
   "metadata": {},
   "outputs": [],
   "source": [
    "ct['Subjectivity'] = ct['merged'].apply(getSubjectivity) \n",
    "ct['Polarity'] = ct['merged'].apply(getPolarity) \n",
    "ct['Analysis'] = ct['Polarity'].apply(analysis)"
   ]
  },
  {
   "cell_type": "code",
   "execution_count": 71,
   "id": "c82a1094",
   "metadata": {},
   "outputs": [
    {
     "data": {
      "text/plain": [
       "Neutral     0.447354\n",
       "Positive    0.313310\n",
       "Negative    0.239336\n",
       "Name: Analysis, dtype: float64"
      ]
     },
     "execution_count": 71,
     "metadata": {},
     "output_type": "execute_result"
    }
   ],
   "source": [
    "ct_counts = ct.Analysis.value_counts(normalize=True)\n",
    "\n",
    "ct_counts"
   ]
  },
  {
   "cell_type": "code",
   "execution_count": 72,
   "id": "d7cc1953",
   "metadata": {},
   "outputs": [],
   "source": [
    "pd.set_option('display.max_colwidth', 100)"
   ]
  },
  {
   "cell_type": "code",
   "execution_count": 73,
   "id": "30a96f15",
   "metadata": {},
   "outputs": [],
   "source": [
    "aliens['Subjectivity'] = aliens['merged'].apply(getSubjectivity) \n",
    "aliens['Polarity'] = aliens['merged'].apply(getPolarity) \n",
    "aliens['Analysis'] = aliens['Polarity'].apply(analysis)"
   ]
  },
  {
   "cell_type": "code",
   "execution_count": 74,
   "id": "539e35d7",
   "metadata": {},
   "outputs": [
    {
     "data": {
      "text/plain": [
       "Positive    0.366714\n",
       "Negative    0.345389\n",
       "Neutral     0.287897\n",
       "Name: Analysis, dtype: float64"
      ]
     },
     "execution_count": 74,
     "metadata": {},
     "output_type": "execute_result"
    }
   ],
   "source": [
    "aliens_counts = aliens.Analysis.value_counts(normalize=True)\n",
    "\n",
    "aliens_counts"
   ]
  },
  {
   "cell_type": "code",
   "execution_count": 75,
   "id": "fbb82ae1",
   "metadata": {},
   "outputs": [
    {
     "data": {
      "text/plain": [
       "[None, None, None, None, None, None]"
      ]
     },
     "execution_count": 75,
     "metadata": {},
     "output_type": "execute_result"
    },
    {
     "data": {
      "image/png": "[encoded data removed]",
      "text/plain": [
       "<Figure size 1440x720 with 2 Axes>"
      ]
     },
     "metadata": {
      "needs_background": "light"
     },
     "output_type": "display_data"
    }
   ],
   "source": [
    "fit, ax = plt.subplots(nrows = 1, ncols = 2, figsize=(20,10), sharex = True)\n",
    "sns.barplot(y=aliens_counts.index.values, x = aliens_counts ,ax=ax[0], color = 'lightblue')\n",
    "ax[0].set_title('Sentiment analysis of posts in r/aliens ',fontsize=16)\n",
    "ax[0].set_xlabel('%', fontsize=13)\n",
    "plt.setp(ax[1].get_yticklabels(), fontsize=15)\n",
    "\n",
    "sns.barplot(y=ct_counts.index.values, x = ct_counts ,ax=ax[1], color = 'lightblue')\n",
    "ax[1].set_title('Sentiment analysis of posts in r/conspiracytheories ',fontsize=16)\n",
    "ax[1].set_xlabel('%', fontsize=13)\n",
    "plt.setp(ax[1].get_yticklabels(), fontsize=12)\n"
   ]
  },
  {
   "cell_type": "markdown",
   "id": "a1b45a9d",
   "metadata": {},
   "source": [
    "Through the sentiment analysis, we are able to notice that most of the posts on r/aliens are positive, followed by negative posts and neutral posts. \n",
    "\n",
    "On the other hand for r/conspiracy theories, most of the posts are neutral followed by positive posts. This could be due to the highly moderated posts within the subreddit. Over 2000 posts were moderated, wqhich could explain why most of the posts within r/conspiracytheories are neutral."
   ]
  },
  {
   "cell_type": "markdown",
   "id": "c7d9c45b",
   "metadata": {},
   "source": [
    "# 11) Final steps before modelling \n",
    "\n",
    "After removing the moderated posts, the size of both datasets are different. Hence, I will be random sampling r/aliens, taking 7408 rows of data to match r/conspiracytheories before modelling "
   ]
  },
  {
   "cell_type": "code",
   "execution_count": 76,
   "id": "da1d09a8",
   "metadata": {},
   "outputs": [
    {
     "data": {
      "text/plain": [
       "(9097, 15)"
      ]
     },
     "execution_count": 76,
     "metadata": {},
     "output_type": "execute_result"
    }
   ],
   "source": [
    "aliens.shape\n"
   ]
  },
  {
   "cell_type": "code",
   "execution_count": 77,
   "id": "5ff955bf",
   "metadata": {},
   "outputs": [
    {
     "data": {
      "text/plain": [
       "(7408, 15)"
      ]
     },
     "execution_count": 77,
     "metadata": {},
     "output_type": "execute_result"
    }
   ],
   "source": [
    "ct.shape"
   ]
  },
  {
   "cell_type": "code",
   "execution_count": 78,
   "id": "97b73c75",
   "metadata": {},
   "outputs": [],
   "source": [
    "#random sampling without replacement \n",
    "subset_aliens = aliens.sample(n=7408, replace=False)"
   ]
  },
  {
   "cell_type": "code",
   "execution_count": 79,
   "id": "5b7b97e8",
   "metadata": {},
   "outputs": [
    {
     "data": {
      "text/plain": [
       "(7408, 15)"
      ]
     },
     "execution_count": 79,
     "metadata": {},
     "output_type": "execute_result"
    }
   ],
   "source": [
    "subset_aliens.shape"
   ]
  },
  {
   "cell_type": "code",
   "execution_count": 80,
   "id": "e01c574e",
   "metadata": {},
   "outputs": [
    {
     "data": {
      "text/plain": [
       "(14816, 15)"
      ]
     },
     "execution_count": 80,
     "metadata": {},
     "output_type": "execute_result"
    }
   ],
   "source": [
    "# create dummy column for subreddits - 1 for r/aliens and 0 for r/conspiracytheories\n",
    "ct['subreddit'] = 0\n",
    "subset_aliens['subreddit'] = 1\n",
    "\n",
    "# combine dataframes\n",
    "df = pd.concat([ct, subset_aliens])\n",
    "df.shape"
   ]
  },
  {
   "cell_type": "code",
   "execution_count": 82,
   "id": "72530005",
   "metadata": {},
   "outputs": [],
   "source": [
    "# save to csv\n",
    "df.to_csv('./data/fina_dataset.csv')"
   ]
  },
  {
   "cell_type": "code",
   "execution_count": null,
   "id": "918e4571",
   "metadata": {},
   "outputs": [],
   "source": []
  }
 ],
 "metadata": {
  "kernelspec": {
   "display_name": "Python 3",
   "language": "python",
   "name": "python3"
  },
  "language_info": {
   "codemirror_mode": {
    "name": "ipython",
    "version": 3
   },
   "file_extension": ".py",
   "mimetype": "text/x-python",
   "name": "python",
   "nbconvert_exporter": "python",
   "pygments_lexer": "ipython3",
   "version": "3.8.8"
  }
 },
 "nbformat": 4,
 "nbformat_minor": 5
}
