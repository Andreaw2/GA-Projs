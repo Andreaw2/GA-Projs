{
 "cells": [
  {
   "cell_type": "markdown",
   "id": "b3da23a8",
   "metadata": {},
   "source": [
    "# 1) Modelling\n",
    "___________________________________________________________________________________________________________________________"
   ]
  },
  {
   "cell_type": "markdown",
   "id": "90bd5c42",
   "metadata": {},
   "source": [
    "I will be exploring different models, training the models to classify new posts to either r/aliens or r/conspiracytheories.\n",
    "The three models that I will be looking at will be: \n",
    "\n",
    "1) Logisitc Regression \n",
    "\n",
    "2) Naive Bayes\n",
    "\n",
    "3) Random Forest Classifier"
   ]
  },
  {
   "cell_type": "code",
   "execution_count": 1,
   "id": "a1321672",
   "metadata": {},
   "outputs": [],
   "source": [
    "# Imports\n",
    "import numpy as np\n",
    "import pandas as pd\n",
    "import seaborn as sns\n",
    "import matplotlib.pyplot as plt  \n",
    "import datetime\n",
    "import regex as re\n",
    "import scipy\n",
    "import seaborn as sns\n",
    "\n",
    "\n",
    "\n",
    "from sklearn.model_selection import train_test_split, GridSearchCV, KFold, cross_val_score\n",
    "\n",
    "# importing NLP packages\n",
    "from nltk.corpus import stopwords\n",
    "from nltk.stem import WordNetLemmatizer, PorterStemmer\n",
    "from sklearn.feature_extraction.text import CountVectorizer, TfidfVectorizer, ENGLISH_STOP_WORDS\n",
    "\n",
    "from sklearn.pipeline import Pipeline\n",
    "from sklearn.model_selection import train_test_split, GridSearchCV, RandomizedSearchCV\n",
    "from sklearn.metrics import accuracy_score, f1_score, confusion_matrix, plot_confusion_matrix\n",
    "from sklearn.linear_model import LogisticRegression\n",
    "from sklearn.naive_bayes import MultinomialNB\n",
    "from sklearn.ensemble import RandomForestClassifier\n",
    "from sklearn.metrics import confusion_matrix\n",
    "\n",
    "%matplotlib inline\n",
    "\n",
    "pd.set_option(\"display.max_columns\", None)\n",
    "\n",
    "from bs4 import BeautifulSoup\n",
    "from emot.emo_unicode import UNICODE_EMOJI # For emojis\n",
    "from emot.emo_unicode import EMOTICONS_EMO # For EMOTICONS\n",
    "\n",
    "\n"
   ]
  },
  {
   "cell_type": "code",
   "execution_count": 2,
   "id": "f703a850",
   "metadata": {},
   "outputs": [],
   "source": [
    "#import final dataset \n",
    "\n",
    "df = pd.read_csv('./data/fina_dataset.csv')"
   ]
  },
  {
   "cell_type": "code",
   "execution_count": 3,
   "id": "87219fb3",
   "metadata": {},
   "outputs": [
    {
     "data": {
      "text/plain": [
       "(14816, 16)"
      ]
     },
     "execution_count": 3,
     "metadata": {},
     "output_type": "execute_result"
    }
   ],
   "source": [
    "df.shape"
   ]
  },
  {
   "cell_type": "markdown",
   "id": "4c5f9239",
   "metadata": {},
   "source": [
    "The following actions have been applied on the merged column in the previously notebook. \n",
    "\n",
    "1) Apply lowercase to merged column \n",
    "\n",
    "2) Remove stopwords\n",
    "\n",
    "Stop words are removed as they do not convey much meaning. By removing these words, we remove the low-level information from our text in order to give more focus to the important information. Additional words were included as well as these words come up very frequently in both subreddits like 'aliens', or 'conspiracy'. \n",
    "\n",
    "3) Remove links or webpages \n",
    "\n",
    "4) Convert emoticons to words\n",
    "\n",
    "5) Stemming\n",
    "\n",
    "6) Count Vectorize to extract single words or bigrams\n"
   ]
  },
  {
   "cell_type": "code",
   "execution_count": 4,
   "id": "32791b27",
   "metadata": {},
   "outputs": [],
   "source": [
    "df[\"selftext\"].fillna(\"NA\", inplace = True)"
   ]
  },
  {
   "cell_type": "code",
   "execution_count": 5,
   "id": "9f50235c",
   "metadata": {},
   "outputs": [],
   "source": [
    "df.dropna(how='any', inplace=True)"
   ]
  },
  {
   "cell_type": "markdown",
   "id": "ec2cf190",
   "metadata": {},
   "source": [
    "#### Baseline accuracy\n",
    "The split of our dataset is shown below, with 1 equals to r/aliens (the negative case), and 0 to  r/conspiracytheories.\n",
    "Baseline accuracy in this case would be 50%. F1 score will also be taken into account as a metric to look at the precision and recall of a model. "
   ]
  },
  {
   "cell_type": "code",
   "execution_count": 6,
   "id": "da208a85",
   "metadata": {},
   "outputs": [
    {
     "data": {
      "text/plain": [
       "1    0.500034\n",
       "0    0.499966\n",
       "Name: subreddit, dtype: float64"
      ]
     },
     "execution_count": 6,
     "metadata": {},
     "output_type": "execute_result"
    }
   ],
   "source": [
    "df[\"subreddit\"].value_counts(normalize=True)"
   ]
  },
  {
   "cell_type": "markdown",
   "id": "639ff51b",
   "metadata": {},
   "source": [
    "#### Train-test-split"
   ]
  },
  {
   "cell_type": "code",
   "execution_count": 7,
   "id": "b69376d5",
   "metadata": {},
   "outputs": [
    {
     "name": "stdout",
     "output_type": "stream",
     "text": [
      "(11839,)\n",
      "(11839,)\n",
      "(2960,)\n",
      "(2960,)\n"
     ]
    }
   ],
   "source": [
    "x = df['merged']\n",
    "y = df['subreddit']\n",
    "\n",
    "X_train, X_test, y_train, y_test = train_test_split(x, \n",
    "                                              y, \n",
    "                                              test_size = 0.2, \n",
    "                                              random_state = 42, \n",
    "                                              stratify = y)\n",
    "\n",
    "print(X_train.shape)\n",
    "print(y_train.shape)\n",
    "print(X_test.shape)\n",
    "print(y_test.shape)"
   ]
  },
  {
   "cell_type": "markdown",
   "id": "ce25d7d1",
   "metadata": {},
   "source": [
    "#### Baseline Model\n",
    "There are a few models to choose for classification. Logistic regression, K-Nearest Neighbors, Decision Trees can all be useful for predicting a specific classification based on a set of parameters.\n",
    "\n",
    "the subreddit column has been updated previously where \n",
    "\n",
    "1) r/aliens = 1\n",
    "\n",
    "2) r/conspiracytheories = 0"
   ]
  },
  {
   "cell_type": "code",
   "execution_count": 8,
   "id": "2457783e",
   "metadata": {},
   "outputs": [
    {
     "data": {
      "text/plain": [
       "1    0.500034\n",
       "0    0.499966\n",
       "Name: subreddit, dtype: float64"
      ]
     },
     "execution_count": 8,
     "metadata": {},
     "output_type": "execute_result"
    }
   ],
   "source": [
    "y.value_counts(normalize=True)"
   ]
  },
  {
   "cell_type": "code",
   "execution_count": 9,
   "id": "09c039b3",
   "metadata": {},
   "outputs": [
    {
     "name": "stdout",
     "output_type": "stream",
     "text": [
      "baseline score: 0.5\n"
     ]
    }
   ],
   "source": [
    "print('baseline score:',y_test.mean())"
   ]
  },
  {
   "cell_type": "markdown",
   "id": "f5ba659d",
   "metadata": {},
   "source": [
    "## Modelling with default Hyper parameters\n",
    "\n",
    "After identifying the baseline score, we are not able to create three models with default hyperparameters and countvectorizer and TF-idf vectorizer to see how the models perform before any changes.\n",
    "\n",
    "Here are the models I will be trying out first: \n",
    "\n",
    "1)  Logistic Regression CountVectorizer (default hyper-parameters)\n",
    "\n",
    "2) Logistic Regression TF-IDVectorizer (default hyper-parameters)\n",
    "\n",
    "3)  Multi-Nomial Naive Bayes Count Vectorizer (default parameters) \n",
    "\n",
    "4) Multi-Nomial Naive Bayes (default parameters) TF-ID Vectorizer\n",
    "\n",
    "5) Random Forest Count Vectorizer (default parameters)\n",
    "\n",
    "6) Random Forest Classifier TF-IDF Vectorizer (default parameters)\n",
    "\n"
   ]
  },
  {
   "cell_type": "markdown",
   "id": "4b644d97",
   "metadata": {},
   "source": [
    "#### 1) Logistic Regression CountVectorizer (default hyper-parameters)"
   ]
  },
  {
   "cell_type": "code",
   "execution_count": 99,
   "id": "2489683c",
   "metadata": {},
   "outputs": [],
   "source": [
    "cvec = CountVectorizer(stop_words = 'english')\n",
    "\n",
    "X_train_cvec = cvec.fit_transform(X_train)\n",
    "X_test_cvec = cvec.transform(X_test)"
   ]
  },
  {
   "cell_type": "code",
   "execution_count": 100,
   "id": "3703af37",
   "metadata": {},
   "outputs": [
    {
     "data": {
      "text/plain": [
       "LogisticRegression(max_iter=1000)"
      ]
     },
     "execution_count": 100,
     "metadata": {},
     "output_type": "execute_result"
    }
   ],
   "source": [
    "lr = LogisticRegression(solver='lbfgs', max_iter=1000)\n",
    "lr.fit(X_train_cvec, y_train)"
   ]
  },
  {
   "cell_type": "code",
   "execution_count": 101,
   "id": "fbc4d28b",
   "metadata": {},
   "outputs": [
    {
     "name": "stdout",
     "output_type": "stream",
     "text": [
      "Using Logistic Regression with default CountVectorizer\n",
      "X_train score is: 0.956837570740772\n",
      "X_test score is: 0.8429054054054054\n"
     ]
    }
   ],
   "source": [
    "\n",
    "cvec_lr_train_score = lr.score(X_train_cvec, y_train)\n",
    "cvec_lr_test_score = lr.score(X_test_cvec, y_test)\n",
    "\n",
    "print(\"Using Logistic Regression with default CountVectorizer\")\n",
    "print(\"X_train score is:\", cvec_lr_train_score)\n",
    "print(\"X_test score is:\", cvec_lr_test_score)"
   ]
  },
  {
   "cell_type": "markdown",
   "id": "60f5b029",
   "metadata": {},
   "source": [
    "#### 2)  Logistic Regression TF-IDVectorizer (default hyper-parameters)"
   ]
  },
  {
   "cell_type": "code",
   "execution_count": 102,
   "id": "fb886d28",
   "metadata": {},
   "outputs": [
    {
     "data": {
      "text/plain": [
       "LogisticRegression(max_iter=1000)"
      ]
     },
     "execution_count": 102,
     "metadata": {},
     "output_type": "execute_result"
    }
   ],
   "source": [
    "tfidf = TfidfVectorizer(stop_words = 'english')\n",
    "X_train_tfidf = tfidf.fit_transform(X_train)\n",
    "X_test_tfidf = tfidf.transform(X_test)\n",
    "\n",
    "lr = LogisticRegression(solver='lbfgs', max_iter=1000)\n",
    "lr.fit(X_train_tfidf, y_train)\n",
    "\n"
   ]
  },
  {
   "cell_type": "code",
   "execution_count": 14,
   "id": "9b8b6e44",
   "metadata": {},
   "outputs": [
    {
     "name": "stdout",
     "output_type": "stream",
     "text": [
      "Using Logistic Regression with default TF-ID Vectorizer\n",
      "X_train score is: 0.9140974744488555\n",
      "X_test score is: 0.8581081081081081\n"
     ]
    }
   ],
   "source": [
    "tfidf_lr_train_score = lr.score(X_train_tfidf, y_train)\n",
    "tfidf_lr_test_score = lr.score(X_test_tfidf, y_test)\n",
    "\n",
    "print(\"Using Logistic Regression with default TF-ID Vectorizer\")\n",
    "print(\"X_train score is:\", tfidf_lr_train_score)\n",
    "print(\"X_test score is:\", tfidf_lr_test_score)"
   ]
  },
  {
   "cell_type": "markdown",
   "id": "e89cd8d2",
   "metadata": {},
   "source": [
    "Our basic logistic regression model, which uses default hyper-parameters and countvectorizer default stop_words, has an accuracy score of 0.957 for X_train, and a lower score of 0.843 for X_test. The accuracy score for the training set is 0.114 more than the test set, which means that the model is overfitting.\n",
    "\n",
    "Similarly, the logistic regression model with TF-ID vectorizer is overfitting as well, with an accuracy score of 0.858, higher than countvectorizer."
   ]
  },
  {
   "cell_type": "markdown",
   "id": "39f1ce17",
   "metadata": {},
   "source": [
    "#### 3) Multi-Nomial Naive Bayes Count Vectorizer (default parameters) \n"
   ]
  },
  {
   "cell_type": "code",
   "execution_count": 15,
   "id": "da9d5928",
   "metadata": {},
   "outputs": [],
   "source": [
    "nb = MultinomialNB()\n",
    "nb_model = nb.fit(X_train_cvec, y_train)"
   ]
  },
  {
   "cell_type": "code",
   "execution_count": 16,
   "id": "37878300",
   "metadata": {},
   "outputs": [
    {
     "name": "stdout",
     "output_type": "stream",
     "text": [
      "Using Multinomial Naive Bayes with CountVectorizer\n",
      "Accuracy for X_train is: 0.8903623616859532\n",
      "Accuracy for X_test is: 0.8331081081081081\n"
     ]
    }
   ],
   "source": [
    "\n",
    "cvec_nb_train_score = nb.score(X_train_cvec, y_train)\n",
    "cvec_nb_test_score = nb.score(X_test_cvec, y_test)\n",
    "\n",
    "print(\"Using Multinomial Naive Bayes with CountVectorizer\")\n",
    "print(\"Accuracy for X_train is:\", cvec_nb_train_score)\n",
    "print(\"Accuracy for X_test is:\", cvec_nb_test_score)"
   ]
  },
  {
   "cell_type": "markdown",
   "id": "430899a1",
   "metadata": {},
   "source": [
    "#### 4) Multi-Nomial Naive Bayes (default parameters) TF-ID Vectorizer"
   ]
  },
  {
   "cell_type": "code",
   "execution_count": 17,
   "id": "3e0ea586",
   "metadata": {},
   "outputs": [],
   "source": [
    "nb = MultinomialNB()\n",
    "nb_model = nb.fit(X_train_tfidf, y_train)"
   ]
  },
  {
   "cell_type": "code",
   "execution_count": 18,
   "id": "c4bdf13d",
   "metadata": {},
   "outputs": [
    {
     "name": "stdout",
     "output_type": "stream",
     "text": [
      "Using Logistic Regression with default TF-ID Vectorizer\n",
      "X_train score is: 0.9027789509249092\n",
      "X_test score is: 0.8307432432432432\n"
     ]
    }
   ],
   "source": [
    "tfidf_lr_train_score = nb.score(X_train_tfidf, y_train)\n",
    "tfidf_lr_test_score = nb.score(X_test_tfidf, y_test)\n",
    "\n",
    "print(\"Using Logistic Regression with default TF-ID Vectorizer\")\n",
    "print(\"X_train score is:\", tfidf_lr_train_score)\n",
    "print(\"X_test score is:\", tfidf_lr_test_score)"
   ]
  },
  {
   "cell_type": "markdown",
   "id": "20fe2674",
   "metadata": {},
   "source": [
    "For the Multinomial Naive Bayes classifier, similar to the logistic regression model, it is also an overfit. \n",
    "The accuracy score for the test set is much higher for logistic regression as compared to naive bayes with countvectorizer performing similar to TF-ID vectorizer based on test set accuracy score."
   ]
  },
  {
   "cell_type": "markdown",
   "id": "dc45e678",
   "metadata": {},
   "source": [
    "#### 5) Random Forest Count Vectorizer (default parameters)"
   ]
  },
  {
   "cell_type": "code",
   "execution_count": 19,
   "id": "8db10daf",
   "metadata": {},
   "outputs": [
    {
     "name": "stdout",
     "output_type": "stream",
     "text": [
      "Using Random Forest with CountVectorizer\n",
      "Accuracy for X_train is: 0.9957766703268858\n",
      "Accuracy for X_test is: 0.8337837837837838\n"
     ]
    }
   ],
   "source": [
    "rf = RandomForestClassifier()\n",
    "\n",
    "rf_model = rf.fit(X_train_cvec, y_train)\n",
    "cvec_rf_train_score = rf.score(X_train_cvec, y_train)\n",
    "cvec_rf_test_score = rf.score(X_test_cvec, y_test)\n",
    "\n",
    "print(\"Using Random Forest with CountVectorizer\")\n",
    "print(\"Accuracy for X_train is:\", cvec_rf_train_score)\n",
    "print(\"Accuracy for X_test is:\", cvec_rf_test_score)"
   ]
  },
  {
   "cell_type": "markdown",
   "id": "fab165ad",
   "metadata": {},
   "source": [
    "#### 6) Random Forest Classifier TF-IDF Vectorizer (default parameters)"
   ]
  },
  {
   "cell_type": "code",
   "execution_count": 20,
   "id": "8a476611",
   "metadata": {},
   "outputs": [],
   "source": [
    "rf = RandomForestClassifier()\n",
    "rf_model = rf.fit(X_train_tfidf, y_train)"
   ]
  },
  {
   "cell_type": "code",
   "execution_count": 21,
   "id": "db41ffb8",
   "metadata": {},
   "outputs": [
    {
     "name": "stdout",
     "output_type": "stream",
     "text": [
      "Using Random Forest with TF-ID Vectorizer\n",
      "Accuracy for X_train is: 0.9957766703268858\n",
      "Accuracy for X_test is: 0.8347972972972973\n"
     ]
    }
   ],
   "source": [
    "cvec_rf_train_score = rf.score(X_train_tfidf, y_train)\n",
    "cvec_rf_test_score = rf.score(X_test_tfidf, y_test)\n",
    "\n",
    "print(\"Using Random Forest with TF-ID Vectorizer\")\n",
    "print(\"Accuracy for X_train is:\", cvec_rf_train_score)\n",
    "print(\"Accuracy for X_test is:\", cvec_rf_test_score)"
   ]
  },
  {
   "cell_type": "markdown",
   "id": "1f8ab687",
   "metadata": {},
   "source": [
    "For the Random Forest, similar to the logistic regression model, it is also an overfit. \n",
    "The accuracy score is much higher for logistic regression as compared to naive bayes and random forest. The accuracy score for naive bayes and random forest are similar with an accuracy of 0.83 for the test set."
   ]
  },
  {
   "cell_type": "markdown",
   "id": "5e12ae34",
   "metadata": {},
   "source": [
    "### Hypertuning Countvectorizer, TF-IDF Vectorizer  and logistic regression model with GridSearchCV \n",
    "\n",
    "Since the accuracy score for logistic regression was much higher compared to Naive Bayes and Random Forest. I have decided to tune the hyperparameters for both countvectorizer and tf-idf vectorizer for logistic regression to improve the accuracy score  and f1 score for logistic regression. This time, looking at the f1 score with the two metrics recall and precision.\n",
    "\n",
    "1)  Logistic Regression CountVectorizer \n",
    "\n",
    "2) Logistic Regression TF-IDVectorizer\n",
    "\n",
    "3)  Multi-Nomial Naive Bayes Count Vectorizer\n",
    "\n",
    "4) Multi-Nomial Naive Bayes  TF-ID Vectorizer\n",
    "\n",
    "5) Random Forest Count Vectorizer \n",
    "\n",
    "6) Random Forest Classifier TF-IDF Vectorizer "
   ]
  },
  {
   "cell_type": "markdown",
   "id": "5ba940c3",
   "metadata": {},
   "source": [
    "#### 1) Logistic Regression, CountVectorizer "
   ]
  },
  {
   "cell_type": "code",
   "execution_count": 25,
   "id": "efe90cee",
   "metadata": {},
   "outputs": [
    {
     "name": "stdout",
     "output_type": "stream",
     "text": [
      "Fitting 5 folds for each of 96 candidates, totalling 480 fits\n"
     ]
    },
    {
     "data": {
      "text/plain": [
       "GridSearchCV(cv=5,\n",
       "             estimator=Pipeline(steps=[('vec', CountVectorizer()),\n",
       "                                       ('lr',\n",
       "                                        LogisticRegression(max_iter=1000))]),\n",
       "             n_jobs=-1,\n",
       "             param_grid={'lr__C': [1, 10], 'vec__max_df': [0.5, 1.0],\n",
       "                         'vec__max_features': [None, 1000],\n",
       "                         'vec__min_df': [1, 2],\n",
       "                         'vec__ngram_range': [(1, 1), (1, 2), (1, 3)],\n",
       "                         'vec__stop_words': [None, 'english']},\n",
       "             scoring='f1', verbose=1)"
      ]
     },
     "execution_count": 25,
     "metadata": {},
     "output_type": "execute_result"
    }
   ],
   "source": [
    "# Tuning cvec using logistic regression \n",
    "\n",
    "vec = CountVectorizer()\n",
    "lr = LogisticRegression(solver='lbfgs', max_iter=1000)\n",
    "\n",
    "# instantiate pipeline\n",
    "pipe = Pipeline([('vec', vec), ('lr', lr)])\n",
    "\n",
    "# instantiate pipeline\n",
    "params = {\n",
    "        'vec__stop_words' : [None, 'english'],\n",
    "     'vec__max_features': [None, 1000],\n",
    "                  'vec__min_df':[1, 2],\n",
    "                  'vec__max_df':[0.5, 1.0],\n",
    "                  'vec__ngram_range': [(1,1), (1,2), (1,3)],\n",
    "                'lr__C': [1,10]}\n",
    "\n",
    "# run gridsearch\n",
    "gs_model = GridSearchCV(\n",
    "    pipe,\n",
    "    params,\n",
    "    cv=5,\n",
    "    verbose=1,\n",
    "    n_jobs=-1,\n",
    "    scoring = 'f1'\n",
    ")\n",
    "\n",
    "gs_model.fit(X_train, y_train)"
   ]
  },
  {
   "cell_type": "code",
   "execution_count": 28,
   "id": "45db3e33",
   "metadata": {},
   "outputs": [
    {
     "name": "stdout",
     "output_type": "stream",
     "text": [
      "best_score: 0.8450517579857804\n",
      "best_params: {'lr__C': 1, 'vec__max_df': 0.5, 'vec__max_features': None, 'vec__min_df': 1, 'vec__ngram_range': (1, 2), 'vec__stop_words': 'english'}\n",
      "Training Set\n",
      "Logistic Regression CountVectorizer Train Accuracy: 0.983444547681392\n",
      "Logistic Regression CountVectorizer Train F1-Score: 0.9832793038730593\n",
      " \n",
      "Test Set\n",
      "Logistic Regression CountVectorizer Test Accuracy: 0.8489864864864864\n",
      "Logistic Regression CountVectorizer Test F1-Score: 0.8427717200140696\n"
     ]
    }
   ],
   "source": [
    "y_pred_train = gs_model.predict(X_train)\n",
    "y_pred_test = gs_model.predict(X_test)\n",
    "\n",
    "\n",
    "print('best_score:', gs_model.best_score_)\n",
    "print('best_params:', gs_model.best_params_)\n",
    "\n",
    "\n",
    "\n",
    "print(\"Training Set\")\n",
    "print('Logistic Regression CountVectorizer Train Accuracy:', accuracy_score(y_train, y_pred_train))\n",
    "print('Logistic Regression CountVectorizer Train F1-Score:', f1_score(y_train, y_pred_train))\n",
    "print(' ')\n",
    "print(\"Test Set\")\n",
    "print('Logistic Regression CountVectorizer Test Accuracy:', accuracy_score(y_test, y_pred_test))\n",
    "print('Logistic Regression CountVectorizer Test F1-Score:', f1_score(y_test, y_pred_test))"
   ]
  },
  {
   "cell_type": "code",
   "execution_count": 29,
   "id": "5ae11cc2",
   "metadata": {},
   "outputs": [],
   "source": [
    "cvec_params = gs_model.best_params_"
   ]
  },
  {
   "cell_type": "markdown",
   "id": "8e3d7daa",
   "metadata": {},
   "source": [
    "#### 2) Logistic Regression, TF-IDF Vectorizer"
   ]
  },
  {
   "cell_type": "code",
   "execution_count": 30,
   "id": "ca057428",
   "metadata": {},
   "outputs": [
    {
     "name": "stdout",
     "output_type": "stream",
     "text": [
      "Fitting 5 folds for each of 64 candidates, totalling 320 fits\n"
     ]
    },
    {
     "data": {
      "text/plain": [
       "GridSearchCV(cv=5,\n",
       "             estimator=Pipeline(steps=[('tfidf', TfidfVectorizer()),\n",
       "                                       ('lr',\n",
       "                                        LogisticRegression(max_iter=1000))]),\n",
       "             n_jobs=-1,\n",
       "             param_grid={'lr__C': [1, 10], 'tfidf__max_df': [0.6, 1.0],\n",
       "                         'tfidf__max_features': [None, 1000],\n",
       "                         'tfidf__min_df': [1, 2],\n",
       "                         'tfidf__ngram_range': [(1, 1), (1, 2)],\n",
       "                         'tfidf__stop_words': [None, 'english']},\n",
       "             scoring='f1', verbose=1)"
      ]
     },
     "execution_count": 30,
     "metadata": {},
     "output_type": "execute_result"
    }
   ],
   "source": [
    "# Tuning tfidf using logistic regression \n",
    "\n",
    "tfidf = TfidfVectorizer()\n",
    "lr = LogisticRegression(solver='lbfgs', max_iter=1000)\n",
    "\n",
    "# instantiate pipeline\n",
    "pipe = Pipeline([('tfidf', tfidf), ('lr', lr)])\n",
    "\n",
    "# define gridsearch parameters\n",
    "params = {\n",
    "        'tfidf__stop_words' : [None, 'english'],\n",
    "     'tfidf__max_features': [None, 1000],\n",
    "                  'tfidf__min_df':[1, 2],\n",
    "                  'tfidf__max_df':[0.60, 1.0],\n",
    "                  'tfidf__ngram_range': [(1,1), (1,2)],\n",
    "                    'lr__C': [1,10]}\n",
    "# run gridsearch\n",
    "gs_model = GridSearchCV(\n",
    "    pipe,\n",
    "    params,\n",
    "    cv=5,\n",
    "    verbose=1,\n",
    "    n_jobs=-1,\n",
    "    scoring = 'f1'\n",
    ")\n",
    "\n",
    "gs_model.fit(X_train, y_train)"
   ]
  },
  {
   "cell_type": "code",
   "execution_count": 40,
   "id": "97dc6998",
   "metadata": {},
   "outputs": [
    {
     "name": "stdout",
     "output_type": "stream",
     "text": [
      "best_score: 0.8645362643018863\n",
      "best_params: {'lr__C': 10, 'tfidf__max_df': 0.6, 'tfidf__max_features': None, 'tfidf__min_df': 1, 'tfidf__ngram_range': (1, 2), 'tfidf__stop_words': None}\n",
      "Training Set\n",
      "Logistic Regression TF-IDF Vectorizer Train Accuracy: 0.995269870766112\n",
      "Logistic Regression TF-IDF Vectorizer Train F1-Score: 0.9952758562510544\n",
      " \n",
      "Test Set\n",
      "Logistic Regression TF-IDF Vectorizer Test Accuracy: 0.8641891891891892\n",
      "Logistic Regression TF-IDF Vectorizer Test F1-Score: 0.86455525606469\n"
     ]
    }
   ],
   "source": [
    "y_pred_train = gs_model.predict(X_train)\n",
    "y_pred_test = gs_model.predict(X_test)\n",
    "\n",
    "\n",
    "print('best_score:', gs_model.best_score_)\n",
    "print('best_params:', gs_model.best_params_)\n",
    "\n",
    "\n",
    "\n",
    "print(\"Training Set\")\n",
    "print('Logistic Regression TF-IDF Vectorizer Train Accuracy:', accuracy_score(y_train, y_pred_train))\n",
    "print('Logistic Regression TF-IDF Vectorizer Train F1-Score:', f1_score(y_train, y_pred_train))\n",
    "print(' ')\n",
    "print(\"Test Set\")\n",
    "print('Logistic Regression TF-IDF Vectorizer Test Accuracy:', accuracy_score(y_test, y_pred_test))\n",
    "print('Logistic Regression TF-IDF Vectorizer Test F1-Score:', f1_score(y_test, y_pred_test))"
   ]
  },
  {
   "cell_type": "code",
   "execution_count": 32,
   "id": "183c2d1a",
   "metadata": {},
   "outputs": [],
   "source": [
    "tfidf_params = gs_model.best_params_"
   ]
  },
  {
   "cell_type": "markdown",
   "id": "847e636c",
   "metadata": {},
   "source": [
    "### Hypertuning Countvectorizer, TF-IDF Vectorizer and Multinomial Naive Bayes with GridSearchCV\n"
   ]
  },
  {
   "cell_type": "markdown",
   "id": "24bc7248",
   "metadata": {},
   "source": [
    "#### 3) Multinomial Naive Bayes , Count Vectorizer\n"
   ]
  },
  {
   "cell_type": "code",
   "execution_count": 42,
   "id": "72c7ca15",
   "metadata": {},
   "outputs": [
    {
     "name": "stdout",
     "output_type": "stream",
     "text": [
      "Fitting 5 folds for each of 96 candidates, totalling 480 fits\n"
     ]
    },
    {
     "data": {
      "text/plain": [
       "GridSearchCV(cv=5,\n",
       "             estimator=Pipeline(steps=[('cvec', CountVectorizer()),\n",
       "                                       ('nb', MultinomialNB())]),\n",
       "             n_jobs=-1,\n",
       "             param_grid={'cvec__max_df': [0.6, 0.95],\n",
       "                         'cvec__max_features': [1000, 10000, 20000],\n",
       "                         'cvec__ngram_range': [(1, 1), (1, 2)],\n",
       "                         'cvec__stop_words': [None, 'english'],\n",
       "                         'nb__alpha': array([0.5, 1.5]),\n",
       "                         'nb__fit_prior': [True, False]},\n",
       "             scoring='f1', verbose=1)"
      ]
     },
     "execution_count": 42,
     "metadata": {},
     "output_type": "execute_result"
    }
   ],
   "source": [
    "# instantiate pipeline\n",
    "cvec_pipe = Pipeline([\n",
    "    ('cvec', CountVectorizer()),\n",
    "    ('nb', MultinomialNB())\n",
    "])\n",
    "\n",
    "# define gridsearch parameters\n",
    "cvec_params = {\n",
    "    'cvec__max_features': [1000, 10000, 20000],\n",
    "    'cvec__ngram_range': [(1,1), (1,2)],\n",
    "    'cvec__max_df': [.60,.95],\n",
    "    'cvec__stop_words': [None, 'english'],\n",
    "    'nb__alpha': np.linspace(0.5, 1.5, 2),\n",
    "  'nb__fit_prior': [True, False]\n",
    "}\n",
    "\n",
    "\n",
    "# run gridsearch\n",
    "cvec_gs = GridSearchCV(cvec_pipe, \n",
    "                     cvec_params,\n",
    "                     cv=5, \n",
    "                     verbose =1, \n",
    "                     n_jobs = -1, \n",
    "                     scoring = 'f1')\n",
    "cvec_gs.fit(X_train, y_train)\n"
   ]
  },
  {
   "cell_type": "code",
   "execution_count": 43,
   "id": "27a56aeb",
   "metadata": {},
   "outputs": [
    {
     "name": "stdout",
     "output_type": "stream",
     "text": [
      "best_score: 0.8584900370249395\n",
      "best_params: {'cvec__max_df': 0.6, 'cvec__max_features': 20000, 'cvec__ngram_range': (1, 2), 'cvec__stop_words': None, 'nb__alpha': 1.5, 'nb__fit_prior': False}\n",
      "Training Set\n",
      "Naive Bayes CountVectorizer Train Accuracy: 0.8864768983866881\n",
      "Naive Bayes CountVectorizer Train F1-Score: 0.8897818599311136\n",
      " \n",
      "Test Set\n",
      "Naive Bayes CountVectorizer Test Accuracy: 0.8449324324324324\n",
      "Naive Bayes CountVectorizer Test F1-Score: 0.8510223953261927\n"
     ]
    }
   ],
   "source": [
    "y_pred_train = cvec_gs.predict(X_train)\n",
    "y_pred_test = cvec_gs.predict(X_test)\n",
    "\n",
    "\n",
    "print('best_score:', cvec_gs.best_score_)\n",
    "print('best_params:', cvec_gs.best_params_)\n",
    "\n",
    "\n",
    "\n",
    "print(\"Training Set\")\n",
    "print('Naive Bayes CountVectorizer Train Accuracy:', accuracy_score(y_train, y_pred_train))\n",
    "print('Naive Bayes CountVectorizer Train F1-Score:', f1_score(y_train, y_pred_train))\n",
    "print(' ')\n",
    "print(\"Test Set\")\n",
    "print('Naive Bayes CountVectorizer Test Accuracy:', accuracy_score(y_test, y_pred_test))\n",
    "print('Naive Bayes CountVectorizer Test F1-Score:', f1_score(y_test, y_pred_test))"
   ]
  },
  {
   "cell_type": "markdown",
   "id": "ad65bf37",
   "metadata": {},
   "source": [
    "#### 4) Multinomial Naive Bayes ,TF-IDF Vectorizer"
   ]
  },
  {
   "cell_type": "code",
   "execution_count": 44,
   "id": "94c5f239",
   "metadata": {},
   "outputs": [
    {
     "name": "stdout",
     "output_type": "stream",
     "text": [
      "Fitting 5 folds for each of 96 candidates, totalling 480 fits\n"
     ]
    },
    {
     "data": {
      "text/plain": [
       "GridSearchCV(cv=5,\n",
       "             estimator=Pipeline(steps=[('tfidf', TfidfVectorizer()),\n",
       "                                       ('nb', MultinomialNB())]),\n",
       "             n_jobs=-1,\n",
       "             param_grid={'nb__alpha': array([0.5, 1.5]),\n",
       "                         'nb__fit_prior': [True, False],\n",
       "                         'tfidf__max_df': [0.6, 0.95],\n",
       "                         'tfidf__max_features': [2000, 10000, 20000],\n",
       "                         'tfidf__ngram_range': [(1, 1), (1, 2)],\n",
       "                         'tfidf__stop_words': [None, 'english']},\n",
       "             scoring='f1', verbose=1)"
      ]
     },
     "execution_count": 44,
     "metadata": {},
     "output_type": "execute_result"
    }
   ],
   "source": [
    "# instantiate pipeline\n",
    "tfidf_pipe = Pipeline([\n",
    "    ('tfidf', TfidfVectorizer()),\n",
    "    ('nb', MultinomialNB())\n",
    "])\n",
    "\n",
    "# define gridsearch parameters\n",
    "tfidf_params = {\n",
    "    'tfidf__max_features': [2000, 10000, 20000],\n",
    "    'tfidf__ngram_range': [(1,1), (1,2)],\n",
    "    'tfidf__max_df': [.60,.95],\n",
    "    'tfidf__stop_words': [None, 'english'],\n",
    "      'nb__alpha': np.linspace(0.5, 1.5, 2),\n",
    "      'nb__fit_prior': [True, False]\n",
    "}\n",
    "\n",
    "\n",
    "# run gridsearch\n",
    "tfidf_gs = GridSearchCV(tfidf_pipe, \n",
    "                     tfidf_params,\n",
    "                     cv=5, \n",
    "                     verbose =1, \n",
    "                     n_jobs = -1, \n",
    "                     scoring = 'f1')\n",
    "\n",
    "tfidf_gs.fit(X_train, y_train)"
   ]
  },
  {
   "cell_type": "code",
   "execution_count": 45,
   "id": "7162ab2d",
   "metadata": {},
   "outputs": [
    {
     "name": "stdout",
     "output_type": "stream",
     "text": [
      "best_score: 0.8589083282566714\n",
      "best_params: {'nb__alpha': 0.5, 'nb__fit_prior': False, 'tfidf__max_df': 0.6, 'tfidf__max_features': 20000, 'tfidf__ngram_range': (1, 2), 'tfidf__stop_words': None}\n",
      "Training Set\n",
      "Naive Bayes TF-IDF Vectorizer Train Accuracy: 0.9195878030239041\n",
      "Naive Bayes TF-IDF Vectorizer Train F1-Score: 0.9219288174512055\n",
      "\n",
      "\n",
      "---Test Set---\n",
      "Naive Bayes TF-IDF Vectorizer Test Accuracy: 0.8449324324324324\n",
      "Naive Bayes TF-IDF Vectorizer Test F1-Score: 0.8517920568291896\n"
     ]
    }
   ],
   "source": [
    "y_pred_train = tfidf_gs.predict(X_train)\n",
    "y_pred_test = tfidf_gs.predict(X_test)\n",
    "\n",
    "\n",
    "print('best_score:', tfidf_gs.best_score_)\n",
    "print('best_params:', tfidf_gs.best_params_)\n",
    "\n",
    "\n",
    "\n",
    "print(\"Training Set\")\n",
    "print('Naive Bayes TF-IDF Vectorizer Train Accuracy:', accuracy_score(y_train, y_pred_train))\n",
    "print('Naive Bayes TF-IDF Vectorizer Train F1-Score:', f1_score(y_train, y_pred_train))\n",
    "print(' ')\n",
    "print(\"Test Set\")\n",
    "print('Naive Bayes TF-IDF Vectorizer Test Accuracy:', accuracy_score(y_test, y_pred_test))\n",
    "print('Naive Bayes TF-IDF Vectorizer Test F1-Score:', f1_score(y_test, y_pred_test))"
   ]
  },
  {
   "cell_type": "markdown",
   "id": "0c40c12b",
   "metadata": {},
   "source": [
    "### Hypertuning Countvectorizer, TF-IDF Vectorizer  and Random Forest Classifier with GridSearchCV "
   ]
  },
  {
   "cell_type": "markdown",
   "id": "fcc6c9ab",
   "metadata": {},
   "source": [
    "#### 5) Random Forest Classifier , CountVectorizer"
   ]
  },
  {
   "cell_type": "code",
   "execution_count": 10,
   "id": "a309199e",
   "metadata": {},
   "outputs": [
    {
     "name": "stdout",
     "output_type": "stream",
     "text": [
      "Fitting 5 folds for each of 10 candidates, totalling 50 fits\n"
     ]
    },
    {
     "data": {
      "text/plain": [
       "RandomizedSearchCV(cv=5,\n",
       "                   estimator=Pipeline(steps=[('vec', CountVectorizer()),\n",
       "                                             ('rf', RandomForestClassifier())]),\n",
       "                   n_jobs=-1,\n",
       "                   param_distributions=[{'rf__min_samples_split': [5, 25, 50],\n",
       "                                         'rf__n_estimators': [50, 100, 150,\n",
       "                                                              1000],\n",
       "                                         'vec__ngram_range': [(1, 1), (1, 2)]}],\n",
       "                   verbose=1)"
      ]
     },
     "execution_count": 10,
     "metadata": {},
     "output_type": "execute_result"
    }
   ],
   "source": [
    "rf_pipe = Pipeline([(\"vec\",  CountVectorizer()),\n",
    "                       ('rf', RandomForestClassifier())])\n",
    "\n",
    "# create the random grid\n",
    "rf_params = [{\n",
    "                  'vec__ngram_range': [(1,1), (1,2)],\n",
    "                 'rf__n_estimators': [50, 100, 150, 1000],\n",
    "              \"rf__min_samples_split\": [5, 25, 50],}]\n",
    "\n",
    "\n",
    "rf_model = RandomizedSearchCV(rf_pipe, rf_params, cv = 5, verbose=1, n_jobs = -1)\n",
    "\n",
    "# fit the model\n",
    "rf_model.fit(X_train,y_train)"
   ]
  },
  {
   "cell_type": "code",
   "execution_count": 11,
   "id": "a01bf18a",
   "metadata": {},
   "outputs": [
    {
     "name": "stdout",
     "output_type": "stream",
     "text": [
      "best_score: 0.8450041890750066\n",
      "best_params: {'vec__ngram_range': (1, 1), 'rf__n_estimators': 1000, 'rf__min_samples_split': 50}\n",
      "Training Set\n",
      "Random Forest CountVectorizer Train Accuracy: 0.9599628346988766\n",
      "Random Forest CountVectorizer Train F1-Score: 0.9603745193111519\n",
      "\n",
      "Test Set\n",
      "Random Forest CountVectorizer Test Accuracy: 0.8425675675675676\n",
      "Random Forest CountVectorizer Test F1-Score: 0.8448735019973368\n"
     ]
    }
   ],
   "source": [
    "y_pred_train = rf_model.predict(X_train)\n",
    "y_pred_test = rf_model.predict(X_test)\n",
    "\n",
    "\n",
    "print('best_score:', rf_model.best_score_)\n",
    "print('best_params:', rf_model.best_params_)\n",
    "\n",
    "\n",
    "\n",
    "print(\"Training Set\")\n",
    "print('Random Forest CountVectorizer Train Accuracy:', accuracy_score(y_train, y_pred_train))\n",
    "print('Random Forest CountVectorizer Train F1-Score:', f1_score(y_train, y_pred_train))\n",
    "print('')\n",
    "print(\"Test Set\")\n",
    "print('Random Forest CountVectorizer Test Accuracy:', accuracy_score(y_test, y_pred_test))\n",
    "print('Random Forest CountVectorizer Test F1-Score:', f1_score(y_test, y_pred_test))"
   ]
  },
  {
   "cell_type": "markdown",
   "id": "f2da1f98",
   "metadata": {},
   "source": [
    "#### 6) Random Forest Classifier , TF - IDF Vectorizer"
   ]
  },
  {
   "cell_type": "code",
   "execution_count": 8,
   "id": "1ff1668a",
   "metadata": {},
   "outputs": [
    {
     "name": "stdout",
     "output_type": "stream",
     "text": [
      "Fitting 5 folds for each of 10 candidates, totalling 50 fits\n"
     ]
    },
    {
     "data": {
      "text/plain": [
       "RandomizedSearchCV(cv=5,\n",
       "                   estimator=Pipeline(steps=[('tfidf', TfidfVectorizer()),\n",
       "                                             ('rf', RandomForestClassifier())]),\n",
       "                   n_jobs=-1,\n",
       "                   param_distributions=[{'rf__min_samples_split': [5, 25, 50],\n",
       "                                         'rf__n_estimators': [50, 100, 150,\n",
       "                                                              1000],\n",
       "                                         'tfidf__ngram_range': [(1, 1),\n",
       "                                                                (1, 2)]}],\n",
       "                   verbose=1)"
      ]
     },
     "execution_count": 8,
     "metadata": {},
     "output_type": "execute_result"
    }
   ],
   "source": [
    "rf_pipe = Pipeline([(\"tfidf\",  TfidfVectorizer()),\n",
    "                       ('rf', RandomForestClassifier())])\n",
    "\n",
    "# create the random grid\n",
    "rf_params = [{\n",
    "                  'tfidf__ngram_range': [(1,1), (1,2)],\n",
    "                 'rf__n_estimators': [50, 100, 150, 1000],\n",
    "              \"rf__min_samples_split\": [5, 25, 50]}]\n",
    "\n",
    "\n",
    "rf_model_tf = RandomizedSearchCV(rf_pipe, rf_params, cv = 5, verbose=1, n_jobs = -1)\n",
    "\n",
    "# fit the model\n",
    "rf_model_tf.fit(X_train,y_train)"
   ]
  },
  {
   "cell_type": "code",
   "execution_count": 9,
   "id": "1eda6950",
   "metadata": {},
   "outputs": [
    {
     "name": "stdout",
     "output_type": "stream",
     "text": [
      "best_score: 0.8515919912307744\n",
      "best_params: {'tfidf__ngram_range': (1, 1), 'rf__n_estimators': 150, 'rf__min_samples_split': 50}\n",
      "Training Set\n",
      "Random Forest TF - IDF Vectorizer Train Accuracy: 0.9771095531717205\n",
      "Random Forest TF - IDF Vectorizer Train F1-Score: 0.9774223110888944\n",
      " \n",
      " Test Set \n",
      "Random Forest TF - IDFVectorizer Test Accuracy: 0.8472972972972973\n",
      "Random Forest TF - IDFVectorizer Test F1-Score: 0.8485254691689008\n"
     ]
    }
   ],
   "source": [
    "y_pred_train = rf_model_tf.predict(X_train)\n",
    "y_pred_test = rf_model_tf.predict(X_test)\n",
    "\n",
    "\n",
    "print('best_score:', rf_model_tf.best_score_)\n",
    "print('best_params:', rf_model_tf.best_params_)\n",
    "\n",
    "\n",
    "\n",
    "print(\"Training Set\")\n",
    "print('Random Forest TF - IDF Vectorizer Train Accuracy:', accuracy_score(y_train, y_pred_train))\n",
    "print('Random Forest TF - IDF Vectorizer Train F1-Score:', f1_score(y_train, y_pred_train))\n",
    "print(' ')\n",
    "print(\" Test Set \")\n",
    "print('Random Forest TF - IDFVectorizer Test Accuracy:', accuracy_score(y_test, y_pred_test))\n",
    "print('Random Forest TF - IDFVectorizer Test F1-Score:', f1_score(y_test, y_pred_test))"
   ]
  },
  {
   "cell_type": "markdown",
   "id": "58d55ce3",
   "metadata": {},
   "source": [
    "The model that performed the best with the highest accuracy on the test set was the TD-IDF vectorizer with logistic regression model and hypertuned parameters using GridsearchCV. "
   ]
  },
  {
   "cell_type": "markdown",
   "id": "d4edee57",
   "metadata": {},
   "source": [
    "### Best Performing Model (TF-IDF Vectorizer with logistic regression) \n",
    "\n",
    "The logistic regression model with TF-IDF vectorizer performed the best amongst the other models with an accuracy score of 0.864  and an F1-score of 0.865 on test set after tuning the hyperparameters using gridsearch.\n",
    "\n",
    "After recreating the model again, we are able to obtain the coefficient and match them with the features.\n"
   ]
  },
  {
   "cell_type": "code",
   "execution_count": 10,
   "id": "a5256f5e",
   "metadata": {},
   "outputs": [
    {
     "data": {
      "text/plain": [
       "LogisticRegression(C=10, max_iter=1000)"
      ]
     },
     "execution_count": 10,
     "metadata": {},
     "output_type": "execute_result"
    }
   ],
   "source": [
    "# Tuning tfidf using logistic regression \n",
    "\n",
    "tfidf = TfidfVectorizer(stop_words= None, max_df=0.6, max_features=None, min_df=1, ngram_range = (1,2) )\n",
    "X_train_tfidf = tfidf.fit_transform(X_train)\n",
    "X_test_tfidf = tfidf.transform(X_test)\n",
    "\n",
    "lr = LogisticRegression(solver='lbfgs', max_iter=1000, C=10)\n",
    "lr.fit(X_train_tfidf, y_train)"
   ]
  },
  {
   "cell_type": "code",
   "execution_count": 11,
   "id": "93bbfbae",
   "metadata": {},
   "outputs": [
    {
     "name": "stdout",
     "output_type": "stream",
     "text": [
      "Training Set\n",
      "Logistic Regression TF-IDF Vectorizer Train Accuracy: 0.9949320043922628\n",
      "Logistic Regression TF-IDF Vectorizer Train F1-Score: 0.9949375632804589\n",
      " \n",
      "Test Set\n",
      "Logistic Regression TF-IDF Vectorizer Test Accuracy: 0.8712837837837838\n",
      "Logistic Regression TF-IDF Vectorizer Test F1-Score: 0.8725326196052192\n"
     ]
    }
   ],
   "source": [
    "y_pred_train = lr.predict(X_train_tfidf)\n",
    "y_pred_test = lr.predict(X_test_tfidf)\n",
    "\n",
    "\n",
    "\n",
    "print(\"Training Set\")\n",
    "print('Logistic Regression TF-IDF Vectorizer Train Accuracy:', accuracy_score(y_train, y_pred_train))\n",
    "print('Logistic Regression TF-IDF Vectorizer Train F1-Score:', f1_score(y_train, y_pred_train))\n",
    "print(' ')\n",
    "print(\"Test Set\")\n",
    "print('Logistic Regression TF-IDF Vectorizer Test Accuracy:', accuracy_score(y_test, y_pred_test))\n",
    "print('Logistic Regression TF-IDF Vectorizer Test F1-Score:', f1_score(y_test, y_pred_test))"
   ]
  },
  {
   "cell_type": "code",
   "execution_count": 12,
   "id": "e032e0dd",
   "metadata": {},
   "outputs": [
    {
     "name": "stdout",
     "output_type": "stream",
     "text": [
      "True Positives: 1304\n",
      "False Positives: 205\n",
      "False Negatives: 176\n",
      "True Negatives: 1275\n",
      "\n",
      "Accuracy: 0.871\n",
      "Sensitivity: 0.881\n",
      "Specificity: 0.861\n",
      "Precision: 0.864\n",
      "\n"
     ]
    }
   ],
   "source": [
    "\n",
    "# create confusion matrix\n",
    "\n",
    "tn, fp, fn, tp = confusion_matrix(y_test, y_pred_test).ravel()\n",
    "\n",
    "print(\"True Positives: %s\" % tp)\n",
    "print(\"False Positives: %s\" % fp)\n",
    "print(\"False Negatives: %s\" % fn)\n",
    "print(\"True Negatives: %s\" % tn)\n",
    "print('')\n",
    "\n",
    "\n",
    "\n",
    "# confusion matrix metrics\n",
    "\n",
    "accuracy = (tp+tn)/(tp+fp+fn+tn)\n",
    "sensitivity = tp/(tp+fn)\n",
    "specificity = tn/(tn+fp)\n",
    "precision = tp/(tp+fp)\n",
    "\n",
    "print('Accuracy:',round(accuracy,3))\n",
    "print('Sensitivity:',round(sensitivity,3))\n",
    "print('Specificity:',round(specificity,3))\n",
    "print('Precision:',round(precision,3))\n",
    "print('')\n"
   ]
  },
  {
   "cell_type": "code",
   "execution_count": 13,
   "id": "504da4cc",
   "metadata": {},
   "outputs": [
    {
     "data": {
      "text/plain": [
       "<AxesSubplot:>"
      ]
     },
     "execution_count": 13,
     "metadata": {},
     "output_type": "execute_result"
    },
    {
     "data": {
      "image/png": "[encoded data removed]",
      "text/plain": [
       "<Figure size 432x288 with 2 Axes>"
      ]
     },
     "metadata": {
      "needs_background": "light"
     },
     "output_type": "display_data"
    }
   ],
   "source": [
    "cf_matrix = confusion_matrix(y_test, y_pred_test)\n",
    "\n",
    "sns.heatmap(cf_matrix, annot=True, fmt = 'g', cmap='Blues')"
   ]
  },
  {
   "cell_type": "markdown",
   "id": "537ba489",
   "metadata": {},
   "source": [
    "#### Coefficients \n",
    "Next, we will be looking at the coefficients of the best performing model, to determine the top predictors for r/aliens and r/sconspiracytheories"
   ]
  },
  {
   "cell_type": "code",
   "execution_count": 14,
   "id": "a9e8b1e3",
   "metadata": {},
   "outputs": [],
   "source": [
    "#create df of the training data \n",
    "\n",
    "X_train_df = pd.DataFrame(data=X_train_tfidf.toarray(),\n",
    "                          columns=tfidf.get_feature_names())"
   ]
  },
  {
   "cell_type": "code",
   "execution_count": 15,
   "id": "0f7d18e2",
   "metadata": {},
   "outputs": [],
   "source": [
    "# identify the features and coefficients of top 20 and bottom 20 features.\n",
    "features= sorted(list(zip(lr.coef_[0], tfidf.get_feature_names())))\n",
    "top_bottom = features[:20] + features[-20:]\n",
    "top_bottom = pd.DataFrame(top_bottom)"
   ]
  },
  {
   "cell_type": "code",
   "execution_count": 16,
   "id": "7538f750",
   "metadata": {},
   "outputs": [
    {
     "data": {
      "text/html": [
       "<div>\n",
       "<style scoped>\n",
       "    .dataframe tbody tr th:only-of-type {\n",
       "        vertical-align: middle;\n",
       "    }\n",
       "\n",
       "    .dataframe tbody tr th {\n",
       "        vertical-align: top;\n",
       "    }\n",
       "\n",
       "    .dataframe thead th {\n",
       "        text-align: right;\n",
       "    }\n",
       "</style>\n",
       "<table border=\"1\" class=\"dataframe\">\n",
       "  <thead>\n",
       "    <tr style=\"text-align: right;\">\n",
       "      <th></th>\n",
       "      <th>feature</th>\n",
       "      <th>coefficient</th>\n",
       "    </tr>\n",
       "  </thead>\n",
       "  <tbody>\n",
       "    <tr>\n",
       "      <th>0</th>\n",
       "      <td>alien</td>\n",
       "      <td>22.606719</td>\n",
       "    </tr>\n",
       "    <tr>\n",
       "      <th>1</th>\n",
       "      <td>ufo</td>\n",
       "      <td>17.531632</td>\n",
       "    </tr>\n",
       "    <tr>\n",
       "      <th>2</th>\n",
       "      <td>et</td>\n",
       "      <td>8.978510</td>\n",
       "    </tr>\n",
       "    <tr>\n",
       "      <th>3</th>\n",
       "      <td>uap</td>\n",
       "      <td>8.896303</td>\n",
       "    </tr>\n",
       "    <tr>\n",
       "      <th>4</th>\n",
       "      <td>abduct</td>\n",
       "      <td>8.861988</td>\n",
       "    </tr>\n",
       "    <tr>\n",
       "      <th>5</th>\n",
       "      <td>aliens</td>\n",
       "      <td>8.566126</td>\n",
       "    </tr>\n",
       "    <tr>\n",
       "      <th>6</th>\n",
       "      <td>contact</td>\n",
       "      <td>7.457337</td>\n",
       "    </tr>\n",
       "    <tr>\n",
       "      <th>7</th>\n",
       "      <td>ufos</td>\n",
       "      <td>7.251896</td>\n",
       "    </tr>\n",
       "    <tr>\n",
       "      <th>8</th>\n",
       "      <td>disclosur</td>\n",
       "      <td>6.890782</td>\n",
       "    </tr>\n",
       "    <tr>\n",
       "      <th>9</th>\n",
       "      <td>grey</td>\n",
       "      <td>6.544533</td>\n",
       "    </tr>\n",
       "    <tr>\n",
       "      <th>10</th>\n",
       "      <td>light</td>\n",
       "      <td>6.404986</td>\n",
       "    </tr>\n",
       "    <tr>\n",
       "      <th>11</th>\n",
       "      <td>psycholog conspiraci</td>\n",
       "      <td>6.088678</td>\n",
       "    </tr>\n",
       "    <tr>\n",
       "      <th>12</th>\n",
       "      <td>encount</td>\n",
       "      <td>5.911371</td>\n",
       "    </tr>\n",
       "    <tr>\n",
       "      <th>13</th>\n",
       "      <td>speci</td>\n",
       "      <td>5.817291</td>\n",
       "    </tr>\n",
       "    <tr>\n",
       "      <th>14</th>\n",
       "      <td>craft</td>\n",
       "      <td>5.799982</td>\n",
       "    </tr>\n",
       "    <tr>\n",
       "      <th>15</th>\n",
       "      <td>disclosure</td>\n",
       "      <td>5.782381</td>\n",
       "    </tr>\n",
       "    <tr>\n",
       "      <th>16</th>\n",
       "      <td>juli</td>\n",
       "      <td>5.446379</td>\n",
       "    </tr>\n",
       "    <tr>\n",
       "      <th>17</th>\n",
       "      <td>human</td>\n",
       "      <td>5.429837</td>\n",
       "    </tr>\n",
       "    <tr>\n",
       "      <th>18</th>\n",
       "      <td>sky</td>\n",
       "      <td>5.218945</td>\n",
       "    </tr>\n",
       "    <tr>\n",
       "      <th>19</th>\n",
       "      <td>18th</td>\n",
       "      <td>5.182437</td>\n",
       "    </tr>\n",
       "  </tbody>\n",
       "</table>\n",
       "</div>"
      ],
      "text/plain": [
       "                 feature  coefficient\n",
       "0                  alien    22.606719\n",
       "1                    ufo    17.531632\n",
       "2                     et     8.978510\n",
       "3                    uap     8.896303\n",
       "4                 abduct     8.861988\n",
       "5                 aliens     8.566126\n",
       "6                contact     7.457337\n",
       "7                   ufos     7.251896\n",
       "8              disclosur     6.890782\n",
       "9                   grey     6.544533\n",
       "10                 light     6.404986\n",
       "11  psycholog conspiraci     6.088678\n",
       "12               encount     5.911371\n",
       "13                 speci     5.817291\n",
       "14                 craft     5.799982\n",
       "15            disclosure     5.782381\n",
       "16                  juli     5.446379\n",
       "17                 human     5.429837\n",
       "18                   sky     5.218945\n",
       "19                  18th     5.182437"
      ]
     },
     "execution_count": 16,
     "metadata": {},
     "output_type": "execute_result"
    }
   ],
   "source": [
    "# top 20 strongest predictors for aliens \n",
    "aliens_list = []\n",
    "\n",
    "for x,y in features[:-21:-1]:\n",
    "    feature = {}\n",
    "    feature['feature'] = y\n",
    "    feature['coefficient'] = x\n",
    "    aliens_list.append(feature)\n",
    "\n",
    "aliens_feature_df = pd.DataFrame(aliens_list)\n",
    "aliens_feature_df.head()\n",
    "aliens_feature_df"
   ]
  },
  {
   "cell_type": "code",
   "execution_count": 17,
   "id": "0fbee34c",
   "metadata": {},
   "outputs": [
    {
     "data": {
      "text/html": [
       "<div>\n",
       "<style scoped>\n",
       "    .dataframe tbody tr th:only-of-type {\n",
       "        vertical-align: middle;\n",
       "    }\n",
       "\n",
       "    .dataframe tbody tr th {\n",
       "        vertical-align: top;\n",
       "    }\n",
       "\n",
       "    .dataframe thead th {\n",
       "        text-align: right;\n",
       "    }\n",
       "</style>\n",
       "<table border=\"1\" class=\"dataframe\">\n",
       "  <thead>\n",
       "    <tr style=\"text-align: right;\">\n",
       "      <th></th>\n",
       "      <th>feature</th>\n",
       "      <th>coefficient</th>\n",
       "    </tr>\n",
       "  </thead>\n",
       "  <tbody>\n",
       "    <tr>\n",
       "      <th>0</th>\n",
       "      <td>conspiraci</td>\n",
       "      <td>-12.974248</td>\n",
       "    </tr>\n",
       "    <tr>\n",
       "      <th>1</th>\n",
       "      <td>vaccin</td>\n",
       "      <td>-8.993683</td>\n",
       "    </tr>\n",
       "    <tr>\n",
       "      <th>2</th>\n",
       "      <td>covid</td>\n",
       "      <td>-8.480164</td>\n",
       "    </tr>\n",
       "    <tr>\n",
       "      <th>3</th>\n",
       "      <td>theori</td>\n",
       "      <td>-6.926803</td>\n",
       "    </tr>\n",
       "    <tr>\n",
       "      <th>4</th>\n",
       "      <td>trump</td>\n",
       "      <td>-6.333511</td>\n",
       "    </tr>\n",
       "    <tr>\n",
       "      <th>5</th>\n",
       "      <td>conspiracy</td>\n",
       "      <td>-5.907354</td>\n",
       "    </tr>\n",
       "    <tr>\n",
       "      <th>6</th>\n",
       "      <td>epstein</td>\n",
       "      <td>-5.841200</td>\n",
       "    </tr>\n",
       "    <tr>\n",
       "      <th>7</th>\n",
       "      <td>alien humans</td>\n",
       "      <td>-5.678002</td>\n",
       "    </tr>\n",
       "    <tr>\n",
       "      <th>8</th>\n",
       "      <td>alien mar</td>\n",
       "      <td>-5.163346</td>\n",
       "    </tr>\n",
       "    <tr>\n",
       "      <th>9</th>\n",
       "      <td>world</td>\n",
       "      <td>-4.965271</td>\n",
       "    </tr>\n",
       "    <tr>\n",
       "      <th>10</th>\n",
       "      <td>die</td>\n",
       "      <td>-4.632639</td>\n",
       "    </tr>\n",
       "    <tr>\n",
       "      <th>11</th>\n",
       "      <td>illuminati</td>\n",
       "      <td>-4.589529</td>\n",
       "    </tr>\n",
       "    <tr>\n",
       "      <th>12</th>\n",
       "      <td>death</td>\n",
       "      <td>-4.455725</td>\n",
       "    </tr>\n",
       "    <tr>\n",
       "      <th>13</th>\n",
       "      <td>biden</td>\n",
       "      <td>-4.397772</td>\n",
       "    </tr>\n",
       "    <tr>\n",
       "      <th>14</th>\n",
       "      <td>dead</td>\n",
       "      <td>-4.350548</td>\n",
       "    </tr>\n",
       "    <tr>\n",
       "      <th>15</th>\n",
       "      <td>media</td>\n",
       "      <td>-4.350443</td>\n",
       "    </tr>\n",
       "    <tr>\n",
       "      <th>16</th>\n",
       "      <td>11</td>\n",
       "      <td>-4.211518</td>\n",
       "    </tr>\n",
       "    <tr>\n",
       "      <th>17</th>\n",
       "      <td>facebook</td>\n",
       "      <td>-4.177362</td>\n",
       "    </tr>\n",
       "    <tr>\n",
       "      <th>18</th>\n",
       "      <td>qanon</td>\n",
       "      <td>-4.118659</td>\n",
       "    </tr>\n",
       "    <tr>\n",
       "      <th>19</th>\n",
       "      <td>alien base</td>\n",
       "      <td>-4.046295</td>\n",
       "    </tr>\n",
       "  </tbody>\n",
       "</table>\n",
       "</div>"
      ],
      "text/plain": [
       "         feature  coefficient\n",
       "0     conspiraci   -12.974248\n",
       "1         vaccin    -8.993683\n",
       "2          covid    -8.480164\n",
       "3         theori    -6.926803\n",
       "4          trump    -6.333511\n",
       "5     conspiracy    -5.907354\n",
       "6        epstein    -5.841200\n",
       "7   alien humans    -5.678002\n",
       "8      alien mar    -5.163346\n",
       "9          world    -4.965271\n",
       "10           die    -4.632639\n",
       "11    illuminati    -4.589529\n",
       "12         death    -4.455725\n",
       "13         biden    -4.397772\n",
       "14          dead    -4.350548\n",
       "15         media    -4.350443\n",
       "16            11    -4.211518\n",
       "17      facebook    -4.177362\n",
       "18         qanon    -4.118659\n",
       "19    alien base    -4.046295"
      ]
     },
     "execution_count": 17,
     "metadata": {},
     "output_type": "execute_result"
    }
   ],
   "source": [
    "# Make a dataframe of top 20 strongest predictors for conspiracytheories\n",
    "ct_list = []\n",
    "\n",
    "for x,y in features[:20]:\n",
    "    feature = {}\n",
    "    feature['feature'] = y\n",
    "    feature['coefficient'] = x\n",
    "    ct_list.append(feature)\n",
    "\n",
    "ct_feature_df = pd.DataFrame(ct_list)\n",
    "ct_feature_df.head()\n",
    "ct_feature_df"
   ]
  },
  {
   "cell_type": "code",
   "execution_count": 18,
   "id": "df135f4e",
   "metadata": {},
   "outputs": [
    {
     "data": {
      "image/png": "[encoded data removed]",
      "text/plain": [
       "<Figure size 720x504 with 1 Axes>"
      ]
     },
     "metadata": {
      "needs_background": "light"
     },
     "output_type": "display_data"
    }
   ],
   "source": [
    "# plotting most significant coefs\n",
    "\n",
    "plt.figure(figsize=(10, 7))\n",
    "sns.barplot(data=top_bottom,\n",
    "            x=0,\n",
    "            y=1,\n",
    "            palette=\"summer\")\n",
    "plt.title(\"Top words for determining Subreddit\", size=20)\n",
    "plt.yticks(size=12)\n",
    "plt.xticks(size=12)\n",
    "plt.ylabel(\"Words\", size=16)\n",
    "plt.xlabel(\"coefficients\", size=16);"
   ]
  },
  {
   "cell_type": "markdown",
   "id": "6303ff4e",
   "metadata": {},
   "source": [
    "## Conclusion"
   ]
  },
  {
   "cell_type": "markdown",
   "id": "435996b1",
   "metadata": {},
   "source": [
    "Next, to improve my score, I will have to spend more time on the preprocessing and hypertuning the random forest classifier, looking more closely towards the parameters to determine which parameters to use. More time can also be spent exploring adding more stop_words to my list, testing with various methods of stemming and other classification models( e.g. SVM). \n",
    "\n",
    "A quick observation in the models that I have created was that all the models that I have created were overfitted where the training set performed much better than the testing set. Next, I can look up on methods in which I can address the overfitted problem. \n",
    "\n",
    "\n",
    "While the best model scored only with an accuracy score of 0.864  and an F1-score of 0.865 on the test data, this model still predicts much better than the baseline model and will be useful in differentiating between r/aliens and r/conspiracytheories."
   ]
  },
  {
   "cell_type": "code",
   "execution_count": null,
   "id": "1f9a4c8d",
   "metadata": {},
   "outputs": [],
   "source": []
  }
 ],
 "metadata": {
  "kernelspec": {
   "display_name": "Python 3",
   "language": "python",
   "name": "python3"
  },
  "language_info": {
   "codemirror_mode": {
    "name": "ipython",
    "version": 3
   },
   "file_extension": ".py",
   "mimetype": "text/x-python",
   "name": "python",
   "nbconvert_exporter": "python",
   "pygments_lexer": "ipython3",
   "version": "3.8.8"
  }
 },
 "nbformat": 4,
 "nbformat_minor": 5
}
