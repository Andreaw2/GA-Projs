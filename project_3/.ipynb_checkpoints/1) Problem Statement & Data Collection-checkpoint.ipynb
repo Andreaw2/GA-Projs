{
 "cells": [
  {
   "cell_type": "markdown",
   "id": "2051b522",
   "metadata": {},
   "source": [
    "# Webscraping r/Aliens and r/ConspiracyTheories\n"
   ]
  },
  {
   "cell_type": "markdown",
   "id": "dec08535",
   "metadata": {},
   "source": [
    "Reddit is a social news aggregation, web content rating, and discussion website where members submit content to the site such as links, text posts, images, and videos, which are then voted up or down by other members. Posts are organized by subject into user-created boards called \"communities\" or \"subreddits\", which cover topics such as news, politics, religion, science, movies, video games, music, books, sports, fitness, cooking, pets, and image-sharing. \n",
    "\n",
    "\n",
    "In this project, I have identified two sub reddit pages *r/aliens* and *r/conspiracytheories*:\n",
    "\n",
    "1) https://www.reddit.com/r/aliens/\n",
    "\n",
    "2) https://www.reddit.com/r/conspiracytheories/\n",
    "\n",
    "\n",
    "The idea is to explore what are some of the similarities and differences between these 2 subreddits. how to balance the credibility of aliens' existence with conspiracy theories revolving around aliens. \n",
    "\n",
    "Humans have been looking for extraterrestyial existence for the longest time with multiple reports on strange sightings and even setting up programs or facilities to look into these UFO sightings. For Example: Area 51 in Nevada and Project BLUE BOOK. \n",
    "\n",
    "Some examples of conspiracy theories regarding aliens are: \n",
    "\n",
    "1) Various governments and politicians globally, in particular the Government of the United States, are suppressing evidence that unidentified flying objects are controlled by a non-human intelligence or built using alien technology.\n"
   ]
  },
  {
   "cell_type": "code",
   "execution_count": 10,
   "id": "ed561f1d",
   "metadata": {},
   "outputs": [],
   "source": [
    "# Imports\n",
    "import numpy as np\n",
    "import pandas as pd\n",
    "import requests"
   ]
  },
  {
   "cell_type": "markdown",
   "id": "196815d0",
   "metadata": {},
   "source": [
    "# Collect Data - 10,000 posts per subreddit\n",
    "\n",
    "Pushshift now limits to 100 posts per request. \n",
    "I will be collecting an initial 1000 posts, before replicating and collecting 10,000 posts. \n",
    "\n",
    "I will have to make 10 requests per reddit page to obtain 10,000 posts. "
   ]
  },
  {
   "cell_type": "code",
   "execution_count": 586,
   "id": "a1133e0d",
   "metadata": {},
   "outputs": [],
   "source": [
    "base_url = 'https://api.pushshift.io/reddit/search/submission'"
   ]
  },
  {
   "cell_type": "code",
   "execution_count": 634,
   "id": "5714cf2a",
   "metadata": {},
   "outputs": [],
   "source": [
    "# create base_df \n",
    "def get_base_df(base_url, subreddit): \n",
    "    \n",
    "# set params\n",
    "\n",
    "    params = {\n",
    "    'subreddit':subreddit,\n",
    "    'size': 100\n",
    "    }\n",
    "    \n",
    "    res = requests.get(base_url, params)\n",
    "\n",
    "    if res.status_code != 200:\n",
    "        return f'Error: {res.status_code}'\n",
    "    else:\n",
    "        data = res.json()\n",
    "        posts = data['data']\n",
    "        \n",
    "    return pd.DataFrame(posts)\n",
    "\n",
    "\n",
    "# update params \n",
    "def update_params(base_df, subreddit): \n",
    "    \n",
    "    params = {\n",
    "    'subreddit':subreddit,\n",
    "    'size': 100,\n",
    "    'before':base_df.iloc[-1]['created_utc']\n",
    "    }\n",
    "    return params \n",
    "\n",
    "\n",
    "#pull posts \n",
    "\n",
    "def pull_posts(base_url, params):\n",
    "    \n",
    "    res = requests.get(base_url, params)\n",
    "    \n",
    "    if res.status_code != 200:\n",
    "        return f'Error: {res.status_code}'\n",
    "\n",
    "    else:\n",
    "        data = res.json()\n",
    "        posts = data['data']\n",
    "        \n",
    "        return posts\n",
    "\n",
    "#convert new posts to df \n",
    "\n",
    "def posts_to_df(posts):\n",
    "    return pd.DataFrame(posts)\n",
    "\n",
    "# add to base_df \n",
    "def update_base_df(base_df, posts):\n",
    "    frame = [base_df, posts]\n",
    "    base_df = pd.concat(frame)\n",
    "    return base_df\n",
    "\n",
    "#create function to update base_df with 100 posts\n",
    "def total_df(base_df, subreddit, base_url):\n",
    "\n",
    "    new_params = update_params(base_df, subreddit)\n",
    "\n",
    "    new_posts = pull_posts(base_url, new_params)\n",
    "\n",
    "    new_df = posts_to_df(new_posts)\n",
    "\n",
    "    base_df = base_df.append(new_df)\n",
    "\n",
    "    return base_df"
   ]
  },
  {
   "cell_type": "markdown",
   "id": "ed1876ce",
   "metadata": {},
   "source": [
    "# 1) Create base dataframe for r/conspiracytheories posts\n",
    "## Pulling the first 100 posts"
   ]
  },
  {
   "cell_type": "code",
   "execution_count": 635,
   "id": "3a72ecd0",
   "metadata": {},
   "outputs": [],
   "source": [
    "#Set up base df \n",
    "\n",
    "base_df_ct = get_base_df('https://api.pushshift.io/reddit/search/submission', 'conspiracytheories')"
   ]
  },
  {
   "cell_type": "code",
   "execution_count": 645,
   "id": "03e637d4",
   "metadata": {},
   "outputs": [
    {
     "data": {
      "text/plain": [
       "(9999, 85)"
      ]
     },
     "execution_count": 645,
     "metadata": {},
     "output_type": "execute_result"
    }
   ],
   "source": [
    "base_df_ct.shape"
   ]
  },
  {
   "cell_type": "code",
   "execution_count": 637,
   "id": "58d61f26",
   "metadata": {
    "scrolled": true
   },
   "outputs": [
    {
     "data": {
      "text/html": [
       "<div>\n",
       "<style scoped>\n",
       "    .dataframe tbody tr th:only-of-type {\n",
       "        vertical-align: middle;\n",
       "    }\n",
       "\n",
       "    .dataframe tbody tr th {\n",
       "        vertical-align: top;\n",
       "    }\n",
       "\n",
       "    .dataframe thead th {\n",
       "        text-align: right;\n",
       "    }\n",
       "</style>\n",
       "<table border=\"1\" class=\"dataframe\">\n",
       "  <thead>\n",
       "    <tr style=\"text-align: right;\">\n",
       "      <th></th>\n",
       "      <th>all_awardings</th>\n",
       "      <th>allow_live_comments</th>\n",
       "      <th>author</th>\n",
       "      <th>author_flair_css_class</th>\n",
       "      <th>author_flair_richtext</th>\n",
       "      <th>author_flair_text</th>\n",
       "      <th>author_flair_type</th>\n",
       "      <th>author_fullname</th>\n",
       "      <th>author_is_blocked</th>\n",
       "      <th>author_patreon_flair</th>\n",
       "      <th>...</th>\n",
       "      <th>media_embed</th>\n",
       "      <th>secure_media</th>\n",
       "      <th>secure_media_embed</th>\n",
       "      <th>author_flair_template_id</th>\n",
       "      <th>author_flair_text_color</th>\n",
       "      <th>gallery_data</th>\n",
       "      <th>is_gallery</th>\n",
       "      <th>media_metadata</th>\n",
       "      <th>crosspost_parent</th>\n",
       "      <th>crosspost_parent_list</th>\n",
       "    </tr>\n",
       "  </thead>\n",
       "  <tbody>\n",
       "    <tr>\n",
       "      <th>0</th>\n",
       "      <td>[]</td>\n",
       "      <td>False</td>\n",
       "      <td>Aintsosimple</td>\n",
       "      <td>None</td>\n",
       "      <td>[]</td>\n",
       "      <td>None</td>\n",
       "      <td>text</td>\n",
       "      <td>t2_12wjkbi</td>\n",
       "      <td>False</td>\n",
       "      <td>False</td>\n",
       "      <td>...</td>\n",
       "      <td>NaN</td>\n",
       "      <td>NaN</td>\n",
       "      <td>NaN</td>\n",
       "      <td>NaN</td>\n",
       "      <td>NaN</td>\n",
       "      <td>NaN</td>\n",
       "      <td>NaN</td>\n",
       "      <td>NaN</td>\n",
       "      <td>NaN</td>\n",
       "      <td>NaN</td>\n",
       "    </tr>\n",
       "    <tr>\n",
       "      <th>1</th>\n",
       "      <td>[]</td>\n",
       "      <td>False</td>\n",
       "      <td>Numerous_Cut_5410</td>\n",
       "      <td>None</td>\n",
       "      <td>[]</td>\n",
       "      <td>None</td>\n",
       "      <td>text</td>\n",
       "      <td>t2_gro4ujih</td>\n",
       "      <td>False</td>\n",
       "      <td>False</td>\n",
       "      <td>...</td>\n",
       "      <td>NaN</td>\n",
       "      <td>NaN</td>\n",
       "      <td>NaN</td>\n",
       "      <td>NaN</td>\n",
       "      <td>NaN</td>\n",
       "      <td>NaN</td>\n",
       "      <td>NaN</td>\n",
       "      <td>NaN</td>\n",
       "      <td>NaN</td>\n",
       "      <td>NaN</td>\n",
       "    </tr>\n",
       "    <tr>\n",
       "      <th>2</th>\n",
       "      <td>[]</td>\n",
       "      <td>False</td>\n",
       "      <td>Light-based</td>\n",
       "      <td>None</td>\n",
       "      <td>[]</td>\n",
       "      <td>None</td>\n",
       "      <td>text</td>\n",
       "      <td>t2_iwqr47qo</td>\n",
       "      <td>False</td>\n",
       "      <td>False</td>\n",
       "      <td>...</td>\n",
       "      <td>NaN</td>\n",
       "      <td>NaN</td>\n",
       "      <td>NaN</td>\n",
       "      <td>NaN</td>\n",
       "      <td>NaN</td>\n",
       "      <td>NaN</td>\n",
       "      <td>NaN</td>\n",
       "      <td>NaN</td>\n",
       "      <td>NaN</td>\n",
       "      <td>NaN</td>\n",
       "    </tr>\n",
       "    <tr>\n",
       "      <th>3</th>\n",
       "      <td>[]</td>\n",
       "      <td>False</td>\n",
       "      <td>sbspixie</td>\n",
       "      <td>None</td>\n",
       "      <td>[]</td>\n",
       "      <td>None</td>\n",
       "      <td>text</td>\n",
       "      <td>t2_52xmjx3q</td>\n",
       "      <td>False</td>\n",
       "      <td>False</td>\n",
       "      <td>...</td>\n",
       "      <td>NaN</td>\n",
       "      <td>NaN</td>\n",
       "      <td>NaN</td>\n",
       "      <td>NaN</td>\n",
       "      <td>NaN</td>\n",
       "      <td>NaN</td>\n",
       "      <td>NaN</td>\n",
       "      <td>NaN</td>\n",
       "      <td>NaN</td>\n",
       "      <td>NaN</td>\n",
       "    </tr>\n",
       "    <tr>\n",
       "      <th>4</th>\n",
       "      <td>[]</td>\n",
       "      <td>False</td>\n",
       "      <td>Numerous_Cut_5410</td>\n",
       "      <td>None</td>\n",
       "      <td>[]</td>\n",
       "      <td>None</td>\n",
       "      <td>text</td>\n",
       "      <td>t2_gro4ujih</td>\n",
       "      <td>False</td>\n",
       "      <td>False</td>\n",
       "      <td>...</td>\n",
       "      <td>NaN</td>\n",
       "      <td>NaN</td>\n",
       "      <td>NaN</td>\n",
       "      <td>NaN</td>\n",
       "      <td>NaN</td>\n",
       "      <td>NaN</td>\n",
       "      <td>NaN</td>\n",
       "      <td>NaN</td>\n",
       "      <td>NaN</td>\n",
       "      <td>NaN</td>\n",
       "    </tr>\n",
       "  </tbody>\n",
       "</table>\n",
       "<p>5 rows × 80 columns</p>\n",
       "</div>"
      ],
      "text/plain": [
       "  all_awardings  allow_live_comments             author  \\\n",
       "0            []                False       Aintsosimple   \n",
       "1            []                False  Numerous_Cut_5410   \n",
       "2            []                False        Light-based   \n",
       "3            []                False           sbspixie   \n",
       "4            []                False  Numerous_Cut_5410   \n",
       "\n",
       "  author_flair_css_class author_flair_richtext author_flair_text  \\\n",
       "0                   None                    []              None   \n",
       "1                   None                    []              None   \n",
       "2                   None                    []              None   \n",
       "3                   None                    []              None   \n",
       "4                   None                    []              None   \n",
       "\n",
       "  author_flair_type author_fullname  author_is_blocked  author_patreon_flair  \\\n",
       "0              text      t2_12wjkbi              False                 False   \n",
       "1              text     t2_gro4ujih              False                 False   \n",
       "2              text     t2_iwqr47qo              False                 False   \n",
       "3              text     t2_52xmjx3q              False                 False   \n",
       "4              text     t2_gro4ujih              False                 False   \n",
       "\n",
       "   ...  media_embed secure_media  secure_media_embed  \\\n",
       "0  ...          NaN          NaN                 NaN   \n",
       "1  ...          NaN          NaN                 NaN   \n",
       "2  ...          NaN          NaN                 NaN   \n",
       "3  ...          NaN          NaN                 NaN   \n",
       "4  ...          NaN          NaN                 NaN   \n",
       "\n",
       "   author_flair_template_id  author_flair_text_color gallery_data is_gallery  \\\n",
       "0                       NaN                      NaN          NaN        NaN   \n",
       "1                       NaN                      NaN          NaN        NaN   \n",
       "2                       NaN                      NaN          NaN        NaN   \n",
       "3                       NaN                      NaN          NaN        NaN   \n",
       "4                       NaN                      NaN          NaN        NaN   \n",
       "\n",
       "  media_metadata crosspost_parent  crosspost_parent_list  \n",
       "0            NaN              NaN                    NaN  \n",
       "1            NaN              NaN                    NaN  \n",
       "2            NaN              NaN                    NaN  \n",
       "3            NaN              NaN                    NaN  \n",
       "4            NaN              NaN                    NaN  \n",
       "\n",
       "[5 rows x 80 columns]"
      ]
     },
     "execution_count": 637,
     "metadata": {},
     "output_type": "execute_result"
    }
   ],
   "source": [
    "base_df_ct.head()"
   ]
  },
  {
   "cell_type": "code",
   "execution_count": 638,
   "id": "b745c602",
   "metadata": {},
   "outputs": [
    {
     "data": {
      "text/html": [
       "<div>\n",
       "<style scoped>\n",
       "    .dataframe tbody tr th:only-of-type {\n",
       "        vertical-align: middle;\n",
       "    }\n",
       "\n",
       "    .dataframe tbody tr th {\n",
       "        vertical-align: top;\n",
       "    }\n",
       "\n",
       "    .dataframe thead th {\n",
       "        text-align: right;\n",
       "    }\n",
       "</style>\n",
       "<table border=\"1\" class=\"dataframe\">\n",
       "  <thead>\n",
       "    <tr style=\"text-align: right;\">\n",
       "      <th></th>\n",
       "      <th>subreddit</th>\n",
       "      <th>selftext</th>\n",
       "      <th>title</th>\n",
       "      <th>created_utc</th>\n",
       "    </tr>\n",
       "  </thead>\n",
       "  <tbody>\n",
       "    <tr>\n",
       "      <th>0</th>\n",
       "      <td>conspiracytheories</td>\n",
       "      <td>There have been several things in world histor...</td>\n",
       "      <td>Did someone invent time travel?</td>\n",
       "      <td>1646202980</td>\n",
       "    </tr>\n",
       "    <tr>\n",
       "      <th>1</th>\n",
       "      <td>conspiracytheories</td>\n",
       "      <td>[removed]</td>\n",
       "      <td>Did you know that moderna is a Ukrainian compa...</td>\n",
       "      <td>1646200837</td>\n",
       "    </tr>\n",
       "    <tr>\n",
       "      <th>2</th>\n",
       "      <td>conspiracytheories</td>\n",
       "      <td>Theory: They can't get their more advanced cra...</td>\n",
       "      <td>UAP/Non-human intelligence is interfering with...</td>\n",
       "      <td>1646200764</td>\n",
       "    </tr>\n",
       "    <tr>\n",
       "      <th>3</th>\n",
       "      <td>conspiracytheories</td>\n",
       "      <td>What if the Mandela effect is actually the gov...</td>\n",
       "      <td>Mandela effect?</td>\n",
       "      <td>1646200667</td>\n",
       "    </tr>\n",
       "    <tr>\n",
       "      <th>4</th>\n",
       "      <td>conspiracytheories</td>\n",
       "      <td>[removed]</td>\n",
       "      <td>Beige listed still owes me $1,000</td>\n",
       "      <td>1646199782</td>\n",
       "    </tr>\n",
       "  </tbody>\n",
       "</table>\n",
       "</div>"
      ],
      "text/plain": [
       "            subreddit                                           selftext  \\\n",
       "0  conspiracytheories  There have been several things in world histor...   \n",
       "1  conspiracytheories                                          [removed]   \n",
       "2  conspiracytheories  Theory: They can't get their more advanced cra...   \n",
       "3  conspiracytheories  What if the Mandela effect is actually the gov...   \n",
       "4  conspiracytheories                                          [removed]   \n",
       "\n",
       "                                               title  created_utc  \n",
       "0                    Did someone invent time travel?   1646202980  \n",
       "1  Did you know that moderna is a Ukrainian compa...   1646200837  \n",
       "2  UAP/Non-human intelligence is interfering with...   1646200764  \n",
       "3                                    Mandela effect?   1646200667  \n",
       "4                  Beige listed still owes me $1,000   1646199782  "
      ]
     },
     "execution_count": 638,
     "metadata": {},
     "output_type": "execute_result"
    }
   ],
   "source": [
    "# Look at columns: subreddit, selftext (description), title\n",
    "base_df_ct[['subreddit', 'selftext', 'title', 'created_utc']].head()"
   ]
  },
  {
   "cell_type": "markdown",
   "id": "9b1ffee8",
   "metadata": {},
   "source": [
    "# Pulling the next 9900 posts"
   ]
  },
  {
   "cell_type": "code",
   "execution_count": 639,
   "id": "922f328c",
   "metadata": {},
   "outputs": [
    {
     "data": {
      "text/plain": [
       "99.0"
      ]
     },
     "execution_count": 639,
     "metadata": {},
     "output_type": "execute_result"
    }
   ],
   "source": [
    "#number of times I will have to reun the query to pull 50 posts each time \n",
    "9900/100"
   ]
  },
  {
   "cell_type": "markdown",
   "id": "f2c2b7b6",
   "metadata": {},
   "source": [
    "Due to difficulties running the loop for 99 times without the server drops (It is a common issue faced with the pushAPI), I have decided to run the loop 49 times first, and 50 times after to collect all posts. "
   ]
  },
  {
   "cell_type": "code",
   "execution_count": 640,
   "id": "8efdd34e",
   "metadata": {
    "scrolled": true
   },
   "outputs": [
    {
     "name": "stdout",
     "output_type": "stream",
     "text": [
      "(1100, 84)\n",
      "(2100, 84)\n",
      "(3100, 85)\n",
      "(4099, 85)\n"
     ]
    },
    {
     "data": {
      "text/plain": [
       "(4999, 85)"
      ]
     },
     "execution_count": 640,
     "metadata": {},
     "output_type": "execute_result"
    }
   ],
   "source": [
    "for i in range(49):\n",
    "    base_df_ct = total_df(base_df_ct, 'conspiracytheories', 'https://api.pushshift.io/reddit/search/submission')\n",
    "    \n",
    "    if i in [9, 19, 29, 39]:\n",
    "        print(base_df_ct.shape)\n",
    "\n",
    "base_df_ct.shape"
   ]
  },
  {
   "cell_type": "code",
   "execution_count": 641,
   "id": "abea432e",
   "metadata": {},
   "outputs": [
    {
     "name": "stdout",
     "output_type": "stream",
     "text": [
      "(6099, 85)\n",
      "(7099, 85)\n",
      "(8099, 85)\n",
      "(9099, 85)\n"
     ]
    },
    {
     "data": {
      "text/plain": [
       "(9999, 85)"
      ]
     },
     "execution_count": 641,
     "metadata": {},
     "output_type": "execute_result"
    }
   ],
   "source": [
    "for i in range(50):\n",
    "    base_df_ct = total_df(base_df_ct, 'conspiracytheories', 'https://api.pushshift.io/reddit/search/submission')\n",
    "    \n",
    "    if i in [10, 20, 30, 40]:\n",
    "        print(base_df_ct.shape)\n",
    "\n",
    "base_df_ct.shape"
   ]
  },
  {
   "cell_type": "code",
   "execution_count": 642,
   "id": "d0677de3",
   "metadata": {},
   "outputs": [
    {
     "data": {
      "text/plain": [
       "(9999, 85)"
      ]
     },
     "execution_count": 642,
     "metadata": {},
     "output_type": "execute_result"
    }
   ],
   "source": [
    "base_df_ct.shape"
   ]
  },
  {
   "cell_type": "code",
   "execution_count": 643,
   "id": "00587a9a",
   "metadata": {},
   "outputs": [],
   "source": [
    "base_df_ct.to_csv('./data/ct_submissions.csv', index=False)"
   ]
  },
  {
   "cell_type": "markdown",
   "id": "f190d398",
   "metadata": {},
   "source": [
    "# 2) Create base dataframe for r/aliens posts\n",
    "## pulling the first 100 posts"
   ]
  },
  {
   "cell_type": "code",
   "execution_count": 692,
   "id": "c5a4c60e",
   "metadata": {},
   "outputs": [],
   "source": [
    "#Set up base df \n",
    "\n",
    "base_df_aliens = get_base_df('https://api.pushshift.io/reddit/search/submission', 'aliens')"
   ]
  },
  {
   "cell_type": "code",
   "execution_count": 693,
   "id": "231ff9bf",
   "metadata": {},
   "outputs": [
    {
     "data": {
      "text/plain": [
       "(100, 76)"
      ]
     },
     "execution_count": 693,
     "metadata": {},
     "output_type": "execute_result"
    }
   ],
   "source": [
    "base_df_aliens.shape"
   ]
  },
  {
   "cell_type": "code",
   "execution_count": 694,
   "id": "91a4bb5e",
   "metadata": {},
   "outputs": [
    {
     "data": {
      "text/html": [
       "<div>\n",
       "<style scoped>\n",
       "    .dataframe tbody tr th:only-of-type {\n",
       "        vertical-align: middle;\n",
       "    }\n",
       "\n",
       "    .dataframe tbody tr th {\n",
       "        vertical-align: top;\n",
       "    }\n",
       "\n",
       "    .dataframe thead th {\n",
       "        text-align: right;\n",
       "    }\n",
       "</style>\n",
       "<table border=\"1\" class=\"dataframe\">\n",
       "  <thead>\n",
       "    <tr style=\"text-align: right;\">\n",
       "      <th></th>\n",
       "      <th>all_awardings</th>\n",
       "      <th>allow_live_comments</th>\n",
       "      <th>author</th>\n",
       "      <th>author_flair_css_class</th>\n",
       "      <th>author_flair_richtext</th>\n",
       "      <th>author_flair_text</th>\n",
       "      <th>author_flair_type</th>\n",
       "      <th>author_fullname</th>\n",
       "      <th>author_is_blocked</th>\n",
       "      <th>author_patreon_flair</th>\n",
       "      <th>...</th>\n",
       "      <th>secure_media</th>\n",
       "      <th>secure_media_embed</th>\n",
       "      <th>thumbnail_height</th>\n",
       "      <th>thumbnail_width</th>\n",
       "      <th>url_overridden_by_dest</th>\n",
       "      <th>removed_by_category</th>\n",
       "      <th>author_flair_template_id</th>\n",
       "      <th>author_flair_text_color</th>\n",
       "      <th>is_gallery</th>\n",
       "      <th>media_metadata</th>\n",
       "    </tr>\n",
       "  </thead>\n",
       "  <tbody>\n",
       "    <tr>\n",
       "      <th>0</th>\n",
       "      <td>[]</td>\n",
       "      <td>False</td>\n",
       "      <td>knowledgeCaterpillar</td>\n",
       "      <td>None</td>\n",
       "      <td>[]</td>\n",
       "      <td>None</td>\n",
       "      <td>text</td>\n",
       "      <td>t2_ahp8jfc6</td>\n",
       "      <td>False</td>\n",
       "      <td>False</td>\n",
       "      <td>...</td>\n",
       "      <td>NaN</td>\n",
       "      <td>NaN</td>\n",
       "      <td>NaN</td>\n",
       "      <td>NaN</td>\n",
       "      <td>NaN</td>\n",
       "      <td>NaN</td>\n",
       "      <td>NaN</td>\n",
       "      <td>NaN</td>\n",
       "      <td>NaN</td>\n",
       "      <td>NaN</td>\n",
       "    </tr>\n",
       "    <tr>\n",
       "      <th>1</th>\n",
       "      <td>[]</td>\n",
       "      <td>False</td>\n",
       "      <td>opism_ex</td>\n",
       "      <td>None</td>\n",
       "      <td>[]</td>\n",
       "      <td>None</td>\n",
       "      <td>text</td>\n",
       "      <td>t2_etd6haf9</td>\n",
       "      <td>False</td>\n",
       "      <td>False</td>\n",
       "      <td>...</td>\n",
       "      <td>NaN</td>\n",
       "      <td>NaN</td>\n",
       "      <td>NaN</td>\n",
       "      <td>NaN</td>\n",
       "      <td>NaN</td>\n",
       "      <td>NaN</td>\n",
       "      <td>NaN</td>\n",
       "      <td>NaN</td>\n",
       "      <td>NaN</td>\n",
       "      <td>NaN</td>\n",
       "    </tr>\n",
       "    <tr>\n",
       "      <th>2</th>\n",
       "      <td>[]</td>\n",
       "      <td>False</td>\n",
       "      <td>Dan_Vasilache</td>\n",
       "      <td>None</td>\n",
       "      <td>[]</td>\n",
       "      <td>None</td>\n",
       "      <td>text</td>\n",
       "      <td>t2_be6uhfsv</td>\n",
       "      <td>False</td>\n",
       "      <td>False</td>\n",
       "      <td>...</td>\n",
       "      <td>{'oembed': {'author_name': 'Theory All Inclusi...</td>\n",
       "      <td>{'content': '&amp;lt;iframe width=\"267\" height=\"20...</td>\n",
       "      <td>105.0</td>\n",
       "      <td>140.0</td>\n",
       "      <td>https://youtu.be/BVG5IDeV8yA</td>\n",
       "      <td>NaN</td>\n",
       "      <td>NaN</td>\n",
       "      <td>NaN</td>\n",
       "      <td>NaN</td>\n",
       "      <td>NaN</td>\n",
       "    </tr>\n",
       "    <tr>\n",
       "      <th>3</th>\n",
       "      <td>[]</td>\n",
       "      <td>False</td>\n",
       "      <td>Wookiesarepeopletoo_</td>\n",
       "      <td>None</td>\n",
       "      <td>[]</td>\n",
       "      <td>None</td>\n",
       "      <td>text</td>\n",
       "      <td>t2_k7cdau9f</td>\n",
       "      <td>False</td>\n",
       "      <td>False</td>\n",
       "      <td>...</td>\n",
       "      <td>NaN</td>\n",
       "      <td>NaN</td>\n",
       "      <td>NaN</td>\n",
       "      <td>NaN</td>\n",
       "      <td>NaN</td>\n",
       "      <td>moderator</td>\n",
       "      <td>NaN</td>\n",
       "      <td>NaN</td>\n",
       "      <td>NaN</td>\n",
       "      <td>NaN</td>\n",
       "    </tr>\n",
       "    <tr>\n",
       "      <th>4</th>\n",
       "      <td>[]</td>\n",
       "      <td>False</td>\n",
       "      <td>Theespacebaby</td>\n",
       "      <td>None</td>\n",
       "      <td>[]</td>\n",
       "      <td>None</td>\n",
       "      <td>text</td>\n",
       "      <td>t2_dkvjlgue</td>\n",
       "      <td>False</td>\n",
       "      <td>False</td>\n",
       "      <td>...</td>\n",
       "      <td>NaN</td>\n",
       "      <td>NaN</td>\n",
       "      <td>NaN</td>\n",
       "      <td>NaN</td>\n",
       "      <td>NaN</td>\n",
       "      <td>NaN</td>\n",
       "      <td>NaN</td>\n",
       "      <td>NaN</td>\n",
       "      <td>NaN</td>\n",
       "      <td>NaN</td>\n",
       "    </tr>\n",
       "  </tbody>\n",
       "</table>\n",
       "<p>5 rows × 76 columns</p>\n",
       "</div>"
      ],
      "text/plain": [
       "  all_awardings  allow_live_comments                author  \\\n",
       "0            []                False  knowledgeCaterpillar   \n",
       "1            []                False              opism_ex   \n",
       "2            []                False         Dan_Vasilache   \n",
       "3            []                False  Wookiesarepeopletoo_   \n",
       "4            []                False         Theespacebaby   \n",
       "\n",
       "  author_flair_css_class author_flair_richtext author_flair_text  \\\n",
       "0                   None                    []              None   \n",
       "1                   None                    []              None   \n",
       "2                   None                    []              None   \n",
       "3                   None                    []              None   \n",
       "4                   None                    []              None   \n",
       "\n",
       "  author_flair_type author_fullname  author_is_blocked  author_patreon_flair  \\\n",
       "0              text     t2_ahp8jfc6              False                 False   \n",
       "1              text     t2_etd6haf9              False                 False   \n",
       "2              text     t2_be6uhfsv              False                 False   \n",
       "3              text     t2_k7cdau9f              False                 False   \n",
       "4              text     t2_dkvjlgue              False                 False   \n",
       "\n",
       "   ...                                       secure_media  \\\n",
       "0  ...                                                NaN   \n",
       "1  ...                                                NaN   \n",
       "2  ...  {'oembed': {'author_name': 'Theory All Inclusi...   \n",
       "3  ...                                                NaN   \n",
       "4  ...                                                NaN   \n",
       "\n",
       "                                  secure_media_embed  thumbnail_height  \\\n",
       "0                                                NaN               NaN   \n",
       "1                                                NaN               NaN   \n",
       "2  {'content': '&lt;iframe width=\"267\" height=\"20...             105.0   \n",
       "3                                                NaN               NaN   \n",
       "4                                                NaN               NaN   \n",
       "\n",
       "   thumbnail_width        url_overridden_by_dest removed_by_category  \\\n",
       "0              NaN                           NaN                 NaN   \n",
       "1              NaN                           NaN                 NaN   \n",
       "2            140.0  https://youtu.be/BVG5IDeV8yA                 NaN   \n",
       "3              NaN                           NaN           moderator   \n",
       "4              NaN                           NaN                 NaN   \n",
       "\n",
       "  author_flair_template_id author_flair_text_color is_gallery  media_metadata  \n",
       "0                      NaN                     NaN        NaN             NaN  \n",
       "1                      NaN                     NaN        NaN             NaN  \n",
       "2                      NaN                     NaN        NaN             NaN  \n",
       "3                      NaN                     NaN        NaN             NaN  \n",
       "4                      NaN                     NaN        NaN             NaN  \n",
       "\n",
       "[5 rows x 76 columns]"
      ]
     },
     "execution_count": 694,
     "metadata": {},
     "output_type": "execute_result"
    }
   ],
   "source": [
    "base_df_aliens.head()"
   ]
  },
  {
   "cell_type": "code",
   "execution_count": 695,
   "id": "8e7892e3",
   "metadata": {},
   "outputs": [
    {
     "data": {
      "text/html": [
       "<div>\n",
       "<style scoped>\n",
       "    .dataframe tbody tr th:only-of-type {\n",
       "        vertical-align: middle;\n",
       "    }\n",
       "\n",
       "    .dataframe tbody tr th {\n",
       "        vertical-align: top;\n",
       "    }\n",
       "\n",
       "    .dataframe thead th {\n",
       "        text-align: right;\n",
       "    }\n",
       "</style>\n",
       "<table border=\"1\" class=\"dataframe\">\n",
       "  <thead>\n",
       "    <tr style=\"text-align: right;\">\n",
       "      <th></th>\n",
       "      <th>subreddit</th>\n",
       "      <th>selftext</th>\n",
       "      <th>title</th>\n",
       "      <th>created_utc</th>\n",
       "    </tr>\n",
       "  </thead>\n",
       "  <tbody>\n",
       "    <tr>\n",
       "      <th>0</th>\n",
       "      <td>aliens</td>\n",
       "      <td>I just woke up from a crazy alien dream! It st...</td>\n",
       "      <td>Aliens shot me with a subatomic particle beam ...</td>\n",
       "      <td>1646214399</td>\n",
       "    </tr>\n",
       "    <tr>\n",
       "      <th>1</th>\n",
       "      <td>aliens</td>\n",
       "      <td>I live in the south so we'll usually hear guns...</td>\n",
       "      <td>maybe an alien ?</td>\n",
       "      <td>1646213158</td>\n",
       "    </tr>\n",
       "    <tr>\n",
       "      <th>2</th>\n",
       "      <td>aliens</td>\n",
       "      <td></td>\n",
       "      <td>HUMAN-ALIEN hybrid lives in India! #Shorts</td>\n",
       "      <td>1646211873</td>\n",
       "    </tr>\n",
       "    <tr>\n",
       "      <th>3</th>\n",
       "      <td>aliens</td>\n",
       "      <td>[removed]</td>\n",
       "      <td>UFO sighting</td>\n",
       "      <td>1646207848</td>\n",
       "    </tr>\n",
       "    <tr>\n",
       "      <th>4</th>\n",
       "      <td>aliens</td>\n",
       "      <td>What are signs that someone’s been abducted? A...</td>\n",
       "      <td>Signs you’ve been abducted</td>\n",
       "      <td>1646205635</td>\n",
       "    </tr>\n",
       "  </tbody>\n",
       "</table>\n",
       "</div>"
      ],
      "text/plain": [
       "  subreddit                                           selftext  \\\n",
       "0    aliens  I just woke up from a crazy alien dream! It st...   \n",
       "1    aliens  I live in the south so we'll usually hear guns...   \n",
       "2    aliens                                                      \n",
       "3    aliens                                          [removed]   \n",
       "4    aliens  What are signs that someone’s been abducted? A...   \n",
       "\n",
       "                                               title  created_utc  \n",
       "0  Aliens shot me with a subatomic particle beam ...   1646214399  \n",
       "1                                   maybe an alien ?   1646213158  \n",
       "2         HUMAN-ALIEN hybrid lives in India! #Shorts   1646211873  \n",
       "3                                       UFO sighting   1646207848  \n",
       "4                         Signs you’ve been abducted   1646205635  "
      ]
     },
     "execution_count": 695,
     "metadata": {},
     "output_type": "execute_result"
    }
   ],
   "source": [
    "# Look at columns: subreddit, selftext (description), title\n",
    "base_df_aliens[['subreddit', 'selftext', 'title', 'created_utc']].head()"
   ]
  },
  {
   "cell_type": "markdown",
   "id": "4885d6d8",
   "metadata": {},
   "source": [
    "# Pulling the next 9900 posts"
   ]
  },
  {
   "cell_type": "code",
   "execution_count": 696,
   "id": "ab824eb4",
   "metadata": {},
   "outputs": [
    {
     "name": "stdout",
     "output_type": "stream",
     "text": [
      "(1100, 81)\n",
      "(2099, 81)\n"
     ]
    },
    {
     "data": {
      "text/plain": [
       "(2999, 84)"
      ]
     },
     "execution_count": 696,
     "metadata": {},
     "output_type": "execute_result"
    }
   ],
   "source": [
    "for i in range(29):\n",
    "    base_df_aliens = total_df(base_df_aliens, 'aliens', 'https://api.pushshift.io/reddit/search/submission')\n",
    "    \n",
    "    if i in [9 , 19, 29]:\n",
    "        print(base_df_aliens.shape)\n",
    "\n",
    "base_df_aliens.shape"
   ]
  },
  {
   "cell_type": "code",
   "execution_count": 697,
   "id": "24a2240a",
   "metadata": {},
   "outputs": [
    {
     "name": "stdout",
     "output_type": "stream",
     "text": [
      "(4599, 84)\n",
      "(6099, 85)\n"
     ]
    },
    {
     "data": {
      "text/plain": [
       "(6499, 85)"
      ]
     },
     "execution_count": 697,
     "metadata": {},
     "output_type": "execute_result"
    }
   ],
   "source": [
    "for i in range(35):\n",
    "    base_df_aliens = total_df(base_df_aliens, 'aliens', 'https://api.pushshift.io/reddit/search/submission')\n",
    "    \n",
    "    if i in [15, 30]:\n",
    "        print(base_df_aliens.shape)\n",
    "\n",
    "base_df_aliens.shape"
   ]
  },
  {
   "cell_type": "code",
   "execution_count": 698,
   "id": "05ef392d",
   "metadata": {},
   "outputs": [
    {
     "name": "stdout",
     "output_type": "stream",
     "text": [
      "(8097, 86)\n",
      "(9597, 86)\n"
     ]
    },
    {
     "data": {
      "text/plain": [
       "(9996, 86)"
      ]
     },
     "execution_count": 698,
     "metadata": {},
     "output_type": "execute_result"
    }
   ],
   "source": [
    "for i in range(35):\n",
    "    base_df_aliens = total_df(base_df_aliens, 'aliens', 'https://api.pushshift.io/reddit/search/submission')\n",
    "    \n",
    "    if i in [15, 30]:\n",
    "        print(base_df_aliens.shape)\n",
    "\n",
    "base_df_aliens.shape"
   ]
  },
  {
   "cell_type": "code",
   "execution_count": 699,
   "id": "29a0ffd4",
   "metadata": {},
   "outputs": [],
   "source": [
    "base_df_aliens.to_csv('./data/aliens_submissions.csv', index=False)"
   ]
  },
  {
   "cell_type": "markdown",
   "id": "593738b0",
   "metadata": {},
   "source": [
    "# Next steps\n",
    "In the next notebook, we will be cleaning, and preprocessing the data collected."
   ]
  },
  {
   "cell_type": "markdown",
   "id": "dcbb33b6",
   "metadata": {},
   "source": [
    "I have tried using praw to get more posts that was more stable as compared to Pushshift's reddit API, but I am only limited to 1000. "
   ]
  },
  {
   "cell_type": "code",
   "execution_count": 8,
   "id": "1b590f8f",
   "metadata": {},
   "outputs": [],
   "source": [
    "import praw\n",
    "\n",
    "user_agent = 'Scraper 1.0 Awong'\n",
    "reddit = praw.Reddit(\n",
    "    client_id = \"_eY_nsv4fwA_yjBdHkvMtA\",\n",
    "    client_secret = \"VU3ru74cfNczJdWpmrgGhQUnl9TtzQ\",\n",
    "    user_agent=user_agent\n",
    "\n",
    ")\n"
   ]
  },
  {
   "cell_type": "code",
   "execution_count": 11,
   "id": "d12a821c",
   "metadata": {},
   "outputs": [],
   "source": [
    "posts = []\n",
    "\n",
    "aliens_subreddit = reddit.subreddit('aliens')\n",
    "\n",
    "for post in aliens_subreddit.new(limit=10000):\n",
    "    posts.append([post.subreddit, post.title, post.selftext, post.id, post.score, post.distinguished,\n",
    "                  post.created_utc, post.num_comments, post.upvote_ratio])\n",
    "posts = pd.DataFrame(posts,columns=['subreddit', 'title', 'selftext', 'id', 'score', 'distinguished','createdutc',\n",
    "                                    'num_comments', 'upvoteratio'])\n"
   ]
  },
  {
   "cell_type": "code",
   "execution_count": 12,
   "id": "dc88bb43",
   "metadata": {},
   "outputs": [
    {
     "data": {
      "text/plain": [
       "(951, 9)"
      ]
     },
     "execution_count": 12,
     "metadata": {},
     "output_type": "execute_result"
    }
   ],
   "source": [
    "posts.shape"
   ]
  },
  {
   "cell_type": "code",
   "execution_count": 13,
   "id": "3125a026",
   "metadata": {},
   "outputs": [
    {
     "data": {
      "text/html": [
       "<div>\n",
       "<style scoped>\n",
       "    .dataframe tbody tr th:only-of-type {\n",
       "        vertical-align: middle;\n",
       "    }\n",
       "\n",
       "    .dataframe tbody tr th {\n",
       "        vertical-align: top;\n",
       "    }\n",
       "\n",
       "    .dataframe thead th {\n",
       "        text-align: right;\n",
       "    }\n",
       "</style>\n",
       "<table border=\"1\" class=\"dataframe\">\n",
       "  <thead>\n",
       "    <tr style=\"text-align: right;\">\n",
       "      <th></th>\n",
       "      <th>subreddit</th>\n",
       "      <th>title</th>\n",
       "      <th>selftext</th>\n",
       "      <th>id</th>\n",
       "      <th>score</th>\n",
       "      <th>distinguished</th>\n",
       "      <th>createdutc</th>\n",
       "      <th>num_comments</th>\n",
       "      <th>upvoteratio</th>\n",
       "    </tr>\n",
       "  </thead>\n",
       "  <tbody>\n",
       "    <tr>\n",
       "      <th>0</th>\n",
       "      <td>aliens</td>\n",
       "      <td>RH negative Blood - thoughts from Rainbow and ...</td>\n",
       "      <td></td>\n",
       "      <td>t5fdzv</td>\n",
       "      <td>1</td>\n",
       "      <td>None</td>\n",
       "      <td>1.646270e+09</td>\n",
       "      <td>5</td>\n",
       "      <td>0.57</td>\n",
       "    </tr>\n",
       "    <tr>\n",
       "      <th>1</th>\n",
       "      <td>aliens</td>\n",
       "      <td>Possible alien found on shore in Australia?</td>\n",
       "      <td></td>\n",
       "      <td>t5eite</td>\n",
       "      <td>0</td>\n",
       "      <td>None</td>\n",
       "      <td>1.646267e+09</td>\n",
       "      <td>7</td>\n",
       "      <td>0.45</td>\n",
       "    </tr>\n",
       "    <tr>\n",
       "      <th>2</th>\n",
       "      <td>aliens</td>\n",
       "      <td>What do psychedelics have to do with aliens?</td>\n",
       "      <td>While sitting in the hot sun and grazing, many...</td>\n",
       "      <td>t5eckp</td>\n",
       "      <td>4</td>\n",
       "      <td>None</td>\n",
       "      <td>1.646267e+09</td>\n",
       "      <td>16</td>\n",
       "      <td>0.71</td>\n",
       "    </tr>\n",
       "    <tr>\n",
       "      <th>3</th>\n",
       "      <td>aliens</td>\n",
       "      <td>Any contactees? Phone a friend? :)</td>\n",
       "      <td>Hi all! Any ET contactees on here? I'm looking...</td>\n",
       "      <td>t5chy0</td>\n",
       "      <td>0</td>\n",
       "      <td>None</td>\n",
       "      <td>1.646262e+09</td>\n",
       "      <td>0</td>\n",
       "      <td>0.50</td>\n",
       "    </tr>\n",
       "    <tr>\n",
       "      <th>4</th>\n",
       "      <td>aliens</td>\n",
       "      <td>So how do you guys think a conversation would ...</td>\n",
       "      <td>In this hypothetical. If both men were to sit ...</td>\n",
       "      <td>t5b3il</td>\n",
       "      <td>0</td>\n",
       "      <td>None</td>\n",
       "      <td>1.646258e+09</td>\n",
       "      <td>18</td>\n",
       "      <td>0.38</td>\n",
       "    </tr>\n",
       "  </tbody>\n",
       "</table>\n",
       "</div>"
      ],
      "text/plain": [
       "  subreddit                                              title  \\\n",
       "0    aliens  RH negative Blood - thoughts from Rainbow and ...   \n",
       "1    aliens        Possible alien found on shore in Australia?   \n",
       "2    aliens       What do psychedelics have to do with aliens?   \n",
       "3    aliens                 Any contactees? Phone a friend? :)   \n",
       "4    aliens  So how do you guys think a conversation would ...   \n",
       "\n",
       "                                            selftext      id  score  \\\n",
       "0                                                     t5fdzv      1   \n",
       "1                                                     t5eite      0   \n",
       "2  While sitting in the hot sun and grazing, many...  t5eckp      4   \n",
       "3  Hi all! Any ET contactees on here? I'm looking...  t5chy0      0   \n",
       "4  In this hypothetical. If both men were to sit ...  t5b3il      0   \n",
       "\n",
       "  distinguished    createdutc  num_comments  upvoteratio  \n",
       "0          None  1.646270e+09             5         0.57  \n",
       "1          None  1.646267e+09             7         0.45  \n",
       "2          None  1.646267e+09            16         0.71  \n",
       "3          None  1.646262e+09             0         0.50  \n",
       "4          None  1.646258e+09            18         0.38  "
      ]
     },
     "execution_count": 13,
     "metadata": {},
     "output_type": "execute_result"
    }
   ],
   "source": [
    "posts.head()"
   ]
  },
  {
   "cell_type": "code",
   "execution_count": 14,
   "id": "20045ca9",
   "metadata": {},
   "outputs": [],
   "source": [
    "posts.to_csv('./data/aliens_1000.csv')"
   ]
  },
  {
   "cell_type": "code",
   "execution_count": 15,
   "id": "0f413def",
   "metadata": {},
   "outputs": [],
   "source": [
    "posts = []\n",
    "\n",
    "aliens_subreddit = reddit.subreddit('conspiracytheories')\n",
    "\n",
    "for post in aliens_subreddit.new(limit=10000):\n",
    "    posts.append([post.subreddit, post.title, post.selftext, post.id, post.score, post.distinguished,\n",
    "                  post.created_utc, post.num_comments, post.upvote_ratio])\n",
    "posts = pd.DataFrame(posts,columns=['subreddit', 'title', 'selftext', 'id', 'score', 'distinguished','createdutc',\n",
    "                                    'num_comments', 'upvoteratio'])\n"
   ]
  },
  {
   "cell_type": "code",
   "execution_count": 16,
   "id": "5d84ab6a",
   "metadata": {},
   "outputs": [
    {
     "data": {
      "text/plain": [
       "(891, 9)"
      ]
     },
     "execution_count": 16,
     "metadata": {},
     "output_type": "execute_result"
    }
   ],
   "source": [
    "posts.shape"
   ]
  },
  {
   "cell_type": "code",
   "execution_count": 17,
   "id": "eecc2fd5",
   "metadata": {},
   "outputs": [
    {
     "data": {
      "text/html": [
       "<div>\n",
       "<style scoped>\n",
       "    .dataframe tbody tr th:only-of-type {\n",
       "        vertical-align: middle;\n",
       "    }\n",
       "\n",
       "    .dataframe tbody tr th {\n",
       "        vertical-align: top;\n",
       "    }\n",
       "\n",
       "    .dataframe thead th {\n",
       "        text-align: right;\n",
       "    }\n",
       "</style>\n",
       "<table border=\"1\" class=\"dataframe\">\n",
       "  <thead>\n",
       "    <tr style=\"text-align: right;\">\n",
       "      <th></th>\n",
       "      <th>subreddit</th>\n",
       "      <th>title</th>\n",
       "      <th>selftext</th>\n",
       "      <th>id</th>\n",
       "      <th>score</th>\n",
       "      <th>distinguished</th>\n",
       "      <th>createdutc</th>\n",
       "      <th>num_comments</th>\n",
       "      <th>upvoteratio</th>\n",
       "    </tr>\n",
       "  </thead>\n",
       "  <tbody>\n",
       "    <tr>\n",
       "      <th>0</th>\n",
       "      <td>conspiracytheories</td>\n",
       "      <td>Is Putin Using Cannon Fodder Before The Real I...</td>\n",
       "      <td></td>\n",
       "      <td>t5h3e7</td>\n",
       "      <td>5</td>\n",
       "      <td>None</td>\n",
       "      <td>1.646275e+09</td>\n",
       "      <td>3</td>\n",
       "      <td>1.00</td>\n",
       "    </tr>\n",
       "    <tr>\n",
       "      <th>1</th>\n",
       "      <td>conspiracytheories</td>\n",
       "      <td>Is the Starlink Sattelites just the beginning ...</td>\n",
       "      <td>They have 1900 sattelites up there and more co...</td>\n",
       "      <td>t5ghie</td>\n",
       "      <td>0</td>\n",
       "      <td>None</td>\n",
       "      <td>1.646273e+09</td>\n",
       "      <td>4</td>\n",
       "      <td>0.33</td>\n",
       "    </tr>\n",
       "    <tr>\n",
       "      <th>2</th>\n",
       "      <td>conspiracytheories</td>\n",
       "      <td>The Great Russian Market Crash is just an insi...</td>\n",
       "      <td>I mean, think about it. Putin isn't an idiot, ...</td>\n",
       "      <td>t5g6s6</td>\n",
       "      <td>1</td>\n",
       "      <td>None</td>\n",
       "      <td>1.646272e+09</td>\n",
       "      <td>4</td>\n",
       "      <td>0.53</td>\n",
       "    </tr>\n",
       "    <tr>\n",
       "      <th>3</th>\n",
       "      <td>conspiracytheories</td>\n",
       "      <td>Prediction for what will happen in the world w...</td>\n",
       "      <td>\\n\\nI believe though the Ukrainians will put ...</td>\n",
       "      <td>t5fvgo</td>\n",
       "      <td>0</td>\n",
       "      <td>None</td>\n",
       "      <td>1.646272e+09</td>\n",
       "      <td>6</td>\n",
       "      <td>0.33</td>\n",
       "    </tr>\n",
       "    <tr>\n",
       "      <th>4</th>\n",
       "      <td>conspiracytheories</td>\n",
       "      <td>China Asked Russia to Delay Ukraine War Until ...</td>\n",
       "      <td></td>\n",
       "      <td>t5e8vx</td>\n",
       "      <td>1</td>\n",
       "      <td>None</td>\n",
       "      <td>1.646267e+09</td>\n",
       "      <td>0</td>\n",
       "      <td>0.67</td>\n",
       "    </tr>\n",
       "  </tbody>\n",
       "</table>\n",
       "</div>"
      ],
      "text/plain": [
       "            subreddit                                              title  \\\n",
       "0  conspiracytheories  Is Putin Using Cannon Fodder Before The Real I...   \n",
       "1  conspiracytheories  Is the Starlink Sattelites just the beginning ...   \n",
       "2  conspiracytheories  The Great Russian Market Crash is just an insi...   \n",
       "3  conspiracytheories  Prediction for what will happen in the world w...   \n",
       "4  conspiracytheories  China Asked Russia to Delay Ukraine War Until ...   \n",
       "\n",
       "                                            selftext      id  score  \\\n",
       "0                                                     t5h3e7      5   \n",
       "1  They have 1900 sattelites up there and more co...  t5ghie      0   \n",
       "2  I mean, think about it. Putin isn't an idiot, ...  t5g6s6      1   \n",
       "3   \\n\\nI believe though the Ukrainians will put ...  t5fvgo      0   \n",
       "4                                                     t5e8vx      1   \n",
       "\n",
       "  distinguished    createdutc  num_comments  upvoteratio  \n",
       "0          None  1.646275e+09             3         1.00  \n",
       "1          None  1.646273e+09             4         0.33  \n",
       "2          None  1.646272e+09             4         0.53  \n",
       "3          None  1.646272e+09             6         0.33  \n",
       "4          None  1.646267e+09             0         0.67  "
      ]
     },
     "execution_count": 17,
     "metadata": {},
     "output_type": "execute_result"
    }
   ],
   "source": [
    "posts.head()"
   ]
  },
  {
   "cell_type": "code",
   "execution_count": 18,
   "id": "f0ffbec1",
   "metadata": {},
   "outputs": [],
   "source": [
    "posts.to_csv('./data/ct_1000.csv')"
   ]
  }
 ],
 "metadata": {
  "kernelspec": {
   "display_name": "Python 3",
   "language": "python",
   "name": "python3"
  },
  "language_info": {
   "codemirror_mode": {
    "name": "ipython",
    "version": 3
   },
   "file_extension": ".py",
   "mimetype": "text/x-python",
   "name": "python",
   "nbconvert_exporter": "python",
   "pygments_lexer": "ipython3",
   "version": "3.8.8"
  }
 },
 "nbformat": 4,
 "nbformat_minor": 5
}
