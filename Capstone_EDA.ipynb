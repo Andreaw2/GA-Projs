{
  "nbformat": 4,
  "nbformat_minor": 0,
  "metadata": {
    "colab": {
      "name": "Capstone EDA",
      "provenance": [],
      "authorship_tag": "ABX9TyPRtDPmYxq8v3TclaWyAPhi",
      "include_colab_link": true
    },
    "kernelspec": {
      "name": "python3",
      "display_name": "Python 3"
    },
    "language_info": {
      "name": "python"
    }
  },
  "cells": [
    {
      "cell_type": "markdown",
      "metadata": {
        "id": "view-in-github",
        "colab_type": "text"
      },
      "source": [
        "<a href=\"https://colab.research.google.com/github/Andreaw2/GA-Projs/blob/main/Capstone_EDA.ipynb\" target=\"_parent\"><img src=\"https://colab.research.google.com/assets/colab-badge.svg\" alt=\"Open In Colab\"/></a>"
      ]
    },
    {
      "cell_type": "markdown",
      "source": [
        "# Signature Forgery Detection\n",
        "\n",
        "## Despite widespread digitalisation in the financial industry, there are still certain transactions that require the use of signatures as a primary way of authenticating a transaction. Signing cheques, authorising documents and contracts, approving purchases are some business activities that usually require signatures. \n",
        "\n",
        "## How are we able to navigate the risks involved with signature forgery? Especially if the signatures are use as authentication for high-valued transactions. Manual signature verification methods are also generally dependent on humna factors and may be prone to errors including expertise or mood. \n",
        "\n",
        "\n",
        "## In this capstone, I will be exploring the use of neural networks in classifying whether a signature is genuine or forged. The focus of this project would be on offline handwritten signatures. The goal of the project is to limit both type I and Type II errors. Type I error refer to mistakenly identifying a genuine signature wrongly, leading to a negative impact on customer satisfaction. Type II error refers to wrongly identifying a forged signature, leading to financial loss and a negative impact on reputation as well. \n"
      ],
      "metadata": {
        "id": "Y5bEllkkZchp"
      }
    },
    {
      "cell_type": "markdown",
      "source": [
        "# Data Collection \n",
        "\n",
        "## Train and test dataset of genuine and forgery signatures from various individuals have been collected from Kaggle. The dataset was extracted from ICDAR 2011 Signature Dataset containing signatures from dutch users. "
      ],
      "metadata": {
        "id": "Z-KdxS2JZ0Wq"
      }
    },
    {
      "cell_type": "code",
      "source": [
        "import os\n",
        "import glob\n",
        "import datetime\n",
        "import re\n",
        "import pandas as pd\n",
        "import numpy as np\n",
        "import pandas as pd\n",
        "import seaborn as sns\n",
        "import matplotlib.pyplot as plt\n",
        "import matplotlib.image as mpimg\n",
        "%matplotlib inline\n",
        "import tensorflow as tf\n",
        "import cv2\n",
        "from tensorflow.keras.layers import Input, Lambda, MaxPooling2D, BatchNormalization, Dense, Flatten, Activation,Convolution2D\n",
        "from tensorflow.keras.models import Sequential, Model\n",
        "from tensorflow.keras import optimizers\n",
        "from tensorflow.keras.utils import plot_model\n",
        "from tensorflow.keras import backend as K\n",
        "from tensorflow.keras.utils import to_categorical\n",
        "import os\n",
        "from tensorflow.keras.losses import Loss\n",
        "from keras_preprocessing import image\n",
        "from sklearn.utils import shuffle\n",
        "from tensorflow.keras.callbacks import EarlyStopping\n",
        "from pathlib import Path"
      ],
      "metadata": {
        "id": "DV4Ds5dcL0qj"
      },
      "execution_count": null,
      "outputs": []
    },
    {
      "cell_type": "code",
      "source": [
        "! pip install -q kaggle"
      ],
      "metadata": {
        "id": "FRdI5zkQL0oL"
      },
      "execution_count": null,
      "outputs": []
    },
    {
      "cell_type": "code",
      "source": [
        "! chmod 600 ~/.kaggle/kaggle.json"
      ],
      "metadata": {
        "id": "SToVxu0GL0jG"
      },
      "execution_count": null,
      "outputs": []
    },
    {
      "cell_type": "code",
      "source": [
        "! cp kaggle.json ~/.kaggle/"
      ],
      "metadata": {
        "id": "XNTuDEiKL0lh"
      },
      "execution_count": null,
      "outputs": []
    },
    {
      "cell_type": "code",
      "source": [
        "! kaggle datasets download 'robinreni/signature-verification-dataset/versions/2?resource=download' -p sign --unzip"
      ],
      "metadata": {
        "colab": {
          "base_uri": "https://localhost:8080/"
        },
        "id": "I2xo2gGRL0gF",
        "outputId": "a7e83409-d769-4a90-be0a-cde41bdf3352"
      },
      "execution_count": null,
      "outputs": [
        {
          "output_type": "stream",
          "name": "stdout",
          "text": [
            "Downloading signature-verification-dataset.zip to sign\n",
            " 97% 585M/601M [00:04<00:00, 153MB/s]\n",
            "100% 601M/601M [00:04<00:00, 141MB/s]\n"
          ]
        }
      ]
    },
    {
      "cell_type": "code",
      "source": [
        "!ls"
      ],
      "metadata": {
        "colab": {
          "base_uri": "https://localhost:8080/"
        },
        "id": "yl7bY2ipL0dO",
        "outputId": "551f9285-9ec3-4062-9469-4b67a5723dfa"
      },
      "execution_count": null,
      "outputs": [
        {
          "output_type": "stream",
          "name": "stdout",
          "text": [
            "kaggle.json  sample_data  sign\n"
          ]
        }
      ]
    },
    {
      "cell_type": "code",
      "source": [
        "import zipfile\n",
        "for file in os.listdir():\n",
        "    if file.endswith(\".zip\"):\n",
        "        with zipfile.ZipFile(file, \"r\") as zip_file:\n",
        "            zip_file.extractall()\n",
        "        os.remove(file)"
      ],
      "metadata": {
        "id": "2KKeDCYGL0VK"
      },
      "execution_count": null,
      "outputs": []
    },
    {
      "cell_type": "code",
      "source": [
        "os.listdir() #list directories and files "
      ],
      "metadata": {
        "colab": {
          "base_uri": "https://localhost:8080/"
        },
        "id": "-soys1NdMLQH",
        "outputId": "b3afcec8-4f39-498f-983d-2db63ae4be0c"
      },
      "execution_count": null,
      "outputs": [
        {
          "output_type": "execute_result",
          "data": {
            "text/plain": [
              "['.config', 'kaggle.json', 'sign', 'sample_data']"
            ]
          },
          "metadata": {},
          "execution_count": 10
        }
      ]
    },
    {
      "cell_type": "code",
      "source": [
        "col_name = ['image1','image2','label']\n",
        "df_train=pd.read_csv('/content/sign/sign_data/train_data.csv', names = col_name)\n",
        "df_train.sample(10)"
      ],
      "metadata": {
        "colab": {
          "base_uri": "https://localhost:8080/",
          "height": 363
        },
        "id": "D_a7WztPMLNg",
        "outputId": "a2f1071b-5cb6-481c-b198-375df40ed186"
      },
      "execution_count": null,
      "outputs": [
        {
          "output_type": "execute_result",
          "data": {
            "text/plain": [
              "               image1                   image2  label\n",
              "14855  016/016_05.PNG           016/016_03.PNG      0\n",
              "14645  016/016_16.PNG  016_forg/0202016_03.png      1\n",
              "17     068/11_068.png  068_forg/01_0124068.PNG      1\n",
              "3084   058/11_058.png  058_forg/02_0125058.PNG      1\n",
              "9650   006/006_19.PNG           006/006_07.PNG      0\n",
              "833    047/01_047.png  047_forg/03_0212047.PNG      1\n",
              "21320  059/02_059.png           059/11_059.png      0\n",
              "12229  050/08_050.png           050/03_050.png      0\n",
              "11886  046/04_046.png  046_forg/03_0123046.PNG      1\n",
              "14925  016/016_09.PNG           016/016_02.PNG      0"
            ],
            "text/html": [
              "\n",
              "  <div id=\"df-c967fd71-36fc-483b-bb3d-d56a3bf1ae05\">\n",
              "    <div class=\"colab-df-container\">\n",
              "      <div>\n",
              "<style scoped>\n",
              "    .dataframe tbody tr th:only-of-type {\n",
              "        vertical-align: middle;\n",
              "    }\n",
              "\n",
              "    .dataframe tbody tr th {\n",
              "        vertical-align: top;\n",
              "    }\n",
              "\n",
              "    .dataframe thead th {\n",
              "        text-align: right;\n",
              "    }\n",
              "</style>\n",
              "<table border=\"1\" class=\"dataframe\">\n",
              "  <thead>\n",
              "    <tr style=\"text-align: right;\">\n",
              "      <th></th>\n",
              "      <th>image1</th>\n",
              "      <th>image2</th>\n",
              "      <th>label</th>\n",
              "    </tr>\n",
              "  </thead>\n",
              "  <tbody>\n",
              "    <tr>\n",
              "      <th>14855</th>\n",
              "      <td>016/016_05.PNG</td>\n",
              "      <td>016/016_03.PNG</td>\n",
              "      <td>0</td>\n",
              "    </tr>\n",
              "    <tr>\n",
              "      <th>14645</th>\n",
              "      <td>016/016_16.PNG</td>\n",
              "      <td>016_forg/0202016_03.png</td>\n",
              "      <td>1</td>\n",
              "    </tr>\n",
              "    <tr>\n",
              "      <th>17</th>\n",
              "      <td>068/11_068.png</td>\n",
              "      <td>068_forg/01_0124068.PNG</td>\n",
              "      <td>1</td>\n",
              "    </tr>\n",
              "    <tr>\n",
              "      <th>3084</th>\n",
              "      <td>058/11_058.png</td>\n",
              "      <td>058_forg/02_0125058.PNG</td>\n",
              "      <td>1</td>\n",
              "    </tr>\n",
              "    <tr>\n",
              "      <th>9650</th>\n",
              "      <td>006/006_19.PNG</td>\n",
              "      <td>006/006_07.PNG</td>\n",
              "      <td>0</td>\n",
              "    </tr>\n",
              "    <tr>\n",
              "      <th>833</th>\n",
              "      <td>047/01_047.png</td>\n",
              "      <td>047_forg/03_0212047.PNG</td>\n",
              "      <td>1</td>\n",
              "    </tr>\n",
              "    <tr>\n",
              "      <th>21320</th>\n",
              "      <td>059/02_059.png</td>\n",
              "      <td>059/11_059.png</td>\n",
              "      <td>0</td>\n",
              "    </tr>\n",
              "    <tr>\n",
              "      <th>12229</th>\n",
              "      <td>050/08_050.png</td>\n",
              "      <td>050/03_050.png</td>\n",
              "      <td>0</td>\n",
              "    </tr>\n",
              "    <tr>\n",
              "      <th>11886</th>\n",
              "      <td>046/04_046.png</td>\n",
              "      <td>046_forg/03_0123046.PNG</td>\n",
              "      <td>1</td>\n",
              "    </tr>\n",
              "    <tr>\n",
              "      <th>14925</th>\n",
              "      <td>016/016_09.PNG</td>\n",
              "      <td>016/016_02.PNG</td>\n",
              "      <td>0</td>\n",
              "    </tr>\n",
              "  </tbody>\n",
              "</table>\n",
              "</div>\n",
              "      <button class=\"colab-df-convert\" onclick=\"convertToInteractive('df-c967fd71-36fc-483b-bb3d-d56a3bf1ae05')\"\n",
              "              title=\"Convert this dataframe to an interactive table.\"\n",
              "              style=\"display:none;\">\n",
              "        \n",
              "  <svg xmlns=\"http://www.w3.org/2000/svg\" height=\"24px\"viewBox=\"0 0 24 24\"\n",
              "       width=\"24px\">\n",
              "    <path d=\"M0 0h24v24H0V0z\" fill=\"none\"/>\n",
              "    <path d=\"M18.56 5.44l.94 2.06.94-2.06 2.06-.94-2.06-.94-.94-2.06-.94 2.06-2.06.94zm-11 1L8.5 8.5l.94-2.06 2.06-.94-2.06-.94L8.5 2.5l-.94 2.06-2.06.94zm10 10l.94 2.06.94-2.06 2.06-.94-2.06-.94-.94-2.06-.94 2.06-2.06.94z\"/><path d=\"M17.41 7.96l-1.37-1.37c-.4-.4-.92-.59-1.43-.59-.52 0-1.04.2-1.43.59L10.3 9.45l-7.72 7.72c-.78.78-.78 2.05 0 2.83L4 21.41c.39.39.9.59 1.41.59.51 0 1.02-.2 1.41-.59l7.78-7.78 2.81-2.81c.8-.78.8-2.07 0-2.86zM5.41 20L4 18.59l7.72-7.72 1.47 1.35L5.41 20z\"/>\n",
              "  </svg>\n",
              "      </button>\n",
              "      \n",
              "  <style>\n",
              "    .colab-df-container {\n",
              "      display:flex;\n",
              "      flex-wrap:wrap;\n",
              "      gap: 12px;\n",
              "    }\n",
              "\n",
              "    .colab-df-convert {\n",
              "      background-color: #E8F0FE;\n",
              "      border: none;\n",
              "      border-radius: 50%;\n",
              "      cursor: pointer;\n",
              "      display: none;\n",
              "      fill: #1967D2;\n",
              "      height: 32px;\n",
              "      padding: 0 0 0 0;\n",
              "      width: 32px;\n",
              "    }\n",
              "\n",
              "    .colab-df-convert:hover {\n",
              "      background-color: #E2EBFA;\n",
              "      box-shadow: 0px 1px 2px rgba(60, 64, 67, 0.3), 0px 1px 3px 1px rgba(60, 64, 67, 0.15);\n",
              "      fill: #174EA6;\n",
              "    }\n",
              "\n",
              "    [theme=dark] .colab-df-convert {\n",
              "      background-color: #3B4455;\n",
              "      fill: #D2E3FC;\n",
              "    }\n",
              "\n",
              "    [theme=dark] .colab-df-convert:hover {\n",
              "      background-color: #434B5C;\n",
              "      box-shadow: 0px 1px 3px 1px rgba(0, 0, 0, 0.15);\n",
              "      filter: drop-shadow(0px 1px 2px rgba(0, 0, 0, 0.3));\n",
              "      fill: #FFFFFF;\n",
              "    }\n",
              "  </style>\n",
              "\n",
              "      <script>\n",
              "        const buttonEl =\n",
              "          document.querySelector('#df-c967fd71-36fc-483b-bb3d-d56a3bf1ae05 button.colab-df-convert');\n",
              "        buttonEl.style.display =\n",
              "          google.colab.kernel.accessAllowed ? 'block' : 'none';\n",
              "\n",
              "        async function convertToInteractive(key) {\n",
              "          const element = document.querySelector('#df-c967fd71-36fc-483b-bb3d-d56a3bf1ae05');\n",
              "          const dataTable =\n",
              "            await google.colab.kernel.invokeFunction('convertToInteractive',\n",
              "                                                     [key], {});\n",
              "          if (!dataTable) return;\n",
              "\n",
              "          const docLinkHtml = 'Like what you see? Visit the ' +\n",
              "            '<a target=\"_blank\" href=https://colab.research.google.com/notebooks/data_table.ipynb>data table notebook</a>'\n",
              "            + ' to learn more about interactive tables.';\n",
              "          element.innerHTML = '';\n",
              "          dataTable['output_type'] = 'display_data';\n",
              "          await google.colab.output.renderOutput(dataTable, element);\n",
              "          const docLink = document.createElement('div');\n",
              "          docLink.innerHTML = docLinkHtml;\n",
              "          element.appendChild(docLink);\n",
              "        }\n",
              "      </script>\n",
              "    </div>\n",
              "  </div>\n",
              "  "
            ]
          },
          "metadata": {},
          "execution_count": 74
        }
      ]
    },
    {
      "cell_type": "code",
      "source": [
        "base_dir = '/content/sign/sign_data/'\n",
        "\n",
        "test_dir = os.path.join(base_dir, 'test')\n",
        "test_csv = os.path.join(base_dir, 'test_data.csv')\n",
        "\n",
        "\n",
        "train_dir = os.path.join(base_dir, 'train')\n",
        "train_csv = os.path.join(base_dir, 'train_data.csv')"
      ],
      "metadata": {
        "id": "CN1nSGs1MLLB"
      },
      "execution_count": null,
      "outputs": []
    },
    {
      "cell_type": "markdown",
      "source": [
        "#Train Directory\n"
      ],
      "metadata": {
        "id": "uCM69dcENH-S"
      }
    },
    {
      "cell_type": "code",
      "source": [
        "filelist = [file for file in os.listdir(train_dir)]\n",
        "\n",
        "print(f\"There are {len(filelist)} subfolders in train directory\")\n"
      ],
      "metadata": {
        "colab": {
          "base_uri": "https://localhost:8080/"
        },
        "id": "MxH2-y2NPE2h",
        "outputId": "47ce0f5c-ae52-4147-9755-610b45815862"
      },
      "execution_count": null,
      "outputs": [
        {
          "output_type": "stream",
          "name": "stdout",
          "text": [
            "There are 128 subfolders in train directory\n"
          ]
        }
      ]
    },
    {
      "cell_type": "code",
      "source": [
        "subdir = []  ### filepath of each sub directory\n",
        "for x in filelist:\n",
        "  image_path = os.path.join(train_dir, x)\n",
        "  subdir.append(image_path)\n"
      ],
      "metadata": {
        "id": "zjbqnTtDRHBC"
      },
      "execution_count": null,
      "outputs": []
    },
    {
      "cell_type": "code",
      "source": [
        "sig_ind_train_genuine = []\n",
        "sig_ind_train_forge = []\n",
        "for x in subdir:\n",
        "  p=Path(x)\n",
        "  if \"forg\" not in x:\n",
        "    sig_ind_train_genuine.append(p.parts[5])\n",
        "  else:\n",
        "    sig_ind_train_forge.append(p.parts[5])\n",
        "\n",
        "print(f\"There are genuine signatures of {len(sig_ind_train_genuine)} individuals in the train dataset\")\n",
        "print(f\"There are forged signatures of {len(sig_ind_train_forge)} individuals in the train dataset\")"
      ],
      "metadata": {
        "colab": {
          "base_uri": "https://localhost:8080/"
        },
        "id": "6tiCrjuWSz59",
        "outputId": "c4a32eb6-9c9d-4a31-9b65-484e4fab145c"
      },
      "execution_count": null,
      "outputs": [
        {
          "output_type": "stream",
          "name": "stdout",
          "text": [
            "There are genuine signatures of 64 individuals in the train dataset\n",
            "There are forged signatures of 64 individuals in the train dataset\n"
          ]
        }
      ]
    },
    {
      "cell_type": "markdown",
      "source": [
        "###There are signatures from 64 individuals in the train dataset. Each individual is assigned a number, starting from 001 to 069. Some individuals are not included in the training dataset - 005, 007, 008, 010, 011.\n",
        "\n",
        "\n",
        "### Each individual has two folders, one folder with genuine signatures and another folder with forgery signatures, adding up to 128 subfolders in the train directory."
      ],
      "metadata": {
        "id": "Oc-71a8_T_TB"
      }
    },
    {
      "cell_type": "code",
      "source": [
        "png_count = 0 ##count of png images in train directory\n",
        "pngfnames = []\n",
        "\n",
        "\n",
        "for x in subdir:\n",
        "  path = os.listdir(x)\n",
        "  png_count += len(path)\n",
        "\n",
        "print(png_count)"
      ],
      "metadata": {
        "colab": {
          "base_uri": "https://localhost:8080/"
        },
        "id": "jZp1NXRLa_cv",
        "outputId": "e86ff816-bfb1-4c02-fc88-c1befe35728c"
      },
      "execution_count": null,
      "outputs": [
        {
          "output_type": "stream",
          "name": "stdout",
          "text": [
            "1649\n"
          ]
        }
      ]
    },
    {
      "cell_type": "code",
      "source": [
        "png = 0  # total files\n",
        "for dirpath, dirnames, filenames in os.walk(train_dir):\n",
        "    pngpath = []\n",
        "    N_c = len(filenames)\n",
        "    png += N_c\n",
        "\n",
        "    \n",
        "    pngpath.append(filenames)\n",
        "    print (\"File path:\", dirpath, \"no of png images:\", N_c)\n",
        "print (\"Total png files in train directory\",png)"
      ],
      "metadata": {
        "colab": {
          "base_uri": "https://localhost:8080/"
        },
        "id": "SLee6pp_xScM",
        "outputId": "c8d18cb0-86af-4edb-d963-821ab0fa30c3"
      },
      "execution_count": null,
      "outputs": [
        {
          "output_type": "stream",
          "name": "stdout",
          "text": [
            "File path: /content/sign/sign_data/train no of png images: 0\n",
            "File path: /content/sign/sign_data/train/032 no of png images: 12\n",
            "File path: /content/sign/sign_data/train/003_forg no of png images: 12\n",
            "File path: /content/sign/sign_data/train/060_forg no of png images: 12\n",
            "File path: /content/sign/sign_data/train/062 no of png images: 12\n",
            "File path: /content/sign/sign_data/train/058 no of png images: 12\n",
            "File path: /content/sign/sign_data/train/030_forg no of png images: 12\n",
            "File path: /content/sign/sign_data/train/055_forg no of png images: 12\n",
            "File path: /content/sign/sign_data/train/009_forg no of png images: 12\n",
            "File path: /content/sign/sign_data/train/053 no of png images: 12\n",
            "File path: /content/sign/sign_data/train/012 no of png images: 24\n",
            "File path: /content/sign/sign_data/train/036 no of png images: 12\n",
            "File path: /content/sign/sign_data/train/061_forg no of png images: 12\n",
            "File path: /content/sign/sign_data/train/001_forg no of png images: 8\n",
            "File path: /content/sign/sign_data/train/040_forg no of png images: 8\n",
            "File path: /content/sign/sign_data/train/022_forg no of png images: 16\n",
            "File path: /content/sign/sign_data/train/046_forg no of png images: 12\n",
            "File path: /content/sign/sign_data/train/052 no of png images: 12\n",
            "File path: /content/sign/sign_data/train/029_forg no of png images: 12\n",
            "File path: /content/sign/sign_data/train/057 no of png images: 12\n",
            "File path: /content/sign/sign_data/train/018 no of png images: 12\n",
            "File path: /content/sign/sign_data/train/047_forg no of png images: 12\n",
            "File path: /content/sign/sign_data/train/044_forg no of png images: 12\n",
            "File path: /content/sign/sign_data/train/033 no of png images: 12\n",
            "File path: /content/sign/sign_data/train/002_forg no of png images: 12\n",
            "File path: /content/sign/sign_data/train/014 no of png images: 24\n",
            "File path: /content/sign/sign_data/train/042 no of png images: 12\n",
            "File path: /content/sign/sign_data/train/009 no of png images: 24\n",
            "File path: /content/sign/sign_data/train/054_forg no of png images: 20\n",
            "File path: /content/sign/sign_data/train/045 no of png images: 12\n",
            "File path: /content/sign/sign_data/train/043_forg no of png images: 12\n",
            "File path: /content/sign/sign_data/train/059 no of png images: 12\n",
            "File path: /content/sign/sign_data/train/021_forg no of png images: 12\n",
            "File path: /content/sign/sign_data/train/038 no of png images: 12\n",
            "File path: /content/sign/sign_data/train/046 no of png images: 12\n",
            "File path: /content/sign/sign_data/train/025_forg no of png images: 8\n",
            "File path: /content/sign/sign_data/train/048 no of png images: 12\n",
            "File path: /content/sign/sign_data/train/034 no of png images: 12\n",
            "File path: /content/sign/sign_data/train/053_forg no of png images: 16\n",
            "File path: /content/sign/sign_data/train/014_forg no of png images: 16\n",
            "File path: /content/sign/sign_data/train/063_forg no of png images: 12\n",
            "File path: /content/sign/sign_data/train/065 no of png images: 12\n",
            "File path: /content/sign/sign_data/train/060 no of png images: 12\n",
            "File path: /content/sign/sign_data/train/065_forg no of png images: 8\n",
            "File path: /content/sign/sign_data/train/021 no of png images: 12\n",
            "File path: /content/sign/sign_data/train/061 no of png images: 12\n",
            "File path: /content/sign/sign_data/train/002 no of png images: 24\n",
            "File path: /content/sign/sign_data/train/043 no of png images: 12\n",
            "File path: /content/sign/sign_data/train/027_forg no of png images: 8\n",
            "File path: /content/sign/sign_data/train/039_forg no of png images: 12\n",
            "File path: /content/sign/sign_data/train/020 no of png images: 12\n",
            "File path: /content/sign/sign_data/train/016_forg no of png images: 16\n",
            "File path: /content/sign/sign_data/train/062_forg no of png images: 12\n",
            "File path: /content/sign/sign_data/train/031_forg no of png images: 8\n",
            "File path: /content/sign/sign_data/train/015_forg no of png images: 12\n",
            "File path: /content/sign/sign_data/train/066 no of png images: 12\n",
            "File path: /content/sign/sign_data/train/038_forg no of png images: 12\n",
            "File path: /content/sign/sign_data/train/024_forg no of png images: 12\n",
            "File path: /content/sign/sign_data/train/017_forg no of png images: 12\n",
            "File path: /content/sign/sign_data/train/006 no of png images: 24\n",
            "File path: /content/sign/sign_data/train/035 no of png images: 12\n",
            "File path: /content/sign/sign_data/train/045_forg no of png images: 12\n",
            "File path: /content/sign/sign_data/train/068 no of png images: 12\n",
            "File path: /content/sign/sign_data/train/004_forg no of png images: 11\n",
            "File path: /content/sign/sign_data/train/003 no of png images: 24\n",
            "File path: /content/sign/sign_data/train/029 no of png images: 12\n",
            "File path: /content/sign/sign_data/train/017 no of png images: 12\n",
            "File path: /content/sign/sign_data/train/032_forg no of png images: 12\n",
            "File path: /content/sign/sign_data/train/013_forg no of png images: 12\n",
            "File path: /content/sign/sign_data/train/069 no of png images: 12\n",
            "File path: /content/sign/sign_data/train/001 no of png images: 24\n",
            "File path: /content/sign/sign_data/train/026 no of png images: 12\n",
            "File path: /content/sign/sign_data/train/025 no of png images: 12\n",
            "File path: /content/sign/sign_data/train/040 no of png images: 12\n",
            "File path: /content/sign/sign_data/train/033_forg no of png images: 16\n",
            "File path: /content/sign/sign_data/train/028_forg no of png images: 12\n",
            "File path: /content/sign/sign_data/train/044 no of png images: 12\n",
            "File path: /content/sign/sign_data/train/022 no of png images: 12\n",
            "File path: /content/sign/sign_data/train/037_forg no of png images: 16\n",
            "File path: /content/sign/sign_data/train/020_forg no of png images: 19\n",
            "File path: /content/sign/sign_data/train/041_forg no of png images: 12\n",
            "File path: /content/sign/sign_data/train/055 no of png images: 12\n",
            "File path: /content/sign/sign_data/train/051 no of png images: 12\n",
            "File path: /content/sign/sign_data/train/039 no of png images: 12\n",
            "File path: /content/sign/sign_data/train/064_forg no of png images: 8\n",
            "File path: /content/sign/sign_data/train/058_forg no of png images: 16\n",
            "File path: /content/sign/sign_data/train/051_forg no of png images: 8\n",
            "File path: /content/sign/sign_data/train/006_forg no of png images: 12\n",
            "File path: /content/sign/sign_data/train/023 no of png images: 12\n",
            "File path: /content/sign/sign_data/train/037 no of png images: 12\n",
            "File path: /content/sign/sign_data/train/035_forg no of png images: 12\n",
            "File path: /content/sign/sign_data/train/056 no of png images: 12\n",
            "File path: /content/sign/sign_data/train/027 no of png images: 12\n",
            "File path: /content/sign/sign_data/train/026_forg no of png images: 12\n",
            "File path: /content/sign/sign_data/train/063 no of png images: 12\n",
            "File path: /content/sign/sign_data/train/057_forg no of png images: 12\n",
            "File path: /content/sign/sign_data/train/066_forg no of png images: 16\n",
            "File path: /content/sign/sign_data/train/052_forg no of png images: 16\n",
            "File path: /content/sign/sign_data/train/049_forg no of png images: 12\n",
            "File path: /content/sign/sign_data/train/048_forg no of png images: 8\n",
            "File path: /content/sign/sign_data/train/016 no of png images: 23\n",
            "File path: /content/sign/sign_data/train/018_forg no of png images: 12\n",
            "File path: /content/sign/sign_data/train/042_forg no of png images: 12\n",
            "File path: /content/sign/sign_data/train/028 no of png images: 12\n",
            "File path: /content/sign/sign_data/train/015 no of png images: 24\n",
            "File path: /content/sign/sign_data/train/012_forg no of png images: 12\n",
            "File path: /content/sign/sign_data/train/054 no of png images: 12\n",
            "File path: /content/sign/sign_data/train/068_forg no of png images: 8\n",
            "File path: /content/sign/sign_data/train/031 no of png images: 12\n",
            "File path: /content/sign/sign_data/train/069_forg no of png images: 12\n",
            "File path: /content/sign/sign_data/train/013 no of png images: 12\n",
            "File path: /content/sign/sign_data/train/034_forg no of png images: 12\n",
            "File path: /content/sign/sign_data/train/067 no of png images: 12\n",
            "File path: /content/sign/sign_data/train/056_forg no of png images: 8\n",
            "File path: /content/sign/sign_data/train/024 no of png images: 12\n",
            "File path: /content/sign/sign_data/train/047 no of png images: 12\n",
            "File path: /content/sign/sign_data/train/067_forg no of png images: 8\n",
            "File path: /content/sign/sign_data/train/064 no of png images: 12\n",
            "File path: /content/sign/sign_data/train/050_forg no of png images: 12\n",
            "File path: /content/sign/sign_data/train/059_forg no of png images: 8\n",
            "File path: /content/sign/sign_data/train/019_forg no of png images: 12\n",
            "File path: /content/sign/sign_data/train/041 no of png images: 12\n",
            "File path: /content/sign/sign_data/train/036_forg no of png images: 12\n",
            "File path: /content/sign/sign_data/train/049 no of png images: 12\n",
            "File path: /content/sign/sign_data/train/023_forg no of png images: 8\n",
            "File path: /content/sign/sign_data/train/050 no of png images: 12\n",
            "File path: /content/sign/sign_data/train/030 no of png images: 12\n",
            "File path: /content/sign/sign_data/train/019 no of png images: 12\n",
            "File path: /content/sign/sign_data/train/004 no of png images: 24\n",
            "Total png files in train directory 1649\n"
          ]
        }
      ]
    },
    {
      "cell_type": "markdown",
      "source": [
        "###There are 1649 images in the 128 subfolders within the train directory"
      ],
      "metadata": {
        "id": "garFXH1PetIH"
      }
    },
    {
      "cell_type": "markdown",
      "source": [
        "#Sample Images - Train Directory"
      ],
      "metadata": {
        "id": "KK0Wf1REEHQ_"
      }
    },
    {
      "cell_type": "code",
      "source": [
        "train_file_name = []\n",
        "for path, subdirs, files in os.walk(train_dir):\n",
        "    for name in files:\n",
        "        train_file_name.append(os.path.join(path, name))\n",
        "train_file_name.sort()"
      ],
      "metadata": {
        "id": "NE9J-c-q1sCB"
      },
      "execution_count": null,
      "outputs": []
    },
    {
      "cell_type": "code",
      "source": [
        "subplott = train_file_name[12:37]"
      ],
      "metadata": {
        "id": "r8fdQi7O3LBh"
      },
      "execution_count": null,
      "outputs": []
    },
    {
      "cell_type": "code",
      "source": [
        "subplot_xlabels = []\n",
        "\n",
        "for x in subplott:\n",
        "  p = Path(x)\n",
        "  subplot_xlabels.append(p.parts[5:7])"
      ],
      "metadata": {
        "id": "QQPbfkz8CiQh"
      },
      "execution_count": null,
      "outputs": []
    },
    {
      "cell_type": "code",
      "source": [
        "train_images = []\n",
        "for x in train_file_name:\n",
        "  train_images.append(mpimg.imread(x))"
      ],
      "metadata": {
        "id": "0766E36_5y1V"
      },
      "execution_count": null,
      "outputs": []
    },
    {
      "cell_type": "code",
      "source": [
        "train_images_subplot = train_images[12:37]"
      ],
      "metadata": {
        "id": "0jg_qjcsI6Pb"
      },
      "execution_count": null,
      "outputs": []
    },
    {
      "cell_type": "code",
      "source": [
        "plt.figure(figsize=(15,15)) # specifying the overall grid size\n",
        "\n",
        "for i in range(25):\n",
        "    plt.subplot(5,5,i+1)    # the number of images in the grid is 5*5 (25)\n",
        "    plt.imshow(train_images_subplot[i])\n",
        "    plt.xlabel(subplot_xlabels[i])\n",
        "\n",
        "plt.show()"
      ],
      "metadata": {
        "colab": {
          "base_uri": "https://localhost:8080/",
          "height": 799
        },
        "id": "ZXmwwcBy_kLw",
        "outputId": "652dc640-664c-49c8-af11-bc4e086d9105"
      },
      "execution_count": null,
      "outputs": [
        {
          "output_type": "display_data",
          "data": {
            "text/plain": [
              "<Figure size 1080x1080 with 25 Axes>"
            ],
            "image/png": "[encoded data removed]"
          },
          "metadata": {
            "needs_background": "light"
          }
        }
      ]
    },
    {
      "cell_type": "markdown",
      "source": [
        ""
      ],
      "metadata": {
        "id": "iyXyJO2p351l"
      }
    },
    {
      "cell_type": "markdown",
      "source": [
        "### indiv, forged and genuine signature breakdown "
      ],
      "metadata": {
        "id": "SZrl68k9EQFw"
      }
    },
    {
      "cell_type": "code",
      "source": [
        "subdir.sort() \n",
        "subdir[:10]"
      ],
      "metadata": {
        "colab": {
          "base_uri": "https://localhost:8080/"
        },
        "id": "wIw1sGoOF2Ev",
        "outputId": "7a059c29-2d6c-413a-bc7b-d62b9a285cb6"
      },
      "execution_count": null,
      "outputs": [
        {
          "output_type": "execute_result",
          "data": {
            "text/plain": [
              "['/content/sign/sign_data/train/001',\n",
              " '/content/sign/sign_data/train/001_forg',\n",
              " '/content/sign/sign_data/train/002',\n",
              " '/content/sign/sign_data/train/002_forg',\n",
              " '/content/sign/sign_data/train/003',\n",
              " '/content/sign/sign_data/train/003_forg',\n",
              " '/content/sign/sign_data/train/004',\n",
              " '/content/sign/sign_data/train/004_forg',\n",
              " '/content/sign/sign_data/train/006',\n",
              " '/content/sign/sign_data/train/006_forg']"
            ]
          },
          "metadata": {},
          "execution_count": 87
        }
      ]
    },
    {
      "cell_type": "code",
      "source": [
        "train_file_name = []\n",
        "for path, subdirs, files in os.walk(train_dir):\n",
        "    for name in files:\n",
        "        train_file_name.append(os.path.join(path, name))\n"
      ],
      "metadata": {
        "id": "5hW5EO68GFLU"
      },
      "execution_count": null,
      "outputs": []
    },
    {
      "cell_type": "code",
      "source": [
        "train_file_name.sort()\n",
        "train_file_name[:10]"
      ],
      "metadata": {
        "colab": {
          "base_uri": "https://localhost:8080/"
        },
        "id": "xv7hbuy7GVlN",
        "outputId": "ce0def94-24ca-4506-af1a-786fe2f72611"
      },
      "execution_count": null,
      "outputs": [
        {
          "output_type": "execute_result",
          "data": {
            "text/plain": [
              "['/content/sign/sign_data/train/001/001_01.PNG',\n",
              " '/content/sign/sign_data/train/001/001_02.PNG',\n",
              " '/content/sign/sign_data/train/001/001_03.PNG',\n",
              " '/content/sign/sign_data/train/001/001_04.PNG',\n",
              " '/content/sign/sign_data/train/001/001_05.PNG',\n",
              " '/content/sign/sign_data/train/001/001_06.PNG',\n",
              " '/content/sign/sign_data/train/001/001_07.PNG',\n",
              " '/content/sign/sign_data/train/001/001_08.PNG',\n",
              " '/content/sign/sign_data/train/001/001_09.PNG',\n",
              " '/content/sign/sign_data/train/001/001_10.PNG']"
            ]
          },
          "metadata": {},
          "execution_count": 89
        }
      ]
    },
    {
      "cell_type": "code",
      "source": [
        "individual = []\n",
        "for x in train_file_name:\n",
        "  p=Path(x)\n",
        "  \n"
      ],
      "metadata": {
        "id": "jwIA2YMtOXJf"
      },
      "execution_count": null,
      "outputs": []
    },
    {
      "cell_type": "code",
      "source": [
        "p=Path(train_file_name[1])\n",
        "p"
      ],
      "metadata": {
        "colab": {
          "base_uri": "https://localhost:8080/"
        },
        "id": "9Jrkkr1gO5ja",
        "outputId": "52a6883f-5be6-4759-e8a1-30a3bc59fb27"
      },
      "execution_count": null,
      "outputs": [
        {
          "output_type": "execute_result",
          "data": {
            "text/plain": [
              "PosixPath('/content/sign/sign_data/train/001/001_02.PNG')"
            ]
          },
          "metadata": {},
          "execution_count": 91
        }
      ]
    },
    {
      "cell_type": "code",
      "source": [
        "p.parts[5]"
      ],
      "metadata": {
        "colab": {
          "base_uri": "https://localhost:8080/"
        },
        "id": "9m9zYS6hO5hV",
        "outputId": "c5288ee6-c305-44ba-e6ab-7f6f2e5473ad"
      },
      "execution_count": null,
      "outputs": [
        {
          "output_type": "execute_result",
          "data": {
            "text/plain": [
              "'001'"
            ],
            "application/vnd.google.colaboratory.intrinsic+json": {
              "type": "string"
            }
          },
          "metadata": {},
          "execution_count": 92
        }
      ]
    },
    {
      "cell_type": "code",
      "source": [
        "individuals_id_gen = []\n",
        "individuals_id_forge = []\n",
        "forge_counts = []\n",
        "gen_counts = []\n",
        "for x in train_file_name:\n",
        "  p=Path(x)\n",
        "  if 'forg' in x:\n",
        "    new_x = re.sub('\\D', '', p.parts[5])\n",
        "    individuals_id_forge.append(new_x)\n",
        "\n",
        "    forge_counts.append(p.parts[6])\n",
        "  else:\n",
        "    individuals_id_gen.append(p.parts[5])\n",
        "\n",
        "    gen_counts.append(p.parts[6])"
      ],
      "metadata": {
        "id": "KPoq5ysPO5eB"
      },
      "execution_count": null,
      "outputs": []
    },
    {
      "cell_type": "code",
      "source": [
        "len((individuals_id_gen))"
      ],
      "metadata": {
        "colab": {
          "base_uri": "https://localhost:8080/"
        },
        "id": "Tm9UNCZIPlFn",
        "outputId": "f8b1dd8b-e0d5-47ae-f821-ab6b50d40b00"
      },
      "execution_count": null,
      "outputs": [
        {
          "output_type": "execute_result",
          "data": {
            "text/plain": [
              "887"
            ]
          },
          "metadata": {},
          "execution_count": 94
        }
      ]
    },
    {
      "cell_type": "code",
      "source": [
        "len((gen_counts))"
      ],
      "metadata": {
        "colab": {
          "base_uri": "https://localhost:8080/"
        },
        "id": "7li3QXqUJx9m",
        "outputId": "a1262eae-5271-400d-9da2-fe8fea5131d4"
      },
      "execution_count": null,
      "outputs": [
        {
          "output_type": "execute_result",
          "data": {
            "text/plain": [
              "887"
            ]
          },
          "metadata": {},
          "execution_count": 95
        }
      ]
    },
    {
      "cell_type": "code",
      "source": [
        "df_genuine = pd.DataFrame()"
      ],
      "metadata": {
        "id": "givHtcBBKIP0"
      },
      "execution_count": null,
      "outputs": []
    },
    {
      "cell_type": "code",
      "source": [
        "df_genuine['indiv_id'] = individuals_id_gen"
      ],
      "metadata": {
        "id": "BpWUbtrBKbKW"
      },
      "execution_count": null,
      "outputs": []
    },
    {
      "cell_type": "code",
      "source": [
        "df_genuine['file_name'] = gen_counts"
      ],
      "metadata": {
        "id": "gaKae0_4KsVP"
      },
      "execution_count": null,
      "outputs": []
    },
    {
      "cell_type": "code",
      "source": [
        "df_genuine['genuine'] = 1"
      ],
      "metadata": {
        "id": "8Pa3_550LSVD"
      },
      "execution_count": null,
      "outputs": []
    },
    {
      "cell_type": "code",
      "source": [
        "df_genuine.head()\n"
      ],
      "metadata": {
        "colab": {
          "base_uri": "https://localhost:8080/"
        },
        "id": "AWrJaiAVTqgJ",
        "outputId": "c83c4020-ef07-4f5a-ea74-9671edf81cdb"
      },
      "execution_count": null,
      "outputs": [
        {
          "output_type": "execute_result",
          "data": {
            "text/plain": [
              "  indiv_id   file_name  genuine\n",
              "0      001  001_01.PNG        1\n",
              "1      001  001_02.PNG        1\n",
              "2      001  001_03.PNG        1\n",
              "3      001  001_04.PNG        1\n",
              "4      001  001_05.PNG        1"
            ],
            "text/html": [
              "\n",
              "  <div id=\"df-a4199ca0-65db-403f-affe-1e274b0c71ec\">\n",
              "    <div class=\"colab-df-container\">\n",
              "      <div>\n",
              "<style scoped>\n",
              "    .dataframe tbody tr th:only-of-type {\n",
              "        vertical-align: middle;\n",
              "    }\n",
              "\n",
              "    .dataframe tbody tr th {\n",
              "        vertical-align: top;\n",
              "    }\n",
              "\n",
              "    .dataframe thead th {\n",
              "        text-align: right;\n",
              "    }\n",
              "</style>\n",
              "<table border=\"1\" class=\"dataframe\">\n",
              "  <thead>\n",
              "    <tr style=\"text-align: right;\">\n",
              "      <th></th>\n",
              "      <th>indiv_id</th>\n",
              "      <th>file_name</th>\n",
              "      <th>genuine</th>\n",
              "    </tr>\n",
              "  </thead>\n",
              "  <tbody>\n",
              "    <tr>\n",
              "      <th>0</th>\n",
              "      <td>001</td>\n",
              "      <td>001_01.PNG</td>\n",
              "      <td>1</td>\n",
              "    </tr>\n",
              "    <tr>\n",
              "      <th>1</th>\n",
              "      <td>001</td>\n",
              "      <td>001_02.PNG</td>\n",
              "      <td>1</td>\n",
              "    </tr>\n",
              "    <tr>\n",
              "      <th>2</th>\n",
              "      <td>001</td>\n",
              "      <td>001_03.PNG</td>\n",
              "      <td>1</td>\n",
              "    </tr>\n",
              "    <tr>\n",
              "      <th>3</th>\n",
              "      <td>001</td>\n",
              "      <td>001_04.PNG</td>\n",
              "      <td>1</td>\n",
              "    </tr>\n",
              "    <tr>\n",
              "      <th>4</th>\n",
              "      <td>001</td>\n",
              "      <td>001_05.PNG</td>\n",
              "      <td>1</td>\n",
              "    </tr>\n",
              "  </tbody>\n",
              "</table>\n",
              "</div>\n",
              "      <button class=\"colab-df-convert\" onclick=\"convertToInteractive('df-a4199ca0-65db-403f-affe-1e274b0c71ec')\"\n",
              "              title=\"Convert this dataframe to an interactive table.\"\n",
              "              style=\"display:none;\">\n",
              "        \n",
              "  <svg xmlns=\"http://www.w3.org/2000/svg\" height=\"24px\"viewBox=\"0 0 24 24\"\n",
              "       width=\"24px\">\n",
              "    <path d=\"M0 0h24v24H0V0z\" fill=\"none\"/>\n",
              "    <path d=\"M18.56 5.44l.94 2.06.94-2.06 2.06-.94-2.06-.94-.94-2.06-.94 2.06-2.06.94zm-11 1L8.5 8.5l.94-2.06 2.06-.94-2.06-.94L8.5 2.5l-.94 2.06-2.06.94zm10 10l.94 2.06.94-2.06 2.06-.94-2.06-.94-.94-2.06-.94 2.06-2.06.94z\"/><path d=\"M17.41 7.96l-1.37-1.37c-.4-.4-.92-.59-1.43-.59-.52 0-1.04.2-1.43.59L10.3 9.45l-7.72 7.72c-.78.78-.78 2.05 0 2.83L4 21.41c.39.39.9.59 1.41.59.51 0 1.02-.2 1.41-.59l7.78-7.78 2.81-2.81c.8-.78.8-2.07 0-2.86zM5.41 20L4 18.59l7.72-7.72 1.47 1.35L5.41 20z\"/>\n",
              "  </svg>\n",
              "      </button>\n",
              "      \n",
              "  <style>\n",
              "    .colab-df-container {\n",
              "      display:flex;\n",
              "      flex-wrap:wrap;\n",
              "      gap: 12px;\n",
              "    }\n",
              "\n",
              "    .colab-df-convert {\n",
              "      background-color: #E8F0FE;\n",
              "      border: none;\n",
              "      border-radius: 50%;\n",
              "      cursor: pointer;\n",
              "      display: none;\n",
              "      fill: #1967D2;\n",
              "      height: 32px;\n",
              "      padding: 0 0 0 0;\n",
              "      width: 32px;\n",
              "    }\n",
              "\n",
              "    .colab-df-convert:hover {\n",
              "      background-color: #E2EBFA;\n",
              "      box-shadow: 0px 1px 2px rgba(60, 64, 67, 0.3), 0px 1px 3px 1px rgba(60, 64, 67, 0.15);\n",
              "      fill: #174EA6;\n",
              "    }\n",
              "\n",
              "    [theme=dark] .colab-df-convert {\n",
              "      background-color: #3B4455;\n",
              "      fill: #D2E3FC;\n",
              "    }\n",
              "\n",
              "    [theme=dark] .colab-df-convert:hover {\n",
              "      background-color: #434B5C;\n",
              "      box-shadow: 0px 1px 3px 1px rgba(0, 0, 0, 0.15);\n",
              "      filter: drop-shadow(0px 1px 2px rgba(0, 0, 0, 0.3));\n",
              "      fill: #FFFFFF;\n",
              "    }\n",
              "  </style>\n",
              "\n",
              "      <script>\n",
              "        const buttonEl =\n",
              "          document.querySelector('#df-a4199ca0-65db-403f-affe-1e274b0c71ec button.colab-df-convert');\n",
              "        buttonEl.style.display =\n",
              "          google.colab.kernel.accessAllowed ? 'block' : 'none';\n",
              "\n",
              "        async function convertToInteractive(key) {\n",
              "          const element = document.querySelector('#df-a4199ca0-65db-403f-affe-1e274b0c71ec');\n",
              "          const dataTable =\n",
              "            await google.colab.kernel.invokeFunction('convertToInteractive',\n",
              "                                                     [key], {});\n",
              "          if (!dataTable) return;\n",
              "\n",
              "          const docLinkHtml = 'Like what you see? Visit the ' +\n",
              "            '<a target=\"_blank\" href=https://colab.research.google.com/notebooks/data_table.ipynb>data table notebook</a>'\n",
              "            + ' to learn more about interactive tables.';\n",
              "          element.innerHTML = '';\n",
              "          dataTable['output_type'] = 'display_data';\n",
              "          await google.colab.output.renderOutput(dataTable, element);\n",
              "          const docLink = document.createElement('div');\n",
              "          docLink.innerHTML = docLinkHtml;\n",
              "          element.appendChild(docLink);\n",
              "        }\n",
              "      </script>\n",
              "    </div>\n",
              "  </div>\n",
              "  "
            ]
          },
          "metadata": {},
          "execution_count": 100
        }
      ]
    },
    {
      "cell_type": "code",
      "source": [
        "df_forgery = pd.DataFrame()"
      ],
      "metadata": {
        "id": "0r1PqaJKLZQ_"
      },
      "execution_count": null,
      "outputs": []
    },
    {
      "cell_type": "code",
      "source": [
        "df_forgery['indiv_id'] = individuals_id_forge"
      ],
      "metadata": {
        "id": "9kfPba7TLnLv"
      },
      "execution_count": null,
      "outputs": []
    },
    {
      "cell_type": "code",
      "source": [
        "df_forgery['file_name'] = forge_counts"
      ],
      "metadata": {
        "id": "ZwLuTnb0LnCO"
      },
      "execution_count": null,
      "outputs": []
    },
    {
      "cell_type": "code",
      "source": [
        "df_forgery['genuine'] = 0"
      ],
      "metadata": {
        "id": "3zbx8_0ZLmzV"
      },
      "execution_count": null,
      "outputs": []
    },
    {
      "cell_type": "code",
      "source": [
        "df_genuine_updated = df_genuine.drop(['file_name'], axis = 1)"
      ],
      "metadata": {
        "id": "bntTo5-sMOg8"
      },
      "execution_count": null,
      "outputs": []
    },
    {
      "cell_type": "code",
      "source": [
        "df_genuine_updated.head()"
      ],
      "metadata": {
        "colab": {
          "base_uri": "https://localhost:8080/"
        },
        "id": "oDEuynbaMOWY",
        "outputId": "874f89f4-d85f-43fb-9f77-b82d5fa1acc9"
      },
      "execution_count": null,
      "outputs": [
        {
          "output_type": "execute_result",
          "data": {
            "text/plain": [
              "  indiv_id  genuine\n",
              "0      001        1\n",
              "1      001        1\n",
              "2      001        1\n",
              "3      001        1\n",
              "4      001        1"
            ],
            "text/html": [
              "\n",
              "  <div id=\"df-d1aa263e-041e-43ab-b269-d3d874a09132\">\n",
              "    <div class=\"colab-df-container\">\n",
              "      <div>\n",
              "<style scoped>\n",
              "    .dataframe tbody tr th:only-of-type {\n",
              "        vertical-align: middle;\n",
              "    }\n",
              "\n",
              "    .dataframe tbody tr th {\n",
              "        vertical-align: top;\n",
              "    }\n",
              "\n",
              "    .dataframe thead th {\n",
              "        text-align: right;\n",
              "    }\n",
              "</style>\n",
              "<table border=\"1\" class=\"dataframe\">\n",
              "  <thead>\n",
              "    <tr style=\"text-align: right;\">\n",
              "      <th></th>\n",
              "      <th>indiv_id</th>\n",
              "      <th>genuine</th>\n",
              "    </tr>\n",
              "  </thead>\n",
              "  <tbody>\n",
              "    <tr>\n",
              "      <th>0</th>\n",
              "      <td>001</td>\n",
              "      <td>1</td>\n",
              "    </tr>\n",
              "    <tr>\n",
              "      <th>1</th>\n",
              "      <td>001</td>\n",
              "      <td>1</td>\n",
              "    </tr>\n",
              "    <tr>\n",
              "      <th>2</th>\n",
              "      <td>001</td>\n",
              "      <td>1</td>\n",
              "    </tr>\n",
              "    <tr>\n",
              "      <th>3</th>\n",
              "      <td>001</td>\n",
              "      <td>1</td>\n",
              "    </tr>\n",
              "    <tr>\n",
              "      <th>4</th>\n",
              "      <td>001</td>\n",
              "      <td>1</td>\n",
              "    </tr>\n",
              "  </tbody>\n",
              "</table>\n",
              "</div>\n",
              "      <button class=\"colab-df-convert\" onclick=\"convertToInteractive('df-d1aa263e-041e-43ab-b269-d3d874a09132')\"\n",
              "              title=\"Convert this dataframe to an interactive table.\"\n",
              "              style=\"display:none;\">\n",
              "        \n",
              "  <svg xmlns=\"http://www.w3.org/2000/svg\" height=\"24px\"viewBox=\"0 0 24 24\"\n",
              "       width=\"24px\">\n",
              "    <path d=\"M0 0h24v24H0V0z\" fill=\"none\"/>\n",
              "    <path d=\"M18.56 5.44l.94 2.06.94-2.06 2.06-.94-2.06-.94-.94-2.06-.94 2.06-2.06.94zm-11 1L8.5 8.5l.94-2.06 2.06-.94-2.06-.94L8.5 2.5l-.94 2.06-2.06.94zm10 10l.94 2.06.94-2.06 2.06-.94-2.06-.94-.94-2.06-.94 2.06-2.06.94z\"/><path d=\"M17.41 7.96l-1.37-1.37c-.4-.4-.92-.59-1.43-.59-.52 0-1.04.2-1.43.59L10.3 9.45l-7.72 7.72c-.78.78-.78 2.05 0 2.83L4 21.41c.39.39.9.59 1.41.59.51 0 1.02-.2 1.41-.59l7.78-7.78 2.81-2.81c.8-.78.8-2.07 0-2.86zM5.41 20L4 18.59l7.72-7.72 1.47 1.35L5.41 20z\"/>\n",
              "  </svg>\n",
              "      </button>\n",
              "      \n",
              "  <style>\n",
              "    .colab-df-container {\n",
              "      display:flex;\n",
              "      flex-wrap:wrap;\n",
              "      gap: 12px;\n",
              "    }\n",
              "\n",
              "    .colab-df-convert {\n",
              "      background-color: #E8F0FE;\n",
              "      border: none;\n",
              "      border-radius: 50%;\n",
              "      cursor: pointer;\n",
              "      display: none;\n",
              "      fill: #1967D2;\n",
              "      height: 32px;\n",
              "      padding: 0 0 0 0;\n",
              "      width: 32px;\n",
              "    }\n",
              "\n",
              "    .colab-df-convert:hover {\n",
              "      background-color: #E2EBFA;\n",
              "      box-shadow: 0px 1px 2px rgba(60, 64, 67, 0.3), 0px 1px 3px 1px rgba(60, 64, 67, 0.15);\n",
              "      fill: #174EA6;\n",
              "    }\n",
              "\n",
              "    [theme=dark] .colab-df-convert {\n",
              "      background-color: #3B4455;\n",
              "      fill: #D2E3FC;\n",
              "    }\n",
              "\n",
              "    [theme=dark] .colab-df-convert:hover {\n",
              "      background-color: #434B5C;\n",
              "      box-shadow: 0px 1px 3px 1px rgba(0, 0, 0, 0.15);\n",
              "      filter: drop-shadow(0px 1px 2px rgba(0, 0, 0, 0.3));\n",
              "      fill: #FFFFFF;\n",
              "    }\n",
              "  </style>\n",
              "\n",
              "      <script>\n",
              "        const buttonEl =\n",
              "          document.querySelector('#df-d1aa263e-041e-43ab-b269-d3d874a09132 button.colab-df-convert');\n",
              "        buttonEl.style.display =\n",
              "          google.colab.kernel.accessAllowed ? 'block' : 'none';\n",
              "\n",
              "        async function convertToInteractive(key) {\n",
              "          const element = document.querySelector('#df-d1aa263e-041e-43ab-b269-d3d874a09132');\n",
              "          const dataTable =\n",
              "            await google.colab.kernel.invokeFunction('convertToInteractive',\n",
              "                                                     [key], {});\n",
              "          if (!dataTable) return;\n",
              "\n",
              "          const docLinkHtml = 'Like what you see? Visit the ' +\n",
              "            '<a target=\"_blank\" href=https://colab.research.google.com/notebooks/data_table.ipynb>data table notebook</a>'\n",
              "            + ' to learn more about interactive tables.';\n",
              "          element.innerHTML = '';\n",
              "          dataTable['output_type'] = 'display_data';\n",
              "          await google.colab.output.renderOutput(dataTable, element);\n",
              "          const docLink = document.createElement('div');\n",
              "          docLink.innerHTML = docLinkHtml;\n",
              "          element.appendChild(docLink);\n",
              "        }\n",
              "      </script>\n",
              "    </div>\n",
              "  </div>\n",
              "  "
            ]
          },
          "metadata": {},
          "execution_count": 106
        }
      ]
    },
    {
      "cell_type": "code",
      "source": [
        "df_genuine_updated[\"indiv_id\"].value_counts().sort_index()"
      ],
      "metadata": {
        "colab": {
          "base_uri": "https://localhost:8080/"
        },
        "id": "45dq2dqzcBPn",
        "outputId": "2260c533-3a45-4843-d7b3-7ee99b1cc361"
      },
      "execution_count": null,
      "outputs": [
        {
          "output_type": "execute_result",
          "data": {
            "text/plain": [
              "001    24\n",
              "002    24\n",
              "003    24\n",
              "004    24\n",
              "006    24\n",
              "       ..\n",
              "065    12\n",
              "066    12\n",
              "067    12\n",
              "068    12\n",
              "069    12\n",
              "Name: indiv_id, Length: 64, dtype: int64"
            ]
          },
          "metadata": {},
          "execution_count": 107
        }
      ]
    },
    {
      "cell_type": "code",
      "source": [
        "plt.figure(figsize=(25,8))\n",
        "ax = sns.countplot(x =\"indiv_id\", data = df_genuine_updated)\n",
        "\n",
        "ax.set_xticklabels(ax.get_xticklabels(),rotation=90)\n",
        "i=0\n",
        "for p in ax.patches:\n",
        "    height = p.get_height()\n",
        "    ax.text(p.get_x()+p.get_width()/2., height + 0.1,\n",
        "        df_genuine_updated[\"indiv_id\"].value_counts().sort_index()[i],ha=\"center\")\n",
        "    i += 1"
      ],
      "metadata": {
        "colab": {
          "base_uri": "https://localhost:8080/"
        },
        "id": "oR76xY1RYFjs",
        "outputId": "4fbc56ae-2622-4bae-8af1-20f2686d526e"
      },
      "execution_count": null,
      "outputs": [
        {
          "output_type": "display_data",
          "data": {
            "text/plain": [
              "<Figure size 1800x576 with 1 Axes>"
            ],
            "image/png": "[encoded data removed]"
          },
          "metadata": {
            "needs_background": "light"
          }
        }
      ]
    },
    {
      "cell_type": "code",
      "source": [
        "df_forgery_updated = df_forgery.drop(['file_name'], axis = 1)"
      ],
      "metadata": {
        "id": "m_ESOuyYg2XI"
      },
      "execution_count": null,
      "outputs": []
    },
    {
      "cell_type": "code",
      "source": [
        "plt.figure(figsize=(25,8))\n",
        "ax = sns.countplot(x =\"indiv_id\", data = df_forgery_updated)\n",
        "\n",
        "ax.set_xticklabels(ax.get_xticklabels(),rotation=90)\n",
        "i=0\n",
        "for p in ax.patches:\n",
        "    height = p.get_height()\n",
        "    ax.text(p.get_x()+p.get_width()/2., height + 0.1,\n",
        "        df_forgery_updated[\"indiv_id\"].value_counts().sort_index()[i],ha=\"center\")\n",
        "    i += 1"
      ],
      "metadata": {
        "colab": {
          "base_uri": "https://localhost:8080/"
        },
        "id": "SXkYrQycg218",
        "outputId": "ca77cf9c-a8a5-44c5-aae1-801aa880760b"
      },
      "execution_count": null,
      "outputs": [
        {
          "output_type": "display_data",
          "data": {
            "text/plain": [
              "<Figure size 1800x576 with 1 Axes>"
            ],
            "image/png": "[encoded data removed]"
          },
          "metadata": {
            "needs_background": "light"
          }
        }
      ]
    },
    {
      "cell_type": "code",
      "source": [
        "individuals_id_join = []\n",
        "genuine_counts = []\n",
        "for x in train_file_name:\n",
        "  p=Path(x)\n",
        "  if 'forg' in x:\n",
        "    new_x = re.sub('\\D', '', p.parts[5])\n",
        "    individuals_id_join.append(new_x)\n",
        "\n",
        "    genuine_counts.append(0)\n",
        "  else:\n",
        "    individuals_id_join.append(p.parts[5])\n",
        "\n",
        "    genuine_counts.append(1)"
      ],
      "metadata": {
        "id": "HpTgwE_kj-eW"
      },
      "execution_count": null,
      "outputs": []
    },
    {
      "cell_type": "code",
      "source": [
        "df = pd.DataFrame()"
      ],
      "metadata": {
        "id": "K5I5cTXRkXU_"
      },
      "execution_count": null,
      "outputs": []
    },
    {
      "cell_type": "code",
      "source": [
        "df['indiv_id'] = individuals_id_join\n",
        "df['genuine_counts'] = genuine_counts"
      ],
      "metadata": {
        "id": "hRciW4vrkfBy"
      },
      "execution_count": null,
      "outputs": []
    },
    {
      "cell_type": "code",
      "source": [
        "plt.figure(figsize=(25,10))\n",
        "ax = sns.countplot(x =\"indiv_id\", data = df, hue = 'genuine_counts')\n",
        "\n"
      ],
      "metadata": {
        "colab": {
          "base_uri": "https://localhost:8080/"
        },
        "id": "BE9mvl7Ake8L",
        "outputId": "04aae1f4-b4c1-4d52-ee4b-ca3e5d1676b1"
      },
      "execution_count": null,
      "outputs": [
        {
          "output_type": "display_data",
          "data": {
            "text/plain": [
              "<Figure size 1800x720 with 1 Axes>"
            ],
            "image/png": "[encoded data removed]"
          },
          "metadata": {
            "needs_background": "light"
          }
        }
      ]
    },
    {
      "cell_type": "markdown",
      "source": [
        "#The number of genuine signatures and forgery signatures per individual are not identical. Only 32 individuals have the same number of genuine signatures and forgery signatures."
      ],
      "metadata": {
        "id": "BA-BR1crqJTs"
      }
    },
    {
      "cell_type": "markdown",
      "source": [
        "#Exploring train csv file"
      ],
      "metadata": {
        "id": "446Oco_ft30E"
      }
    },
    {
      "cell_type": "markdown",
      "source": [
        "Siamese network can be used to predict the similarity between two image pairs and, more specifically, whether the two input images belong to the same or different classes.The csv file was mapped in a way in which each signature from each individual was match against other signatures from the same individual (genuine + forgery). For example if individual 001 has 10 signatures in the training file, 5 genuine, 5 forgery. each signature  will be mapped 9 times with the other 9 signatures.  "
      ],
      "metadata": {
        "id": "WdD8cTnUSm3G"
      }
    },
    {
      "cell_type": "code",
      "source": [
        "colnames=['Image1', 'Image2', 'genuine'] \n",
        "df_train = pd.read_csv(train_csv, names =colnames, header=None)"
      ],
      "metadata": {
        "id": "pC7xOB7YqHpZ"
      },
      "execution_count": null,
      "outputs": []
    },
    {
      "cell_type": "code",
      "source": [
        "df_train.head()"
      ],
      "metadata": {
        "colab": {
          "base_uri": "https://localhost:8080/"
        },
        "id": "YIvbP-OvlRal",
        "outputId": "e952814c-445a-4586-a80f-087773da4bcc"
      },
      "execution_count": null,
      "outputs": [
        {
          "output_type": "execute_result",
          "data": {
            "text/plain": [
              "           Image1                   Image2  genuine\n",
              "0  068/09_068.png  068_forg/03_0113068.PNG        1\n",
              "1  068/09_068.png  068_forg/01_0124068.PNG        1\n",
              "2  068/09_068.png  068_forg/02_0124068.PNG        1\n",
              "3  068/09_068.png  068_forg/01_0113068.PNG        1\n",
              "4  068/09_068.png  068_forg/04_0124068.PNG        1"
            ],
            "text/html": [
              "\n",
              "  <div id=\"df-455c0216-bb8a-4004-99a2-f1ec37a6a7f0\">\n",
              "    <div class=\"colab-df-container\">\n",
              "      <div>\n",
              "<style scoped>\n",
              "    .dataframe tbody tr th:only-of-type {\n",
              "        vertical-align: middle;\n",
              "    }\n",
              "\n",
              "    .dataframe tbody tr th {\n",
              "        vertical-align: top;\n",
              "    }\n",
              "\n",
              "    .dataframe thead th {\n",
              "        text-align: right;\n",
              "    }\n",
              "</style>\n",
              "<table border=\"1\" class=\"dataframe\">\n",
              "  <thead>\n",
              "    <tr style=\"text-align: right;\">\n",
              "      <th></th>\n",
              "      <th>Image1</th>\n",
              "      <th>Image2</th>\n",
              "      <th>genuine</th>\n",
              "    </tr>\n",
              "  </thead>\n",
              "  <tbody>\n",
              "    <tr>\n",
              "      <th>0</th>\n",
              "      <td>068/09_068.png</td>\n",
              "      <td>068_forg/03_0113068.PNG</td>\n",
              "      <td>1</td>\n",
              "    </tr>\n",
              "    <tr>\n",
              "      <th>1</th>\n",
              "      <td>068/09_068.png</td>\n",
              "      <td>068_forg/01_0124068.PNG</td>\n",
              "      <td>1</td>\n",
              "    </tr>\n",
              "    <tr>\n",
              "      <th>2</th>\n",
              "      <td>068/09_068.png</td>\n",
              "      <td>068_forg/02_0124068.PNG</td>\n",
              "      <td>1</td>\n",
              "    </tr>\n",
              "    <tr>\n",
              "      <th>3</th>\n",
              "      <td>068/09_068.png</td>\n",
              "      <td>068_forg/01_0113068.PNG</td>\n",
              "      <td>1</td>\n",
              "    </tr>\n",
              "    <tr>\n",
              "      <th>4</th>\n",
              "      <td>068/09_068.png</td>\n",
              "      <td>068_forg/04_0124068.PNG</td>\n",
              "      <td>1</td>\n",
              "    </tr>\n",
              "  </tbody>\n",
              "</table>\n",
              "</div>\n",
              "      <button class=\"colab-df-convert\" onclick=\"convertToInteractive('df-455c0216-bb8a-4004-99a2-f1ec37a6a7f0')\"\n",
              "              title=\"Convert this dataframe to an interactive table.\"\n",
              "              style=\"display:none;\">\n",
              "        \n",
              "  <svg xmlns=\"http://www.w3.org/2000/svg\" height=\"24px\"viewBox=\"0 0 24 24\"\n",
              "       width=\"24px\">\n",
              "    <path d=\"M0 0h24v24H0V0z\" fill=\"none\"/>\n",
              "    <path d=\"M18.56 5.44l.94 2.06.94-2.06 2.06-.94-2.06-.94-.94-2.06-.94 2.06-2.06.94zm-11 1L8.5 8.5l.94-2.06 2.06-.94-2.06-.94L8.5 2.5l-.94 2.06-2.06.94zm10 10l.94 2.06.94-2.06 2.06-.94-2.06-.94-.94-2.06-.94 2.06-2.06.94z\"/><path d=\"M17.41 7.96l-1.37-1.37c-.4-.4-.92-.59-1.43-.59-.52 0-1.04.2-1.43.59L10.3 9.45l-7.72 7.72c-.78.78-.78 2.05 0 2.83L4 21.41c.39.39.9.59 1.41.59.51 0 1.02-.2 1.41-.59l7.78-7.78 2.81-2.81c.8-.78.8-2.07 0-2.86zM5.41 20L4 18.59l7.72-7.72 1.47 1.35L5.41 20z\"/>\n",
              "  </svg>\n",
              "      </button>\n",
              "      \n",
              "  <style>\n",
              "    .colab-df-container {\n",
              "      display:flex;\n",
              "      flex-wrap:wrap;\n",
              "      gap: 12px;\n",
              "    }\n",
              "\n",
              "    .colab-df-convert {\n",
              "      background-color: #E8F0FE;\n",
              "      border: none;\n",
              "      border-radius: 50%;\n",
              "      cursor: pointer;\n",
              "      display: none;\n",
              "      fill: #1967D2;\n",
              "      height: 32px;\n",
              "      padding: 0 0 0 0;\n",
              "      width: 32px;\n",
              "    }\n",
              "\n",
              "    .colab-df-convert:hover {\n",
              "      background-color: #E2EBFA;\n",
              "      box-shadow: 0px 1px 2px rgba(60, 64, 67, 0.3), 0px 1px 3px 1px rgba(60, 64, 67, 0.15);\n",
              "      fill: #174EA6;\n",
              "    }\n",
              "\n",
              "    [theme=dark] .colab-df-convert {\n",
              "      background-color: #3B4455;\n",
              "      fill: #D2E3FC;\n",
              "    }\n",
              "\n",
              "    [theme=dark] .colab-df-convert:hover {\n",
              "      background-color: #434B5C;\n",
              "      box-shadow: 0px 1px 3px 1px rgba(0, 0, 0, 0.15);\n",
              "      filter: drop-shadow(0px 1px 2px rgba(0, 0, 0, 0.3));\n",
              "      fill: #FFFFFF;\n",
              "    }\n",
              "  </style>\n",
              "\n",
              "      <script>\n",
              "        const buttonEl =\n",
              "          document.querySelector('#df-455c0216-bb8a-4004-99a2-f1ec37a6a7f0 button.colab-df-convert');\n",
              "        buttonEl.style.display =\n",
              "          google.colab.kernel.accessAllowed ? 'block' : 'none';\n",
              "\n",
              "        async function convertToInteractive(key) {\n",
              "          const element = document.querySelector('#df-455c0216-bb8a-4004-99a2-f1ec37a6a7f0');\n",
              "          const dataTable =\n",
              "            await google.colab.kernel.invokeFunction('convertToInteractive',\n",
              "                                                     [key], {});\n",
              "          if (!dataTable) return;\n",
              "\n",
              "          const docLinkHtml = 'Like what you see? Visit the ' +\n",
              "            '<a target=\"_blank\" href=https://colab.research.google.com/notebooks/data_table.ipynb>data table notebook</a>'\n",
              "            + ' to learn more about interactive tables.';\n",
              "          element.innerHTML = '';\n",
              "          dataTable['output_type'] = 'display_data';\n",
              "          await google.colab.output.renderOutput(dataTable, element);\n",
              "          const docLink = document.createElement('div');\n",
              "          docLink.innerHTML = docLinkHtml;\n",
              "          element.appendChild(docLink);\n",
              "        }\n",
              "      </script>\n",
              "    </div>\n",
              "  </div>\n",
              "  "
            ]
          },
          "metadata": {},
          "execution_count": 116
        }
      ]
    },
    {
      "cell_type": "code",
      "source": [
        "df_train.shape"
      ],
      "metadata": {
        "colab": {
          "base_uri": "https://localhost:8080/"
        },
        "id": "IM0LVJxhkDuG",
        "outputId": "da8ae0d5-6ec5-44cb-f078-90641daee07d"
      },
      "execution_count": null,
      "outputs": [
        {
          "output_type": "execute_result",
          "data": {
            "text/plain": [
              "(23206, 3)"
            ]
          },
          "metadata": {},
          "execution_count": 117
        }
      ]
    },
    {
      "cell_type": "code",
      "source": [
        "sig1 = df_genuine_updated[\"indiv_id\"].value_counts().sort_index().rename_axis('id').reset_index(name='genuine_counts') #gencounts\n",
        "print (sig1)"
      ],
      "metadata": {
        "colab": {
          "base_uri": "https://localhost:8080/"
        },
        "id": "r2jnBxyCfJyg",
        "outputId": "f3d363a7-7e4d-4a46-f4d2-21b6db34b314"
      },
      "execution_count": null,
      "outputs": [
        {
          "output_type": "stream",
          "name": "stdout",
          "text": [
            "     id  genuine_counts\n",
            "0   001              24\n",
            "1   002              24\n",
            "2   003              24\n",
            "3   004              24\n",
            "4   006              24\n",
            "..  ...             ...\n",
            "59  065              12\n",
            "60  066              12\n",
            "61  067              12\n",
            "62  068              12\n",
            "63  069              12\n",
            "\n",
            "[64 rows x 2 columns]\n"
          ]
        }
      ]
    },
    {
      "cell_type": "code",
      "source": [
        "sig2 = df[\"indiv_id\"].value_counts().sort_index().rename_axis('id2').reset_index(name='total_counts')#totalcounts\n",
        "print (sig2)"
      ],
      "metadata": {
        "colab": {
          "base_uri": "https://localhost:8080/"
        },
        "id": "lkGzY07HfTlZ",
        "outputId": "2197a3fc-06eb-4bb9-dd4a-5abce691ef62"
      },
      "execution_count": null,
      "outputs": [
        {
          "output_type": "stream",
          "name": "stdout",
          "text": [
            "    id2  total_counts\n",
            "0   001            32\n",
            "1   002            36\n",
            "2   003            36\n",
            "3   004            35\n",
            "4   006            36\n",
            "..  ...           ...\n",
            "59  065            20\n",
            "60  066            28\n",
            "61  067            20\n",
            "62  068            20\n",
            "63  069            24\n",
            "\n",
            "[64 rows x 2 columns]\n"
          ]
        }
      ]
    },
    {
      "cell_type": "code",
      "source": [
        "sig_csvcounts = pd.concat([sig1,sig2], axis=1)\n",
        "sig_csvcounts"
      ],
      "metadata": {
        "colab": {
          "base_uri": "https://localhost:8080/"
        },
        "id": "zVRpLFZyfdhx",
        "outputId": "d3a7236e-db07-4659-ba5a-b470e45328af"
      },
      "execution_count": null,
      "outputs": [
        {
          "output_type": "execute_result",
          "data": {
            "text/plain": [
              "     id  genuine_counts  id2  total_counts\n",
              "0   001              24  001            32\n",
              "1   002              24  002            36\n",
              "2   003              24  003            36\n",
              "3   004              24  004            35\n",
              "4   006              24  006            36\n",
              "..  ...             ...  ...           ...\n",
              "59  065              12  065            20\n",
              "60  066              12  066            28\n",
              "61  067              12  067            20\n",
              "62  068              12  068            20\n",
              "63  069              12  069            24\n",
              "\n",
              "[64 rows x 4 columns]"
            ],
            "text/html": [
              "\n",
              "  <div id=\"df-b31e2026-b1b8-4a47-873e-c4ab4269e2bd\">\n",
              "    <div class=\"colab-df-container\">\n",
              "      <div>\n",
              "<style scoped>\n",
              "    .dataframe tbody tr th:only-of-type {\n",
              "        vertical-align: middle;\n",
              "    }\n",
              "\n",
              "    .dataframe tbody tr th {\n",
              "        vertical-align: top;\n",
              "    }\n",
              "\n",
              "    .dataframe thead th {\n",
              "        text-align: right;\n",
              "    }\n",
              "</style>\n",
              "<table border=\"1\" class=\"dataframe\">\n",
              "  <thead>\n",
              "    <tr style=\"text-align: right;\">\n",
              "      <th></th>\n",
              "      <th>id</th>\n",
              "      <th>genuine_counts</th>\n",
              "      <th>id2</th>\n",
              "      <th>total_counts</th>\n",
              "    </tr>\n",
              "  </thead>\n",
              "  <tbody>\n",
              "    <tr>\n",
              "      <th>0</th>\n",
              "      <td>001</td>\n",
              "      <td>24</td>\n",
              "      <td>001</td>\n",
              "      <td>32</td>\n",
              "    </tr>\n",
              "    <tr>\n",
              "      <th>1</th>\n",
              "      <td>002</td>\n",
              "      <td>24</td>\n",
              "      <td>002</td>\n",
              "      <td>36</td>\n",
              "    </tr>\n",
              "    <tr>\n",
              "      <th>2</th>\n",
              "      <td>003</td>\n",
              "      <td>24</td>\n",
              "      <td>003</td>\n",
              "      <td>36</td>\n",
              "    </tr>\n",
              "    <tr>\n",
              "      <th>3</th>\n",
              "      <td>004</td>\n",
              "      <td>24</td>\n",
              "      <td>004</td>\n",
              "      <td>35</td>\n",
              "    </tr>\n",
              "    <tr>\n",
              "      <th>4</th>\n",
              "      <td>006</td>\n",
              "      <td>24</td>\n",
              "      <td>006</td>\n",
              "      <td>36</td>\n",
              "    </tr>\n",
              "    <tr>\n",
              "      <th>...</th>\n",
              "      <td>...</td>\n",
              "      <td>...</td>\n",
              "      <td>...</td>\n",
              "      <td>...</td>\n",
              "    </tr>\n",
              "    <tr>\n",
              "      <th>59</th>\n",
              "      <td>065</td>\n",
              "      <td>12</td>\n",
              "      <td>065</td>\n",
              "      <td>20</td>\n",
              "    </tr>\n",
              "    <tr>\n",
              "      <th>60</th>\n",
              "      <td>066</td>\n",
              "      <td>12</td>\n",
              "      <td>066</td>\n",
              "      <td>28</td>\n",
              "    </tr>\n",
              "    <tr>\n",
              "      <th>61</th>\n",
              "      <td>067</td>\n",
              "      <td>12</td>\n",
              "      <td>067</td>\n",
              "      <td>20</td>\n",
              "    </tr>\n",
              "    <tr>\n",
              "      <th>62</th>\n",
              "      <td>068</td>\n",
              "      <td>12</td>\n",
              "      <td>068</td>\n",
              "      <td>20</td>\n",
              "    </tr>\n",
              "    <tr>\n",
              "      <th>63</th>\n",
              "      <td>069</td>\n",
              "      <td>12</td>\n",
              "      <td>069</td>\n",
              "      <td>24</td>\n",
              "    </tr>\n",
              "  </tbody>\n",
              "</table>\n",
              "<p>64 rows × 4 columns</p>\n",
              "</div>\n",
              "      <button class=\"colab-df-convert\" onclick=\"convertToInteractive('df-b31e2026-b1b8-4a47-873e-c4ab4269e2bd')\"\n",
              "              title=\"Convert this dataframe to an interactive table.\"\n",
              "              style=\"display:none;\">\n",
              "        \n",
              "  <svg xmlns=\"http://www.w3.org/2000/svg\" height=\"24px\"viewBox=\"0 0 24 24\"\n",
              "       width=\"24px\">\n",
              "    <path d=\"M0 0h24v24H0V0z\" fill=\"none\"/>\n",
              "    <path d=\"M18.56 5.44l.94 2.06.94-2.06 2.06-.94-2.06-.94-.94-2.06-.94 2.06-2.06.94zm-11 1L8.5 8.5l.94-2.06 2.06-.94-2.06-.94L8.5 2.5l-.94 2.06-2.06.94zm10 10l.94 2.06.94-2.06 2.06-.94-2.06-.94-.94-2.06-.94 2.06-2.06.94z\"/><path d=\"M17.41 7.96l-1.37-1.37c-.4-.4-.92-.59-1.43-.59-.52 0-1.04.2-1.43.59L10.3 9.45l-7.72 7.72c-.78.78-.78 2.05 0 2.83L4 21.41c.39.39.9.59 1.41.59.51 0 1.02-.2 1.41-.59l7.78-7.78 2.81-2.81c.8-.78.8-2.07 0-2.86zM5.41 20L4 18.59l7.72-7.72 1.47 1.35L5.41 20z\"/>\n",
              "  </svg>\n",
              "      </button>\n",
              "      \n",
              "  <style>\n",
              "    .colab-df-container {\n",
              "      display:flex;\n",
              "      flex-wrap:wrap;\n",
              "      gap: 12px;\n",
              "    }\n",
              "\n",
              "    .colab-df-convert {\n",
              "      background-color: #E8F0FE;\n",
              "      border: none;\n",
              "      border-radius: 50%;\n",
              "      cursor: pointer;\n",
              "      display: none;\n",
              "      fill: #1967D2;\n",
              "      height: 32px;\n",
              "      padding: 0 0 0 0;\n",
              "      width: 32px;\n",
              "    }\n",
              "\n",
              "    .colab-df-convert:hover {\n",
              "      background-color: #E2EBFA;\n",
              "      box-shadow: 0px 1px 2px rgba(60, 64, 67, 0.3), 0px 1px 3px 1px rgba(60, 64, 67, 0.15);\n",
              "      fill: #174EA6;\n",
              "    }\n",
              "\n",
              "    [theme=dark] .colab-df-convert {\n",
              "      background-color: #3B4455;\n",
              "      fill: #D2E3FC;\n",
              "    }\n",
              "\n",
              "    [theme=dark] .colab-df-convert:hover {\n",
              "      background-color: #434B5C;\n",
              "      box-shadow: 0px 1px 3px 1px rgba(0, 0, 0, 0.15);\n",
              "      filter: drop-shadow(0px 1px 2px rgba(0, 0, 0, 0.3));\n",
              "      fill: #FFFFFF;\n",
              "    }\n",
              "  </style>\n",
              "\n",
              "      <script>\n",
              "        const buttonEl =\n",
              "          document.querySelector('#df-b31e2026-b1b8-4a47-873e-c4ab4269e2bd button.colab-df-convert');\n",
              "        buttonEl.style.display =\n",
              "          google.colab.kernel.accessAllowed ? 'block' : 'none';\n",
              "\n",
              "        async function convertToInteractive(key) {\n",
              "          const element = document.querySelector('#df-b31e2026-b1b8-4a47-873e-c4ab4269e2bd');\n",
              "          const dataTable =\n",
              "            await google.colab.kernel.invokeFunction('convertToInteractive',\n",
              "                                                     [key], {});\n",
              "          if (!dataTable) return;\n",
              "\n",
              "          const docLinkHtml = 'Like what you see? Visit the ' +\n",
              "            '<a target=\"_blank\" href=https://colab.research.google.com/notebooks/data_table.ipynb>data table notebook</a>'\n",
              "            + ' to learn more about interactive tables.';\n",
              "          element.innerHTML = '';\n",
              "          dataTable['output_type'] = 'display_data';\n",
              "          await google.colab.output.renderOutput(dataTable, element);\n",
              "          const docLink = document.createElement('div');\n",
              "          docLink.innerHTML = docLinkHtml;\n",
              "          element.appendChild(docLink);\n",
              "        }\n",
              "      </script>\n",
              "    </div>\n",
              "  </div>\n",
              "  "
            ]
          },
          "metadata": {},
          "execution_count": 120
        }
      ]
    },
    {
      "cell_type": "code",
      "source": [
        "sig_csvcounts.drop(\"id2\", axis=1, inplace=True) "
      ],
      "metadata": {
        "id": "tljICesVgR32"
      },
      "execution_count": null,
      "outputs": []
    },
    {
      "cell_type": "code",
      "source": [
        "sig_csvcounts['csvtotalrows'] = sig_csvcounts['genuine_counts'] *(sig_csvcounts['total_counts'] - 1)\n",
        "sig_csvcounts"
      ],
      "metadata": {
        "colab": {
          "base_uri": "https://localhost:8080/"
        },
        "id": "id2wDzlhgfWv",
        "outputId": "992ad053-5ae4-47da-fb7e-340bec5e833d"
      },
      "execution_count": null,
      "outputs": [
        {
          "output_type": "execute_result",
          "data": {
            "text/plain": [
              "     id  genuine_counts  total_counts  csvtotalrows\n",
              "0   001              24            32           744\n",
              "1   002              24            36           840\n",
              "2   003              24            36           840\n",
              "3   004              24            35           816\n",
              "4   006              24            36           840\n",
              "..  ...             ...           ...           ...\n",
              "59  065              12            20           228\n",
              "60  066              12            28           324\n",
              "61  067              12            20           228\n",
              "62  068              12            20           228\n",
              "63  069              12            24           276\n",
              "\n",
              "[64 rows x 4 columns]"
            ],
            "text/html": [
              "\n",
              "  <div id=\"df-3eda255b-e786-426d-a1d0-d86807b0cc87\">\n",
              "    <div class=\"colab-df-container\">\n",
              "      <div>\n",
              "<style scoped>\n",
              "    .dataframe tbody tr th:only-of-type {\n",
              "        vertical-align: middle;\n",
              "    }\n",
              "\n",
              "    .dataframe tbody tr th {\n",
              "        vertical-align: top;\n",
              "    }\n",
              "\n",
              "    .dataframe thead th {\n",
              "        text-align: right;\n",
              "    }\n",
              "</style>\n",
              "<table border=\"1\" class=\"dataframe\">\n",
              "  <thead>\n",
              "    <tr style=\"text-align: right;\">\n",
              "      <th></th>\n",
              "      <th>id</th>\n",
              "      <th>genuine_counts</th>\n",
              "      <th>total_counts</th>\n",
              "      <th>csvtotalrows</th>\n",
              "    </tr>\n",
              "  </thead>\n",
              "  <tbody>\n",
              "    <tr>\n",
              "      <th>0</th>\n",
              "      <td>001</td>\n",
              "      <td>24</td>\n",
              "      <td>32</td>\n",
              "      <td>744</td>\n",
              "    </tr>\n",
              "    <tr>\n",
              "      <th>1</th>\n",
              "      <td>002</td>\n",
              "      <td>24</td>\n",
              "      <td>36</td>\n",
              "      <td>840</td>\n",
              "    </tr>\n",
              "    <tr>\n",
              "      <th>2</th>\n",
              "      <td>003</td>\n",
              "      <td>24</td>\n",
              "      <td>36</td>\n",
              "      <td>840</td>\n",
              "    </tr>\n",
              "    <tr>\n",
              "      <th>3</th>\n",
              "      <td>004</td>\n",
              "      <td>24</td>\n",
              "      <td>35</td>\n",
              "      <td>816</td>\n",
              "    </tr>\n",
              "    <tr>\n",
              "      <th>4</th>\n",
              "      <td>006</td>\n",
              "      <td>24</td>\n",
              "      <td>36</td>\n",
              "      <td>840</td>\n",
              "    </tr>\n",
              "    <tr>\n",
              "      <th>...</th>\n",
              "      <td>...</td>\n",
              "      <td>...</td>\n",
              "      <td>...</td>\n",
              "      <td>...</td>\n",
              "    </tr>\n",
              "    <tr>\n",
              "      <th>59</th>\n",
              "      <td>065</td>\n",
              "      <td>12</td>\n",
              "      <td>20</td>\n",
              "      <td>228</td>\n",
              "    </tr>\n",
              "    <tr>\n",
              "      <th>60</th>\n",
              "      <td>066</td>\n",
              "      <td>12</td>\n",
              "      <td>28</td>\n",
              "      <td>324</td>\n",
              "    </tr>\n",
              "    <tr>\n",
              "      <th>61</th>\n",
              "      <td>067</td>\n",
              "      <td>12</td>\n",
              "      <td>20</td>\n",
              "      <td>228</td>\n",
              "    </tr>\n",
              "    <tr>\n",
              "      <th>62</th>\n",
              "      <td>068</td>\n",
              "      <td>12</td>\n",
              "      <td>20</td>\n",
              "      <td>228</td>\n",
              "    </tr>\n",
              "    <tr>\n",
              "      <th>63</th>\n",
              "      <td>069</td>\n",
              "      <td>12</td>\n",
              "      <td>24</td>\n",
              "      <td>276</td>\n",
              "    </tr>\n",
              "  </tbody>\n",
              "</table>\n",
              "<p>64 rows × 4 columns</p>\n",
              "</div>\n",
              "      <button class=\"colab-df-convert\" onclick=\"convertToInteractive('df-3eda255b-e786-426d-a1d0-d86807b0cc87')\"\n",
              "              title=\"Convert this dataframe to an interactive table.\"\n",
              "              style=\"display:none;\">\n",
              "        \n",
              "  <svg xmlns=\"http://www.w3.org/2000/svg\" height=\"24px\"viewBox=\"0 0 24 24\"\n",
              "       width=\"24px\">\n",
              "    <path d=\"M0 0h24v24H0V0z\" fill=\"none\"/>\n",
              "    <path d=\"M18.56 5.44l.94 2.06.94-2.06 2.06-.94-2.06-.94-.94-2.06-.94 2.06-2.06.94zm-11 1L8.5 8.5l.94-2.06 2.06-.94-2.06-.94L8.5 2.5l-.94 2.06-2.06.94zm10 10l.94 2.06.94-2.06 2.06-.94-2.06-.94-.94-2.06-.94 2.06-2.06.94z\"/><path d=\"M17.41 7.96l-1.37-1.37c-.4-.4-.92-.59-1.43-.59-.52 0-1.04.2-1.43.59L10.3 9.45l-7.72 7.72c-.78.78-.78 2.05 0 2.83L4 21.41c.39.39.9.59 1.41.59.51 0 1.02-.2 1.41-.59l7.78-7.78 2.81-2.81c.8-.78.8-2.07 0-2.86zM5.41 20L4 18.59l7.72-7.72 1.47 1.35L5.41 20z\"/>\n",
              "  </svg>\n",
              "      </button>\n",
              "      \n",
              "  <style>\n",
              "    .colab-df-container {\n",
              "      display:flex;\n",
              "      flex-wrap:wrap;\n",
              "      gap: 12px;\n",
              "    }\n",
              "\n",
              "    .colab-df-convert {\n",
              "      background-color: #E8F0FE;\n",
              "      border: none;\n",
              "      border-radius: 50%;\n",
              "      cursor: pointer;\n",
              "      display: none;\n",
              "      fill: #1967D2;\n",
              "      height: 32px;\n",
              "      padding: 0 0 0 0;\n",
              "      width: 32px;\n",
              "    }\n",
              "\n",
              "    .colab-df-convert:hover {\n",
              "      background-color: #E2EBFA;\n",
              "      box-shadow: 0px 1px 2px rgba(60, 64, 67, 0.3), 0px 1px 3px 1px rgba(60, 64, 67, 0.15);\n",
              "      fill: #174EA6;\n",
              "    }\n",
              "\n",
              "    [theme=dark] .colab-df-convert {\n",
              "      background-color: #3B4455;\n",
              "      fill: #D2E3FC;\n",
              "    }\n",
              "\n",
              "    [theme=dark] .colab-df-convert:hover {\n",
              "      background-color: #434B5C;\n",
              "      box-shadow: 0px 1px 3px 1px rgba(0, 0, 0, 0.15);\n",
              "      filter: drop-shadow(0px 1px 2px rgba(0, 0, 0, 0.3));\n",
              "      fill: #FFFFFF;\n",
              "    }\n",
              "  </style>\n",
              "\n",
              "      <script>\n",
              "        const buttonEl =\n",
              "          document.querySelector('#df-3eda255b-e786-426d-a1d0-d86807b0cc87 button.colab-df-convert');\n",
              "        buttonEl.style.display =\n",
              "          google.colab.kernel.accessAllowed ? 'block' : 'none';\n",
              "\n",
              "        async function convertToInteractive(key) {\n",
              "          const element = document.querySelector('#df-3eda255b-e786-426d-a1d0-d86807b0cc87');\n",
              "          const dataTable =\n",
              "            await google.colab.kernel.invokeFunction('convertToInteractive',\n",
              "                                                     [key], {});\n",
              "          if (!dataTable) return;\n",
              "\n",
              "          const docLinkHtml = 'Like what you see? Visit the ' +\n",
              "            '<a target=\"_blank\" href=https://colab.research.google.com/notebooks/data_table.ipynb>data table notebook</a>'\n",
              "            + ' to learn more about interactive tables.';\n",
              "          element.innerHTML = '';\n",
              "          dataTable['output_type'] = 'display_data';\n",
              "          await google.colab.output.renderOutput(dataTable, element);\n",
              "          const docLink = document.createElement('div');\n",
              "          docLink.innerHTML = docLinkHtml;\n",
              "          element.appendChild(docLink);\n",
              "        }\n",
              "      </script>\n",
              "    </div>\n",
              "  </div>\n",
              "  "
            ]
          },
          "metadata": {},
          "execution_count": 122
        }
      ]
    },
    {
      "cell_type": "code",
      "source": [
        "sig_csvcounts['csvtotalrows'].sum() ##total sum adds up to the number of rows in the csv file."
      ],
      "metadata": {
        "colab": {
          "base_uri": "https://localhost:8080/"
        },
        "outputId": "712c9f55-bc95-490e-84c8-732c1b4aba8e",
        "id": "hCaneyoahNqK"
      },
      "execution_count": null,
      "outputs": [
        {
          "output_type": "execute_result",
          "data": {
            "text/plain": [
              "23206"
            ]
          },
          "metadata": {},
          "execution_count": 123
        }
      ]
    },
    {
      "cell_type": "markdown",
      "source": [
        "#example individual 001"
      ],
      "metadata": {
        "id": "J3TArMOYkvEJ"
      }
    },
    {
      "cell_type": "code",
      "source": [
        "id001 = df_train[df_train['Image1'].str.contains(\"001/\")]\n",
        "id001"
      ],
      "metadata": {
        "colab": {
          "base_uri": "https://localhost:8080/"
        },
        "id": "qRso_39FW1Kw",
        "outputId": "cfdf80a2-cca0-47af-cc8e-3d7ff8b0f7da"
      },
      "execution_count": null,
      "outputs": [
        {
          "output_type": "execute_result",
          "data": {
            "text/plain": [
              "              Image1                   Image2  genuine\n",
              "8412  001/001_04.PNG  001_forg/0119001_03.png        1\n",
              "8413  001/001_04.PNG  001_forg/0201001_04.png        1\n",
              "8414  001/001_04.PNG  001_forg/0201001_02.png        1\n",
              "8415  001/001_04.PNG  001_forg/0119001_01.png        1\n",
              "8416  001/001_04.PNG  001_forg/0201001_01.png        1\n",
              "...              ...                      ...      ...\n",
              "9151  001/001_07.PNG           001/001_13.PNG        0\n",
              "9152  001/001_07.PNG           001/001_10.PNG        0\n",
              "9153  001/001_07.PNG           001/001_03.PNG        0\n",
              "9154  001/001_07.PNG           001/001_18.PNG        0\n",
              "9155  001/001_07.PNG           001/001_24.PNG        0\n",
              "\n",
              "[744 rows x 3 columns]"
            ],
            "text/html": [
              "\n",
              "  <div id=\"df-4b91588b-0fe5-48a8-8b6e-98d8cf7392c0\">\n",
              "    <div class=\"colab-df-container\">\n",
              "      <div>\n",
              "<style scoped>\n",
              "    .dataframe tbody tr th:only-of-type {\n",
              "        vertical-align: middle;\n",
              "    }\n",
              "\n",
              "    .dataframe tbody tr th {\n",
              "        vertical-align: top;\n",
              "    }\n",
              "\n",
              "    .dataframe thead th {\n",
              "        text-align: right;\n",
              "    }\n",
              "</style>\n",
              "<table border=\"1\" class=\"dataframe\">\n",
              "  <thead>\n",
              "    <tr style=\"text-align: right;\">\n",
              "      <th></th>\n",
              "      <th>Image1</th>\n",
              "      <th>Image2</th>\n",
              "      <th>genuine</th>\n",
              "    </tr>\n",
              "  </thead>\n",
              "  <tbody>\n",
              "    <tr>\n",
              "      <th>8412</th>\n",
              "      <td>001/001_04.PNG</td>\n",
              "      <td>001_forg/0119001_03.png</td>\n",
              "      <td>1</td>\n",
              "    </tr>\n",
              "    <tr>\n",
              "      <th>8413</th>\n",
              "      <td>001/001_04.PNG</td>\n",
              "      <td>001_forg/0201001_04.png</td>\n",
              "      <td>1</td>\n",
              "    </tr>\n",
              "    <tr>\n",
              "      <th>8414</th>\n",
              "      <td>001/001_04.PNG</td>\n",
              "      <td>001_forg/0201001_02.png</td>\n",
              "      <td>1</td>\n",
              "    </tr>\n",
              "    <tr>\n",
              "      <th>8415</th>\n",
              "      <td>001/001_04.PNG</td>\n",
              "      <td>001_forg/0119001_01.png</td>\n",
              "      <td>1</td>\n",
              "    </tr>\n",
              "    <tr>\n",
              "      <th>8416</th>\n",
              "      <td>001/001_04.PNG</td>\n",
              "      <td>001_forg/0201001_01.png</td>\n",
              "      <td>1</td>\n",
              "    </tr>\n",
              "    <tr>\n",
              "      <th>...</th>\n",
              "      <td>...</td>\n",
              "      <td>...</td>\n",
              "      <td>...</td>\n",
              "    </tr>\n",
              "    <tr>\n",
              "      <th>9151</th>\n",
              "      <td>001/001_07.PNG</td>\n",
              "      <td>001/001_13.PNG</td>\n",
              "      <td>0</td>\n",
              "    </tr>\n",
              "    <tr>\n",
              "      <th>9152</th>\n",
              "      <td>001/001_07.PNG</td>\n",
              "      <td>001/001_10.PNG</td>\n",
              "      <td>0</td>\n",
              "    </tr>\n",
              "    <tr>\n",
              "      <th>9153</th>\n",
              "      <td>001/001_07.PNG</td>\n",
              "      <td>001/001_03.PNG</td>\n",
              "      <td>0</td>\n",
              "    </tr>\n",
              "    <tr>\n",
              "      <th>9154</th>\n",
              "      <td>001/001_07.PNG</td>\n",
              "      <td>001/001_18.PNG</td>\n",
              "      <td>0</td>\n",
              "    </tr>\n",
              "    <tr>\n",
              "      <th>9155</th>\n",
              "      <td>001/001_07.PNG</td>\n",
              "      <td>001/001_24.PNG</td>\n",
              "      <td>0</td>\n",
              "    </tr>\n",
              "  </tbody>\n",
              "</table>\n",
              "<p>744 rows × 3 columns</p>\n",
              "</div>\n",
              "      <button class=\"colab-df-convert\" onclick=\"convertToInteractive('df-4b91588b-0fe5-48a8-8b6e-98d8cf7392c0')\"\n",
              "              title=\"Convert this dataframe to an interactive table.\"\n",
              "              style=\"display:none;\">\n",
              "        \n",
              "  <svg xmlns=\"http://www.w3.org/2000/svg\" height=\"24px\"viewBox=\"0 0 24 24\"\n",
              "       width=\"24px\">\n",
              "    <path d=\"M0 0h24v24H0V0z\" fill=\"none\"/>\n",
              "    <path d=\"M18.56 5.44l.94 2.06.94-2.06 2.06-.94-2.06-.94-.94-2.06-.94 2.06-2.06.94zm-11 1L8.5 8.5l.94-2.06 2.06-.94-2.06-.94L8.5 2.5l-.94 2.06-2.06.94zm10 10l.94 2.06.94-2.06 2.06-.94-2.06-.94-.94-2.06-.94 2.06-2.06.94z\"/><path d=\"M17.41 7.96l-1.37-1.37c-.4-.4-.92-.59-1.43-.59-.52 0-1.04.2-1.43.59L10.3 9.45l-7.72 7.72c-.78.78-.78 2.05 0 2.83L4 21.41c.39.39.9.59 1.41.59.51 0 1.02-.2 1.41-.59l7.78-7.78 2.81-2.81c.8-.78.8-2.07 0-2.86zM5.41 20L4 18.59l7.72-7.72 1.47 1.35L5.41 20z\"/>\n",
              "  </svg>\n",
              "      </button>\n",
              "      \n",
              "  <style>\n",
              "    .colab-df-container {\n",
              "      display:flex;\n",
              "      flex-wrap:wrap;\n",
              "      gap: 12px;\n",
              "    }\n",
              "\n",
              "    .colab-df-convert {\n",
              "      background-color: #E8F0FE;\n",
              "      border: none;\n",
              "      border-radius: 50%;\n",
              "      cursor: pointer;\n",
              "      display: none;\n",
              "      fill: #1967D2;\n",
              "      height: 32px;\n",
              "      padding: 0 0 0 0;\n",
              "      width: 32px;\n",
              "    }\n",
              "\n",
              "    .colab-df-convert:hover {\n",
              "      background-color: #E2EBFA;\n",
              "      box-shadow: 0px 1px 2px rgba(60, 64, 67, 0.3), 0px 1px 3px 1px rgba(60, 64, 67, 0.15);\n",
              "      fill: #174EA6;\n",
              "    }\n",
              "\n",
              "    [theme=dark] .colab-df-convert {\n",
              "      background-color: #3B4455;\n",
              "      fill: #D2E3FC;\n",
              "    }\n",
              "\n",
              "    [theme=dark] .colab-df-convert:hover {\n",
              "      background-color: #434B5C;\n",
              "      box-shadow: 0px 1px 3px 1px rgba(0, 0, 0, 0.15);\n",
              "      filter: drop-shadow(0px 1px 2px rgba(0, 0, 0, 0.3));\n",
              "      fill: #FFFFFF;\n",
              "    }\n",
              "  </style>\n",
              "\n",
              "      <script>\n",
              "        const buttonEl =\n",
              "          document.querySelector('#df-4b91588b-0fe5-48a8-8b6e-98d8cf7392c0 button.colab-df-convert');\n",
              "        buttonEl.style.display =\n",
              "          google.colab.kernel.accessAllowed ? 'block' : 'none';\n",
              "\n",
              "        async function convertToInteractive(key) {\n",
              "          const element = document.querySelector('#df-4b91588b-0fe5-48a8-8b6e-98d8cf7392c0');\n",
              "          const dataTable =\n",
              "            await google.colab.kernel.invokeFunction('convertToInteractive',\n",
              "                                                     [key], {});\n",
              "          if (!dataTable) return;\n",
              "\n",
              "          const docLinkHtml = 'Like what you see? Visit the ' +\n",
              "            '<a target=\"_blank\" href=https://colab.research.google.com/notebooks/data_table.ipynb>data table notebook</a>'\n",
              "            + ' to learn more about interactive tables.';\n",
              "          element.innerHTML = '';\n",
              "          dataTable['output_type'] = 'display_data';\n",
              "          await google.colab.output.renderOutput(dataTable, element);\n",
              "          const docLink = document.createElement('div');\n",
              "          docLink.innerHTML = docLinkHtml;\n",
              "          element.appendChild(docLink);\n",
              "        }\n",
              "      </script>\n",
              "    </div>\n",
              "  </div>\n",
              "  "
            ]
          },
          "metadata": {},
          "execution_count": 124
        }
      ]
    },
    {
      "cell_type": "code",
      "source": [
        "id001['Image1'].value_counts() ## each genuine signature image from 001 appeared 31 times in the csv file, which shows that each signature image was mapped with every signature by 001 including forgery"
      ],
      "metadata": {
        "colab": {
          "base_uri": "https://localhost:8080/"
        },
        "id": "hgN_GTFdlLF2",
        "outputId": "9fb24fa5-e51c-4ccc-d15d-063dc13b4e7f"
      },
      "execution_count": null,
      "outputs": [
        {
          "output_type": "execute_result",
          "data": {
            "text/plain": [
              "001/001_04.PNG    31\n",
              "001/001_09.PNG    31\n",
              "001/001_24.PNG    31\n",
              "001/001_18.PNG    31\n",
              "001/001_03.PNG    31\n",
              "001/001_10.PNG    31\n",
              "001/001_13.PNG    31\n",
              "001/001_17.PNG    31\n",
              "001/001_23.PNG    31\n",
              "001/001_01.PNG    31\n",
              "001/001_20.PNG    31\n",
              "001/001_15.PNG    31\n",
              "001/001_21.PNG    31\n",
              "001/001_02.PNG    31\n",
              "001/001_06.PNG    31\n",
              "001/001_22.PNG    31\n",
              "001/001_19.PNG    31\n",
              "001/001_05.PNG    31\n",
              "001/001_08.PNG    31\n",
              "001/001_16.PNG    31\n",
              "001/001_14.PNG    31\n",
              "001/001_12.PNG    31\n",
              "001/001_11.PNG    31\n",
              "001/001_07.PNG    31\n",
              "Name: Image1, dtype: int64"
            ]
          },
          "metadata": {},
          "execution_count": 125
        }
      ]
    },
    {
      "cell_type": "code",
      "source": [
        "24*31  #each of the 24 genuine signatures by individual 001 were mapped against every other signature by individual 001"
      ],
      "metadata": {
        "colab": {
          "base_uri": "https://localhost:8080/"
        },
        "id": "ub_FnivlXGFn",
        "outputId": "ae7724f1-7ad3-46e1-8d67-01ca96a712c9"
      },
      "execution_count": null,
      "outputs": [
        {
          "output_type": "execute_result",
          "data": {
            "text/plain": [
              "744"
            ]
          },
          "metadata": {},
          "execution_count": 126
        }
      ]
    },
    {
      "cell_type": "code",
      "source": [
        "compid = sig_csvcounts.loc[sig_csvcounts['id'] == '001']\n",
        "compid"
      ],
      "metadata": {
        "colab": {
          "base_uri": "https://localhost:8080/"
        },
        "id": "OviJVWL7nTLn",
        "outputId": "0c36cf8a-a117-4680-dc6b-e6804e30de0e"
      },
      "execution_count": null,
      "outputs": [
        {
          "output_type": "execute_result",
          "data": {
            "text/plain": [
              "    id  genuine_counts  total_counts  csvtotalrows\n",
              "0  001              24            32           744"
            ],
            "text/html": [
              "\n",
              "  <div id=\"df-944dcdaa-8299-4290-8c59-ba047df0b673\">\n",
              "    <div class=\"colab-df-container\">\n",
              "      <div>\n",
              "<style scoped>\n",
              "    .dataframe tbody tr th:only-of-type {\n",
              "        vertical-align: middle;\n",
              "    }\n",
              "\n",
              "    .dataframe tbody tr th {\n",
              "        vertical-align: top;\n",
              "    }\n",
              "\n",
              "    .dataframe thead th {\n",
              "        text-align: right;\n",
              "    }\n",
              "</style>\n",
              "<table border=\"1\" class=\"dataframe\">\n",
              "  <thead>\n",
              "    <tr style=\"text-align: right;\">\n",
              "      <th></th>\n",
              "      <th>id</th>\n",
              "      <th>genuine_counts</th>\n",
              "      <th>total_counts</th>\n",
              "      <th>csvtotalrows</th>\n",
              "    </tr>\n",
              "  </thead>\n",
              "  <tbody>\n",
              "    <tr>\n",
              "      <th>0</th>\n",
              "      <td>001</td>\n",
              "      <td>24</td>\n",
              "      <td>32</td>\n",
              "      <td>744</td>\n",
              "    </tr>\n",
              "  </tbody>\n",
              "</table>\n",
              "</div>\n",
              "      <button class=\"colab-df-convert\" onclick=\"convertToInteractive('df-944dcdaa-8299-4290-8c59-ba047df0b673')\"\n",
              "              title=\"Convert this dataframe to an interactive table.\"\n",
              "              style=\"display:none;\">\n",
              "        \n",
              "  <svg xmlns=\"http://www.w3.org/2000/svg\" height=\"24px\"viewBox=\"0 0 24 24\"\n",
              "       width=\"24px\">\n",
              "    <path d=\"M0 0h24v24H0V0z\" fill=\"none\"/>\n",
              "    <path d=\"M18.56 5.44l.94 2.06.94-2.06 2.06-.94-2.06-.94-.94-2.06-.94 2.06-2.06.94zm-11 1L8.5 8.5l.94-2.06 2.06-.94-2.06-.94L8.5 2.5l-.94 2.06-2.06.94zm10 10l.94 2.06.94-2.06 2.06-.94-2.06-.94-.94-2.06-.94 2.06-2.06.94z\"/><path d=\"M17.41 7.96l-1.37-1.37c-.4-.4-.92-.59-1.43-.59-.52 0-1.04.2-1.43.59L10.3 9.45l-7.72 7.72c-.78.78-.78 2.05 0 2.83L4 21.41c.39.39.9.59 1.41.59.51 0 1.02-.2 1.41-.59l7.78-7.78 2.81-2.81c.8-.78.8-2.07 0-2.86zM5.41 20L4 18.59l7.72-7.72 1.47 1.35L5.41 20z\"/>\n",
              "  </svg>\n",
              "      </button>\n",
              "      \n",
              "  <style>\n",
              "    .colab-df-container {\n",
              "      display:flex;\n",
              "      flex-wrap:wrap;\n",
              "      gap: 12px;\n",
              "    }\n",
              "\n",
              "    .colab-df-convert {\n",
              "      background-color: #E8F0FE;\n",
              "      border: none;\n",
              "      border-radius: 50%;\n",
              "      cursor: pointer;\n",
              "      display: none;\n",
              "      fill: #1967D2;\n",
              "      height: 32px;\n",
              "      padding: 0 0 0 0;\n",
              "      width: 32px;\n",
              "    }\n",
              "\n",
              "    .colab-df-convert:hover {\n",
              "      background-color: #E2EBFA;\n",
              "      box-shadow: 0px 1px 2px rgba(60, 64, 67, 0.3), 0px 1px 3px 1px rgba(60, 64, 67, 0.15);\n",
              "      fill: #174EA6;\n",
              "    }\n",
              "\n",
              "    [theme=dark] .colab-df-convert {\n",
              "      background-color: #3B4455;\n",
              "      fill: #D2E3FC;\n",
              "    }\n",
              "\n",
              "    [theme=dark] .colab-df-convert:hover {\n",
              "      background-color: #434B5C;\n",
              "      box-shadow: 0px 1px 3px 1px rgba(0, 0, 0, 0.15);\n",
              "      filter: drop-shadow(0px 1px 2px rgba(0, 0, 0, 0.3));\n",
              "      fill: #FFFFFF;\n",
              "    }\n",
              "  </style>\n",
              "\n",
              "      <script>\n",
              "        const buttonEl =\n",
              "          document.querySelector('#df-944dcdaa-8299-4290-8c59-ba047df0b673 button.colab-df-convert');\n",
              "        buttonEl.style.display =\n",
              "          google.colab.kernel.accessAllowed ? 'block' : 'none';\n",
              "\n",
              "        async function convertToInteractive(key) {\n",
              "          const element = document.querySelector('#df-944dcdaa-8299-4290-8c59-ba047df0b673');\n",
              "          const dataTable =\n",
              "            await google.colab.kernel.invokeFunction('convertToInteractive',\n",
              "                                                     [key], {});\n",
              "          if (!dataTable) return;\n",
              "\n",
              "          const docLinkHtml = 'Like what you see? Visit the ' +\n",
              "            '<a target=\"_blank\" href=https://colab.research.google.com/notebooks/data_table.ipynb>data table notebook</a>'\n",
              "            + ' to learn more about interactive tables.';\n",
              "          element.innerHTML = '';\n",
              "          dataTable['output_type'] = 'display_data';\n",
              "          await google.colab.output.renderOutput(dataTable, element);\n",
              "          const docLink = document.createElement('div');\n",
              "          docLink.innerHTML = docLinkHtml;\n",
              "          element.appendChild(docLink);\n",
              "        }\n",
              "      </script>\n",
              "    </div>\n",
              "  </div>\n",
              "  "
            ]
          },
          "metadata": {},
          "execution_count": 127
        }
      ]
    },
    {
      "cell_type": "markdown",
      "source": [
        "#Test Directory"
      ],
      "metadata": {
        "id": "5-2TRIaFp8SZ"
      }
    },
    {
      "cell_type": "code",
      "source": [
        "filelist = [file for file in os.listdir(test_dir)]\n",
        "\n",
        "print(f\"There are {len(filelist)} subfolders in test directory\")\n"
      ],
      "metadata": {
        "colab": {
          "base_uri": "https://localhost:8080/"
        },
        "id": "9k5IYn-9p78x",
        "outputId": "aed9b580-12a8-4b7b-ec71-27843c4f05ca"
      },
      "execution_count": null,
      "outputs": [
        {
          "output_type": "stream",
          "name": "stdout",
          "text": [
            "There are 42 subfolders in test directory\n"
          ]
        }
      ]
    },
    {
      "cell_type": "code",
      "source": [
        "subdir_test = []  ### filepath of each sub directory\n",
        "for x in filelist:\n",
        "  image_path = os.path.join(test_dir, x)\n",
        "  subdir_test.append(image_path)\n"
      ],
      "metadata": {
        "id": "p5yX_jukFsQi"
      },
      "execution_count": null,
      "outputs": []
    },
    {
      "cell_type": "code",
      "source": [
        "sig_ind_test_genuine = []\n",
        "sig_ind_test_forge = []\n",
        "for x in subdir_test:\n",
        "  p=Path(x)\n",
        "  if \"forg\" not in x:\n",
        "    sig_ind_test_genuine.append(p.parts[5])\n",
        "  else:\n",
        "    sig_ind_test_forge.append(p.parts[5])\n",
        "\n",
        "print(f\"There are genuine signatures of {len(sig_ind_test_genuine)} individuals in the test dataset\")\n",
        "print(f\"There are forged signatures of {len(sig_ind_test_forge)} individuals in the test dataset\")"
      ],
      "metadata": {
        "colab": {
          "base_uri": "https://localhost:8080/"
        },
        "id": "68IQeefdFsNu",
        "outputId": "e4c15019-9b90-4ce3-a3fb-8a1c5c4608bf"
      },
      "execution_count": null,
      "outputs": [
        {
          "output_type": "stream",
          "name": "stdout",
          "text": [
            "There are genuine signatures of 21 individuals in the test dataset\n",
            "There are forged signatures of 21 individuals in the test dataset\n"
          ]
        }
      ]
    },
    {
      "cell_type": "markdown",
      "source": [
        "#There are signatures from 21 individuals in the test dataset. \n",
        "#Each individual has two folders, one folder with genuine signatures and another folder with forgery signatures, adding up to 42 subfolders in the train directory."
      ],
      "metadata": {
        "id": "NO8ooxpdJK89"
      }
    },
    {
      "cell_type": "code",
      "source": [
        "png = 0  # total files\n",
        "for dirpath, dirnames, filenames in os.walk(test_dir):\n",
        "    pngpath = []\n",
        "    N_c = len(filenames)\n",
        "    png += N_c\n",
        "\n",
        "    \n",
        "    pngpath.append(filenames)\n",
        "    print (\"File path:\", dirpath, \"no of png images:\", N_c)\n",
        "print (\"Total png files in test directory\",png)"
      ],
      "metadata": {
        "colab": {
          "base_uri": "https://localhost:8080/"
        },
        "id": "isSrrxMjFsLV",
        "outputId": "422230df-60d8-4fe4-e507-5365d7fa2276"
      },
      "execution_count": null,
      "outputs": [
        {
          "output_type": "stream",
          "name": "stdout",
          "text": [
            "File path: /content/sign/sign_data/test no of png images: 0\n",
            "File path: /content/sign/sign_data/test/060_forg no of png images: 12\n",
            "File path: /content/sign/sign_data/test/062 no of png images: 12\n",
            "File path: /content/sign/sign_data/test/058 no of png images: 12\n",
            "File path: /content/sign/sign_data/test/055_forg no of png images: 12\n",
            "File path: /content/sign/sign_data/test/053 no of png images: 12\n",
            "File path: /content/sign/sign_data/test/061_forg no of png images: 12\n",
            "File path: /content/sign/sign_data/test/052 no of png images: 12\n",
            "File path: /content/sign/sign_data/test/057 no of png images: 12\n",
            "File path: /content/sign/sign_data/test/054_forg no of png images: 20\n",
            "File path: /content/sign/sign_data/test/059 no of png images: 12\n",
            "File path: /content/sign/sign_data/test/053_forg no of png images: 16\n",
            "File path: /content/sign/sign_data/test/063_forg no of png images: 12\n",
            "File path: /content/sign/sign_data/test/065 no of png images: 12\n",
            "File path: /content/sign/sign_data/test/060 no of png images: 12\n",
            "File path: /content/sign/sign_data/test/065_forg no of png images: 8\n",
            "File path: /content/sign/sign_data/test/061 no of png images: 12\n",
            "File path: /content/sign/sign_data/test/062_forg no of png images: 12\n",
            "File path: /content/sign/sign_data/test/066 no of png images: 12\n",
            "File path: /content/sign/sign_data/test/068 no of png images: 12\n",
            "File path: /content/sign/sign_data/test/069 no of png images: 12\n",
            "File path: /content/sign/sign_data/test/055 no of png images: 12\n",
            "File path: /content/sign/sign_data/test/051 no of png images: 12\n",
            "File path: /content/sign/sign_data/test/064_forg no of png images: 8\n",
            "File path: /content/sign/sign_data/test/058_forg no of png images: 16\n",
            "File path: /content/sign/sign_data/test/051_forg no of png images: 8\n",
            "File path: /content/sign/sign_data/test/056 no of png images: 12\n",
            "File path: /content/sign/sign_data/test/063 no of png images: 12\n",
            "File path: /content/sign/sign_data/test/057_forg no of png images: 12\n",
            "File path: /content/sign/sign_data/test/066_forg no of png images: 16\n",
            "File path: /content/sign/sign_data/test/052_forg no of png images: 16\n",
            "File path: /content/sign/sign_data/test/049_forg no of png images: 12\n",
            "File path: /content/sign/sign_data/test/054 no of png images: 12\n",
            "File path: /content/sign/sign_data/test/068_forg no of png images: 8\n",
            "File path: /content/sign/sign_data/test/069_forg no of png images: 12\n",
            "File path: /content/sign/sign_data/test/067 no of png images: 12\n",
            "File path: /content/sign/sign_data/test/056_forg no of png images: 8\n",
            "File path: /content/sign/sign_data/test/067_forg no of png images: 8\n",
            "File path: /content/sign/sign_data/test/064 no of png images: 12\n",
            "File path: /content/sign/sign_data/test/050_forg no of png images: 12\n",
            "File path: /content/sign/sign_data/test/059_forg no of png images: 8\n",
            "File path: /content/sign/sign_data/test/049 no of png images: 12\n",
            "File path: /content/sign/sign_data/test/050 no of png images: 12\n",
            "Total png files in test directory 500\n"
          ]
        }
      ]
    },
    {
      "cell_type": "markdown",
      "source": [
        "###There are 500 images in the 42 subfolders within the test directory"
      ],
      "metadata": {
        "id": "65hq6_cLJe3J"
      }
    },
    {
      "cell_type": "code",
      "source": [
        "test_file_name = []\n",
        "for path, subdirs, files in os.walk(test_dir):\n",
        "    for name in files:\n",
        "        test_file_name.append(os.path.join(path, name))"
      ],
      "metadata": {
        "id": "O2nUqxBhFsI2"
      },
      "execution_count": null,
      "outputs": []
    },
    {
      "cell_type": "code",
      "source": [
        "test_file_name.sort()\n",
        "test_file_name[:10]"
      ],
      "metadata": {
        "colab": {
          "base_uri": "https://localhost:8080/"
        },
        "id": "oPkm5rj0FsGe",
        "outputId": "0975c902-e636-4cd6-bffd-fb2aeeacd2ba"
      },
      "execution_count": null,
      "outputs": [
        {
          "output_type": "execute_result",
          "data": {
            "text/plain": [
              "['/content/sign/sign_data/test/049/01_049.png',\n",
              " '/content/sign/sign_data/test/049/02_049.png',\n",
              " '/content/sign/sign_data/test/049/03_049.png',\n",
              " '/content/sign/sign_data/test/049/04_049.png',\n",
              " '/content/sign/sign_data/test/049/05_049.png',\n",
              " '/content/sign/sign_data/test/049/06_049.png',\n",
              " '/content/sign/sign_data/test/049/07_049.png',\n",
              " '/content/sign/sign_data/test/049/08_049.png',\n",
              " '/content/sign/sign_data/test/049/09_049.png',\n",
              " '/content/sign/sign_data/test/049/10_049.png']"
            ]
          },
          "metadata": {},
          "execution_count": 133
        }
      ]
    },
    {
      "cell_type": "code",
      "source": [
        "p=Path(test_file_name[1])\n",
        "p"
      ],
      "metadata": {
        "colab": {
          "base_uri": "https://localhost:8080/"
        },
        "outputId": "8f10bafc-4a50-4ebb-dfb2-72dd162ee64e",
        "id": "ap5z1Q7ZWBzy"
      },
      "execution_count": null,
      "outputs": [
        {
          "output_type": "execute_result",
          "data": {
            "text/plain": [
              "PosixPath('/content/sign/sign_data/test/049/02_049.png')"
            ]
          },
          "metadata": {},
          "execution_count": 134
        }
      ]
    },
    {
      "cell_type": "code",
      "source": [
        "p.parts[5]"
      ],
      "metadata": {
        "colab": {
          "base_uri": "https://localhost:8080/"
        },
        "outputId": "12312283-76ff-4c1c-a78f-9aacfdc1c3de",
        "id": "kRhZJYmIWBzy"
      },
      "execution_count": null,
      "outputs": [
        {
          "output_type": "execute_result",
          "data": {
            "text/plain": [
              "'049'"
            ],
            "application/vnd.google.colaboratory.intrinsic+json": {
              "type": "string"
            }
          },
          "metadata": {},
          "execution_count": 135
        }
      ]
    },
    {
      "cell_type": "code",
      "source": [
        "individuals_id_gen_test = []\n",
        "individuals_id_forge_test = []\n",
        "forge_counts = []\n",
        "gen_counts = []\n",
        "for x in test_file_name:\n",
        "  p=Path(x)\n",
        "  if 'forg' in x:\n",
        "    new_x = re.sub('\\D', '', p.parts[5])\n",
        "    individuals_id_forge_test.append(new_x)\n",
        "\n",
        "    forge_counts.append(p.parts[6])\n",
        "  else:\n",
        "    individuals_id_gen_test.append(p.parts[5])\n",
        "\n",
        "    gen_counts.append(p.parts[6])"
      ],
      "metadata": {
        "id": "2a1Fl3yJWBzz"
      },
      "execution_count": null,
      "outputs": []
    },
    {
      "cell_type": "code",
      "source": [
        "len((individuals_id_gen_test))"
      ],
      "metadata": {
        "colab": {
          "base_uri": "https://localhost:8080/"
        },
        "outputId": "b96d1503-c91b-4252-cc53-9cde8a652846",
        "id": "B80yKMBgWmd9"
      },
      "execution_count": null,
      "outputs": [
        {
          "output_type": "execute_result",
          "data": {
            "text/plain": [
              "252"
            ]
          },
          "metadata": {},
          "execution_count": 137
        }
      ]
    },
    {
      "cell_type": "code",
      "source": [
        "len((gen_counts))"
      ],
      "metadata": {
        "colab": {
          "base_uri": "https://localhost:8080/"
        },
        "outputId": "66a540a3-2c19-4546-ca28-bb4d2d4bef38",
        "id": "JDurWPPHWmd-"
      },
      "execution_count": null,
      "outputs": [
        {
          "output_type": "execute_result",
          "data": {
            "text/plain": [
              "252"
            ]
          },
          "metadata": {},
          "execution_count": 138
        }
      ]
    },
    {
      "cell_type": "code",
      "source": [
        "df_genuine_test = pd.DataFrame()"
      ],
      "metadata": {
        "id": "c0-UvgPeWmd-"
      },
      "execution_count": null,
      "outputs": []
    },
    {
      "cell_type": "code",
      "source": [
        "df_genuine_test['indiv_id'] = individuals_id_gen_test"
      ],
      "metadata": {
        "id": "8fnDotEWWmd-"
      },
      "execution_count": null,
      "outputs": []
    },
    {
      "cell_type": "code",
      "source": [
        "df_genuine_test['file_name'] = gen_counts"
      ],
      "metadata": {
        "id": "1zY5ShXvWmd-"
      },
      "execution_count": null,
      "outputs": []
    },
    {
      "cell_type": "code",
      "source": [
        "df_genuine_test['genuine'] = 1"
      ],
      "metadata": {
        "id": "l4YRX8HdWmd-"
      },
      "execution_count": null,
      "outputs": []
    },
    {
      "cell_type": "code",
      "source": [
        "df_genuine_test.head()\n"
      ],
      "metadata": {
        "colab": {
          "base_uri": "https://localhost:8080/"
        },
        "outputId": "8e241ff5-c485-4488-c61d-e397039edcbf",
        "id": "v3U4XK0vWmd-"
      },
      "execution_count": null,
      "outputs": [
        {
          "output_type": "execute_result",
          "data": {
            "text/plain": [
              "  indiv_id   file_name  genuine\n",
              "0      049  01_049.png        1\n",
              "1      049  02_049.png        1\n",
              "2      049  03_049.png        1\n",
              "3      049  04_049.png        1\n",
              "4      049  05_049.png        1"
            ],
            "text/html": [
              "\n",
              "  <div id=\"df-eed17f49-568b-42ca-b101-fd16d66114d1\">\n",
              "    <div class=\"colab-df-container\">\n",
              "      <div>\n",
              "<style scoped>\n",
              "    .dataframe tbody tr th:only-of-type {\n",
              "        vertical-align: middle;\n",
              "    }\n",
              "\n",
              "    .dataframe tbody tr th {\n",
              "        vertical-align: top;\n",
              "    }\n",
              "\n",
              "    .dataframe thead th {\n",
              "        text-align: right;\n",
              "    }\n",
              "</style>\n",
              "<table border=\"1\" class=\"dataframe\">\n",
              "  <thead>\n",
              "    <tr style=\"text-align: right;\">\n",
              "      <th></th>\n",
              "      <th>indiv_id</th>\n",
              "      <th>file_name</th>\n",
              "      <th>genuine</th>\n",
              "    </tr>\n",
              "  </thead>\n",
              "  <tbody>\n",
              "    <tr>\n",
              "      <th>0</th>\n",
              "      <td>049</td>\n",
              "      <td>01_049.png</td>\n",
              "      <td>1</td>\n",
              "    </tr>\n",
              "    <tr>\n",
              "      <th>1</th>\n",
              "      <td>049</td>\n",
              "      <td>02_049.png</td>\n",
              "      <td>1</td>\n",
              "    </tr>\n",
              "    <tr>\n",
              "      <th>2</th>\n",
              "      <td>049</td>\n",
              "      <td>03_049.png</td>\n",
              "      <td>1</td>\n",
              "    </tr>\n",
              "    <tr>\n",
              "      <th>3</th>\n",
              "      <td>049</td>\n",
              "      <td>04_049.png</td>\n",
              "      <td>1</td>\n",
              "    </tr>\n",
              "    <tr>\n",
              "      <th>4</th>\n",
              "      <td>049</td>\n",
              "      <td>05_049.png</td>\n",
              "      <td>1</td>\n",
              "    </tr>\n",
              "  </tbody>\n",
              "</table>\n",
              "</div>\n",
              "      <button class=\"colab-df-convert\" onclick=\"convertToInteractive('df-eed17f49-568b-42ca-b101-fd16d66114d1')\"\n",
              "              title=\"Convert this dataframe to an interactive table.\"\n",
              "              style=\"display:none;\">\n",
              "        \n",
              "  <svg xmlns=\"http://www.w3.org/2000/svg\" height=\"24px\"viewBox=\"0 0 24 24\"\n",
              "       width=\"24px\">\n",
              "    <path d=\"M0 0h24v24H0V0z\" fill=\"none\"/>\n",
              "    <path d=\"M18.56 5.44l.94 2.06.94-2.06 2.06-.94-2.06-.94-.94-2.06-.94 2.06-2.06.94zm-11 1L8.5 8.5l.94-2.06 2.06-.94-2.06-.94L8.5 2.5l-.94 2.06-2.06.94zm10 10l.94 2.06.94-2.06 2.06-.94-2.06-.94-.94-2.06-.94 2.06-2.06.94z\"/><path d=\"M17.41 7.96l-1.37-1.37c-.4-.4-.92-.59-1.43-.59-.52 0-1.04.2-1.43.59L10.3 9.45l-7.72 7.72c-.78.78-.78 2.05 0 2.83L4 21.41c.39.39.9.59 1.41.59.51 0 1.02-.2 1.41-.59l7.78-7.78 2.81-2.81c.8-.78.8-2.07 0-2.86zM5.41 20L4 18.59l7.72-7.72 1.47 1.35L5.41 20z\"/>\n",
              "  </svg>\n",
              "      </button>\n",
              "      \n",
              "  <style>\n",
              "    .colab-df-container {\n",
              "      display:flex;\n",
              "      flex-wrap:wrap;\n",
              "      gap: 12px;\n",
              "    }\n",
              "\n",
              "    .colab-df-convert {\n",
              "      background-color: #E8F0FE;\n",
              "      border: none;\n",
              "      border-radius: 50%;\n",
              "      cursor: pointer;\n",
              "      display: none;\n",
              "      fill: #1967D2;\n",
              "      height: 32px;\n",
              "      padding: 0 0 0 0;\n",
              "      width: 32px;\n",
              "    }\n",
              "\n",
              "    .colab-df-convert:hover {\n",
              "      background-color: #E2EBFA;\n",
              "      box-shadow: 0px 1px 2px rgba(60, 64, 67, 0.3), 0px 1px 3px 1px rgba(60, 64, 67, 0.15);\n",
              "      fill: #174EA6;\n",
              "    }\n",
              "\n",
              "    [theme=dark] .colab-df-convert {\n",
              "      background-color: #3B4455;\n",
              "      fill: #D2E3FC;\n",
              "    }\n",
              "\n",
              "    [theme=dark] .colab-df-convert:hover {\n",
              "      background-color: #434B5C;\n",
              "      box-shadow: 0px 1px 3px 1px rgba(0, 0, 0, 0.15);\n",
              "      filter: drop-shadow(0px 1px 2px rgba(0, 0, 0, 0.3));\n",
              "      fill: #FFFFFF;\n",
              "    }\n",
              "  </style>\n",
              "\n",
              "      <script>\n",
              "        const buttonEl =\n",
              "          document.querySelector('#df-eed17f49-568b-42ca-b101-fd16d66114d1 button.colab-df-convert');\n",
              "        buttonEl.style.display =\n",
              "          google.colab.kernel.accessAllowed ? 'block' : 'none';\n",
              "\n",
              "        async function convertToInteractive(key) {\n",
              "          const element = document.querySelector('#df-eed17f49-568b-42ca-b101-fd16d66114d1');\n",
              "          const dataTable =\n",
              "            await google.colab.kernel.invokeFunction('convertToInteractive',\n",
              "                                                     [key], {});\n",
              "          if (!dataTable) return;\n",
              "\n",
              "          const docLinkHtml = 'Like what you see? Visit the ' +\n",
              "            '<a target=\"_blank\" href=https://colab.research.google.com/notebooks/data_table.ipynb>data table notebook</a>'\n",
              "            + ' to learn more about interactive tables.';\n",
              "          element.innerHTML = '';\n",
              "          dataTable['output_type'] = 'display_data';\n",
              "          await google.colab.output.renderOutput(dataTable, element);\n",
              "          const docLink = document.createElement('div');\n",
              "          docLink.innerHTML = docLinkHtml;\n",
              "          element.appendChild(docLink);\n",
              "        }\n",
              "      </script>\n",
              "    </div>\n",
              "  </div>\n",
              "  "
            ]
          },
          "metadata": {},
          "execution_count": 143
        }
      ]
    },
    {
      "cell_type": "code",
      "source": [
        "df_forgery_test = pd.DataFrame()"
      ],
      "metadata": {
        "id": "xzFEbZgsWmd_"
      },
      "execution_count": null,
      "outputs": []
    },
    {
      "cell_type": "code",
      "source": [
        "df_forgery_test['indiv_id'] = individuals_id_forge_test"
      ],
      "metadata": {
        "id": "-UtYjciIWmd_"
      },
      "execution_count": null,
      "outputs": []
    },
    {
      "cell_type": "code",
      "source": [
        "df_forgery_test['file_name'] = forge_counts"
      ],
      "metadata": {
        "id": "MEHmRZ0KWmd_"
      },
      "execution_count": null,
      "outputs": []
    },
    {
      "cell_type": "code",
      "source": [
        "df_forgery_test['genuine'] = 0"
      ],
      "metadata": {
        "id": "7yMELVm9Wmd_"
      },
      "execution_count": null,
      "outputs": []
    },
    {
      "cell_type": "code",
      "source": [
        "df_genuine_updatedt = df_genuine_test.drop(['file_name'], axis = 1)"
      ],
      "metadata": {
        "id": "_u9qTgUGWmd_"
      },
      "execution_count": null,
      "outputs": []
    },
    {
      "cell_type": "code",
      "source": [
        "df_genuine_updatedt.head()"
      ],
      "metadata": {
        "colab": {
          "base_uri": "https://localhost:8080/"
        },
        "outputId": "50f37af7-1692-4385-fa4e-ee1ce1c4177a",
        "id": "w1yMw-22Wmd_"
      },
      "execution_count": null,
      "outputs": [
        {
          "output_type": "execute_result",
          "data": {
            "text/plain": [
              "  indiv_id  genuine\n",
              "0      049        1\n",
              "1      049        1\n",
              "2      049        1\n",
              "3      049        1\n",
              "4      049        1"
            ],
            "text/html": [
              "\n",
              "  <div id=\"df-e48936b4-7e68-42aa-a77b-6efeb8f3340b\">\n",
              "    <div class=\"colab-df-container\">\n",
              "      <div>\n",
              "<style scoped>\n",
              "    .dataframe tbody tr th:only-of-type {\n",
              "        vertical-align: middle;\n",
              "    }\n",
              "\n",
              "    .dataframe tbody tr th {\n",
              "        vertical-align: top;\n",
              "    }\n",
              "\n",
              "    .dataframe thead th {\n",
              "        text-align: right;\n",
              "    }\n",
              "</style>\n",
              "<table border=\"1\" class=\"dataframe\">\n",
              "  <thead>\n",
              "    <tr style=\"text-align: right;\">\n",
              "      <th></th>\n",
              "      <th>indiv_id</th>\n",
              "      <th>genuine</th>\n",
              "    </tr>\n",
              "  </thead>\n",
              "  <tbody>\n",
              "    <tr>\n",
              "      <th>0</th>\n",
              "      <td>049</td>\n",
              "      <td>1</td>\n",
              "    </tr>\n",
              "    <tr>\n",
              "      <th>1</th>\n",
              "      <td>049</td>\n",
              "      <td>1</td>\n",
              "    </tr>\n",
              "    <tr>\n",
              "      <th>2</th>\n",
              "      <td>049</td>\n",
              "      <td>1</td>\n",
              "    </tr>\n",
              "    <tr>\n",
              "      <th>3</th>\n",
              "      <td>049</td>\n",
              "      <td>1</td>\n",
              "    </tr>\n",
              "    <tr>\n",
              "      <th>4</th>\n",
              "      <td>049</td>\n",
              "      <td>1</td>\n",
              "    </tr>\n",
              "  </tbody>\n",
              "</table>\n",
              "</div>\n",
              "      <button class=\"colab-df-convert\" onclick=\"convertToInteractive('df-e48936b4-7e68-42aa-a77b-6efeb8f3340b')\"\n",
              "              title=\"Convert this dataframe to an interactive table.\"\n",
              "              style=\"display:none;\">\n",
              "        \n",
              "  <svg xmlns=\"http://www.w3.org/2000/svg\" height=\"24px\"viewBox=\"0 0 24 24\"\n",
              "       width=\"24px\">\n",
              "    <path d=\"M0 0h24v24H0V0z\" fill=\"none\"/>\n",
              "    <path d=\"M18.56 5.44l.94 2.06.94-2.06 2.06-.94-2.06-.94-.94-2.06-.94 2.06-2.06.94zm-11 1L8.5 8.5l.94-2.06 2.06-.94-2.06-.94L8.5 2.5l-.94 2.06-2.06.94zm10 10l.94 2.06.94-2.06 2.06-.94-2.06-.94-.94-2.06-.94 2.06-2.06.94z\"/><path d=\"M17.41 7.96l-1.37-1.37c-.4-.4-.92-.59-1.43-.59-.52 0-1.04.2-1.43.59L10.3 9.45l-7.72 7.72c-.78.78-.78 2.05 0 2.83L4 21.41c.39.39.9.59 1.41.59.51 0 1.02-.2 1.41-.59l7.78-7.78 2.81-2.81c.8-.78.8-2.07 0-2.86zM5.41 20L4 18.59l7.72-7.72 1.47 1.35L5.41 20z\"/>\n",
              "  </svg>\n",
              "      </button>\n",
              "      \n",
              "  <style>\n",
              "    .colab-df-container {\n",
              "      display:flex;\n",
              "      flex-wrap:wrap;\n",
              "      gap: 12px;\n",
              "    }\n",
              "\n",
              "    .colab-df-convert {\n",
              "      background-color: #E8F0FE;\n",
              "      border: none;\n",
              "      border-radius: 50%;\n",
              "      cursor: pointer;\n",
              "      display: none;\n",
              "      fill: #1967D2;\n",
              "      height: 32px;\n",
              "      padding: 0 0 0 0;\n",
              "      width: 32px;\n",
              "    }\n",
              "\n",
              "    .colab-df-convert:hover {\n",
              "      background-color: #E2EBFA;\n",
              "      box-shadow: 0px 1px 2px rgba(60, 64, 67, 0.3), 0px 1px 3px 1px rgba(60, 64, 67, 0.15);\n",
              "      fill: #174EA6;\n",
              "    }\n",
              "\n",
              "    [theme=dark] .colab-df-convert {\n",
              "      background-color: #3B4455;\n",
              "      fill: #D2E3FC;\n",
              "    }\n",
              "\n",
              "    [theme=dark] .colab-df-convert:hover {\n",
              "      background-color: #434B5C;\n",
              "      box-shadow: 0px 1px 3px 1px rgba(0, 0, 0, 0.15);\n",
              "      filter: drop-shadow(0px 1px 2px rgba(0, 0, 0, 0.3));\n",
              "      fill: #FFFFFF;\n",
              "    }\n",
              "  </style>\n",
              "\n",
              "      <script>\n",
              "        const buttonEl =\n",
              "          document.querySelector('#df-e48936b4-7e68-42aa-a77b-6efeb8f3340b button.colab-df-convert');\n",
              "        buttonEl.style.display =\n",
              "          google.colab.kernel.accessAllowed ? 'block' : 'none';\n",
              "\n",
              "        async function convertToInteractive(key) {\n",
              "          const element = document.querySelector('#df-e48936b4-7e68-42aa-a77b-6efeb8f3340b');\n",
              "          const dataTable =\n",
              "            await google.colab.kernel.invokeFunction('convertToInteractive',\n",
              "                                                     [key], {});\n",
              "          if (!dataTable) return;\n",
              "\n",
              "          const docLinkHtml = 'Like what you see? Visit the ' +\n",
              "            '<a target=\"_blank\" href=https://colab.research.google.com/notebooks/data_table.ipynb>data table notebook</a>'\n",
              "            + ' to learn more about interactive tables.';\n",
              "          element.innerHTML = '';\n",
              "          dataTable['output_type'] = 'display_data';\n",
              "          await google.colab.output.renderOutput(dataTable, element);\n",
              "          const docLink = document.createElement('div');\n",
              "          docLink.innerHTML = docLinkHtml;\n",
              "          element.appendChild(docLink);\n",
              "        }\n",
              "      </script>\n",
              "    </div>\n",
              "  </div>\n",
              "  "
            ]
          },
          "metadata": {},
          "execution_count": 149
        }
      ]
    },
    {
      "cell_type": "code",
      "source": [
        "df_genuine_updatedt[\"indiv_id\"].value_counts().sort_index()"
      ],
      "metadata": {
        "colab": {
          "base_uri": "https://localhost:8080/"
        },
        "outputId": "7f955bf1-275f-4ee9-9a7b-07d8e6fb616e",
        "id": "vcrIlM00Wmd_"
      },
      "execution_count": null,
      "outputs": [
        {
          "output_type": "execute_result",
          "data": {
            "text/plain": [
              "049    12\n",
              "050    12\n",
              "051    12\n",
              "052    12\n",
              "053    12\n",
              "054    12\n",
              "055    12\n",
              "056    12\n",
              "057    12\n",
              "058    12\n",
              "059    12\n",
              "060    12\n",
              "061    12\n",
              "062    12\n",
              "063    12\n",
              "064    12\n",
              "065    12\n",
              "066    12\n",
              "067    12\n",
              "068    12\n",
              "069    12\n",
              "Name: indiv_id, dtype: int64"
            ]
          },
          "metadata": {},
          "execution_count": 150
        }
      ]
    },
    {
      "cell_type": "code",
      "source": [
        "plt.figure(figsize=(25,8))\n",
        "ax = sns.countplot(x =\"indiv_id\", data = df_genuine_updatedt)\n",
        "\n",
        "ax.set_xticklabels(ax.get_xticklabels(),rotation=90)\n",
        "i=0\n",
        "for p in ax.patches:\n",
        "    height = p.get_height()\n",
        "    ax.text(p.get_x()+p.get_width()/2., height + 0.1,\n",
        "        df_genuine_updatedt[\"indiv_id\"].value_counts().sort_index()[i],ha=\"center\")\n",
        "    i += 1"
      ],
      "metadata": {
        "colab": {
          "base_uri": "https://localhost:8080/"
        },
        "outputId": "bf5c6113-0f36-4b16-fe76-ca2d4e1d4c5d",
        "id": "LiMxfjqiWmd_"
      },
      "execution_count": null,
      "outputs": [
        {
          "output_type": "display_data",
          "data": {
            "text/plain": [
              "<Figure size 1800x576 with 1 Axes>"
            ],
            "image/png": "[encoded data removed]"
          },
          "metadata": {
            "needs_background": "light"
          }
        }
      ]
    },
    {
      "cell_type": "code",
      "source": [
        "df_forgery_updatedt = df_forgery_test.drop(['file_name'], axis = 1)"
      ],
      "metadata": {
        "id": "AYVOtIC9WmeA"
      },
      "execution_count": null,
      "outputs": []
    },
    {
      "cell_type": "code",
      "source": [
        "plt.figure(figsize=(25,8))\n",
        "ax = sns.countplot(x =\"indiv_id\", data = df_forgery_updatedt)\n",
        "\n",
        "ax.set_xticklabels(ax.get_xticklabels(),rotation=90)\n",
        "i=0\n",
        "for p in ax.patches:\n",
        "    height = p.get_height()\n",
        "    ax.text(p.get_x()+p.get_width()/2., height + 0.1,\n",
        "        df_forgery_updatedt[\"indiv_id\"].value_counts().sort_index()[i],ha=\"center\")\n",
        "    i += 1"
      ],
      "metadata": {
        "colab": {
          "base_uri": "https://localhost:8080/"
        },
        "outputId": "74f363c4-310a-4a11-8f47-b36f722a8925",
        "id": "-jAI6aKUWmeA"
      },
      "execution_count": null,
      "outputs": [
        {
          "output_type": "display_data",
          "data": {
            "text/plain": [
              "<Figure size 1800x576 with 1 Axes>"
            ],
            "image/png": "[encoded data removed]"
          },
          "metadata": {
            "needs_background": "light"
          }
        }
      ]
    },
    {
      "cell_type": "code",
      "source": [
        "individuals_id_joint = []\n",
        "genuine_counts = []\n",
        "for x in test_file_name:\n",
        "  p=Path(x)\n",
        "  if 'forg' in x:\n",
        "    new_x = re.sub('\\D', '', p.parts[5])\n",
        "    individuals_id_joint.append(new_x)\n",
        "\n",
        "    genuine_counts.append(0)\n",
        "  else:\n",
        "    individuals_id_joint.append(p.parts[5])\n",
        "\n",
        "    genuine_counts.append(1)"
      ],
      "metadata": {
        "id": "BhQJ1-MXWmeA"
      },
      "execution_count": null,
      "outputs": []
    },
    {
      "cell_type": "code",
      "source": [
        "dft = pd.DataFrame()"
      ],
      "metadata": {
        "id": "0ZmzLOqrWmeA"
      },
      "execution_count": null,
      "outputs": []
    },
    {
      "cell_type": "code",
      "source": [
        "dft['indiv_id'] = individuals_id_joint\n",
        "dft['genuine_counts'] = genuine_counts"
      ],
      "metadata": {
        "id": "0kgX7JgiWmeA"
      },
      "execution_count": null,
      "outputs": []
    },
    {
      "cell_type": "code",
      "source": [
        "plt.figure(figsize=(25,10))\n",
        "ax = sns.countplot(x =\"indiv_id\", data = dft, hue = 'genuine_counts')\n",
        "\n"
      ],
      "metadata": {
        "colab": {
          "base_uri": "https://localhost:8080/"
        },
        "outputId": "c09b1ad9-0879-4852-e935-66e47035d7f1",
        "id": "TmURGy8pWmeA"
      },
      "execution_count": null,
      "outputs": [
        {
          "output_type": "display_data",
          "data": {
            "text/plain": [
              "<Figure size 1800x720 with 1 Axes>"
            ],
            "image/png": "[encoded data removed]"
          },
          "metadata": {
            "needs_background": "light"
          }
        }
      ]
    },
    {
      "cell_type": "markdown",
      "source": [
        "# The test directory has 21 individuals, a subset of individuals that are already in the train directory. "
      ],
      "metadata": {
        "id": "n_OT0D6qZW8t"
      }
    },
    {
      "cell_type": "markdown",
      "source": [
        "#Prep for tensor flow"
      ],
      "metadata": {
        "id": "xhD5beG5ijHy"
      }
    },
    {
      "cell_type": "code",
      "source": [
        "# Prep for tensorflow "
      ],
      "metadata": {
        "id": "_tJmEMQl3T4F"
      },
      "execution_count": null,
      "outputs": []
    },
    {
      "cell_type": "code",
      "source": [
        "len(train_images)"
      ],
      "metadata": {
        "colab": {
          "base_uri": "https://localhost:8080/"
        },
        "id": "rkxyTQvN3T1o",
        "outputId": "47a496ec-9d0a-4b37-a93b-10c04b3beb3b"
      },
      "execution_count": null,
      "outputs": [
        {
          "output_type": "execute_result",
          "data": {
            "text/plain": [
              "1649"
            ]
          },
          "metadata": {},
          "execution_count": 158
        }
      ]
    },
    {
      "cell_type": "code",
      "source": [
        "\n",
        "train_labels = []\n",
        "for x in train_file_name:\n",
        "  p=Path(x)\n",
        "  if 'forg' in x:\n",
        "    new_x = re.sub('\\D', '', p.parts[5])\n",
        "    train_labels.append(0)\n",
        "  else:\n",
        "    train_labels.append(1)"
      ],
      "metadata": {
        "id": "Ozp1L7pW6-9K"
      },
      "execution_count": null,
      "outputs": []
    },
    {
      "cell_type": "code",
      "source": [
        "train_imagesofficial = []\n",
        "for x in train_file_name:\n",
        "  img1 = cv2.imread(x)\n",
        "  train_imagesofficial.append([img1])"
      ],
      "metadata": {
        "id": "aQrzMfvt8v6Y"
      },
      "execution_count": null,
      "outputs": []
    },
    {
      "cell_type": "code",
      "source": [
        "train_imagesofficial = np.array(train_imagesofficial).astype(np.float32) / 255.0 #normalization of images1"
      ],
      "metadata": {
        "colab": {
          "base_uri": "https://localhost:8080/",
          "height": 307
        },
        "id": "he78uXrq9ifE",
        "outputId": "965101d8-9df8-42c4-d6b9-01d1ae32d480"
      },
      "execution_count": null,
      "outputs": [
        {
          "output_type": "stream",
          "name": "stderr",
          "text": [
            "/usr/local/lib/python3.7/dist-packages/ipykernel_launcher.py:1: VisibleDeprecationWarning: Creating an ndarray from ragged nested sequences (which is a list-or-tuple of lists-or-tuples-or ndarrays with different lengths or shapes) is deprecated. If you meant to do this, you must specify 'dtype=object' when creating the ndarray.\n",
            "  \"\"\"Entry point for launching an IPython kernel.\n"
          ]
        },
        {
          "output_type": "error",
          "ename": "ValueError",
          "evalue": "ignored",
          "traceback": [
            "\u001b[0;31m---------------------------------------------------------------------------\u001b[0m",
            "\u001b[0;31mTypeError\u001b[0m                                 Traceback (most recent call last)",
            "\u001b[0;31mTypeError\u001b[0m: only size-1 arrays can be converted to Python scalars",
            "\nThe above exception was the direct cause of the following exception:\n",
            "\u001b[0;31mValueError\u001b[0m                                Traceback (most recent call last)",
            "\u001b[0;32m<ipython-input-196-4eff701be280>\u001b[0m in \u001b[0;36m<module>\u001b[0;34m()\u001b[0m\n\u001b[0;32m----> 1\u001b[0;31m \u001b[0mtrain_imagesofficial\u001b[0m \u001b[0;34m=\u001b[0m \u001b[0mnp\u001b[0m\u001b[0;34m.\u001b[0m\u001b[0marray\u001b[0m\u001b[0;34m(\u001b[0m\u001b[0mtrain_imagesofficial\u001b[0m\u001b[0;34m)\u001b[0m\u001b[0;34m.\u001b[0m\u001b[0mastype\u001b[0m\u001b[0;34m(\u001b[0m\u001b[0mnp\u001b[0m\u001b[0;34m.\u001b[0m\u001b[0mfloat32\u001b[0m\u001b[0;34m)\u001b[0m \u001b[0;34m/\u001b[0m \u001b[0;36m255.0\u001b[0m \u001b[0;31m#normalization of images1\u001b[0m\u001b[0;34m\u001b[0m\u001b[0;34m\u001b[0m\u001b[0m\n\u001b[0m",
            "\u001b[0;31mValueError\u001b[0m: setting an array element with a sequence."
          ]
        }
      ]
    },
    {
      "cell_type": "code",
      "source": [
        "labels = np.array(train_labels).astype(np.float32)"
      ],
      "metadata": {
        "id": "qrPPUs5lAuq3"
      },
      "execution_count": null,
      "outputs": []
    },
    {
      "cell_type": "code",
      "source": [
        "len(train_labels)"
      ],
      "metadata": {
        "colab": {
          "base_uri": "https://localhost:8080/"
        },
        "id": "fE60uskl7KLi",
        "outputId": "225c4d21-b06f-4a5c-c04e-e60957bc22f3"
      },
      "execution_count": null,
      "outputs": [
        {
          "output_type": "execute_result",
          "data": {
            "text/plain": [
              "1649"
            ]
          },
          "metadata": {},
          "execution_count": 160
        }
      ]
    },
    {
      "cell_type": "code",
      "source": [
        "train_images = np.array(train_images).astype(np.float32) / 255.0"
      ],
      "metadata": {
        "colab": {
          "base_uri": "https://localhost:8080/",
          "height": 307
        },
        "id": "HiD45sW07Tg5",
        "outputId": "f3f0357a-48d4-4728-a945-7a04ed8d7966"
      },
      "execution_count": null,
      "outputs": [
        {
          "output_type": "stream",
          "name": "stderr",
          "text": [
            "/usr/local/lib/python3.7/dist-packages/ipykernel_launcher.py:1: VisibleDeprecationWarning: Creating an ndarray from ragged nested sequences (which is a list-or-tuple of lists-or-tuples-or ndarrays with different lengths or shapes) is deprecated. If you meant to do this, you must specify 'dtype=object' when creating the ndarray.\n",
            "  \"\"\"Entry point for launching an IPython kernel.\n"
          ]
        },
        {
          "output_type": "error",
          "ename": "ValueError",
          "evalue": "ignored",
          "traceback": [
            "\u001b[0;31m---------------------------------------------------------------------------\u001b[0m",
            "\u001b[0;31mTypeError\u001b[0m                                 Traceback (most recent call last)",
            "\u001b[0;31mTypeError\u001b[0m: only size-1 arrays can be converted to Python scalars",
            "\nThe above exception was the direct cause of the following exception:\n",
            "\u001b[0;31mValueError\u001b[0m                                Traceback (most recent call last)",
            "\u001b[0;32m<ipython-input-162-d73f3da08b22>\u001b[0m in \u001b[0;36m<module>\u001b[0;34m()\u001b[0m\n\u001b[0;32m----> 1\u001b[0;31m \u001b[0mtrain_images\u001b[0m \u001b[0;34m=\u001b[0m \u001b[0mnp\u001b[0m\u001b[0;34m.\u001b[0m\u001b[0marray\u001b[0m\u001b[0;34m(\u001b[0m\u001b[0mtrain_images\u001b[0m\u001b[0;34m)\u001b[0m\u001b[0;34m.\u001b[0m\u001b[0mastype\u001b[0m\u001b[0;34m(\u001b[0m\u001b[0mnp\u001b[0m\u001b[0;34m.\u001b[0m\u001b[0mfloat32\u001b[0m\u001b[0;34m)\u001b[0m \u001b[0;34m/\u001b[0m \u001b[0;36m255.0\u001b[0m\u001b[0;34m\u001b[0m\u001b[0;34m\u001b[0m\u001b[0m\n\u001b[0m",
            "\u001b[0;31mValueError\u001b[0m: setting an array element with a sequence."
          ]
        }
      ]
    }
  ]
}